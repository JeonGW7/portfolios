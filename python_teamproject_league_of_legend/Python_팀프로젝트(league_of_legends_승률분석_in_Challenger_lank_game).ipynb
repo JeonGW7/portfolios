{
  "nbformat": 4,
  "nbformat_minor": 0,
  "metadata": {
    "colab": {
      "name": "Python 팀프로젝트(league of legends 승률분석 in Challenger lank game).ipynb",
      "provenance": [],
      "collapsed_sections": []
    },
    "kernelspec": {
      "name": "python3",
      "display_name": "Python 3"
    },
    "language_info": {
      "name": "python"
    }
  },
  "cells": [
    {
      "cell_type": "markdown",
      "source": [
        "<h2><프로젝트 목표><br>\n",
        "로지스틱 회귀 분석 및 의사 결정 트리를 사용하여 포지션 별 LOL게임결과 예측"
      ],
      "metadata": {
        "id": "GiekbQ82JkML"
      }
    },
    {
      "cell_type": "code",
      "source": [
        "import pandas as pd\n",
        "import numpy as np\n",
        "import seaborn as sns\n",
        "\n",
        "#Python 시각화 라이브러리\n",
        "import plotly.express as px\n",
        "\n",
        "from sklearn.metrics import f1_score\n",
        "from sklearn.model_selection import train_test_split\n",
        "from sklearn.model_selection import RepeatedKFold\n",
        "from sklearn.model_selection import cross_val_score\n",
        "\n",
        "from sklearn.linear_model import LogisticRegression\n",
        "from sklearn.tree import DecisionTreeClassifier\n",
        "from sklearn.ensemble import RandomForestClassifier\n",
        "from sklearn import metrics #예측오류를 평가\n"
      ],
      "metadata": {
        "id": "PFJotox67Wce"
      },
      "execution_count": null,
      "outputs": []
    },
    {
      "cell_type": "code",
      "source": [
        "kr_data = pd.read_csv('KR_challengergame_Jan2022.csv', index_col=0)"
      ],
      "metadata": {
        "id": "Xhwi92rZ7cWX"
      },
      "execution_count": null,
      "outputs": []
    },
    {
      "cell_type": "code",
      "source": [
        "kr_data.head()"
      ],
      "metadata": {
        "colab": {
          "base_uri": "https://localhost:8080/",
          "height": 300
        },
        "id": "WhF3WM-q7fZw",
        "outputId": "d3f3cf94-bc8b-48f6-f27c-07d0536d33e6"
      },
      "execution_count": null,
      "outputs": [
        {
          "output_type": "execute_result",
          "data": {
            "text/plain": [
              "   d_spell  f_spell champion       side           role  assists  \\\n",
              "0       14        4    Leona  Side.blue   Lane.utility        6   \n",
              "1       11        4     Udyr   Side.red    Lane.jungle        8   \n",
              "2       14        4   Xerath   Side.red   Lane.utility        2   \n",
              "3       14        4      Zoe   Side.red  Lane.mid_lane        8   \n",
              "4        4       12  Camille   Side.red  Lane.top_lane        8   \n",
              "\n",
              "   damage_objectives  damage_building  damage_turrets  deaths  ...       kda  \\\n",
              "0                  0                0               0       6  ...  1.333333   \n",
              "1                547            46480             547       3  ...  6.666667   \n",
              "2                168              444             168       7  ...  0.285714   \n",
              "3               2492             3082            2492       3  ...  5.000000   \n",
              "4               6419             7408            6419       5  ...  4.200000   \n",
              "\n",
              "   kills  level  time_cc  damage_total  damage_taken  total_minions_killed  \\\n",
              "0      2      9       23         15214          9404                    36   \n",
              "1     12     16       32        194463         25782                    23   \n",
              "2      0     10       22         34038         14079                    26   \n",
              "3      7     14       29         94369         11128                   133   \n",
              "4     13     15       25        110580         20404                   141   \n",
              "\n",
              "   turret_kills  vision_score  result  \n",
              "0             0            47   False  \n",
              "1             1            20    True  \n",
              "2             0            38   False  \n",
              "3             2            17    True  \n",
              "4             2            24    True  \n",
              "\n",
              "[5 rows x 21 columns]"
            ],
            "text/html": [
              "\n",
              "  <div id=\"df-e186c770-0089-4c04-a799-e95f14953171\">\n",
              "    <div class=\"colab-df-container\">\n",
              "      <div>\n",
              "<style scoped>\n",
              "    .dataframe tbody tr th:only-of-type {\n",
              "        vertical-align: middle;\n",
              "    }\n",
              "\n",
              "    .dataframe tbody tr th {\n",
              "        vertical-align: top;\n",
              "    }\n",
              "\n",
              "    .dataframe thead th {\n",
              "        text-align: right;\n",
              "    }\n",
              "</style>\n",
              "<table border=\"1\" class=\"dataframe\">\n",
              "  <thead>\n",
              "    <tr style=\"text-align: right;\">\n",
              "      <th></th>\n",
              "      <th>d_spell</th>\n",
              "      <th>f_spell</th>\n",
              "      <th>champion</th>\n",
              "      <th>side</th>\n",
              "      <th>role</th>\n",
              "      <th>assists</th>\n",
              "      <th>damage_objectives</th>\n",
              "      <th>damage_building</th>\n",
              "      <th>damage_turrets</th>\n",
              "      <th>deaths</th>\n",
              "      <th>...</th>\n",
              "      <th>kda</th>\n",
              "      <th>kills</th>\n",
              "      <th>level</th>\n",
              "      <th>time_cc</th>\n",
              "      <th>damage_total</th>\n",
              "      <th>damage_taken</th>\n",
              "      <th>total_minions_killed</th>\n",
              "      <th>turret_kills</th>\n",
              "      <th>vision_score</th>\n",
              "      <th>result</th>\n",
              "    </tr>\n",
              "  </thead>\n",
              "  <tbody>\n",
              "    <tr>\n",
              "      <th>0</th>\n",
              "      <td>14</td>\n",
              "      <td>4</td>\n",
              "      <td>Leona</td>\n",
              "      <td>Side.blue</td>\n",
              "      <td>Lane.utility</td>\n",
              "      <td>6</td>\n",
              "      <td>0</td>\n",
              "      <td>0</td>\n",
              "      <td>0</td>\n",
              "      <td>6</td>\n",
              "      <td>...</td>\n",
              "      <td>1.333333</td>\n",
              "      <td>2</td>\n",
              "      <td>9</td>\n",
              "      <td>23</td>\n",
              "      <td>15214</td>\n",
              "      <td>9404</td>\n",
              "      <td>36</td>\n",
              "      <td>0</td>\n",
              "      <td>47</td>\n",
              "      <td>False</td>\n",
              "    </tr>\n",
              "    <tr>\n",
              "      <th>1</th>\n",
              "      <td>11</td>\n",
              "      <td>4</td>\n",
              "      <td>Udyr</td>\n",
              "      <td>Side.red</td>\n",
              "      <td>Lane.jungle</td>\n",
              "      <td>8</td>\n",
              "      <td>547</td>\n",
              "      <td>46480</td>\n",
              "      <td>547</td>\n",
              "      <td>3</td>\n",
              "      <td>...</td>\n",
              "      <td>6.666667</td>\n",
              "      <td>12</td>\n",
              "      <td>16</td>\n",
              "      <td>32</td>\n",
              "      <td>194463</td>\n",
              "      <td>25782</td>\n",
              "      <td>23</td>\n",
              "      <td>1</td>\n",
              "      <td>20</td>\n",
              "      <td>True</td>\n",
              "    </tr>\n",
              "    <tr>\n",
              "      <th>2</th>\n",
              "      <td>14</td>\n",
              "      <td>4</td>\n",
              "      <td>Xerath</td>\n",
              "      <td>Side.red</td>\n",
              "      <td>Lane.utility</td>\n",
              "      <td>2</td>\n",
              "      <td>168</td>\n",
              "      <td>444</td>\n",
              "      <td>168</td>\n",
              "      <td>7</td>\n",
              "      <td>...</td>\n",
              "      <td>0.285714</td>\n",
              "      <td>0</td>\n",
              "      <td>10</td>\n",
              "      <td>22</td>\n",
              "      <td>34038</td>\n",
              "      <td>14079</td>\n",
              "      <td>26</td>\n",
              "      <td>0</td>\n",
              "      <td>38</td>\n",
              "      <td>False</td>\n",
              "    </tr>\n",
              "    <tr>\n",
              "      <th>3</th>\n",
              "      <td>14</td>\n",
              "      <td>4</td>\n",
              "      <td>Zoe</td>\n",
              "      <td>Side.red</td>\n",
              "      <td>Lane.mid_lane</td>\n",
              "      <td>8</td>\n",
              "      <td>2492</td>\n",
              "      <td>3082</td>\n",
              "      <td>2492</td>\n",
              "      <td>3</td>\n",
              "      <td>...</td>\n",
              "      <td>5.000000</td>\n",
              "      <td>7</td>\n",
              "      <td>14</td>\n",
              "      <td>29</td>\n",
              "      <td>94369</td>\n",
              "      <td>11128</td>\n",
              "      <td>133</td>\n",
              "      <td>2</td>\n",
              "      <td>17</td>\n",
              "      <td>True</td>\n",
              "    </tr>\n",
              "    <tr>\n",
              "      <th>4</th>\n",
              "      <td>4</td>\n",
              "      <td>12</td>\n",
              "      <td>Camille</td>\n",
              "      <td>Side.red</td>\n",
              "      <td>Lane.top_lane</td>\n",
              "      <td>8</td>\n",
              "      <td>6419</td>\n",
              "      <td>7408</td>\n",
              "      <td>6419</td>\n",
              "      <td>5</td>\n",
              "      <td>...</td>\n",
              "      <td>4.200000</td>\n",
              "      <td>13</td>\n",
              "      <td>15</td>\n",
              "      <td>25</td>\n",
              "      <td>110580</td>\n",
              "      <td>20404</td>\n",
              "      <td>141</td>\n",
              "      <td>2</td>\n",
              "      <td>24</td>\n",
              "      <td>True</td>\n",
              "    </tr>\n",
              "  </tbody>\n",
              "</table>\n",
              "<p>5 rows × 21 columns</p>\n",
              "</div>\n",
              "      <button class=\"colab-df-convert\" onclick=\"convertToInteractive('df-e186c770-0089-4c04-a799-e95f14953171')\"\n",
              "              title=\"Convert this dataframe to an interactive table.\"\n",
              "              style=\"display:none;\">\n",
              "        \n",
              "  <svg xmlns=\"http://www.w3.org/2000/svg\" height=\"24px\"viewBox=\"0 0 24 24\"\n",
              "       width=\"24px\">\n",
              "    <path d=\"M0 0h24v24H0V0z\" fill=\"none\"/>\n",
              "    <path d=\"M18.56 5.44l.94 2.06.94-2.06 2.06-.94-2.06-.94-.94-2.06-.94 2.06-2.06.94zm-11 1L8.5 8.5l.94-2.06 2.06-.94-2.06-.94L8.5 2.5l-.94 2.06-2.06.94zm10 10l.94 2.06.94-2.06 2.06-.94-2.06-.94-.94-2.06-.94 2.06-2.06.94z\"/><path d=\"M17.41 7.96l-1.37-1.37c-.4-.4-.92-.59-1.43-.59-.52 0-1.04.2-1.43.59L10.3 9.45l-7.72 7.72c-.78.78-.78 2.05 0 2.83L4 21.41c.39.39.9.59 1.41.59.51 0 1.02-.2 1.41-.59l7.78-7.78 2.81-2.81c.8-.78.8-2.07 0-2.86zM5.41 20L4 18.59l7.72-7.72 1.47 1.35L5.41 20z\"/>\n",
              "  </svg>\n",
              "      </button>\n",
              "      \n",
              "  <style>\n",
              "    .colab-df-container {\n",
              "      display:flex;\n",
              "      flex-wrap:wrap;\n",
              "      gap: 12px;\n",
              "    }\n",
              "\n",
              "    .colab-df-convert {\n",
              "      background-color: #E8F0FE;\n",
              "      border: none;\n",
              "      border-radius: 50%;\n",
              "      cursor: pointer;\n",
              "      display: none;\n",
              "      fill: #1967D2;\n",
              "      height: 32px;\n",
              "      padding: 0 0 0 0;\n",
              "      width: 32px;\n",
              "    }\n",
              "\n",
              "    .colab-df-convert:hover {\n",
              "      background-color: #E2EBFA;\n",
              "      box-shadow: 0px 1px 2px rgba(60, 64, 67, 0.3), 0px 1px 3px 1px rgba(60, 64, 67, 0.15);\n",
              "      fill: #174EA6;\n",
              "    }\n",
              "\n",
              "    [theme=dark] .colab-df-convert {\n",
              "      background-color: #3B4455;\n",
              "      fill: #D2E3FC;\n",
              "    }\n",
              "\n",
              "    [theme=dark] .colab-df-convert:hover {\n",
              "      background-color: #434B5C;\n",
              "      box-shadow: 0px 1px 3px 1px rgba(0, 0, 0, 0.15);\n",
              "      filter: drop-shadow(0px 1px 2px rgba(0, 0, 0, 0.3));\n",
              "      fill: #FFFFFF;\n",
              "    }\n",
              "  </style>\n",
              "\n",
              "      <script>\n",
              "        const buttonEl =\n",
              "          document.querySelector('#df-e186c770-0089-4c04-a799-e95f14953171 button.colab-df-convert');\n",
              "        buttonEl.style.display =\n",
              "          google.colab.kernel.accessAllowed ? 'block' : 'none';\n",
              "\n",
              "        async function convertToInteractive(key) {\n",
              "          const element = document.querySelector('#df-e186c770-0089-4c04-a799-e95f14953171');\n",
              "          const dataTable =\n",
              "            await google.colab.kernel.invokeFunction('convertToInteractive',\n",
              "                                                     [key], {});\n",
              "          if (!dataTable) return;\n",
              "\n",
              "          const docLinkHtml = 'Like what you see? Visit the ' +\n",
              "            '<a target=\"_blank\" href=https://colab.research.google.com/notebooks/data_table.ipynb>data table notebook</a>'\n",
              "            + ' to learn more about interactive tables.';\n",
              "          element.innerHTML = '';\n",
              "          dataTable['output_type'] = 'display_data';\n",
              "          await google.colab.output.renderOutput(dataTable, element);\n",
              "          const docLink = document.createElement('div');\n",
              "          docLink.innerHTML = docLinkHtml;\n",
              "          element.appendChild(docLink);\n",
              "        }\n",
              "      </script>\n",
              "    </div>\n",
              "  </div>\n",
              "  "
            ]
          },
          "metadata": {},
          "execution_count": 121
        }
      ]
    },
    {
      "cell_type": "code",
      "source": [
        "kr_data.info()"
      ],
      "metadata": {
        "colab": {
          "base_uri": "https://localhost:8080/"
        },
        "id": "cQF-WEBW7i1_",
        "outputId": "08407762-cc6e-497f-85a5-db924c121084"
      },
      "execution_count": null,
      "outputs": [
        {
          "output_type": "stream",
          "name": "stdout",
          "text": [
            "<class 'pandas.core.frame.DataFrame'>\n",
            "Int64Index: 5697 entries, 0 to 5696\n",
            "Data columns (total 21 columns):\n",
            " #   Column                Non-Null Count  Dtype  \n",
            "---  ------                --------------  -----  \n",
            " 0   d_spell               5697 non-null   int64  \n",
            " 1   f_spell               5697 non-null   int64  \n",
            " 2   champion              5697 non-null   object \n",
            " 3   side                  5697 non-null   object \n",
            " 4   role                  5697 non-null   object \n",
            " 5   assists               5697 non-null   int64  \n",
            " 6   damage_objectives     5697 non-null   int64  \n",
            " 7   damage_building       5697 non-null   int64  \n",
            " 8   damage_turrets        5697 non-null   int64  \n",
            " 9   deaths                5697 non-null   int64  \n",
            " 10  gold_earned           5697 non-null   int64  \n",
            " 11  kda                   5697 non-null   float64\n",
            " 12  kills                 5697 non-null   int64  \n",
            " 13  level                 5697 non-null   int64  \n",
            " 14  time_cc               5697 non-null   int64  \n",
            " 15  damage_total          5697 non-null   int64  \n",
            " 16  damage_taken          5697 non-null   int64  \n",
            " 17  total_minions_killed  5697 non-null   int64  \n",
            " 18  turret_kills          5697 non-null   int64  \n",
            " 19  vision_score          5697 non-null   int64  \n",
            " 20  result                5697 non-null   bool   \n",
            "dtypes: bool(1), float64(1), int64(16), object(3)\n",
            "memory usage: 940.2+ KB\n"
          ]
        }
      ]
    },
    {
      "cell_type": "code",
      "source": [
        "kr_data['f_spell'] = kr_data['f_spell'].astype(object)\n",
        "kr_data['d_spell'] = kr_data['d_spell'].astype(object)"
      ],
      "metadata": {
        "id": "bS-E895G7ocu"
      },
      "execution_count": null,
      "outputs": []
    },
    {
      "cell_type": "markdown",
      "source": [
        "데이터들을 각 포지션 별로 나누기"
      ],
      "metadata": {
        "id": "yUM0fVi68sL-"
      }
    },
    {
      "cell_type": "code",
      "source": [
        "#탑\n",
        "top_data = kr_data[kr_data['role'] == 'Lane.top_lane']\n",
        "#정글\n",
        "jungle_data = kr_data[kr_data['role'] == 'Lane.jungle']\n",
        "#미드\n",
        "mid_data = kr_data[kr_data['role'] == 'Lane.mid_lane']\n",
        "#원딜\n",
        "adc_data = kr_data[kr_data['role'] == 'Lane.bot_lane']\n",
        "#서포터\n",
        "support_data = kr_data[kr_data['role'] == 'Lane.utility']"
      ],
      "metadata": {
        "id": "MI7iwFEb84zG"
      },
      "execution_count": null,
      "outputs": []
    },
    {
      "cell_type": "markdown",
      "source": [
        "각 포지션 별 챔피언 선택 분포"
      ],
      "metadata": {
        "id": "72lxpz-v9oJ-"
      }
    },
    {
      "cell_type": "code",
      "source": [
        "px.histogram(top_data, x='champion',\n",
        "             title='탑 챔피언 분포').update_xaxes(categoryorder='total descending')"
      ],
      "metadata": {
        "colab": {
          "base_uri": "https://localhost:8080/",
          "height": 542
        },
        "id": "V1-V3SLQ_s0f",
        "outputId": "4f92fedc-9b68-4d3b-cac8-7d8c34125901"
      },
      "execution_count": null,
      "outputs": [
        {
          "output_type": "display_data",
          "data": {
            "text/html": [
              "<html>\n",
              "<head><meta charset=\"utf-8\" /></head>\n",
              "<body>\n",
              "    <div>            <script src=\"https://cdnjs.cloudflare.com/ajax/libs/mathjax/2.7.5/MathJax.js?config=TeX-AMS-MML_SVG\"></script><script type=\"text/javascript\">if (window.MathJax) {MathJax.Hub.Config({SVG: {font: \"STIX-Web\"}});}</script>                <script type=\"text/javascript\">window.PlotlyConfig = {MathJaxConfig: 'local'};</script>\n",
              "        <script src=\"https://cdn.plot.ly/plotly-2.8.3.min.js\"></script>                <div id=\"c03aabf1-1e71-44f5-a371-c64b4bd5207e\" class=\"plotly-graph-div\" style=\"height:525px; width:100%;\"></div>            <script type=\"text/javascript\">                                    window.PLOTLYENV=window.PLOTLYENV || {};                                    if (document.getElementById(\"c03aabf1-1e71-44f5-a371-c64b4bd5207e\")) {                    Plotly.newPlot(                        \"c03aabf1-1e71-44f5-a371-c64b4bd5207e\",                        [{\"alignmentgroup\":\"True\",\"bingroup\":\"x\",\"hovertemplate\":\"champion=%{x}<br>count=%{y}<extra></extra>\",\"legendgroup\":\"\",\"marker\":{\"color\":\"#636efa\",\"pattern\":{\"shape\":\"\"}},\"name\":\"\",\"offsetgroup\":\"\",\"orientation\":\"v\",\"showlegend\":false,\"x\":[\"Camille\",\"Renekton\",\"Lucian\",\"Irelia\",\"Gragas\",\"Camille\",\"Volibear\",\"Graves\",\"Graves\",\"Renekton\",\"Jayce\",\"Vladimir\",\"Viktor\",\"Akshan\",\"Jax\",\"Graves\",\"Kled\",\"Graves\",\"Malphite\",\"Jax\",\"Jax\",\"Vladimir\",\"Graves\",\"Graves\",\"Jayce\",\"Sett\",\"Gragas\",\"Jayce\",\"Renekton\",\"Gragas\",\"Irelia\",\"Yone\",\"Camille\",\"Camille\",\"Graves\",\"Tryndamere\",\"Yasuo\",\"Gragas\",\"Fiora\",\"Akali\",\"Tryndamere\",\"Jayce\",\"Rumble\",\"Tryndamere\",\"Jayce\",\"Renekton\",\"Kennen\",\"Jax\",\"Jayce\",\"Jayce\",\"Jayce\",\"Gwen\",\"Graves\",\"MonkeyKing\",\"Tryndamere\",\"Camille\",\"Urgot\",\"Jax\",\"Jax\",\"Gangplank\",\"Jayce\",\"Graves\",\"Irelia\",\"Jax\",\"Jax\",\"Graves\",\"Yone\",\"RekSai\",\"Jax\",\"Graves\",\"Rumble\",\"Tryndamere\",\"Qiyana\",\"Quinn\",\"Jayce\",\"Camille\",\"Akali\",\"Kennen\",\"Kennen\",\"Graves\",\"Garen\",\"Graves\",\"Jayce\",\"Gangplank\",\"Jayce\",\"Jayce\",\"Rumble\",\"TahmKench\",\"Camille\",\"Riven\",\"Yone\",\"Irelia\",\"Shyvana\",\"Malphite\",\"Renekton\",\"Malphite\",\"Yone\",\"Akshan\",\"Irelia\",\"Poppy\",\"Poppy\",\"Graves\",\"Akshan\",\"Renekton\",\"Camille\",\"Camille\",\"Irelia\",\"Kennen\",\"Renekton\",\"Kennen\",\"Vladimir\",\"Jayce\",\"Sejuani\",\"Pantheon\",\"Graves\",\"Tryndamere\",\"Camille\",\"Akali\",\"Gwen\",\"Kled\",\"Jayce\",\"Renekton\",\"Ryze\",\"Gragas\",\"Akshan\",\"Akshan\",\"Renekton\",\"Yone\",\"Sett\",\"Yone\",\"Jayce\",\"Gwen\",\"Renekton\",\"Jax\",\"Malphite\",\"Gragas\",\"Taric\",\"Taric\",\"Akshan\",\"Gwen\",\"Vayne\",\"Gwen\",\"Gwen\",\"Kennen\",\"Jax\",\"Irelia\",\"Irelia\",\"Poppy\",\"Poppy\",\"Yasuo\",\"Tryndamere\",\"Jayce\",\"Fiora\",\"Renekton\",\"Quinn\",\"Jayce\",\"Jax\",\"Volibear\",\"Irelia\",\"Irelia\",\"Irelia\",\"Graves\",\"Yone\",\"Kennen\",\"Gragas\",\"Kled\",\"Jayce\",\"Jayce\",\"Yone\",\"Akali\",\"Akali\",\"Jayce\",\"Jax\",\"Gangplank\",\"Irelia\",\"Kassadin\",\"Renekton\",\"Akali\",\"Tryndamere\",\"Jayce\",\"Akali\",\"Yone\",\"Corki\",\"Jayce\",\"Viktor\",\"Yone\",\"Gwen\",\"Yasuo\",\"Rumble\",\"Jayce\",\"Yone\",\"Riven\",\"Akali\",\"Aatrox\",\"Jayce\",\"Renekton\",\"Camille\",\"Riven\",\"Riven\",\"Gangplank\",\"Renekton\",\"Pantheon\",\"Viktor\",\"Lucian\",\"Graves\",\"Lucian\",\"Sylas\",\"Yone\",\"Irelia\",\"Akali\",\"Tryndamere\",\"Tryndamere\",\"Viego\",\"Camille\",\"Camille\",\"Camille\",\"Fiora\",\"Camille\",\"Sylas\",\"Jayce\",\"Tryndamere\",\"Jax\",\"Tryndamere\",\"Sion\",\"Graves\",\"Jax\",\"Irelia\",\"Renekton\",\"Irelia\",\"TahmKench\",\"Sylas\",\"Olaf\",\"Cassiopeia\",\"Garen\",\"MonkeyKing\",\"Vex\",\"Gwen\",\"Tryndamere\",\"Sylas\",\"Vayne\",\"Aatrox\",\"Renekton\",\"Tryndamere\",\"Camille\",\"Jayce\",\"Quinn\",\"Gragas\",\"Gragas\",\"Kled\",\"Graves\",\"Jayce\",\"Graves\",\"Graves\",\"Akshan\",\"Jax\",\"Aatrox\",\"Akshan\",\"Graves\",\"Irelia\",\"Renekton\",\"Jayce\",\"Graves\",\"Jax\",\"Viktor\",\"Jayce\",\"Camille\",\"Qiyana\",\"Renekton\",\"Irelia\",\"Graves\",\"Kennen\",\"Rumble\",\"Qiyana\",\"Jax\",\"Kennen\",\"Jayce\",\"Gnar\",\"Aatrox\",\"Rumble\",\"Kindred\",\"LeeSin\",\"Viktor\",\"Renekton\",\"Graves\",\"Rumble\",\"Rumble\",\"Fiora\",\"Gangplank\",\"Kennen\",\"Jayce\",\"Jayce\",\"Sylas\",\"Jayce\",\"Akali\",\"Gangplank\",\"Tryndamere\",\"Viktor\",\"Akshan\",\"Sylas\",\"Yone\",\"Qiyana\",\"Jax\",\"Irelia\",\"Jayce\",\"Irelia\",\"Jayce\",\"Jayce\",\"Akshan\",\"Jayce\",\"Tryndamere\",\"Yone\",\"Tryndamere\",\"Renekton\",\"Akali\",\"Gragas\",\"Rumble\",\"Yone\",\"Gragas\",\"Lulu\",\"Jax\",\"Akali\",\"Jax\",\"Kled\",\"Sett\",\"Akali\",\"Jax\",\"Graves\",\"Poppy\",\"Irelia\",\"Yasuo\",\"Jax\",\"Renekton\",\"Graves\",\"Shyvana\",\"Aatrox\",\"Camille\",\"Darius\",\"Jax\",\"Renekton\",\"Viktor\",\"Sylas\",\"Gangplank\",\"Graves\",\"Graves\",\"Yone\",\"Qiyana\",\"Irelia\",\"Jayce\",\"Gragas\",\"Gragas\",\"Jax\",\"Ryze\",\"Quinn\",\"Yone\",\"Gragas\",\"TahmKench\",\"Graves\",\"Malphite\",\"Renekton\",\"Cassiopeia\",\"Camille\",\"Graves\",\"Fiora\",\"Jayce\",\"Jayce\",\"Akshan\",\"Fiora\",\"Jax\",\"Akshan\",\"Yone\",\"Jax\",\"Renekton\",\"Yone\",\"Viktor\",\"Yone\",\"Camille\",\"Aatrox\",\"Sett\",\"Malphite\",\"Irelia\",\"Shyvana\",\"Fiora\",\"Jayce\",\"Gragas\",\"Irelia\",\"Gragas\",\"Gragas\",\"Taric\",\"Jayce\",\"Graves\",\"TahmKench\",\"Irelia\",\"Renekton\",\"Gragas\",\"Camille\",\"Yone\",\"Viktor\",\"Gangplank\",\"Akali\",\"Gwen\",\"Jayce\",\"Tryndamere\",\"Jayce\",\"Gwen\",\"Camille\",\"Sylas\",\"Graves\",\"Graves\",\"Jax\",\"Akali\",\"Irelia\",\"Tryndamere\",\"Irelia\",\"Camille\",\"Jayce\",\"Tryndamere\",\"Gwen\",\"Yone\",\"Graves\",\"Akshan\",\"Kennen\",\"Graves\",\"Kennen\",\"Kennen\",\"Jayce\",\"Warwick\",\"Camille\",\"Kennen\",\"Vayne\",\"Jayce\",\"Jayce\",\"Jayce\",\"Irelia\",\"Akshan\",\"Yasuo\",\"Akali\",\"Akali\",\"Yone\",\"Fiora\",\"Akshan\",\"Irelia\",\"Jayce\",\"Jayce\",\"Akali\",\"Jayce\",\"Graves\",\"Camille\",\"Akshan\",\"Gragas\",\"Camille\",\"Akshan\",\"Tryndamere\",\"Gragas\",\"Jax\",\"Jax\",\"Jayce\",\"Tryndamere\",\"Yone\",\"Gangplank\",\"Yone\",\"Jayce\",\"Poppy\",\"Gragas\",\"Malphite\",\"Corki\",\"Graves\",\"Akali\",\"Tryndamere\",\"Tryndamere\",\"Gwen\",\"Akali\",\"Rengar\",\"Jayce\",\"Jayce\",\"Graves\",\"Jayce\",\"Renekton\",\"Aatrox\",\"Shen\",\"Renekton\",\"Jayce\",\"Akali\",\"Irelia\",\"Yasuo\",\"Aatrox\",\"Fiora\",\"Graves\",\"Graves\",\"Renekton\",\"Akshan\",\"Kennen\",\"Gragas\",\"Viktor\",\"Tryndamere\",\"Akshan\",\"Jayce\",\"Yone\",\"Akali\",\"Gangplank\",\"Jax\",\"Kennen\",\"Yasuo\",\"Graves\",\"Singed\",\"Gragas\",\"Tryndamere\",\"Quinn\",\"Yasuo\",\"Kennen\",\"Rumble\",\"Graves\",\"Graves\",\"Viktor\",\"Jayce\",\"Gwen\",\"Kennen\",\"Graves\",\"Yone\",\"Galio\",\"Irelia\",\"Graves\",\"Jayce\",\"Vayne\",\"Corki\",\"Sett\",\"Akali\",\"Renekton\",\"Jax\",\"Aatrox\",\"Akshan\",\"Jayce\",\"Gangplank\",\"Gangplank\",\"Yone\",\"Shyvana\",\"TahmKench\",\"Tryndamere\",\"Trundle\",\"Yone\",\"Teemo\",\"Jax\",\"Fiora\",\"Akali\",\"Vi\",\"Yasuo\",\"Tryndamere\",\"Tryndamere\",\"Azir\",\"Gragas\",\"Mordekaiser\",\"JarvanIV\",\"Tryndamere\",\"Graves\",\"Malphite\",\"Gwen\",\"Camille\",\"Irelia\",\"Kennen\",\"Yone\",\"Tryndamere\",\"Akali\",\"Yone\",\"Yone\",\"Gragas\",\"Viktor\",\"Tryndamere\",\"LeeSin\",\"Jayce\",\"Tryndamere\",\"Graves\",\"Teemo\",\"Jax\",\"Yone\",\"Akshan\",\"Jayce\",\"Jax\",\"Graves\",\"Renekton\",\"Kennen\",\"Nasus\",\"Graves\",\"Ornn\",\"Akshan\",\"Gragas\",\"Gragas\",\"Jax\",\"Jayce\",\"Irelia\",\"Irelia\",\"Aatrox\",\"Tryndamere\",\"Akshan\",\"Yone\",\"Camille\",\"Kindred\",\"Camille\",\"Singed\",\"Teemo\",\"Camille\",\"Yone\",\"Renekton\",\"Akali\",\"Renekton\",\"Aatrox\",\"Jayce\",\"Irelia\",\"Quinn\",\"MonkeyKing\",\"Jayce\",\"Rumble\",\"Irelia\",\"Galio\",\"Gwen\",\"Camille\",\"Jayce\",\"Jayce\",\"Gangplank\",\"Graves\",\"Kennen\",\"Quinn\",\"Gragas\",\"Tryndamere\",\"Jayce\",\"Viktor\",\"Akshan\",\"Jax\",\"Taric\",\"Irelia\",\"Fiora\",\"Camille\",\"Tryndamere\",\"Graves\",\"Graves\",\"Jayce\",\"Yone\",\"Akshan\",\"Irelia\",\"Shen\",\"Irelia\",\"Gragas\",\"Akshan\",\"Akshan\",\"Jayce\",\"Sett\",\"Jayce\",\"Sett\",\"Akali\",\"Camille\",\"Irelia\",\"Graves\",\"Graves\",\"Graves\",\"Akshan\",\"Yone\",\"Akali\",\"Jayce\",\"Graves\",\"Graves\",\"Gwen\",\"Irelia\",\"Corki\",\"Tryndamere\",\"Irelia\",\"Irelia\",\"Tryndamere\",\"Renekton\",\"Yone\",\"Viktor\",\"Irelia\",\"Akshan\",\"Jax\",\"Akshan\",\"Jayce\",\"Akali\",\"Akshan\",\"Jax\",\"Malphite\",\"Renekton\",\"Gragas\",\"Kennen\",\"Fiora\",\"Gangplank\",\"Lillia\",\"Kennen\",\"Camille\",\"Viktor\",\"Riven\",\"Jayce\",\"Irelia\",\"Jax\",\"Rumble\",\"Viktor\",\"Viktor\",\"Graves\",\"Graves\",\"Yone\",\"Yone\",\"Tryndamere\",\"Jayce\",\"DrMundo\",\"Taric\",\"Viktor\",\"Akshan\",\"Viktor\",\"Jax\",\"Jayce\",\"Jax\",\"Kennen\",\"Shen\",\"Viktor\",\"Graves\",\"Jax\",\"Gangplank\",\"Yone\",\"Yone\",\"Malphite\",\"Renekton\",\"Tryndamere\",\"Graves\",\"Renekton\",\"Graves\",\"Jax\",\"Jax\",\"Jayce\",\"Camille\",\"Irelia\",\"Jayce\",\"Kennen\",\"Tryndamere\",\"Renekton\",\"Yone\",\"Akshan\",\"Irelia\",\"Irelia\",\"Kennen\",\"Akshan\",\"Jax\",\"Akshan\",\"Jayce\",\"Renekton\",\"Akshan\",\"Yone\",\"Gragas\",\"Yasuo\",\"Jax\",\"Irelia\",\"Irelia\",\"Jayce\",\"Aatrox\",\"Graves\",\"Graves\",\"Gwen\",\"Graves\",\"Rumble\",\"Jax\",\"Yone\",\"Gragas\",\"Quinn\",\"Jayce\",\"Rumble\",\"Jayce\",\"Jayce\",\"Gwen\",\"Akali\",\"Gwen\",\"Renekton\",\"Aatrox\",\"Irelia\",\"Viktor\",\"Renekton\",\"Vi\",\"Jayce\",\"Mordekaiser\",\"Viktor\",\"Kindred\",\"Jayce\",\"Sett\",\"Camille\",\"Jayce\",\"Jayce\",\"Akshan\",\"Renekton\",\"Sett\",\"Darius\",\"Yone\",\"Kindred\",\"Corki\",\"Viego\",\"Gangplank\",\"Gwen\",\"Jax\",\"Sylas\",\"Sylas\",\"Irelia\",\"Graves\",\"Akshan\",\"Yone\",\"Renekton\",\"Akshan\",\"Akali\",\"Graves\",\"Aatrox\",\"Jayce\",\"Jax\",\"Tryndamere\",\"Akshan\",\"Renekton\",\"Renekton\",\"Yone\",\"Irelia\",\"Tryndamere\",\"Rumble\",\"Chogath\",\"Graves\",\"Renekton\",\"Tryndamere\",\"Darius\",\"Yone\",\"Graves\",\"Yone\",\"Akali\",\"Yone\",\"Poppy\",\"LeeSin\",\"Yone\",\"Viktor\",\"Renekton\",\"Jax\",\"Aatrox\",\"Yone\",\"Kennen\",\"LeeSin\",\"Tryndamere\",\"Jax\",\"Yasuo\",\"Tryndamere\",\"Viktor\",\"Kennen\",\"Gwen\",\"Jayce\",\"Cassiopeia\",\"Renekton\",\"Yone\",\"Sett\",\"Fiora\",\"Yasuo\",\"Gragas\",\"Camille\",\"Sion\",\"Irelia\",\"Gragas\",\"Akshan\",\"Akshan\",\"Akshan\",\"Kennen\",\"Jax\",\"Graves\",\"Irelia\",\"Irelia\",\"MonkeyKing\",\"Irelia\",\"Gwen\",\"Camille\",\"Yasuo\",\"Yasuo\",\"Camille\",\"Yasuo\",\"Gragas\",\"Irelia\",\"Yone\",\"Camille\",\"Graves\",\"Graves\",\"Viktor\",\"Camille\",\"Jax\",\"Kennen\",\"Rumble\",\"Jax\",\"Rumble\",\"Yone\",\"Rumble\",\"Irelia\",\"Yone\",\"Camille\",\"Yone\",\"Renekton\",\"Fiora\",\"Akshan\",\"Poppy\",\"Rumble\",\"Renekton\",\"Camille\",\"Akshan\",\"Gragas\",\"Riven\",\"Fiora\",\"Akshan\",\"Graves\",\"Irelia\",\"Akshan\",\"Jax\",\"Irelia\",\"Irelia\",\"Yone\",\"Rumble\",\"Jayce\",\"Jax\",\"Jayce\",\"Irelia\",\"Akali\",\"Jayce\",\"Jayce\",\"Akshan\",\"Akali\",\"Graves\",\"Quinn\",\"Quinn\",\"Gragas\",\"Qiyana\",\"Graves\",\"Yone\",\"Akali\",\"Tryndamere\",\"Yone\",\"Gragas\",\"Corki\",\"Renekton\",\"Jayce\",\"Jax\",\"Camille\",\"Gragas\",\"Graves\",\"Sylas\",\"Tryndamere\",\"Heimerdinger\",\"Jayce\",\"Renekton\",\"Renekton\",\"Camille\",\"Jax\",\"Malphite\",\"Akshan\",\"Akshan\",\"Gragas\",\"Jax\",\"Viktor\",\"Sylas\",\"Camille\",\"Ornn\",\"Jayce\",\"Irelia\",\"Ornn\",\"Graves\",\"Sett\",\"Yone\",\"Irelia\",\"Jayce\",\"Qiyana\",\"Jayce\",\"Renekton\",\"Viktor\",\"Akali\",\"Ornn\",\"Tryndamere\",\"Tryndamere\",\"Renekton\",\"Yone\",\"Tryndamere\",\"Tryndamere\",\"Gangplank\",\"Renekton\",\"Jayce\",\"Jax\",\"Irelia\",\"Graves\",\"Gragas\",\"Jax\",\"Tryndamere\",\"Yone\",\"Camille\",\"Sylas\",\"Jayce\",\"Camille\",\"Rengar\",\"Viktor\",\"Akali\",\"Gragas\",\"Gragas\",\"Gwen\",\"Jayce\",\"Akali\",\"Yone\",\"Graves\",\"Fiora\",\"Graves\",\"Renekton\",\"Akali\",\"Akshan\",\"Jax\",\"Riven\",\"Kennen\",\"Akali\",\"Jax\",\"Yone\",\"Renekton\",\"Akshan\",\"Gragas\",\"Camille\",\"Jayce\",\"Jax\",\"Camille\",\"Irelia\",\"Jayce\",\"Jax\",\"Yone\",\"Darius\",\"Malphite\",\"Graves\",\"Camille\",\"Jayce\",\"Akali\",\"Shen\",\"Jax\",\"Renekton\",\"Aatrox\",\"Aatrox\",\"Irelia\",\"Camille\",\"Gragas\",\"Sylas\",\"Graves\",\"Graves\",\"Jayce\",\"Irelia\",\"Camille\",\"Graves\",\"Akali\",\"Yone\",\"Kennen\",\"Jax\",\"Tryndamere\",\"Vladimir\",\"Graves\",\"Singed\",\"Fiora\",\"Jayce\",\"Akali\",\"Tryndamere\",\"Gwen\",\"Nasus\",\"Jayce\",\"Gragas\",\"Yone\",\"Urgot\",\"Yone\",\"Gragas\",\"LeeSin\",\"Tryndamere\",\"Lucian\",\"Camille\",\"Sylas\",\"Irelia\",\"Gragas\",\"Jayce\",\"Renekton\",\"Irelia\",\"Kennen\",\"Shyvana\",\"Gangplank\",\"Fiora\",\"Viktor\",\"Jayce\",\"Karma\",\"Yone\",\"Irelia\",\"Jayce\",\"Tryndamere\",\"Fiora\",\"Rumble\",\"Yone\",\"Qiyana\",\"Jayce\",\"Irelia\",\"Akali\",\"Graves\",\"Akshan\",\"Graves\",\"Sylas\",\"Tryndamere\",\"Sylas\",\"Graves\",\"Volibear\",\"Tryndamere\",\"Yone\",\"Jayce\",\"Jax\",\"Jayce\",\"Akshan\",\"Gragas\",\"Akshan\",\"Yone\",\"Tryndamere\",\"Ornn\",\"Akali\",\"Yone\",\"Jax\",\"Camille\",\"Gragas\",\"Kennen\",\"Fiora\",\"Graves\",\"Jayce\",\"Akshan\",\"Cassiopeia\",\"Irelia\",\"Kennen\",\"Jayce\",\"Jayce\",\"Akshan\",\"Rumble\",\"Akshan\",\"Viktor\",\"Yasuo\",\"Irelia\",\"Jayce\",\"Akali\",\"Akshan\",\"Jayce\",\"Yone\",\"Jax\",\"Tryndamere\",\"Camille\",\"Graves\",\"Akali\",\"Yone\",\"Camille\",\"Akshan\",\"Yone\",\"Graves\",\"Jayce\"],\"xaxis\":\"x\",\"yaxis\":\"y\",\"type\":\"histogram\"}],                        {\"template\":{\"data\":{\"bar\":[{\"error_x\":{\"color\":\"#2a3f5f\"},\"error_y\":{\"color\":\"#2a3f5f\"},\"marker\":{\"line\":{\"color\":\"#E5ECF6\",\"width\":0.5},\"pattern\":{\"fillmode\":\"overlay\",\"size\":10,\"solidity\":0.2}},\"type\":\"bar\"}],\"barpolar\":[{\"marker\":{\"line\":{\"color\":\"#E5ECF6\",\"width\":0.5},\"pattern\":{\"fillmode\":\"overlay\",\"size\":10,\"solidity\":0.2}},\"type\":\"barpolar\"}],\"carpet\":[{\"aaxis\":{\"endlinecolor\":\"#2a3f5f\",\"gridcolor\":\"white\",\"linecolor\":\"white\",\"minorgridcolor\":\"white\",\"startlinecolor\":\"#2a3f5f\"},\"baxis\":{\"endlinecolor\":\"#2a3f5f\",\"gridcolor\":\"white\",\"linecolor\":\"white\",\"minorgridcolor\":\"white\",\"startlinecolor\":\"#2a3f5f\"},\"type\":\"carpet\"}],\"choropleth\":[{\"colorbar\":{\"outlinewidth\":0,\"ticks\":\"\"},\"type\":\"choropleth\"}],\"contour\":[{\"colorbar\":{\"outlinewidth\":0,\"ticks\":\"\"},\"colorscale\":[[0.0,\"#0d0887\"],[0.1111111111111111,\"#46039f\"],[0.2222222222222222,\"#7201a8\"],[0.3333333333333333,\"#9c179e\"],[0.4444444444444444,\"#bd3786\"],[0.5555555555555556,\"#d8576b\"],[0.6666666666666666,\"#ed7953\"],[0.7777777777777778,\"#fb9f3a\"],[0.8888888888888888,\"#fdca26\"],[1.0,\"#f0f921\"]],\"type\":\"contour\"}],\"contourcarpet\":[{\"colorbar\":{\"outlinewidth\":0,\"ticks\":\"\"},\"type\":\"contourcarpet\"}],\"heatmap\":[{\"colorbar\":{\"outlinewidth\":0,\"ticks\":\"\"},\"colorscale\":[[0.0,\"#0d0887\"],[0.1111111111111111,\"#46039f\"],[0.2222222222222222,\"#7201a8\"],[0.3333333333333333,\"#9c179e\"],[0.4444444444444444,\"#bd3786\"],[0.5555555555555556,\"#d8576b\"],[0.6666666666666666,\"#ed7953\"],[0.7777777777777778,\"#fb9f3a\"],[0.8888888888888888,\"#fdca26\"],[1.0,\"#f0f921\"]],\"type\":\"heatmap\"}],\"heatmapgl\":[{\"colorbar\":{\"outlinewidth\":0,\"ticks\":\"\"},\"colorscale\":[[0.0,\"#0d0887\"],[0.1111111111111111,\"#46039f\"],[0.2222222222222222,\"#7201a8\"],[0.3333333333333333,\"#9c179e\"],[0.4444444444444444,\"#bd3786\"],[0.5555555555555556,\"#d8576b\"],[0.6666666666666666,\"#ed7953\"],[0.7777777777777778,\"#fb9f3a\"],[0.8888888888888888,\"#fdca26\"],[1.0,\"#f0f921\"]],\"type\":\"heatmapgl\"}],\"histogram\":[{\"marker\":{\"pattern\":{\"fillmode\":\"overlay\",\"size\":10,\"solidity\":0.2}},\"type\":\"histogram\"}],\"histogram2d\":[{\"colorbar\":{\"outlinewidth\":0,\"ticks\":\"\"},\"colorscale\":[[0.0,\"#0d0887\"],[0.1111111111111111,\"#46039f\"],[0.2222222222222222,\"#7201a8\"],[0.3333333333333333,\"#9c179e\"],[0.4444444444444444,\"#bd3786\"],[0.5555555555555556,\"#d8576b\"],[0.6666666666666666,\"#ed7953\"],[0.7777777777777778,\"#fb9f3a\"],[0.8888888888888888,\"#fdca26\"],[1.0,\"#f0f921\"]],\"type\":\"histogram2d\"}],\"histogram2dcontour\":[{\"colorbar\":{\"outlinewidth\":0,\"ticks\":\"\"},\"colorscale\":[[0.0,\"#0d0887\"],[0.1111111111111111,\"#46039f\"],[0.2222222222222222,\"#7201a8\"],[0.3333333333333333,\"#9c179e\"],[0.4444444444444444,\"#bd3786\"],[0.5555555555555556,\"#d8576b\"],[0.6666666666666666,\"#ed7953\"],[0.7777777777777778,\"#fb9f3a\"],[0.8888888888888888,\"#fdca26\"],[1.0,\"#f0f921\"]],\"type\":\"histogram2dcontour\"}],\"mesh3d\":[{\"colorbar\":{\"outlinewidth\":0,\"ticks\":\"\"},\"type\":\"mesh3d\"}],\"parcoords\":[{\"line\":{\"colorbar\":{\"outlinewidth\":0,\"ticks\":\"\"}},\"type\":\"parcoords\"}],\"pie\":[{\"automargin\":true,\"type\":\"pie\"}],\"scatter\":[{\"marker\":{\"colorbar\":{\"outlinewidth\":0,\"ticks\":\"\"}},\"type\":\"scatter\"}],\"scatter3d\":[{\"line\":{\"colorbar\":{\"outlinewidth\":0,\"ticks\":\"\"}},\"marker\":{\"colorbar\":{\"outlinewidth\":0,\"ticks\":\"\"}},\"type\":\"scatter3d\"}],\"scattercarpet\":[{\"marker\":{\"colorbar\":{\"outlinewidth\":0,\"ticks\":\"\"}},\"type\":\"scattercarpet\"}],\"scattergeo\":[{\"marker\":{\"colorbar\":{\"outlinewidth\":0,\"ticks\":\"\"}},\"type\":\"scattergeo\"}],\"scattergl\":[{\"marker\":{\"colorbar\":{\"outlinewidth\":0,\"ticks\":\"\"}},\"type\":\"scattergl\"}],\"scattermapbox\":[{\"marker\":{\"colorbar\":{\"outlinewidth\":0,\"ticks\":\"\"}},\"type\":\"scattermapbox\"}],\"scatterpolar\":[{\"marker\":{\"colorbar\":{\"outlinewidth\":0,\"ticks\":\"\"}},\"type\":\"scatterpolar\"}],\"scatterpolargl\":[{\"marker\":{\"colorbar\":{\"outlinewidth\":0,\"ticks\":\"\"}},\"type\":\"scatterpolargl\"}],\"scatterternary\":[{\"marker\":{\"colorbar\":{\"outlinewidth\":0,\"ticks\":\"\"}},\"type\":\"scatterternary\"}],\"surface\":[{\"colorbar\":{\"outlinewidth\":0,\"ticks\":\"\"},\"colorscale\":[[0.0,\"#0d0887\"],[0.1111111111111111,\"#46039f\"],[0.2222222222222222,\"#7201a8\"],[0.3333333333333333,\"#9c179e\"],[0.4444444444444444,\"#bd3786\"],[0.5555555555555556,\"#d8576b\"],[0.6666666666666666,\"#ed7953\"],[0.7777777777777778,\"#fb9f3a\"],[0.8888888888888888,\"#fdca26\"],[1.0,\"#f0f921\"]],\"type\":\"surface\"}],\"table\":[{\"cells\":{\"fill\":{\"color\":\"#EBF0F8\"},\"line\":{\"color\":\"white\"}},\"header\":{\"fill\":{\"color\":\"#C8D4E3\"},\"line\":{\"color\":\"white\"}},\"type\":\"table\"}]},\"layout\":{\"annotationdefaults\":{\"arrowcolor\":\"#2a3f5f\",\"arrowhead\":0,\"arrowwidth\":1},\"autotypenumbers\":\"strict\",\"coloraxis\":{\"colorbar\":{\"outlinewidth\":0,\"ticks\":\"\"}},\"colorscale\":{\"diverging\":[[0,\"#8e0152\"],[0.1,\"#c51b7d\"],[0.2,\"#de77ae\"],[0.3,\"#f1b6da\"],[0.4,\"#fde0ef\"],[0.5,\"#f7f7f7\"],[0.6,\"#e6f5d0\"],[0.7,\"#b8e186\"],[0.8,\"#7fbc41\"],[0.9,\"#4d9221\"],[1,\"#276419\"]],\"sequential\":[[0.0,\"#0d0887\"],[0.1111111111111111,\"#46039f\"],[0.2222222222222222,\"#7201a8\"],[0.3333333333333333,\"#9c179e\"],[0.4444444444444444,\"#bd3786\"],[0.5555555555555556,\"#d8576b\"],[0.6666666666666666,\"#ed7953\"],[0.7777777777777778,\"#fb9f3a\"],[0.8888888888888888,\"#fdca26\"],[1.0,\"#f0f921\"]],\"sequentialminus\":[[0.0,\"#0d0887\"],[0.1111111111111111,\"#46039f\"],[0.2222222222222222,\"#7201a8\"],[0.3333333333333333,\"#9c179e\"],[0.4444444444444444,\"#bd3786\"],[0.5555555555555556,\"#d8576b\"],[0.6666666666666666,\"#ed7953\"],[0.7777777777777778,\"#fb9f3a\"],[0.8888888888888888,\"#fdca26\"],[1.0,\"#f0f921\"]]},\"colorway\":[\"#636efa\",\"#EF553B\",\"#00cc96\",\"#ab63fa\",\"#FFA15A\",\"#19d3f3\",\"#FF6692\",\"#B6E880\",\"#FF97FF\",\"#FECB52\"],\"font\":{\"color\":\"#2a3f5f\"},\"geo\":{\"bgcolor\":\"white\",\"lakecolor\":\"white\",\"landcolor\":\"#E5ECF6\",\"showlakes\":true,\"showland\":true,\"subunitcolor\":\"white\"},\"hoverlabel\":{\"align\":\"left\"},\"hovermode\":\"closest\",\"mapbox\":{\"style\":\"light\"},\"paper_bgcolor\":\"white\",\"plot_bgcolor\":\"#E5ECF6\",\"polar\":{\"angularaxis\":{\"gridcolor\":\"white\",\"linecolor\":\"white\",\"ticks\":\"\"},\"bgcolor\":\"#E5ECF6\",\"radialaxis\":{\"gridcolor\":\"white\",\"linecolor\":\"white\",\"ticks\":\"\"}},\"scene\":{\"xaxis\":{\"backgroundcolor\":\"#E5ECF6\",\"gridcolor\":\"white\",\"gridwidth\":2,\"linecolor\":\"white\",\"showbackground\":true,\"ticks\":\"\",\"zerolinecolor\":\"white\"},\"yaxis\":{\"backgroundcolor\":\"#E5ECF6\",\"gridcolor\":\"white\",\"gridwidth\":2,\"linecolor\":\"white\",\"showbackground\":true,\"ticks\":\"\",\"zerolinecolor\":\"white\"},\"zaxis\":{\"backgroundcolor\":\"#E5ECF6\",\"gridcolor\":\"white\",\"gridwidth\":2,\"linecolor\":\"white\",\"showbackground\":true,\"ticks\":\"\",\"zerolinecolor\":\"white\"}},\"shapedefaults\":{\"line\":{\"color\":\"#2a3f5f\"}},\"ternary\":{\"aaxis\":{\"gridcolor\":\"white\",\"linecolor\":\"white\",\"ticks\":\"\"},\"baxis\":{\"gridcolor\":\"white\",\"linecolor\":\"white\",\"ticks\":\"\"},\"bgcolor\":\"#E5ECF6\",\"caxis\":{\"gridcolor\":\"white\",\"linecolor\":\"white\",\"ticks\":\"\"}},\"title\":{\"x\":0.05},\"xaxis\":{\"automargin\":true,\"gridcolor\":\"white\",\"linecolor\":\"white\",\"ticks\":\"\",\"title\":{\"standoff\":15},\"zerolinecolor\":\"white\",\"zerolinewidth\":2},\"yaxis\":{\"automargin\":true,\"gridcolor\":\"white\",\"linecolor\":\"white\",\"ticks\":\"\",\"title\":{\"standoff\":15},\"zerolinecolor\":\"white\",\"zerolinewidth\":2}}},\"xaxis\":{\"anchor\":\"y\",\"domain\":[0.0,1.0],\"title\":{\"text\":\"champion\"},\"categoryorder\":\"total descending\"},\"yaxis\":{\"anchor\":\"x\",\"domain\":[0.0,1.0],\"title\":{\"text\":\"count\"}},\"legend\":{\"tracegroupgap\":0},\"title\":{\"text\":\"\\ud0d1 \\ucc54\\ud53c\\uc5b8 \\ubd84\\ud3ec\"},\"barmode\":\"relative\"},                        {\"responsive\": true}                    ).then(function(){\n",
              "                            \n",
              "var gd = document.getElementById('c03aabf1-1e71-44f5-a371-c64b4bd5207e');\n",
              "var x = new MutationObserver(function (mutations, observer) {{\n",
              "        var display = window.getComputedStyle(gd).display;\n",
              "        if (!display || display === 'none') {{\n",
              "            console.log([gd, 'removed!']);\n",
              "            Plotly.purge(gd);\n",
              "            observer.disconnect();\n",
              "        }}\n",
              "}});\n",
              "\n",
              "// Listen for the removal of the full notebook cells\n",
              "var notebookContainer = gd.closest('#notebook-container');\n",
              "if (notebookContainer) {{\n",
              "    x.observe(notebookContainer, {childList: true});\n",
              "}}\n",
              "\n",
              "// Listen for the clearing of the current output cell\n",
              "var outputEl = gd.closest('.output');\n",
              "if (outputEl) {{\n",
              "    x.observe(outputEl, {childList: true});\n",
              "}}\n",
              "\n",
              "                        })                };                            </script>        </div>\n",
              "</body>\n",
              "</html>"
            ]
          },
          "metadata": {}
        }
      ]
    },
    {
      "cell_type": "code",
      "source": [
        "px.histogram(jungle_data, x='champion',\n",
        "             title='정글 챔피언 분포').update_xaxes(categoryorder='total descending')"
      ],
      "metadata": {
        "colab": {
          "base_uri": "https://localhost:8080/",
          "height": 542
        },
        "id": "PfaU2AMR_st-",
        "outputId": "2f886b69-fe5f-4115-b9f9-8ea6d22b9b28"
      },
      "execution_count": null,
      "outputs": [
        {
          "output_type": "display_data",
          "data": {
            "text/html": [
              "<html>\n",
              "<head><meta charset=\"utf-8\" /></head>\n",
              "<body>\n",
              "    <div>            <script src=\"https://cdnjs.cloudflare.com/ajax/libs/mathjax/2.7.5/MathJax.js?config=TeX-AMS-MML_SVG\"></script><script type=\"text/javascript\">if (window.MathJax) {MathJax.Hub.Config({SVG: {font: \"STIX-Web\"}});}</script>                <script type=\"text/javascript\">window.PlotlyConfig = {MathJaxConfig: 'local'};</script>\n",
              "        <script src=\"https://cdn.plot.ly/plotly-2.8.3.min.js\"></script>                <div id=\"604fd746-8cf5-4b49-b2a9-19cab4ba10fa\" class=\"plotly-graph-div\" style=\"height:525px; width:100%;\"></div>            <script type=\"text/javascript\">                                    window.PLOTLYENV=window.PLOTLYENV || {};                                    if (document.getElementById(\"604fd746-8cf5-4b49-b2a9-19cab4ba10fa\")) {                    Plotly.newPlot(                        \"604fd746-8cf5-4b49-b2a9-19cab4ba10fa\",                        [{\"alignmentgroup\":\"True\",\"bingroup\":\"x\",\"hovertemplate\":\"champion=%{x}<br>count=%{y}<extra></extra>\",\"legendgroup\":\"\",\"marker\":{\"color\":\"#636efa\",\"pattern\":{\"shape\":\"\"}},\"name\":\"\",\"offsetgroup\":\"\",\"orientation\":\"v\",\"showlegend\":false,\"x\":[\"Udyr\",\"XinZhao\",\"Graves\",\"LeeSin\",\"LeeSin\",\"Sejuani\",\"Rengar\",\"Graves\",\"Ekko\",\"LeeSin\",\"Olaf\",\"Poppy\",\"Kayn\",\"LeeSin\",\"LeeSin\",\"LeeSin\",\"Ekko\",\"XinZhao\",\"RekSai\",\"Graves\",\"Graves\",\"LeeSin\",\"Elise\",\"Nidalee\",\"RekSai\",\"Viego\",\"Poppy\",\"JarvanIV\",\"XinZhao\",\"Graves\",\"JarvanIV\",\"LeeSin\",\"Viego\",\"Viego\",\"Elise\",\"Zed\",\"Nidalee\",\"LeeSin\",\"LeeSin\",\"Nunu\",\"XinZhao\",\"LeeSin\",\"Poppy\",\"Nunu\",\"Olaf\",\"Viego\",\"Taliyah\",\"Graves\",\"LeeSin\",\"Talon\",\"LeeSin\",\"XinZhao\",\"Elise\",\"LeeSin\",\"Nidalee\",\"LeeSin\",\"Talon\",\"Viego\",\"Ekko\",\"Udyr\",\"Nidalee\",\"Elise\",\"Viego\",\"Nidalee\",\"Zac\",\"LeeSin\",\"RekSai\",\"Viego\",\"LeeSin\",\"Taliyah\",\"LeeSin\",\"JarvanIV\",\"Graves\",\"Zed\",\"Graves\",\"Talon\",\"Viego\",\"Graves\",\"Viego\",\"Ekko\",\"Zed\",\"Rumble\",\"Soraka\",\"RekSai\",\"Viego\",\"Graves\",\"Taliyah\",\"Graves\",\"Nidalee\",\"LeeSin\",\"Poppy\",\"Nidalee\",\"Zed\",\"Karthus\",\"Shaco\",\"Graves\",\"JarvanIV\",\"Graves\",\"Talon\",\"Viego\",\"LeeSin\",\"Rengar\",\"Viego\",\"Nidalee\",\"LeeSin\",\"Viego\",\"Rengar\",\"LeeSin\",\"RekSai\",\"Qiyana\",\"Qiyana\",\"LeeSin\",\"Nocturne\",\"RekSai\",\"LeeSin\",\"Nocturne\",\"Nocturne\",\"Talon\",\"Viego\",\"Zac\",\"RekSai\",\"Hecarim\",\"Nidalee\",\"Talon\",\"Gragas\",\"Qiyana\",\"LeeSin\",\"LeeSin\",\"LeeSin\",\"Zed\",\"XinZhao\",\"Nidalee\",\"Ekko\",\"Hecarim\",\"Nautilus\",\"Graves\",\"Nunu\",\"Graves\",\"Talon\",\"Hecarim\",\"Talon\",\"Volibear\",\"Yuumi\",\"Nidalee\",\"Graves\",\"Viego\",\"Nidalee\",\"LeeSin\",\"Zed\",\"Ekko\",\"Zed\",\"JarvanIV\",\"Zac\",\"Zed\",\"Taliyah\",\"Taliyah\",\"LeeSin\",\"Nidalee\",\"Zed\",\"RekSai\",\"XinZhao\",\"Taliyah\",\"Taliyah\",\"Talon\",\"JarvanIV\",\"LeeSin\",\"Zac\",\"RekSai\",\"Ekko\",\"Hecarim\",\"Hecarim\",\"Kindred\",\"LeeSin\",\"Zed\",\"Graves\",\"Diana\",\"Taric\",\"LeeSin\",\"Graves\",\"JarvanIV\",\"LeeSin\",\"XinZhao\",\"Rengar\",\"Viego\",\"Viego\",\"Zed\",\"Pyke\",\"LeeSin\",\"Nidalee\",\"LeeSin\",\"Khazix\",\"LeeSin\",\"Ekko\",\"LeeSin\",\"Taliyah\",\"LeeSin\",\"Taliyah\",\"Graves\",\"Talon\",\"LeeSin\",\"Graves\",\"Taliyah\",\"Graves\",\"RekSai\",\"LeeSin\",\"Ekko\",\"LeeSin\",\"LeeSin\",\"Talon\",\"Kindred\",\"JarvanIV\",\"Graves\",\"Viego\",\"LeeSin\",\"LeeSin\",\"RekSai\",\"XinZhao\",\"Rumble\",\"Viego\",\"Talon\",\"Rumble\",\"Shaco\",\"Zed\",\"Viego\",\"XinZhao\",\"Viego\",\"Ekko\",\"Talon\",\"Talon\",\"Qiyana\",\"Diana\",\"Nunu\",\"LeeSin\",\"Nidalee\",\"LeeSin\",\"XinZhao\",\"XinZhao\",\"Viego\",\"Viego\",\"Zac\",\"Diana\",\"LeeSin\",\"Graves\",\"LeeSin\",\"Talon\",\"LeeSin\",\"Kindred\",\"Gragas\",\"Viego\",\"Rumble\",\"Taric\",\"LeeSin\",\"Graves\",\"Viego\",\"Qiyana\",\"Graves\",\"Graves\",\"XinZhao\",\"Gragas\",\"Viego\",\"XinZhao\",\"LeeSin\",\"LeeSin\",\"Trundle\",\"Talon\",\"Zed\",\"Viego\",\"Talon\",\"Kindred\",\"Taliyah\",\"Nidalee\",\"Kayn\",\"Graves\",\"LeeSin\",\"Viego\",\"Taliyah\",\"LeeSin\",\"Graves\",\"LeeSin\",\"Talon\",\"Diana\",\"Zac\",\"RekSai\",\"Nidalee\",\"Zed\",\"Gragas\",\"JarvanIV\",\"Talon\",\"Karthus\",\"JarvanIV\",\"LeeSin\",\"Nidalee\",\"Gragas\",\"Kindred\",\"Nidalee\",\"Viego\",\"XinZhao\",\"JarvanIV\",\"LeeSin\",\"Nidalee\",\"LeeSin\",\"Viego\",\"XinZhao\",\"Graves\",\"Nunu\",\"Graves\",\"Qiyana\",\"Nidalee\",\"Viego\",\"Poppy\",\"Gragas\",\"Viego\",\"Viego\",\"Taliyah\",\"Graves\",\"Graves\",\"RekSai\",\"Viego\",\"Udyr\",\"JarvanIV\",\"Rumble\",\"XinZhao\",\"Talon\",\"XinZhao\",\"XinZhao\",\"Poppy\",\"Nunu\",\"Talon\",\"Rumble\",\"Taliyah\",\"LeeSin\",\"LeeSin\",\"RekSai\",\"Graves\",\"LeeSin\",\"Nidalee\",\"Nidalee\",\"Hecarim\",\"Poppy\",\"Nidalee\",\"Diana\",\"Viego\",\"Zed\",\"Talon\",\"RekSai\",\"Talon\",\"Nidalee\",\"Viego\",\"Ekko\",\"Viego\",\"Viego\",\"XinZhao\",\"Zed\",\"Karthus\",\"Graves\",\"XinZhao\",\"LeeSin\",\"Graves\",\"Nidalee\",\"Sylas\",\"Graves\",\"Graves\",\"Khazix\",\"Viego\",\"Talon\",\"Taliyah\",\"XinZhao\",\"Talon\",\"Udyr\",\"Nidalee\",\"LeeSin\",\"Nunu\",\"LeeSin\",\"Graves\",\"Graves\",\"LeeSin\",\"Graves\",\"Talon\",\"XinZhao\",\"LeeSin\",\"JarvanIV\",\"Khazix\",\"Graves\",\"Graves\",\"LeeSin\",\"RekSai\",\"Viego\",\"RekSai\",\"Taric\",\"Evelynn\",\"Karthus\",\"Talon\",\"LeeSin\",\"LeeSin\",\"LeeSin\",\"XinZhao\",\"Graves\",\"LeeSin\",\"LeeSin\",\"RekSai\",\"LeeSin\",\"RekSai\",\"Lux\",\"Kindred\",\"Talon\",\"LeeSin\",\"Talon\",\"LeeSin\",\"Shaco\",\"Viego\",\"Zac\",\"XinZhao\",\"Kindred\",\"Hecarim\",\"LeeSin\",\"Kindred\",\"Ekko\",\"Zed\",\"LeeSin\",\"Viego\",\"Lillia\",\"LeeSin\",\"Zed\",\"Talon\",\"LeeSin\",\"Ekko\",\"Viego\",\"Talon\",\"Viego\",\"Nidalee\",\"Graves\",\"Rengar\",\"XinZhao\",\"Kindred\",\"Talon\",\"Zed\",\"Poppy\",\"Olaf\",\"LeeSin\",\"Talon\",\"XinZhao\",\"RekSai\",\"LeeSin\",\"LeeSin\",\"XinZhao\",\"LeeSin\",\"Nidalee\",\"LeeSin\",\"Kayn\",\"Nidalee\",\"XinZhao\",\"Nidalee\",\"Graves\",\"LeeSin\",\"JarvanIV\",\"Nidalee\",\"XinZhao\",\"Graves\",\"Graves\",\"Diana\",\"Poppy\",\"Graves\",\"Kindred\",\"Ekko\",\"Viego\",\"LeeSin\",\"Viego\",\"Nidalee\",\"LeeSin\",\"Graves\",\"Graves\",\"Talon\",\"Graves\",\"Graves\",\"Viego\",\"Talon\",\"LeeSin\",\"Taliyah\",\"LeeSin\",\"Nunu\",\"Taliyah\",\"JarvanIV\",\"Viego\",\"Karthus\",\"Graves\",\"Nidalee\",\"Graves\",\"LeeSin\",\"Elise\",\"Talon\",\"Nunu\",\"Zed\",\"Rumble\",\"LeeSin\",\"Viego\",\"Hecarim\",\"Talon\",\"Kindred\",\"XinZhao\",\"Graves\",\"LeeSin\",\"Nidalee\",\"XinZhao\",\"LeeSin\",\"Olaf\",\"LeeSin\",\"LeeSin\",\"LeeSin\",\"Kindred\",\"LeeSin\",\"Qiyana\",\"Ekko\",\"Talon\",\"Graves\",\"Gwen\",\"Hecarim\",\"Kindred\",\"LeeSin\",\"Taliyah\",\"Khazix\",\"Hecarim\",\"Qiyana\",\"LeeSin\",\"Graves\",\"LeeSin\",\"Graves\",\"XinZhao\",\"LeeSin\",\"Viego\",\"Gragas\",\"Hecarim\",\"LeeSin\",\"Ekko\",\"LeeSin\",\"Talon\",\"Nunu\",\"LeeSin\",\"Nunu\",\"Graves\",\"XinZhao\",\"Graves\",\"Nidalee\",\"Talon\",\"Talon\",\"Graves\",\"Ekko\",\"LeeSin\",\"Kindred\",\"JarvanIV\",\"LeeSin\",\"Blitzcrank\",\"Zac\",\"Zed\",\"XinZhao\",\"Poppy\",\"Zac\",\"Talon\",\"RekSai\",\"Talon\",\"JarvanIV\",\"Taliyah\",\"Zac\",\"Nunu\",\"Ekko\",\"Talon\",\"Zac\",\"Viego\",\"XinZhao\",\"Nidalee\",\"Zed\",\"LeeSin\",\"Nidalee\",\"Nidalee\",\"Viego\",\"Taliyah\",\"Nidalee\",\"Hecarim\",\"Chogath\",\"Diana\",\"Viego\",\"Nidalee\",\"LeeSin\",\"LeeSin\",\"Shaco\",\"Graves\",\"XinZhao\",\"Hecarim\",\"Gragas\",\"Viego\",\"RekSai\",\"LeeSin\",\"LeeSin\",\"Graves\",\"JarvanIV\",\"Nidalee\",\"LeeSin\",\"Talon\",\"Kindred\",\"Graves\",\"Graves\",\"Talon\",\"XinZhao\",\"Viego\",\"LeeSin\",\"Nidalee\",\"Zed\",\"Nidalee\",\"LeeSin\",\"LeeSin\",\"Nidalee\",\"Zac\",\"XinZhao\",\"XinZhao\",\"LeeSin\",\"Graves\",\"Ekko\",\"Viego\",\"Viego\",\"Taliyah\",\"RekSai\",\"Talon\",\"Talon\",\"Diana\",\"Hecarim\",\"Gragas\",\"LeeSin\",\"Gragas\",\"Viego\",\"Gwen\",\"Poppy\",\"Ekko\",\"Amumu\",\"Karthus\",\"Viego\",\"LeeSin\",\"XinZhao\",\"LeeSin\",\"Zed\",\"Taric\",\"RekSai\",\"XinZhao\",\"RekSai\",\"RekSai\",\"RekSai\",\"LeeSin\",\"Kindred\",\"Talon\",\"Talon\",\"Graves\",\"Talon\",\"Viego\",\"Kayn\",\"Ekko\",\"Diana\",\"Nocturne\",\"Ekko\",\"Viego\",\"Nidalee\",\"XinZhao\",\"Zed\",\"Qiyana\",\"Hecarim\",\"Graves\",\"LeeSin\",\"LeeSin\",\"Ekko\",\"Nidalee\",\"Volibear\",\"Taric\",\"Rumble\",\"LeeSin\",\"LeeSin\",\"Diana\",\"LeeSin\",\"Braum\",\"Qiyana\",\"Hecarim\",\"LeeSin\",\"Talon\",\"Graves\",\"Gragas\",\"LeeSin\",\"LeeSin\",\"Zed\",\"Viego\",\"LeeSin\",\"LeeSin\",\"Graves\",\"Viego\",\"Graves\",\"RekSai\",\"Talon\",\"Nidalee\",\"Talon\",\"Gragas\",\"Ekko\",\"Graves\",\"Hecarim\",\"LeeSin\",\"LeeSin\",\"Hecarim\",\"Diana\",\"Rumble\",\"Graves\",\"Talon\",\"Graves\",\"Taliyah\",\"Talon\",\"LeeSin\",\"XinZhao\",\"Olaf\",\"Elise\",\"Taliyah\",\"Talon\",\"Kindred\",\"Shaco\",\"Viego\",\"Taliyah\",\"Talon\",\"Nunu\",\"Taliyah\",\"Viego\",\"Taliyah\",\"Nidalee\",\"LeeSin\",\"Ekko\",\"LeeSin\",\"Poppy\",\"LeeSin\",\"Graves\",\"Ekko\",\"LeeSin\",\"Zed\",\"Gwen\",\"Graves\",\"Poppy\",\"Hecarim\",\"Taliyah\",\"LeeSin\",\"Nidalee\",\"LeeSin\",\"Ekko\",\"XinZhao\",\"Nidalee\",\"Graves\",\"RekSai\",\"Viego\",\"Graves\",\"Zed\",\"Graves\",\"Talon\",\"Ekko\",\"Lulu\",\"XinZhao\",\"Talon\",\"RekSai\",\"Graves\",\"Poppy\",\"Talon\",\"Graves\",\"Ivern\",\"Viego\",\"Graves\",\"LeeSin\",\"XinZhao\",\"Talon\",\"Nidalee\",\"Elise\",\"Zed\",\"Talon\",\"LeeSin\",\"Taliyah\",\"Kindred\",\"RekSai\",\"LeeSin\",\"Nidalee\",\"Nidalee\",\"Zed\",\"Zed\",\"Nunu\",\"Nunu\",\"XinZhao\",\"LeeSin\",\"Zed\",\"Gwen\",\"Viego\",\"Talon\",\"Talon\",\"Graves\",\"Ekko\",\"Zac\",\"Hecarim\",\"XinZhao\",\"LeeSin\",\"Kindred\",\"Rumble\",\"Rumble\",\"LeeSin\",\"LeeSin\",\"LeeSin\",\"Nidalee\",\"Talon\",\"Nidalee\",\"Viego\",\"Graves\",\"LeeSin\",\"Ekko\",\"Zed\",\"LeeSin\",\"Graves\",\"Viego\",\"RekSai\",\"Kindred\",\"Graves\",\"XinZhao\",\"Diana\",\"LeeSin\",\"Talon\",\"Zed\",\"Viego\",\"Zed\",\"JarvanIV\",\"LeeSin\",\"Zed\",\"Nidalee\",\"RekSai\",\"Graves\",\"Hecarim\",\"XinZhao\",\"XinZhao\",\"JarvanIV\",\"XinZhao\",\"XinZhao\",\"Talon\",\"Ekko\",\"LeeSin\",\"Nidalee\",\"LeeSin\",\"Kayn\",\"Viego\",\"Nunu\",\"Gragas\",\"Viego\",\"Poppy\",\"Nunu\",\"Nidalee\",\"Rengar\",\"Diana\",\"Talon\",\"Talon\",\"Talon\",\"XinZhao\",\"Talon\",\"JarvanIV\",\"Taliyah\",\"LeeSin\",\"Talon\",\"Nidalee\",\"Zed\",\"Graves\",\"Lux\",\"Zed\",\"LeeSin\",\"Hecarim\",\"Nidalee\",\"Kindred\",\"Graves\",\"Viego\",\"Elise\",\"Elise\",\"RekSai\",\"Hecarim\",\"Graves\",\"Viego\",\"LeeSin\",\"Kindred\",\"Graves\",\"Ekko\",\"JarvanIV\",\"JarvanIV\",\"Rumble\",\"Elise\",\"Diana\",\"Talon\",\"Ekko\",\"Viego\",\"Graves\",\"LeeSin\",\"RekSai\",\"RekSai\",\"Nidalee\",\"LeeSin\",\"Graves\",\"Nidalee\",\"Talon\",\"Viego\",\"Poppy\",\"Zed\",\"JarvanIV\",\"LeeSin\",\"Kayn\",\"Graves\",\"XinZhao\",\"LeeSin\",\"Viego\",\"Viego\",\"Talon\",\"Graves\",\"LeeSin\",\"LeeSin\",\"Diana\",\"XinZhao\",\"LeeSin\",\"RekSai\",\"Kindred\",\"Talon\",\"Zac\",\"Kindred\",\"Nidalee\",\"LeeSin\",\"Nidalee\",\"LeeSin\",\"Nidalee\",\"Nidalee\",\"Kindred\",\"Viego\",\"Nidalee\",\"LeeSin\",\"Graves\",\"LeeSin\",\"Viego\",\"JarvanIV\",\"Nidalee\",\"Talon\",\"Shaco\",\"Talon\",\"Nidalee\",\"LeeSin\",\"Taliyah\",\"Talon\",\"Talon\",\"Viego\",\"Viego\",\"LeeSin\",\"LeeSin\",\"Talon\",\"Taliyah\",\"Hecarim\",\"LeeSin\",\"XinZhao\",\"XinZhao\",\"Graves\",\"LeeSin\",\"Zed\",\"Diana\",\"Talon\",\"Nidalee\",\"LeeSin\",\"LeeSin\",\"Talon\",\"LeeSin\",\"Qiyana\",\"Elise\",\"RekSai\",\"Graves\",\"Nidalee\",\"Talon\",\"Hecarim\",\"LeeSin\",\"Talon\",\"Viego\",\"LeeSin\",\"Zed\",\"Viego\",\"LeeSin\",\"Elise\",\"Rengar\",\"Olaf\",\"Graves\",\"Lulu\",\"Graves\",\"Talon\",\"Viego\",\"Viego\",\"Evelynn\",\"Nidalee\",\"Viego\",\"Rengar\",\"Zed\",\"Qiyana\",\"Viego\",\"Rumble\",\"XinZhao\",\"LeeSin\",\"Nidalee\",\"Viego\",\"Ekko\",\"Talon\",\"Nidalee\",\"Kindred\",\"XinZhao\",\"XinZhao\",\"Poppy\",\"LeeSin\",\"LeeSin\",\"XinZhao\",\"Talon\",\"Qiyana\",\"Nidalee\",\"LeeSin\",\"LeeSin\",\"Nidalee\",\"Ekko\",\"Viego\",\"XinZhao\",\"Graves\",\"Nunu\",\"Nunu\",\"Taliyah\",\"LeeSin\",\"Graves\",\"XinZhao\",\"JarvanIV\",\"Qiyana\",\"Viego\",\"Kindred\",\"Nunu\",\"Zed\",\"Zac\",\"XinZhao\",\"XinZhao\",\"Kindred\",\"LeeSin\",\"LeeSin\",\"Taliyah\",\"Zed\",\"Graves\",\"LeeSin\",\"RekSai\",\"XinZhao\",\"Ekko\",\"Viego\",\"Talon\",\"Viego\",\"Graves\",\"Viego\",\"Taliyah\",\"LeeSin\",\"RekSai\",\"LeeSin\",\"XinZhao\",\"Graves\",\"JarvanIV\",\"Kindred\",\"XinZhao\",\"Nidalee\",\"XinZhao\",\"Talon\",\"Poppy\",\"Zed\",\"Talon\",\"Viego\",\"RekSai\",\"JarvanIV\",\"Nidalee\",\"XinZhao\",\"Graves\",\"Hecarim\",\"Zed\",\"Viego\",\"Nunu\",\"Zed\",\"LeeSin\",\"JarvanIV\",\"Taliyah\",\"LeeSin\",\"Graves\",\"Zac\",\"LeeSin\",\"Zed\",\"LeeSin\",\"Olaf\",\"Viego\",\"LeeSin\",\"Ekko\",\"XinZhao\",\"Viego\",\"Viego\",\"Talon\",\"LeeSin\",\"Qiyana\",\"Graves\",\"Taliyah\",\"LeeSin\",\"Viego\",\"Kayn\",\"Zed\",\"Rengar\",\"Vi\",\"Viego\",\"Nidalee\",\"Viego\",\"LeeSin\",\"Talon\",\"Nunu\",\"Nidalee\",\"Hecarim\",\"Talon\",\"JarvanIV\",\"Taliyah\",\"LeeSin\",\"XinZhao\",\"Viego\",\"Nidalee\",\"Karthus\",\"LeeSin\",\"XinZhao\",\"Hecarim\",\"Graves\",\"Talon\",\"JarvanIV\",\"LeeSin\",\"Talon\",\"LeeSin\",\"Ekko\",\"LeeSin\",\"LeeSin\",\"Zed\",\"Nidalee\",\"Talon\",\"Taliyah\",\"Rumble\",\"Kindred\",\"Zed\",\"LeeSin\",\"Ekko\",\"Viego\",\"Olaf\",\"Rengar\",\"RekSai\",\"LeeSin\",\"JarvanIV\",\"XinZhao\",\"Ekko\",\"JarvanIV\",\"Rammus\",\"Nidalee\",\"LeeSin\"],\"xaxis\":\"x\",\"yaxis\":\"y\",\"type\":\"histogram\"}],                        {\"template\":{\"data\":{\"bar\":[{\"error_x\":{\"color\":\"#2a3f5f\"},\"error_y\":{\"color\":\"#2a3f5f\"},\"marker\":{\"line\":{\"color\":\"#E5ECF6\",\"width\":0.5},\"pattern\":{\"fillmode\":\"overlay\",\"size\":10,\"solidity\":0.2}},\"type\":\"bar\"}],\"barpolar\":[{\"marker\":{\"line\":{\"color\":\"#E5ECF6\",\"width\":0.5},\"pattern\":{\"fillmode\":\"overlay\",\"size\":10,\"solidity\":0.2}},\"type\":\"barpolar\"}],\"carpet\":[{\"aaxis\":{\"endlinecolor\":\"#2a3f5f\",\"gridcolor\":\"white\",\"linecolor\":\"white\",\"minorgridcolor\":\"white\",\"startlinecolor\":\"#2a3f5f\"},\"baxis\":{\"endlinecolor\":\"#2a3f5f\",\"gridcolor\":\"white\",\"linecolor\":\"white\",\"minorgridcolor\":\"white\",\"startlinecolor\":\"#2a3f5f\"},\"type\":\"carpet\"}],\"choropleth\":[{\"colorbar\":{\"outlinewidth\":0,\"ticks\":\"\"},\"type\":\"choropleth\"}],\"contour\":[{\"colorbar\":{\"outlinewidth\":0,\"ticks\":\"\"},\"colorscale\":[[0.0,\"#0d0887\"],[0.1111111111111111,\"#46039f\"],[0.2222222222222222,\"#7201a8\"],[0.3333333333333333,\"#9c179e\"],[0.4444444444444444,\"#bd3786\"],[0.5555555555555556,\"#d8576b\"],[0.6666666666666666,\"#ed7953\"],[0.7777777777777778,\"#fb9f3a\"],[0.8888888888888888,\"#fdca26\"],[1.0,\"#f0f921\"]],\"type\":\"contour\"}],\"contourcarpet\":[{\"colorbar\":{\"outlinewidth\":0,\"ticks\":\"\"},\"type\":\"contourcarpet\"}],\"heatmap\":[{\"colorbar\":{\"outlinewidth\":0,\"ticks\":\"\"},\"colorscale\":[[0.0,\"#0d0887\"],[0.1111111111111111,\"#46039f\"],[0.2222222222222222,\"#7201a8\"],[0.3333333333333333,\"#9c179e\"],[0.4444444444444444,\"#bd3786\"],[0.5555555555555556,\"#d8576b\"],[0.6666666666666666,\"#ed7953\"],[0.7777777777777778,\"#fb9f3a\"],[0.8888888888888888,\"#fdca26\"],[1.0,\"#f0f921\"]],\"type\":\"heatmap\"}],\"heatmapgl\":[{\"colorbar\":{\"outlinewidth\":0,\"ticks\":\"\"},\"colorscale\":[[0.0,\"#0d0887\"],[0.1111111111111111,\"#46039f\"],[0.2222222222222222,\"#7201a8\"],[0.3333333333333333,\"#9c179e\"],[0.4444444444444444,\"#bd3786\"],[0.5555555555555556,\"#d8576b\"],[0.6666666666666666,\"#ed7953\"],[0.7777777777777778,\"#fb9f3a\"],[0.8888888888888888,\"#fdca26\"],[1.0,\"#f0f921\"]],\"type\":\"heatmapgl\"}],\"histogram\":[{\"marker\":{\"pattern\":{\"fillmode\":\"overlay\",\"size\":10,\"solidity\":0.2}},\"type\":\"histogram\"}],\"histogram2d\":[{\"colorbar\":{\"outlinewidth\":0,\"ticks\":\"\"},\"colorscale\":[[0.0,\"#0d0887\"],[0.1111111111111111,\"#46039f\"],[0.2222222222222222,\"#7201a8\"],[0.3333333333333333,\"#9c179e\"],[0.4444444444444444,\"#bd3786\"],[0.5555555555555556,\"#d8576b\"],[0.6666666666666666,\"#ed7953\"],[0.7777777777777778,\"#fb9f3a\"],[0.8888888888888888,\"#fdca26\"],[1.0,\"#f0f921\"]],\"type\":\"histogram2d\"}],\"histogram2dcontour\":[{\"colorbar\":{\"outlinewidth\":0,\"ticks\":\"\"},\"colorscale\":[[0.0,\"#0d0887\"],[0.1111111111111111,\"#46039f\"],[0.2222222222222222,\"#7201a8\"],[0.3333333333333333,\"#9c179e\"],[0.4444444444444444,\"#bd3786\"],[0.5555555555555556,\"#d8576b\"],[0.6666666666666666,\"#ed7953\"],[0.7777777777777778,\"#fb9f3a\"],[0.8888888888888888,\"#fdca26\"],[1.0,\"#f0f921\"]],\"type\":\"histogram2dcontour\"}],\"mesh3d\":[{\"colorbar\":{\"outlinewidth\":0,\"ticks\":\"\"},\"type\":\"mesh3d\"}],\"parcoords\":[{\"line\":{\"colorbar\":{\"outlinewidth\":0,\"ticks\":\"\"}},\"type\":\"parcoords\"}],\"pie\":[{\"automargin\":true,\"type\":\"pie\"}],\"scatter\":[{\"marker\":{\"colorbar\":{\"outlinewidth\":0,\"ticks\":\"\"}},\"type\":\"scatter\"}],\"scatter3d\":[{\"line\":{\"colorbar\":{\"outlinewidth\":0,\"ticks\":\"\"}},\"marker\":{\"colorbar\":{\"outlinewidth\":0,\"ticks\":\"\"}},\"type\":\"scatter3d\"}],\"scattercarpet\":[{\"marker\":{\"colorbar\":{\"outlinewidth\":0,\"ticks\":\"\"}},\"type\":\"scattercarpet\"}],\"scattergeo\":[{\"marker\":{\"colorbar\":{\"outlinewidth\":0,\"ticks\":\"\"}},\"type\":\"scattergeo\"}],\"scattergl\":[{\"marker\":{\"colorbar\":{\"outlinewidth\":0,\"ticks\":\"\"}},\"type\":\"scattergl\"}],\"scattermapbox\":[{\"marker\":{\"colorbar\":{\"outlinewidth\":0,\"ticks\":\"\"}},\"type\":\"scattermapbox\"}],\"scatterpolar\":[{\"marker\":{\"colorbar\":{\"outlinewidth\":0,\"ticks\":\"\"}},\"type\":\"scatterpolar\"}],\"scatterpolargl\":[{\"marker\":{\"colorbar\":{\"outlinewidth\":0,\"ticks\":\"\"}},\"type\":\"scatterpolargl\"}],\"scatterternary\":[{\"marker\":{\"colorbar\":{\"outlinewidth\":0,\"ticks\":\"\"}},\"type\":\"scatterternary\"}],\"surface\":[{\"colorbar\":{\"outlinewidth\":0,\"ticks\":\"\"},\"colorscale\":[[0.0,\"#0d0887\"],[0.1111111111111111,\"#46039f\"],[0.2222222222222222,\"#7201a8\"],[0.3333333333333333,\"#9c179e\"],[0.4444444444444444,\"#bd3786\"],[0.5555555555555556,\"#d8576b\"],[0.6666666666666666,\"#ed7953\"],[0.7777777777777778,\"#fb9f3a\"],[0.8888888888888888,\"#fdca26\"],[1.0,\"#f0f921\"]],\"type\":\"surface\"}],\"table\":[{\"cells\":{\"fill\":{\"color\":\"#EBF0F8\"},\"line\":{\"color\":\"white\"}},\"header\":{\"fill\":{\"color\":\"#C8D4E3\"},\"line\":{\"color\":\"white\"}},\"type\":\"table\"}]},\"layout\":{\"annotationdefaults\":{\"arrowcolor\":\"#2a3f5f\",\"arrowhead\":0,\"arrowwidth\":1},\"autotypenumbers\":\"strict\",\"coloraxis\":{\"colorbar\":{\"outlinewidth\":0,\"ticks\":\"\"}},\"colorscale\":{\"diverging\":[[0,\"#8e0152\"],[0.1,\"#c51b7d\"],[0.2,\"#de77ae\"],[0.3,\"#f1b6da\"],[0.4,\"#fde0ef\"],[0.5,\"#f7f7f7\"],[0.6,\"#e6f5d0\"],[0.7,\"#b8e186\"],[0.8,\"#7fbc41\"],[0.9,\"#4d9221\"],[1,\"#276419\"]],\"sequential\":[[0.0,\"#0d0887\"],[0.1111111111111111,\"#46039f\"],[0.2222222222222222,\"#7201a8\"],[0.3333333333333333,\"#9c179e\"],[0.4444444444444444,\"#bd3786\"],[0.5555555555555556,\"#d8576b\"],[0.6666666666666666,\"#ed7953\"],[0.7777777777777778,\"#fb9f3a\"],[0.8888888888888888,\"#fdca26\"],[1.0,\"#f0f921\"]],\"sequentialminus\":[[0.0,\"#0d0887\"],[0.1111111111111111,\"#46039f\"],[0.2222222222222222,\"#7201a8\"],[0.3333333333333333,\"#9c179e\"],[0.4444444444444444,\"#bd3786\"],[0.5555555555555556,\"#d8576b\"],[0.6666666666666666,\"#ed7953\"],[0.7777777777777778,\"#fb9f3a\"],[0.8888888888888888,\"#fdca26\"],[1.0,\"#f0f921\"]]},\"colorway\":[\"#636efa\",\"#EF553B\",\"#00cc96\",\"#ab63fa\",\"#FFA15A\",\"#19d3f3\",\"#FF6692\",\"#B6E880\",\"#FF97FF\",\"#FECB52\"],\"font\":{\"color\":\"#2a3f5f\"},\"geo\":{\"bgcolor\":\"white\",\"lakecolor\":\"white\",\"landcolor\":\"#E5ECF6\",\"showlakes\":true,\"showland\":true,\"subunitcolor\":\"white\"},\"hoverlabel\":{\"align\":\"left\"},\"hovermode\":\"closest\",\"mapbox\":{\"style\":\"light\"},\"paper_bgcolor\":\"white\",\"plot_bgcolor\":\"#E5ECF6\",\"polar\":{\"angularaxis\":{\"gridcolor\":\"white\",\"linecolor\":\"white\",\"ticks\":\"\"},\"bgcolor\":\"#E5ECF6\",\"radialaxis\":{\"gridcolor\":\"white\",\"linecolor\":\"white\",\"ticks\":\"\"}},\"scene\":{\"xaxis\":{\"backgroundcolor\":\"#E5ECF6\",\"gridcolor\":\"white\",\"gridwidth\":2,\"linecolor\":\"white\",\"showbackground\":true,\"ticks\":\"\",\"zerolinecolor\":\"white\"},\"yaxis\":{\"backgroundcolor\":\"#E5ECF6\",\"gridcolor\":\"white\",\"gridwidth\":2,\"linecolor\":\"white\",\"showbackground\":true,\"ticks\":\"\",\"zerolinecolor\":\"white\"},\"zaxis\":{\"backgroundcolor\":\"#E5ECF6\",\"gridcolor\":\"white\",\"gridwidth\":2,\"linecolor\":\"white\",\"showbackground\":true,\"ticks\":\"\",\"zerolinecolor\":\"white\"}},\"shapedefaults\":{\"line\":{\"color\":\"#2a3f5f\"}},\"ternary\":{\"aaxis\":{\"gridcolor\":\"white\",\"linecolor\":\"white\",\"ticks\":\"\"},\"baxis\":{\"gridcolor\":\"white\",\"linecolor\":\"white\",\"ticks\":\"\"},\"bgcolor\":\"#E5ECF6\",\"caxis\":{\"gridcolor\":\"white\",\"linecolor\":\"white\",\"ticks\":\"\"}},\"title\":{\"x\":0.05},\"xaxis\":{\"automargin\":true,\"gridcolor\":\"white\",\"linecolor\":\"white\",\"ticks\":\"\",\"title\":{\"standoff\":15},\"zerolinecolor\":\"white\",\"zerolinewidth\":2},\"yaxis\":{\"automargin\":true,\"gridcolor\":\"white\",\"linecolor\":\"white\",\"ticks\":\"\",\"title\":{\"standoff\":15},\"zerolinecolor\":\"white\",\"zerolinewidth\":2}}},\"xaxis\":{\"anchor\":\"y\",\"domain\":[0.0,1.0],\"title\":{\"text\":\"champion\"},\"categoryorder\":\"total descending\"},\"yaxis\":{\"anchor\":\"x\",\"domain\":[0.0,1.0],\"title\":{\"text\":\"count\"}},\"legend\":{\"tracegroupgap\":0},\"title\":{\"text\":\"\\uc815\\uae00 \\ucc54\\ud53c\\uc5b8 \\ubd84\\ud3ec\"},\"barmode\":\"relative\"},                        {\"responsive\": true}                    ).then(function(){\n",
              "                            \n",
              "var gd = document.getElementById('604fd746-8cf5-4b49-b2a9-19cab4ba10fa');\n",
              "var x = new MutationObserver(function (mutations, observer) {{\n",
              "        var display = window.getComputedStyle(gd).display;\n",
              "        if (!display || display === 'none') {{\n",
              "            console.log([gd, 'removed!']);\n",
              "            Plotly.purge(gd);\n",
              "            observer.disconnect();\n",
              "        }}\n",
              "}});\n",
              "\n",
              "// Listen for the removal of the full notebook cells\n",
              "var notebookContainer = gd.closest('#notebook-container');\n",
              "if (notebookContainer) {{\n",
              "    x.observe(notebookContainer, {childList: true});\n",
              "}}\n",
              "\n",
              "// Listen for the clearing of the current output cell\n",
              "var outputEl = gd.closest('.output');\n",
              "if (outputEl) {{\n",
              "    x.observe(outputEl, {childList: true});\n",
              "}}\n",
              "\n",
              "                        })                };                            </script>        </div>\n",
              "</body>\n",
              "</html>"
            ]
          },
          "metadata": {}
        }
      ]
    },
    {
      "cell_type": "code",
      "source": [
        "px.histogram(mid_data, x='champion',\n",
        "             title='미드 챔피언 분포').update_xaxes(categoryorder='total descending')"
      ],
      "metadata": {
        "colab": {
          "base_uri": "https://localhost:8080/",
          "height": 542
        },
        "id": "Eqxl6XnG_smu",
        "outputId": "4269fd04-790f-4be7-a363-0c83040fca37"
      },
      "execution_count": null,
      "outputs": [
        {
          "output_type": "display_data",
          "data": {
            "text/html": [
              "<html>\n",
              "<head><meta charset=\"utf-8\" /></head>\n",
              "<body>\n",
              "    <div>            <script src=\"https://cdnjs.cloudflare.com/ajax/libs/mathjax/2.7.5/MathJax.js?config=TeX-AMS-MML_SVG\"></script><script type=\"text/javascript\">if (window.MathJax) {MathJax.Hub.Config({SVG: {font: \"STIX-Web\"}});}</script>                <script type=\"text/javascript\">window.PlotlyConfig = {MathJaxConfig: 'local'};</script>\n",
              "        <script src=\"https://cdn.plot.ly/plotly-2.8.3.min.js\"></script>                <div id=\"49c62166-7853-48a1-82e9-bb880a733012\" class=\"plotly-graph-div\" style=\"height:525px; width:100%;\"></div>            <script type=\"text/javascript\">                                    window.PLOTLYENV=window.PLOTLYENV || {};                                    if (document.getElementById(\"49c62166-7853-48a1-82e9-bb880a733012\")) {                    Plotly.newPlot(                        \"49c62166-7853-48a1-82e9-bb880a733012\",                        [{\"alignmentgroup\":\"True\",\"bingroup\":\"x\",\"hovertemplate\":\"champion=%{x}<br>count=%{y}<extra></extra>\",\"legendgroup\":\"\",\"marker\":{\"color\":\"#636efa\",\"pattern\":{\"shape\":\"\"}},\"name\":\"\",\"offsetgroup\":\"\",\"orientation\":\"v\",\"showlegend\":false,\"x\":[\"Zoe\",\"Sylas\",\"Irelia\",\"Galio\",\"Zed\",\"Sylas\",\"Ryze\",\"Ryze\",\"Lissandra\",\"Irelia\",\"Talon\",\"Leblanc\",\"Syndra\",\"Irelia\",\"Yasuo\",\"Vex\",\"Katarina\",\"Leblanc\",\"TwistedFate\",\"Corki\",\"Leblanc\",\"Sett\",\"TwistedFate\",\"Syndra\",\"Vex\",\"Jayce\",\"Kassadin\",\"Sylas\",\"Vex\",\"Yasuo\",\"Corki\",\"Orianna\",\"Viktor\",\"Corki\",\"Qiyana\",\"TwistedFate\",\"TwistedFate\",\"Sylas\",\"Viktor\",\"Akali\",\"Orianna\",\"Zoe\",\"Viktor\",\"Ryze\",\"Akali\",\"Syndra\",\"Akali\",\"Corki\",\"Ryze\",\"Syndra\",\"Yasuo\",\"TwistedFate\",\"Ryze\",\"Syndra\",\"Zoe\",\"Lissandra\",\"TwistedFate\",\"Yone\",\"Syndra\",\"Akali\",\"TwistedFate\",\"Viktor\",\"Gragas\",\"Vex\",\"Zoe\",\"Vex\",\"Galio\",\"Yone\",\"Akali\",\"Qiyana\",\"Syndra\",\"Corki\",\"Qiyana\",\"Syndra\",\"Syndra\",\"Kassadin\",\"Azir\",\"Leblanc\",\"Graves\",\"Orianna\",\"Zed\",\"Vex\",\"Zoe\",\"Zilean\",\"Syndra\",\"Lucian\",\"TwistedFate\",\"Syndra\",\"Tryndamere\",\"Vex\",\"Yasuo\",\"Leblanc\",\"Viktor\",\"Leblanc\",\"Galio\",\"Fizz\",\"Galio\",\"Syndra\",\"Viktor\",\"Leblanc\",\"Corki\",\"Kassadin\",\"Viktor\",\"Sylas\",\"Vex\",\"Ryze\",\"Katarina\",\"Akali\",\"Yone\",\"Leblanc\",\"Qiyana\",\"Galio\",\"Zed\",\"Qiyana\",\"Syndra\",\"Galio\",\"Zoe\",\"Vex\",\"Ryze\",\"Leblanc\",\"Yasuo\",\"Viktor\",\"TwistedFate\",\"Viktor\",\"Yone\",\"Sylas\",\"Lissandra\",\"Orianna\",\"Ryze\",\"Galio\",\"Sylas\",\"Sylas\",\"Katarina\",\"Taliyah\",\"Aatrox\",\"Gangplank\",\"Yone\",\"Galio\",\"Viktor\",\"Tryndamere\",\"Ryze\",\"Akshan\",\"Leblanc\",\"Irelia\",\"Corki\",\"Cassiopeia\",\"Yone\",\"Yone\",\"Ryze\",\"Akali\",\"Zoe\",\"Zed\",\"Leblanc\",\"Vex\",\"Corki\",\"Viktor\",\"Qiyana\",\"Kaisa\",\"Yasuo\",\"Vex\",\"Sylas\",\"Renekton\",\"TwistedFate\",\"Sylas\",\"Zoe\",\"Vex\",\"Leblanc\",\"Yone\",\"Ryze\",\"Orianna\",\"Viktor\",\"Vex\",\"Yone\",\"Akali\",\"Ryze\",\"Syndra\",\"Orianna\",\"Syndra\",\"Zed\",\"Kassadin\",\"Akshan\",\"Zoe\",\"Akali\",\"Viktor\",\"Tryndamere\",\"TwistedFate\",\"Yone\",\"Akshan\",\"Akali\",\"Sylas\",\"Vex\",\"Akshan\",\"Garen\",\"Yasuo\",\"Akali\",\"TwistedFate\",\"Akali\",\"Sylas\",\"Zoe\",\"Lissandra\",\"Sylas\",\"Zoe\",\"Yone\",\"Leblanc\",\"Nunu\",\"Akshan\",\"Zoe\",\"Sylas\",\"Syndra\",\"Sett\",\"Sylas\",\"Akali\",\"Akali\",\"Karma\",\"Zoe\",\"Yone\",\"Yasuo\",\"Renekton\",\"Syndra\",\"Ryze\",\"Sylas\",\"Akali\",\"Vex\",\"Akshan\",\"Yasuo\",\"Sylas\",\"Syndra\",\"Ahri\",\"Viktor\",\"Leblanc\",\"Viktor\",\"Viktor\",\"TwistedFate\",\"TwistedFate\",\"Lissandra\",\"Corki\",\"Orianna\",\"Yasuo\",\"Syndra\",\"Vex\",\"Viktor\",\"Akali\",\"Leblanc\",\"Jayce\",\"Yasuo\",\"TwistedFate\",\"Irelia\",\"Vladimir\",\"Sylas\",\"Talon\",\"Syndra\",\"Galio\",\"Yone\",\"Corki\",\"Zoe\",\"Xerath\",\"Yone\",\"Syndra\",\"Yasuo\",\"Graves\",\"Ryze\",\"Corki\",\"Zoe\",\"Yasuo\",\"Corki\",\"Viktor\",\"Vex\",\"Sylas\",\"Yone\",\"Leblanc\",\"Vex\",\"Ryze\",\"Orianna\",\"Leblanc\",\"Galio\",\"Ryze\",\"Neeko\",\"Nunu\",\"Vex\",\"TwistedFate\",\"TwistedFate\",\"Ryze\",\"Leblanc\",\"Viktor\",\"Zoe\",\"Vex\",\"Viktor\",\"Yone\",\"Galio\",\"Yasuo\",\"Orianna\",\"Viktor\",\"Qiyana\",\"Qiyana\",\"Syndra\",\"Yone\",\"Zoe\",\"Yone\",\"Leblanc\",\"Katarina\",\"Talon\",\"Galio\",\"Ryze\",\"Tryndamere\",\"Viktor\",\"Jax\",\"Sylas\",\"Akali\",\"Sylas\",\"Qiyana\",\"Sylas\",\"Yone\",\"Leblanc\",\"Tryndamere\",\"Qiyana\",\"Yone\",\"Yone\",\"TwistedFate\",\"Yone\",\"Lissandra\",\"Qiyana\",\"Akali\",\"Viktor\",\"Yone\",\"Sylas\",\"Talon\",\"Ekko\",\"Irelia\",\"Viktor\",\"Kassadin\",\"Vex\",\"Yasuo\",\"TwistedFate\",\"Qiyana\",\"Leblanc\",\"Irelia\",\"TwistedFate\",\"Vex\",\"Viktor\",\"TwistedFate\",\"Akshan\",\"TwistedFate\",\"Syndra\",\"Anivia\",\"Pantheon\",\"TwistedFate\",\"Yone\",\"Syndra\",\"Syndra\",\"Zoe\",\"Kassadin\",\"Zoe\",\"Zoe\",\"Yone\",\"Qiyana\",\"Irelia\",\"Taliyah\",\"Akali\",\"Yone\",\"Sylas\",\"Karthus\",\"TwistedFate\",\"Irelia\",\"Leblanc\",\"Ekko\",\"Qiyana\",\"Irelia\",\"Yone\",\"Akali\",\"Akali\",\"Tryndamere\",\"Sylas\",\"Vex\",\"TwistedFate\",\"Akali\",\"Leblanc\",\"Sylas\",\"Corki\",\"Viktor\",\"Lissandra\",\"Yasuo\",\"Anivia\",\"Viktor\",\"Vex\",\"Corki\",\"Taliyah\",\"Leblanc\",\"Ryze\",\"Renekton\",\"Akali\",\"Leblanc\",\"Ryze\",\"Akali\",\"Viktor\",\"Kassadin\",\"Ryze\",\"Akshan\",\"Viktor\",\"TwistedFate\",\"Akali\",\"Qiyana\",\"Leblanc\",\"Sylas\",\"Akali\",\"Zed\",\"Sylas\",\"Corki\",\"Karma\",\"Akshan\",\"Nunu\",\"Vex\",\"TwistedFate\",\"TwistedFate\",\"Galio\",\"Yone\",\"Viktor\",\"Leblanc\",\"Vex\",\"TwistedFate\",\"Akali\",\"Yone\",\"Yone\",\"Syndra\",\"Yone\",\"Viktor\",\"Zoe\",\"Jayce\",\"Leblanc\",\"Leblanc\",\"Akali\",\"Ryze\",\"Sylas\",\"Viktor\",\"Irelia\",\"Leblanc\",\"Zed\",\"Katarina\",\"Zoe\",\"Karma\",\"Syndra\",\"Malzahar\",\"Kassadin\",\"Akali\",\"Viktor\",\"Vex\",\"Katarina\",\"Qiyana\",\"Yone\",\"Orianna\",\"Leblanc\",\"Akali\",\"Ryze\",\"Zoe\",\"Leblanc\",\"Zoe\",\"TwistedFate\",\"Orianna\",\"Nunu\",\"Viktor\",\"Akshan\",\"Leblanc\",\"Zed\",\"Akshan\",\"Leblanc\",\"Akshan\",\"Zoe\",\"Vex\",\"Xerath\",\"Viktor\",\"Sylas\",\"Zoe\",\"Sylas\",\"Renekton\",\"Zoe\",\"Syndra\",\"Viktor\",\"Yone\",\"Yone\",\"Leblanc\",\"Leblanc\",\"Yasuo\",\"Vex\",\"Yone\",\"Vex\",\"Viktor\",\"Syndra\",\"Taliyah\",\"Vex\",\"Zoe\",\"Qiyana\",\"Sylas\",\"Leblanc\",\"Yone\",\"Sylas\",\"Galio\",\"Corki\",\"Viktor\",\"Yasuo\",\"Akshan\",\"Viktor\",\"Viktor\",\"Corki\",\"Vex\",\"Vex\",\"Viktor\",\"Syndra\",\"Qiyana\",\"Yone\",\"Galio\",\"Galio\",\"Yasuo\",\"Akshan\",\"Lissandra\",\"Leblanc\",\"Syndra\",\"Akali\",\"Corki\",\"Sylas\",\"Syndra\",\"Lissandra\",\"Syndra\",\"Renekton\",\"Qiyana\",\"TwistedFate\",\"Irelia\",\"Katarina\",\"Qiyana\",\"TwistedFate\",\"Zoe\",\"Leblanc\",\"Azir\",\"Ryze\",\"Lissandra\",\"Leblanc\",\"Yasuo\",\"Corki\",\"Syndra\",\"Zed\",\"Corki\",\"Corki\",\"Corki\",\"Leblanc\",\"Sylas\",\"Yone\",\"Galio\",\"Qiyana\",\"Zoe\",\"Viktor\",\"Zoe\",\"Talon\",\"Syndra\",\"Zoe\",\"Nunu\",\"Viktor\",\"Kassadin\",\"Qiyana\",\"Sylas\",\"Galio\",\"Katarina\",\"Viktor\",\"Vex\",\"Yasuo\",\"Akali\",\"Yasuo\",\"Vex\",\"Zoe\",\"Lulu\",\"Irelia\",\"Zoe\",\"Akali\",\"Orianna\",\"Lissandra\",\"Orianna\",\"Vex\",\"TwistedFate\",\"Akshan\",\"Akali\",\"Vex\",\"Viktor\",\"Orianna\",\"TwistedFate\",\"Yone\",\"Sett\",\"Leblanc\",\"Syndra\",\"TwistedFate\",\"Ahri\",\"Vex\",\"TwistedFate\",\"Leblanc\",\"TwistedFate\",\"Syndra\",\"Ekko\",\"Katarina\",\"Ryze\",\"Sylas\",\"Vex\",\"TwistedFate\",\"Ryze\",\"TwistedFate\",\"Sion\",\"Katarina\",\"Ryze\",\"Viktor\",\"Syndra\",\"Sylas\",\"Akali\",\"Qiyana\",\"TwistedFate\",\"Yone\",\"Viktor\",\"Corki\",\"Zoe\",\"Quinn\",\"Leblanc\",\"Ryze\",\"TwistedFate\",\"Vex\",\"Viktor\",\"Syndra\",\"Akali\",\"TwistedFate\",\"Corki\",\"TwistedFate\",\"Qiyana\",\"Viktor\",\"Corki\",\"TwistedFate\",\"Vex\",\"TwistedFate\",\"Akshan\",\"Syndra\",\"Vex\",\"Viktor\",\"Katarina\",\"Veigar\",\"Yone\",\"Viktor\",\"Lissandra\",\"Sylas\",\"Yone\",\"TwistedFate\",\"Leblanc\",\"Yone\",\"Corki\",\"Qiyana\",\"Corki\",\"Viktor\",\"Viktor\",\"Syndra\",\"Leblanc\",\"Yasuo\",\"Leblanc\",\"Ryze\",\"Katarina\",\"Orianna\",\"Syndra\",\"Qiyana\",\"Yone\",\"Orianna\",\"TwistedFate\",\"Akali\",\"Xerath\",\"Sylas\",\"Qiyana\",\"Qiyana\",\"Akshan\",\"Leblanc\",\"Viktor\",\"Ryze\",\"Vex\",\"Leblanc\",\"Corki\",\"Yasuo\",\"Viktor\",\"Akali\",\"Viktor\",\"Qiyana\",\"Katarina\",\"Sylas\",\"Qiyana\",\"Yasuo\",\"Akshan\",\"Xerath\",\"Vex\",\"TwistedFate\",\"Yone\",\"Vex\",\"LeeSin\",\"Galio\",\"Zoe\",\"Kassadin\",\"Ryze\",\"Orianna\",\"Yone\",\"Vex\",\"Sylas\",\"Jayce\",\"Syndra\",\"Katarina\",\"Qiyana\",\"Viktor\",\"TwistedFate\",\"Renekton\",\"Leblanc\",\"Leblanc\",\"Akali\",\"Malphite\",\"Kassadin\",\"TwistedFate\",\"Sylas\",\"Galio\",\"TwistedFate\",\"Sylas\",\"Orianna\",\"Syndra\",\"Tryndamere\",\"TwistedFate\",\"Viego\",\"Viktor\",\"Syndra\",\"Katarina\",\"Vayne\",\"Viktor\",\"Vex\",\"Akshan\",\"Corki\",\"Leblanc\",\"Syndra\",\"Galio\",\"Corki\",\"Yone\",\"Viktor\",\"Sylas\",\"Zed\",\"Sylas\",\"Viktor\",\"Sylas\",\"Vex\",\"Akshan\",\"Lissandra\",\"Yasuo\",\"Corki\",\"Viktor\",\"Galio\",\"Katarina\",\"Katarina\",\"Leblanc\",\"Viktor\",\"Akshan\",\"Ryze\",\"Corki\",\"Nunu\",\"Nunu\",\"Yone\",\"Viktor\",\"Vex\",\"Ryze\",\"Sylas\",\"Corki\",\"Qiyana\",\"Leblanc\",\"Corki\",\"Zoe\",\"Leblanc\",\"Galio\",\"Ryze\",\"Viktor\",\"Leblanc\",\"TwistedFate\",\"Sylas\",\"Akshan\",\"LeeSin\",\"Akali\",\"TwistedFate\",\"TwistedFate\",\"Xerath\",\"Sylas\",\"Vex\",\"Zed\",\"Corki\",\"Leblanc\",\"Vex\",\"Qiyana\",\"Yone\",\"Yone\",\"Leblanc\",\"Viktor\",\"Ryze\",\"Ryze\",\"Corki\",\"Syndra\",\"Zoe\",\"Viktor\",\"Irelia\",\"Viktor\",\"Ryze\",\"TwistedFate\",\"Leblanc\",\"Graves\",\"Zoe\",\"Syndra\",\"Viktor\",\"Syndra\",\"Sylas\",\"Akshan\",\"Yone\",\"Viktor\",\"Orianna\",\"Irelia\",\"Zoe\",\"Viktor\",\"Leblanc\",\"Akali\",\"Yone\",\"Yone\",\"Akali\",\"Leblanc\",\"Syndra\",\"Syndra\",\"Viktor\",\"Vex\",\"Leblanc\",\"Ryze\",\"Akali\",\"Zoe\",\"Corki\",\"Leblanc\",\"Leblanc\",\"Zed\",\"Katarina\",\"Sylas\",\"Viktor\",\"Syndra\",\"Vex\",\"Zoe\",\"Syndra\",\"Zoe\",\"Ahri\",\"Cassiopeia\",\"Galio\",\"Veigar\",\"Ryze\",\"Orianna\",\"Vex\",\"Vex\",\"Viktor\",\"Leblanc\",\"Vex\",\"Zoe\",\"Galio\",\"Yone\",\"TwistedFate\",\"Sylas\",\"Orianna\",\"Yone\",\"Viktor\",\"Vex\",\"Vex\",\"TwistedFate\",\"Zoe\",\"Yasuo\",\"Leblanc\",\"Leblanc\",\"Sylas\",\"Zoe\",\"Irelia\",\"Kassadin\",\"Qiyana\",\"Viktor\",\"Yone\",\"Vex\",\"Zoe\",\"Ryze\",\"Viktor\",\"Qiyana\",\"Akali\",\"Qiyana\",\"Leblanc\",\"Aatrox\",\"Xerath\",\"Lucian\",\"Orianna\",\"Zoe\",\"Qiyana\",\"Zoe\",\"Leblanc\",\"Leblanc\",\"Corki\",\"Vex\",\"Leblanc\",\"Ryze\",\"Sylas\",\"Sylas\",\"Corki\",\"Viktor\",\"Xerath\",\"Leblanc\",\"Akali\",\"Yone\",\"Corki\",\"Galio\",\"Galio\",\"TwistedFate\",\"Yone\",\"Syndra\",\"Leblanc\",\"Heimerdinger\",\"TwistedFate\",\"Karma\",\"Viktor\",\"Akali\",\"Viktor\",\"Akali\",\"Nocturne\",\"Orianna\",\"Akali\",\"Viktor\",\"Nocturne\",\"Yone\",\"Zoe\",\"Orianna\",\"Zoe\",\"Orianna\",\"Zoe\",\"Orianna\",\"Qiyana\",\"Zed\",\"Yone\",\"TwistedFate\",\"Orianna\",\"Viktor\",\"Qiyana\",\"Katarina\",\"Kassadin\",\"Akali\",\"Zoe\",\"Akali\",\"TwistedFate\",\"Corki\",\"Zed\",\"Jayce\",\"Yone\",\"Vex\",\"Vayne\",\"Jayce\",\"Orianna\",\"Orianna\",\"Corki\",\"Akali\",\"TwistedFate\",\"Viktor\",\"Yasuo\",\"Syndra\",\"Yone\",\"Irelia\",\"Viktor\",\"Galio\",\"Qiyana\",\"Diana\",\"Vex\",\"Zoe\",\"Renekton\",\"Aatrox\",\"Corki\",\"Leblanc\",\"Diana\",\"Vex\",\"Leblanc\",\"Lucian\",\"Leblanc\",\"Syndra\",\"Karma\",\"Syndra\",\"Leblanc\",\"Qiyana\",\"Ryze\",\"Sylas\",\"Ryze\",\"Vex\",\"Akali\",\"Corki\",\"Viktor\",\"Ryze\",\"TwistedFate\",\"Leblanc\",\"Yone\",\"Viktor\",\"Ryze\",\"Yone\",\"Syndra\",\"Irelia\",\"Galio\",\"Zilean\",\"Yasuo\",\"Zoe\",\"Viktor\",\"Viktor\",\"Jayce\",\"TwistedFate\",\"Akali\",\"TwistedFate\",\"TwistedFate\",\"Syndra\",\"Akshan\",\"Syndra\",\"Leblanc\",\"Corki\",\"Akali\",\"Akali\",\"Corki\",\"Leblanc\",\"Yone\",\"Syndra\",\"Viktor\",\"Akshan\",\"Zoe\",\"Leblanc\",\"Orianna\",\"Taliyah\",\"Lissandra\",\"Irelia\",\"Ryze\",\"Akali\",\"Qiyana\",\"Galio\",\"Akali\",\"Malzahar\",\"Leblanc\",\"Akali\",\"Vex\",\"Viktor\",\"Orianna\",\"Zoe\",\"Leblanc\",\"TwistedFate\",\"Zoe\",\"Leblanc\",\"Akshan\",\"Orianna\",\"Viktor\",\"Ryze\",\"Sylas\",\"Corki\",\"Ryze\",\"Zoe\",\"Zoe\",\"Jayce\",\"Akali\",\"Leblanc\",\"Viktor\",\"Viktor\",\"Zed\",\"Cassiopeia\",\"Yone\",\"Akali\",\"Leblanc\",\"Vex\",\"Yone\",\"Corki\",\"Viktor\",\"Yone\",\"Leblanc\",\"Ryze\",\"Ekko\",\"Viktor\",\"Graves\",\"Vex\",\"Akali\",\"Sylas\",\"TwistedFate\",\"Sett\",\"Yasuo\",\"Viktor\",\"Leblanc\",\"Orianna\",\"Leblanc\",\"Akshan\",\"TwistedFate\",\"TwistedFate\",\"Lucian\",\"Qiyana\",\"TwistedFate\",\"Corki\",\"Akali\",\"Vex\",\"Sylas\",\"Vex\",\"Corki\",\"Viktor\",\"Anivia\",\"Viktor\",\"Galio\",\"Vayne\",\"Lissandra\",\"Zoe\",\"TwistedFate\",\"Zoe\",\"Corki\",\"Orianna\",\"Yone\",\"Vex\",\"Vex\",\"Xerath\",\"Zoe\",\"Syndra\",\"TwistedFate\",\"Garen\",\"Akshan\",\"Qiyana\",\"Akali\",\"Akali\",\"Yone\",\"Nocturne\",\"Ryze\",\"Lissandra\",\"Corki\",\"Viktor\",\"Jayce\",\"Jayce\",\"Vex\",\"Leblanc\",\"TwistedFate\",\"Sylas\",\"Orianna\",\"Akali\",\"Tryndamere\",\"Vex\"],\"xaxis\":\"x\",\"yaxis\":\"y\",\"type\":\"histogram\"}],                        {\"template\":{\"data\":{\"bar\":[{\"error_x\":{\"color\":\"#2a3f5f\"},\"error_y\":{\"color\":\"#2a3f5f\"},\"marker\":{\"line\":{\"color\":\"#E5ECF6\",\"width\":0.5},\"pattern\":{\"fillmode\":\"overlay\",\"size\":10,\"solidity\":0.2}},\"type\":\"bar\"}],\"barpolar\":[{\"marker\":{\"line\":{\"color\":\"#E5ECF6\",\"width\":0.5},\"pattern\":{\"fillmode\":\"overlay\",\"size\":10,\"solidity\":0.2}},\"type\":\"barpolar\"}],\"carpet\":[{\"aaxis\":{\"endlinecolor\":\"#2a3f5f\",\"gridcolor\":\"white\",\"linecolor\":\"white\",\"minorgridcolor\":\"white\",\"startlinecolor\":\"#2a3f5f\"},\"baxis\":{\"endlinecolor\":\"#2a3f5f\",\"gridcolor\":\"white\",\"linecolor\":\"white\",\"minorgridcolor\":\"white\",\"startlinecolor\":\"#2a3f5f\"},\"type\":\"carpet\"}],\"choropleth\":[{\"colorbar\":{\"outlinewidth\":0,\"ticks\":\"\"},\"type\":\"choropleth\"}],\"contour\":[{\"colorbar\":{\"outlinewidth\":0,\"ticks\":\"\"},\"colorscale\":[[0.0,\"#0d0887\"],[0.1111111111111111,\"#46039f\"],[0.2222222222222222,\"#7201a8\"],[0.3333333333333333,\"#9c179e\"],[0.4444444444444444,\"#bd3786\"],[0.5555555555555556,\"#d8576b\"],[0.6666666666666666,\"#ed7953\"],[0.7777777777777778,\"#fb9f3a\"],[0.8888888888888888,\"#fdca26\"],[1.0,\"#f0f921\"]],\"type\":\"contour\"}],\"contourcarpet\":[{\"colorbar\":{\"outlinewidth\":0,\"ticks\":\"\"},\"type\":\"contourcarpet\"}],\"heatmap\":[{\"colorbar\":{\"outlinewidth\":0,\"ticks\":\"\"},\"colorscale\":[[0.0,\"#0d0887\"],[0.1111111111111111,\"#46039f\"],[0.2222222222222222,\"#7201a8\"],[0.3333333333333333,\"#9c179e\"],[0.4444444444444444,\"#bd3786\"],[0.5555555555555556,\"#d8576b\"],[0.6666666666666666,\"#ed7953\"],[0.7777777777777778,\"#fb9f3a\"],[0.8888888888888888,\"#fdca26\"],[1.0,\"#f0f921\"]],\"type\":\"heatmap\"}],\"heatmapgl\":[{\"colorbar\":{\"outlinewidth\":0,\"ticks\":\"\"},\"colorscale\":[[0.0,\"#0d0887\"],[0.1111111111111111,\"#46039f\"],[0.2222222222222222,\"#7201a8\"],[0.3333333333333333,\"#9c179e\"],[0.4444444444444444,\"#bd3786\"],[0.5555555555555556,\"#d8576b\"],[0.6666666666666666,\"#ed7953\"],[0.7777777777777778,\"#fb9f3a\"],[0.8888888888888888,\"#fdca26\"],[1.0,\"#f0f921\"]],\"type\":\"heatmapgl\"}],\"histogram\":[{\"marker\":{\"pattern\":{\"fillmode\":\"overlay\",\"size\":10,\"solidity\":0.2}},\"type\":\"histogram\"}],\"histogram2d\":[{\"colorbar\":{\"outlinewidth\":0,\"ticks\":\"\"},\"colorscale\":[[0.0,\"#0d0887\"],[0.1111111111111111,\"#46039f\"],[0.2222222222222222,\"#7201a8\"],[0.3333333333333333,\"#9c179e\"],[0.4444444444444444,\"#bd3786\"],[0.5555555555555556,\"#d8576b\"],[0.6666666666666666,\"#ed7953\"],[0.7777777777777778,\"#fb9f3a\"],[0.8888888888888888,\"#fdca26\"],[1.0,\"#f0f921\"]],\"type\":\"histogram2d\"}],\"histogram2dcontour\":[{\"colorbar\":{\"outlinewidth\":0,\"ticks\":\"\"},\"colorscale\":[[0.0,\"#0d0887\"],[0.1111111111111111,\"#46039f\"],[0.2222222222222222,\"#7201a8\"],[0.3333333333333333,\"#9c179e\"],[0.4444444444444444,\"#bd3786\"],[0.5555555555555556,\"#d8576b\"],[0.6666666666666666,\"#ed7953\"],[0.7777777777777778,\"#fb9f3a\"],[0.8888888888888888,\"#fdca26\"],[1.0,\"#f0f921\"]],\"type\":\"histogram2dcontour\"}],\"mesh3d\":[{\"colorbar\":{\"outlinewidth\":0,\"ticks\":\"\"},\"type\":\"mesh3d\"}],\"parcoords\":[{\"line\":{\"colorbar\":{\"outlinewidth\":0,\"ticks\":\"\"}},\"type\":\"parcoords\"}],\"pie\":[{\"automargin\":true,\"type\":\"pie\"}],\"scatter\":[{\"marker\":{\"colorbar\":{\"outlinewidth\":0,\"ticks\":\"\"}},\"type\":\"scatter\"}],\"scatter3d\":[{\"line\":{\"colorbar\":{\"outlinewidth\":0,\"ticks\":\"\"}},\"marker\":{\"colorbar\":{\"outlinewidth\":0,\"ticks\":\"\"}},\"type\":\"scatter3d\"}],\"scattercarpet\":[{\"marker\":{\"colorbar\":{\"outlinewidth\":0,\"ticks\":\"\"}},\"type\":\"scattercarpet\"}],\"scattergeo\":[{\"marker\":{\"colorbar\":{\"outlinewidth\":0,\"ticks\":\"\"}},\"type\":\"scattergeo\"}],\"scattergl\":[{\"marker\":{\"colorbar\":{\"outlinewidth\":0,\"ticks\":\"\"}},\"type\":\"scattergl\"}],\"scattermapbox\":[{\"marker\":{\"colorbar\":{\"outlinewidth\":0,\"ticks\":\"\"}},\"type\":\"scattermapbox\"}],\"scatterpolar\":[{\"marker\":{\"colorbar\":{\"outlinewidth\":0,\"ticks\":\"\"}},\"type\":\"scatterpolar\"}],\"scatterpolargl\":[{\"marker\":{\"colorbar\":{\"outlinewidth\":0,\"ticks\":\"\"}},\"type\":\"scatterpolargl\"}],\"scatterternary\":[{\"marker\":{\"colorbar\":{\"outlinewidth\":0,\"ticks\":\"\"}},\"type\":\"scatterternary\"}],\"surface\":[{\"colorbar\":{\"outlinewidth\":0,\"ticks\":\"\"},\"colorscale\":[[0.0,\"#0d0887\"],[0.1111111111111111,\"#46039f\"],[0.2222222222222222,\"#7201a8\"],[0.3333333333333333,\"#9c179e\"],[0.4444444444444444,\"#bd3786\"],[0.5555555555555556,\"#d8576b\"],[0.6666666666666666,\"#ed7953\"],[0.7777777777777778,\"#fb9f3a\"],[0.8888888888888888,\"#fdca26\"],[1.0,\"#f0f921\"]],\"type\":\"surface\"}],\"table\":[{\"cells\":{\"fill\":{\"color\":\"#EBF0F8\"},\"line\":{\"color\":\"white\"}},\"header\":{\"fill\":{\"color\":\"#C8D4E3\"},\"line\":{\"color\":\"white\"}},\"type\":\"table\"}]},\"layout\":{\"annotationdefaults\":{\"arrowcolor\":\"#2a3f5f\",\"arrowhead\":0,\"arrowwidth\":1},\"autotypenumbers\":\"strict\",\"coloraxis\":{\"colorbar\":{\"outlinewidth\":0,\"ticks\":\"\"}},\"colorscale\":{\"diverging\":[[0,\"#8e0152\"],[0.1,\"#c51b7d\"],[0.2,\"#de77ae\"],[0.3,\"#f1b6da\"],[0.4,\"#fde0ef\"],[0.5,\"#f7f7f7\"],[0.6,\"#e6f5d0\"],[0.7,\"#b8e186\"],[0.8,\"#7fbc41\"],[0.9,\"#4d9221\"],[1,\"#276419\"]],\"sequential\":[[0.0,\"#0d0887\"],[0.1111111111111111,\"#46039f\"],[0.2222222222222222,\"#7201a8\"],[0.3333333333333333,\"#9c179e\"],[0.4444444444444444,\"#bd3786\"],[0.5555555555555556,\"#d8576b\"],[0.6666666666666666,\"#ed7953\"],[0.7777777777777778,\"#fb9f3a\"],[0.8888888888888888,\"#fdca26\"],[1.0,\"#f0f921\"]],\"sequentialminus\":[[0.0,\"#0d0887\"],[0.1111111111111111,\"#46039f\"],[0.2222222222222222,\"#7201a8\"],[0.3333333333333333,\"#9c179e\"],[0.4444444444444444,\"#bd3786\"],[0.5555555555555556,\"#d8576b\"],[0.6666666666666666,\"#ed7953\"],[0.7777777777777778,\"#fb9f3a\"],[0.8888888888888888,\"#fdca26\"],[1.0,\"#f0f921\"]]},\"colorway\":[\"#636efa\",\"#EF553B\",\"#00cc96\",\"#ab63fa\",\"#FFA15A\",\"#19d3f3\",\"#FF6692\",\"#B6E880\",\"#FF97FF\",\"#FECB52\"],\"font\":{\"color\":\"#2a3f5f\"},\"geo\":{\"bgcolor\":\"white\",\"lakecolor\":\"white\",\"landcolor\":\"#E5ECF6\",\"showlakes\":true,\"showland\":true,\"subunitcolor\":\"white\"},\"hoverlabel\":{\"align\":\"left\"},\"hovermode\":\"closest\",\"mapbox\":{\"style\":\"light\"},\"paper_bgcolor\":\"white\",\"plot_bgcolor\":\"#E5ECF6\",\"polar\":{\"angularaxis\":{\"gridcolor\":\"white\",\"linecolor\":\"white\",\"ticks\":\"\"},\"bgcolor\":\"#E5ECF6\",\"radialaxis\":{\"gridcolor\":\"white\",\"linecolor\":\"white\",\"ticks\":\"\"}},\"scene\":{\"xaxis\":{\"backgroundcolor\":\"#E5ECF6\",\"gridcolor\":\"white\",\"gridwidth\":2,\"linecolor\":\"white\",\"showbackground\":true,\"ticks\":\"\",\"zerolinecolor\":\"white\"},\"yaxis\":{\"backgroundcolor\":\"#E5ECF6\",\"gridcolor\":\"white\",\"gridwidth\":2,\"linecolor\":\"white\",\"showbackground\":true,\"ticks\":\"\",\"zerolinecolor\":\"white\"},\"zaxis\":{\"backgroundcolor\":\"#E5ECF6\",\"gridcolor\":\"white\",\"gridwidth\":2,\"linecolor\":\"white\",\"showbackground\":true,\"ticks\":\"\",\"zerolinecolor\":\"white\"}},\"shapedefaults\":{\"line\":{\"color\":\"#2a3f5f\"}},\"ternary\":{\"aaxis\":{\"gridcolor\":\"white\",\"linecolor\":\"white\",\"ticks\":\"\"},\"baxis\":{\"gridcolor\":\"white\",\"linecolor\":\"white\",\"ticks\":\"\"},\"bgcolor\":\"#E5ECF6\",\"caxis\":{\"gridcolor\":\"white\",\"linecolor\":\"white\",\"ticks\":\"\"}},\"title\":{\"x\":0.05},\"xaxis\":{\"automargin\":true,\"gridcolor\":\"white\",\"linecolor\":\"white\",\"ticks\":\"\",\"title\":{\"standoff\":15},\"zerolinecolor\":\"white\",\"zerolinewidth\":2},\"yaxis\":{\"automargin\":true,\"gridcolor\":\"white\",\"linecolor\":\"white\",\"ticks\":\"\",\"title\":{\"standoff\":15},\"zerolinecolor\":\"white\",\"zerolinewidth\":2}}},\"xaxis\":{\"anchor\":\"y\",\"domain\":[0.0,1.0],\"title\":{\"text\":\"champion\"},\"categoryorder\":\"total descending\"},\"yaxis\":{\"anchor\":\"x\",\"domain\":[0.0,1.0],\"title\":{\"text\":\"count\"}},\"legend\":{\"tracegroupgap\":0},\"title\":{\"text\":\"\\ubbf8\\ub4dc \\ucc54\\ud53c\\uc5b8 \\ubd84\\ud3ec\"},\"barmode\":\"relative\"},                        {\"responsive\": true}                    ).then(function(){\n",
              "                            \n",
              "var gd = document.getElementById('49c62166-7853-48a1-82e9-bb880a733012');\n",
              "var x = new MutationObserver(function (mutations, observer) {{\n",
              "        var display = window.getComputedStyle(gd).display;\n",
              "        if (!display || display === 'none') {{\n",
              "            console.log([gd, 'removed!']);\n",
              "            Plotly.purge(gd);\n",
              "            observer.disconnect();\n",
              "        }}\n",
              "}});\n",
              "\n",
              "// Listen for the removal of the full notebook cells\n",
              "var notebookContainer = gd.closest('#notebook-container');\n",
              "if (notebookContainer) {{\n",
              "    x.observe(notebookContainer, {childList: true});\n",
              "}}\n",
              "\n",
              "// Listen for the clearing of the current output cell\n",
              "var outputEl = gd.closest('.output');\n",
              "if (outputEl) {{\n",
              "    x.observe(outputEl, {childList: true});\n",
              "}}\n",
              "\n",
              "                        })                };                            </script>        </div>\n",
              "</body>\n",
              "</html>"
            ]
          },
          "metadata": {}
        }
      ]
    },
    {
      "cell_type": "code",
      "source": [
        "px.histogram(adc_data, x='champion',\n",
        "             title='원딜 챔피언 분포').update_xaxes(categoryorder='total descending')"
      ],
      "metadata": {
        "colab": {
          "base_uri": "https://localhost:8080/",
          "height": 542
        },
        "id": "B76Vjkml_sfN",
        "outputId": "60f071b9-1e2e-416e-c56e-b8a6a099e24d"
      },
      "execution_count": null,
      "outputs": [
        {
          "output_type": "display_data",
          "data": {
            "text/html": [
              "<html>\n",
              "<head><meta charset=\"utf-8\" /></head>\n",
              "<body>\n",
              "    <div>            <script src=\"https://cdnjs.cloudflare.com/ajax/libs/mathjax/2.7.5/MathJax.js?config=TeX-AMS-MML_SVG\"></script><script type=\"text/javascript\">if (window.MathJax) {MathJax.Hub.Config({SVG: {font: \"STIX-Web\"}});}</script>                <script type=\"text/javascript\">window.PlotlyConfig = {MathJaxConfig: 'local'};</script>\n",
              "        <script src=\"https://cdn.plot.ly/plotly-2.8.3.min.js\"></script>                <div id=\"c4588d16-6cd7-4f33-9267-754b1564f11d\" class=\"plotly-graph-div\" style=\"height:525px; width:100%;\"></div>            <script type=\"text/javascript\">                                    window.PLOTLYENV=window.PLOTLYENV || {};                                    if (document.getElementById(\"c4588d16-6cd7-4f33-9267-754b1564f11d\")) {                    Plotly.newPlot(                        \"c4588d16-6cd7-4f33-9267-754b1564f11d\",                        [{\"alignmentgroup\":\"True\",\"bingroup\":\"x\",\"hovertemplate\":\"champion=%{x}<br>count=%{y}<extra></extra>\",\"legendgroup\":\"\",\"marker\":{\"color\":\"#636efa\",\"pattern\":{\"shape\":\"\"}},\"name\":\"\",\"offsetgroup\":\"\",\"orientation\":\"v\",\"showlegend\":false,\"x\":[\"Xayah\",\"Jhin\",\"Jhin\",\"Draven\",\"Jinx\",\"Kaisa\",\"Kaisa\",\"Jhin\",\"Jhin\",\"Jhin\",\"MissFortune\",\"Jinx\",\"Ziggs\",\"Draven\",\"Aphelios\",\"Jinx\",\"Caitlyn\",\"Jinx\",\"Jhin\",\"Jhin\",\"Caitlyn\",\"Jhin\",\"Ezreal\",\"Ezreal\",\"Xerath\",\"Ziggs\",\"Jhin\",\"Jhin\",\"Caitlyn\",\"Jhin\",\"Jhin\",\"Samira\",\"Jinx\",\"Ezreal\",\"Ziggs\",\"Ziggs\",\"Ezreal\",\"Jhin\",\"Jhin\",\"Jhin\",\"Aphelios\",\"Vayne\",\"Ezreal\",\"Jinx\",\"Jhin\",\"Draven\",\"Jhin\",\"Jhin\",\"Jhin\",\"Caitlyn\",\"Samira\",\"Caitlyn\",\"Jinx\",\"Kindred\",\"Jinx\",\"Jhin\",\"Jhin\",\"Jhin\",\"Aphelios\",\"MissFortune\",\"MissFortune\",\"Ziggs\",\"Jhin\",\"Yasuo\",\"Viktor\",\"Jhin\",\"Jhin\",\"Yasuo\",\"Aphelios\",\"Xayah\",\"Lucian\",\"Jhin\",\"Vayne\",\"Caitlyn\",\"Jhin\",\"Lucian\",\"Aphelios\",\"Lucian\",\"Caitlyn\",\"Jinx\",\"Jhin\",\"Xerath\",\"Ezreal\",\"Kaisa\",\"Jhin\",\"Vayne\",\"Caitlyn\",\"Caitlyn\",\"Kaisa\",\"Caitlyn\",\"Kaisa\",\"MissFortune\",\"MissFortune\",\"Jinx\",\"Caitlyn\",\"Jinx\",\"Jinx\",\"Kaisa\",\"Jhin\",\"Draven\",\"Kaisa\",\"Ezreal\",\"Caitlyn\",\"Aphelios\",\"Jhin\",\"Aphelios\",\"Ezreal\",\"Caitlyn\",\"Jinx\",\"Jhin\",\"Jinx\",\"Caitlyn\",\"Jhin\",\"Xayah\",\"Kindred\",\"Aphelios\",\"Aphelios\",\"Aphelios\",\"Jinx\",\"Samira\",\"Vayne\",\"Samira\",\"Jhin\",\"Xayah\",\"Caitlyn\",\"Jinx\",\"Samira\",\"Kaisa\",\"Jinx\",\"Jhin\",\"Yasuo\",\"Cassiopeia\",\"Jhin\",\"Jhin\",\"Ezreal\",\"Ezreal\",\"Draven\",\"Lucian\",\"Caitlyn\",\"Aphelios\",\"Caitlyn\",\"Aphelios\",\"Caitlyn\",\"Jinx\",\"Vayne\",\"Aphelios\",\"KogMaw\",\"Caitlyn\",\"Jhin\",\"Jhin\",\"Samira\",\"Aphelios\",\"Jhin\",\"Jhin\",\"MissFortune\",\"Caitlyn\",\"Caitlyn\",\"Jhin\",\"Kaisa\",\"Caitlyn\",\"Samira\",\"Cassiopeia\",\"Samira\",\"Kaisa\",\"Xayah\",\"Ziggs\",\"Xayah\",\"Jhin\",\"Aphelios\",\"Xayah\",\"Aphelios\",\"Ezreal\",\"Kaisa\",\"Kaisa\",\"Jinx\",\"Caitlyn\",\"Jinx\",\"Caitlyn\",\"Jinx\",\"Aphelios\",\"Aphelios\",\"Ziggs\",\"Ezreal\",\"Seraphine\",\"Jhin\",\"Jinx\",\"Jinx\",\"Caitlyn\",\"Ziggs\",\"MissFortune\",\"Aphelios\",\"MissFortune\",\"Kaisa\",\"Syndra\",\"Jinx\",\"Jhin\",\"Jinx\",\"Ezreal\",\"Yasuo\",\"Jhin\",\"Jhin\",\"Tryndamere\",\"Aphelios\",\"Aphelios\",\"Xayah\",\"MissFortune\",\"Kaisa\",\"Caitlyn\",\"Caitlyn\",\"Vayne\",\"Tristana\",\"Caitlyn\",\"Jinx\",\"Lucian\",\"Ezreal\",\"Yasuo\",\"Yasuo\",\"Jinx\",\"Ziggs\",\"Draven\",\"Kindred\",\"Aphelios\",\"Xayah\",\"Jhin\",\"Jhin\",\"Vayne\",\"Kaisa\",\"Aphelios\",\"Ezreal\",\"Jinx\",\"Jinx\",\"Jinx\",\"Ezreal\",\"Caitlyn\",\"Jhin\",\"Samira\",\"Kaisa\",\"Kaisa\",\"Aphelios\",\"Jhin\",\"Jhin\",\"Kaisa\",\"Jhin\",\"Ezreal\",\"Jhin\",\"KogMaw\",\"Caitlyn\",\"Ezreal\",\"Ezreal\",\"Kaisa\",\"Jhin\",\"Caitlyn\",\"Ezreal\",\"Caitlyn\",\"Jhin\",\"Jhin\",\"Jhin\",\"Kaisa\",\"Xayah\",\"Ezreal\",\"Yasuo\",\"Aphelios\",\"Samira\",\"Twitch\",\"Lucian\",\"Ziggs\",\"Yasuo\",\"Jhin\",\"Kindred\",\"Xayah\",\"KogMaw\",\"Aphelios\",\"Jhin\",\"Kaisa\",\"Xerath\",\"Jinx\",\"Kaisa\",\"Kaisa\",\"Jhin\",\"Yasuo\",\"Kaisa\",\"Jhin\",\"Caitlyn\",\"Ezreal\",\"Viktor\",\"Ezreal\",\"Caitlyn\",\"Jhin\",\"Kaisa\",\"Jhin\",\"Ezreal\",\"Ziggs\",\"Samira\",\"Jinx\",\"Jhin\",\"Jinx\",\"Jhin\",\"Caitlyn\",\"Kaisa\",\"Caitlyn\",\"Ezreal\",\"Syndra\",\"Caitlyn\",\"Aphelios\",\"Yasuo\",\"Kaisa\",\"Jhin\",\"Yasuo\",\"Caitlyn\",\"Jhin\",\"Kaisa\",\"Jinx\",\"Jinx\",\"Ziggs\",\"Vayne\",\"Samira\",\"Jhin\",\"Aphelios\",\"Samira\",\"Jhin\",\"Jhin\",\"Kaisa\",\"Jhin\",\"Samira\",\"Varus\",\"Caitlyn\",\"Aphelios\",\"Jinx\",\"Kalista\",\"Ashe\",\"Ziggs\",\"Aphelios\",\"Jhin\",\"Cassiopeia\",\"Kalista\",\"Caitlyn\",\"Ziggs\",\"Jhin\",\"MissFortune\",\"Jinx\",\"Ziggs\",\"Samira\",\"Jinx\",\"Jhin\",\"Xayah\",\"Jinx\",\"Samira\",\"Samira\",\"Kaisa\",\"Caitlyn\",\"Kaisa\",\"Jhin\",\"Samira\",\"Lucian\",\"Caitlyn\",\"Samira\",\"Caitlyn\",\"Ezreal\",\"Caitlyn\",\"Kaisa\",\"Caitlyn\",\"Jhin\",\"Jinx\",\"Aphelios\",\"Caitlyn\",\"Jhin\",\"Yasuo\",\"Caitlyn\",\"Ezreal\",\"Kaisa\",\"Aphelios\",\"Aphelios\",\"Lucian\",\"Caitlyn\",\"Xayah\",\"Caitlyn\",\"Ziggs\",\"Jhin\",\"Xayah\",\"Ashe\",\"Jhin\",\"Jhin\",\"Kaisa\",\"Jhin\",\"Ezreal\",\"Samira\",\"Jhin\",\"Caitlyn\",\"Kindred\",\"MissFortune\",\"Jhin\",\"Kindred\",\"Aphelios\",\"MissFortune\",\"Vayne\",\"Lucian\",\"Jhin\",\"Aphelios\",\"Aphelios\",\"Ezreal\",\"Kalista\",\"Samira\",\"Samira\",\"Jhin\",\"Jhin\",\"Jinx\",\"Jhin\",\"Jinx\",\"MissFortune\",\"KogMaw\",\"Lucian\",\"Syndra\",\"Caitlyn\",\"Jhin\",\"Syndra\",\"Jhin\",\"Twitch\",\"Kindred\",\"Draven\",\"KogMaw\",\"Caitlyn\",\"Caitlyn\",\"Xerath\",\"Swain\",\"Yasuo\",\"Jinx\",\"Twitch\",\"Kaisa\",\"Ezreal\",\"Lucian\",\"Yasuo\",\"Yasuo\",\"Ezreal\",\"Aphelios\",\"Samira\",\"Jinx\",\"Samira\",\"Caitlyn\",\"Caitlyn\",\"Caitlyn\",\"Caitlyn\",\"Samira\",\"Jhin\",\"Caitlyn\",\"Jhin\",\"Jhin\",\"Jhin\",\"Jhin\",\"Caitlyn\",\"Lucian\",\"Jhin\",\"Samira\",\"Twitch\",\"Aphelios\",\"Viktor\",\"Ziggs\",\"Ashe\",\"Jhin\",\"Jinx\",\"Kaisa\",\"Ezreal\",\"Jhin\",\"Caitlyn\",\"Jhin\",\"Ezreal\",\"Aphelios\",\"Kaisa\",\"Varus\",\"Caitlyn\",\"Kalista\",\"Jhin\",\"Jhin\",\"Aphelios\",\"Aphelios\",\"Jhin\",\"Caitlyn\",\"Tristana\",\"Jhin\",\"Ziggs\",\"Jhin\",\"Kaisa\",\"Jhin\",\"Aphelios\",\"Caitlyn\",\"Lucian\",\"Yasuo\",\"Caitlyn\",\"Seraphine\",\"Ezreal\",\"Samira\",\"Jinx\",\"Aphelios\",\"Ezreal\",\"Ezreal\",\"Samira\",\"Samira\",\"Aphelios\",\"Samira\",\"Aphelios\",\"Caitlyn\",\"Jhin\",\"Kaisa\",\"Jhin\",\"Caitlyn\",\"Jinx\",\"Kaisa\",\"Jhin\",\"Caitlyn\",\"Jinx\",\"Yasuo\",\"Xayah\",\"Ziggs\",\"Kaisa\",\"Jinx\",\"Lucian\",\"Kaisa\",\"Jinx\",\"Ezreal\",\"Caitlyn\",\"Xerath\",\"Caitlyn\",\"Ziggs\",\"Xayah\",\"Jinx\",\"Caitlyn\",\"Kaisa\",\"Jhin\",\"Ziggs\",\"Jinx\",\"Aphelios\",\"Aphelios\",\"Lucian\",\"Jinx\",\"Samira\",\"Xerath\",\"Caitlyn\",\"Kaisa\",\"Jhin\",\"Sivir\",\"Syndra\",\"Jhin\",\"Jhin\",\"Caitlyn\",\"Ezreal\",\"Jinx\",\"Aphelios\",\"Lucian\",\"Kaisa\",\"Caitlyn\",\"Jhin\",\"Jhin\",\"Kaisa\",\"Caitlyn\",\"Jhin\",\"Jhin\",\"Jhin\",\"Jinx\",\"Jinx\",\"Jinx\",\"Ezreal\",\"Aphelios\",\"Ezreal\",\"Ezreal\",\"Lucian\",\"Sett\",\"Aphelios\",\"Jinx\",\"Kaisa\",\"Kalista\",\"Ziggs\",\"MissFortune\",\"Kindred\",\"Kaisa\",\"Jinx\",\"Jinx\",\"Ashe\",\"Viktor\",\"Jinx\",\"Vayne\",\"Aphelios\",\"Aphelios\",\"Syndra\",\"Jhin\",\"KogMaw\",\"Jhin\",\"Aphelios\",\"Lucian\",\"Jinx\",\"Ezreal\",\"Caitlyn\",\"Jhin\",\"Lucian\",\"Samira\",\"Tristana\",\"Jinx\",\"Samira\",\"Aphelios\",\"Jhin\",\"Jinx\",\"Samira\",\"Ezreal\",\"Aphelios\",\"Caitlyn\",\"Jinx\",\"Jinx\",\"Jhin\",\"Jhin\",\"Jhin\",\"Draven\",\"Xayah\",\"Yasuo\",\"Yone\",\"Aphelios\",\"Aphelios\",\"MissFortune\",\"Ziggs\",\"Samira\",\"Ezreal\",\"Samira\",\"Aphelios\",\"Draven\",\"Jinx\",\"Xayah\",\"Karthus\",\"Caitlyn\",\"Jinx\",\"Caitlyn\",\"Caitlyn\",\"Caitlyn\",\"Aphelios\",\"Ezreal\",\"Jhin\",\"Aphelios\",\"Ezreal\",\"Ezreal\",\"Jinx\",\"Ziggs\",\"Jinx\",\"Ezreal\",\"Jhin\",\"Aphelios\",\"Twitch\",\"Xayah\",\"Jhin\",\"Jhin\",\"Jinx\",\"Draven\",\"Samira\",\"Draven\",\"Jhin\",\"Kindred\",\"Vayne\",\"Aphelios\",\"Yasuo\",\"Caitlyn\",\"Ezreal\",\"Ezreal\",\"Aphelios\",\"Samira\",\"Aphelios\",\"Kaisa\",\"Kaisa\",\"Kaisa\",\"Kaisa\",\"Aphelios\",\"Vayne\",\"Jhin\",\"Jinx\",\"Aphelios\",\"Samira\",\"Xerath\",\"Samira\",\"Jhin\",\"Jhin\",\"Jhin\",\"Heimerdinger\",\"Jhin\",\"Jinx\",\"Caitlyn\",\"Jhin\",\"Ezreal\",\"Ziggs\",\"Caitlyn\",\"Jhin\",\"Aphelios\",\"Jhin\",\"Caitlyn\",\"Jinx\",\"Kaisa\",\"Jhin\",\"Kaisa\",\"Aphelios\",\"Draven\",\"Jinx\",\"Xayah\",\"Xayah\",\"Ziggs\",\"Aphelios\",\"Caitlyn\",\"Samira\",\"Samira\",\"Jhin\",\"Caitlyn\",\"Samira\",\"Varus\",\"Yone\",\"Kaisa\",\"Vayne\",\"Ezreal\",\"Aphelios\",\"Caitlyn\",\"Caitlyn\",\"Aphelios\",\"Ziggs\",\"Aphelios\",\"Jhin\",\"Jhin\",\"Aphelios\",\"Jinx\",\"Vayne\",\"Samira\",\"Jhin\",\"Caitlyn\",\"Caitlyn\",\"Jinx\",\"Jinx\",\"Jhin\",\"Jinx\",\"Jhin\",\"Caitlyn\",\"Xayah\",\"Jhin\",\"Jhin\",\"Caitlyn\",\"Jhin\",\"Syndra\",\"Jhin\",\"Aphelios\",\"Jhin\",\"Jinx\",\"Aphelios\",\"Jhin\",\"Caitlyn\",\"Kaisa\",\"Xerath\",\"Ezreal\",\"Draven\",\"Jhin\",\"Jinx\",\"Jinx\",\"KogMaw\",\"Aphelios\",\"Aphelios\",\"MissFortune\",\"Jhin\",\"Caitlyn\",\"Samira\",\"Caitlyn\",\"Jinx\",\"Jhin\",\"Corki\",\"Xerath\",\"Yasuo\",\"Jhin\",\"Jinx\",\"Caitlyn\",\"KogMaw\",\"Aphelios\",\"Caitlyn\",\"Ezreal\",\"Ziggs\",\"Caitlyn\",\"Jhin\",\"Kaisa\",\"Ezreal\",\"Jinx\",\"Jhin\",\"Lucian\",\"Jinx\",\"Caitlyn\",\"Vayne\",\"Samira\",\"Jhin\",\"Jhin\",\"Ezreal\",\"Ashe\",\"Kalista\",\"Jhin\",\"Kaisa\",\"Caitlyn\",\"Xayah\",\"Jhin\",\"Caitlyn\",\"Jhin\",\"Caitlyn\",\"Xerath\",\"Jhin\",\"Ezreal\",\"Kaisa\",\"Jhin\",\"Jinx\",\"Aphelios\",\"Jinx\",\"Akshan\",\"Kaisa\",\"Ziggs\",\"Jinx\",\"Jinx\",\"Jinx\",\"Aphelios\",\"Jhin\",\"Kaisa\",\"Jinx\",\"Jinx\",\"Jhin\",\"Jinx\",\"Jinx\",\"Jinx\",\"Jinx\",\"Jhin\",\"Caitlyn\",\"Caitlyn\",\"Jhin\",\"Jinx\",\"Draven\",\"Ziggs\",\"Vayne\",\"Xayah\",\"Samira\",\"Jhin\",\"Draven\",\"Ziggs\",\"Aphelios\",\"MissFortune\",\"Caitlyn\",\"MissFortune\",\"Xayah\",\"Kaisa\",\"MissFortune\",\"Jhin\",\"Kaisa\",\"Ziggs\",\"Jhin\",\"Ezreal\",\"Caitlyn\",\"Jhin\",\"MissFortune\",\"Caitlyn\",\"Aphelios\",\"Jhin\",\"Samira\",\"Jhin\",\"Caitlyn\",\"Aphelios\",\"Varus\",\"Samira\",\"Xerath\",\"Kaisa\",\"Aphelios\",\"Kalista\",\"Ezreal\",\"Kaisa\",\"Jhin\",\"Jhin\",\"Caitlyn\",\"Yasuo\",\"Jinx\",\"Kaisa\",\"Jhin\",\"Samira\",\"Samira\",\"Jhin\",\"Jinx\",\"Aphelios\",\"Jhin\",\"Jhin\",\"Jhin\",\"Ezreal\",\"Jhin\",\"Jinx\",\"Jinx\",\"Samira\",\"Ezreal\",\"Vayne\",\"Kaisa\",\"Kaisa\",\"Samira\",\"Caitlyn\",\"Vayne\",\"Ezreal\",\"Jhin\",\"Lucian\",\"Jinx\",\"Ziggs\",\"Jinx\",\"Xayah\",\"Ziggs\",\"Lucian\",\"Xayah\",\"Samira\",\"Jinx\",\"Xayah\",\"Kaisa\",\"Aphelios\",\"Samira\",\"Caitlyn\",\"Ziggs\",\"Caitlyn\",\"Kaisa\",\"Kaisa\",\"Kalista\",\"Aphelios\",\"Caitlyn\",\"Ezreal\",\"Lucian\",\"Ezreal\",\"Samira\",\"Jinx\",\"Ezreal\",\"Jhin\",\"Vayne\",\"Jinx\",\"Ezreal\",\"Aphelios\",\"Yasuo\",\"Kaisa\",\"Yone\",\"Jinx\",\"Jinx\",\"Aphelios\",\"Jhin\",\"Samira\",\"Ziggs\",\"Twitch\",\"Jhin\",\"Kaisa\",\"Jhin\",\"Jinx\",\"Caitlyn\",\"Jhin\",\"Jinx\",\"Kaisa\",\"Jhin\",\"Jhin\",\"Xayah\",\"Ziggs\",\"Kaisa\",\"Samira\",\"Viktor\",\"Caitlyn\",\"Aphelios\",\"Caitlyn\",\"Jhin\",\"Irelia\",\"Ezreal\",\"Caitlyn\",\"Kaisa\",\"Caitlyn\",\"Kaisa\",\"Ezreal\",\"Varus\",\"Jinx\",\"Jinx\",\"Caitlyn\",\"Kalista\",\"Caitlyn\",\"Caitlyn\",\"Seraphine\",\"Ezreal\",\"Jhin\",\"Aphelios\",\"Jinx\",\"Jhin\",\"Vayne\",\"Caitlyn\",\"Jhin\",\"Jinx\",\"Jinx\",\"Jhin\",\"Cassiopeia\",\"Lucian\",\"Kaisa\",\"Caitlyn\",\"Ziggs\",\"Jhin\",\"Kalista\",\"Yasuo\",\"Caitlyn\",\"Jinx\",\"Kaisa\",\"Ziggs\",\"Ezreal\",\"Kindred\",\"Caitlyn\",\"Ezreal\",\"Jinx\",\"Kaisa\",\"Vayne\",\"Jinx\",\"Aphelios\",\"Kaisa\",\"Caitlyn\",\"Caitlyn\",\"Samira\",\"Kaisa\",\"Aphelios\",\"Jinx\",\"MissFortune\",\"MissFortune\",\"Xayah\",\"Caitlyn\",\"Jhin\",\"Jhin\",\"Xayah\",\"Kaisa\",\"Samira\",\"Samira\",\"Jinx\",\"Caitlyn\",\"Jhin\",\"Caitlyn\",\"Caitlyn\",\"Samira\",\"Caitlyn\",\"Syndra\",\"Jhin\",\"Ezreal\",\"Xerath\",\"Caitlyn\",\"Jhin\",\"Vayne\",\"Kaisa\",\"MissFortune\",\"Jhin\",\"Jhin\",\"MissFortune\",\"Lucian\",\"Aphelios\",\"Samira\",\"Jinx\",\"Samira\",\"Caitlyn\",\"Lucian\",\"Kaisa\",\"Kaisa\",\"Jinx\",\"Jhin\",\"Ezreal\",\"Jhin\",\"Ziggs\",\"Ezreal\",\"Jhin\",\"Jhin\",\"Caitlyn\",\"Jhin\",\"Caitlyn\",\"Akshan\",\"Caitlyn\",\"Aphelios\",\"Aphelios\",\"Yasuo\",\"Aphelios\",\"Samira\",\"Jhin\",\"Aphelios\",\"Aphelios\",\"Kaisa\",\"Kaisa\",\"Aphelios\",\"Jinx\",\"Jinx\",\"Vayne\",\"Ziggs\",\"Kaisa\",\"Jhin\",\"Jhin\",\"Caitlyn\",\"Jhin\",\"Caitlyn\",\"Lucian\",\"Aphelios\",\"Ezreal\",\"Aphelios\",\"Xerath\",\"Yasuo\",\"Jinx\",\"Jinx\",\"Aphelios\",\"Kaisa\",\"Caitlyn\",\"Jinx\",\"Ziggs\",\"Samira\",\"Kaisa\",\"Aphelios\",\"Viktor\",\"Lucian\",\"Ezreal\",\"Vayne\",\"Jhin\",\"Aphelios\",\"Jhin\",\"Jinx\",\"Aphelios\",\"Kaisa\",\"Caitlyn\",\"Corki\",\"Jhin\",\"Caitlyn\",\"Aphelios\",\"Kaisa\",\"Lucian\",\"Jinx\",\"Ezreal\",\"Jhin\",\"Jhin\",\"Xerath\",\"Ezreal\",\"Jhin\",\"Ezreal\",\"Samira\",\"Caitlyn\",\"Ezreal\",\"Jinx\",\"Jhin\",\"Kaisa\",\"Ezreal\"],\"xaxis\":\"x\",\"yaxis\":\"y\",\"type\":\"histogram\"}],                        {\"template\":{\"data\":{\"bar\":[{\"error_x\":{\"color\":\"#2a3f5f\"},\"error_y\":{\"color\":\"#2a3f5f\"},\"marker\":{\"line\":{\"color\":\"#E5ECF6\",\"width\":0.5},\"pattern\":{\"fillmode\":\"overlay\",\"size\":10,\"solidity\":0.2}},\"type\":\"bar\"}],\"barpolar\":[{\"marker\":{\"line\":{\"color\":\"#E5ECF6\",\"width\":0.5},\"pattern\":{\"fillmode\":\"overlay\",\"size\":10,\"solidity\":0.2}},\"type\":\"barpolar\"}],\"carpet\":[{\"aaxis\":{\"endlinecolor\":\"#2a3f5f\",\"gridcolor\":\"white\",\"linecolor\":\"white\",\"minorgridcolor\":\"white\",\"startlinecolor\":\"#2a3f5f\"},\"baxis\":{\"endlinecolor\":\"#2a3f5f\",\"gridcolor\":\"white\",\"linecolor\":\"white\",\"minorgridcolor\":\"white\",\"startlinecolor\":\"#2a3f5f\"},\"type\":\"carpet\"}],\"choropleth\":[{\"colorbar\":{\"outlinewidth\":0,\"ticks\":\"\"},\"type\":\"choropleth\"}],\"contour\":[{\"colorbar\":{\"outlinewidth\":0,\"ticks\":\"\"},\"colorscale\":[[0.0,\"#0d0887\"],[0.1111111111111111,\"#46039f\"],[0.2222222222222222,\"#7201a8\"],[0.3333333333333333,\"#9c179e\"],[0.4444444444444444,\"#bd3786\"],[0.5555555555555556,\"#d8576b\"],[0.6666666666666666,\"#ed7953\"],[0.7777777777777778,\"#fb9f3a\"],[0.8888888888888888,\"#fdca26\"],[1.0,\"#f0f921\"]],\"type\":\"contour\"}],\"contourcarpet\":[{\"colorbar\":{\"outlinewidth\":0,\"ticks\":\"\"},\"type\":\"contourcarpet\"}],\"heatmap\":[{\"colorbar\":{\"outlinewidth\":0,\"ticks\":\"\"},\"colorscale\":[[0.0,\"#0d0887\"],[0.1111111111111111,\"#46039f\"],[0.2222222222222222,\"#7201a8\"],[0.3333333333333333,\"#9c179e\"],[0.4444444444444444,\"#bd3786\"],[0.5555555555555556,\"#d8576b\"],[0.6666666666666666,\"#ed7953\"],[0.7777777777777778,\"#fb9f3a\"],[0.8888888888888888,\"#fdca26\"],[1.0,\"#f0f921\"]],\"type\":\"heatmap\"}],\"heatmapgl\":[{\"colorbar\":{\"outlinewidth\":0,\"ticks\":\"\"},\"colorscale\":[[0.0,\"#0d0887\"],[0.1111111111111111,\"#46039f\"],[0.2222222222222222,\"#7201a8\"],[0.3333333333333333,\"#9c179e\"],[0.4444444444444444,\"#bd3786\"],[0.5555555555555556,\"#d8576b\"],[0.6666666666666666,\"#ed7953\"],[0.7777777777777778,\"#fb9f3a\"],[0.8888888888888888,\"#fdca26\"],[1.0,\"#f0f921\"]],\"type\":\"heatmapgl\"}],\"histogram\":[{\"marker\":{\"pattern\":{\"fillmode\":\"overlay\",\"size\":10,\"solidity\":0.2}},\"type\":\"histogram\"}],\"histogram2d\":[{\"colorbar\":{\"outlinewidth\":0,\"ticks\":\"\"},\"colorscale\":[[0.0,\"#0d0887\"],[0.1111111111111111,\"#46039f\"],[0.2222222222222222,\"#7201a8\"],[0.3333333333333333,\"#9c179e\"],[0.4444444444444444,\"#bd3786\"],[0.5555555555555556,\"#d8576b\"],[0.6666666666666666,\"#ed7953\"],[0.7777777777777778,\"#fb9f3a\"],[0.8888888888888888,\"#fdca26\"],[1.0,\"#f0f921\"]],\"type\":\"histogram2d\"}],\"histogram2dcontour\":[{\"colorbar\":{\"outlinewidth\":0,\"ticks\":\"\"},\"colorscale\":[[0.0,\"#0d0887\"],[0.1111111111111111,\"#46039f\"],[0.2222222222222222,\"#7201a8\"],[0.3333333333333333,\"#9c179e\"],[0.4444444444444444,\"#bd3786\"],[0.5555555555555556,\"#d8576b\"],[0.6666666666666666,\"#ed7953\"],[0.7777777777777778,\"#fb9f3a\"],[0.8888888888888888,\"#fdca26\"],[1.0,\"#f0f921\"]],\"type\":\"histogram2dcontour\"}],\"mesh3d\":[{\"colorbar\":{\"outlinewidth\":0,\"ticks\":\"\"},\"type\":\"mesh3d\"}],\"parcoords\":[{\"line\":{\"colorbar\":{\"outlinewidth\":0,\"ticks\":\"\"}},\"type\":\"parcoords\"}],\"pie\":[{\"automargin\":true,\"type\":\"pie\"}],\"scatter\":[{\"marker\":{\"colorbar\":{\"outlinewidth\":0,\"ticks\":\"\"}},\"type\":\"scatter\"}],\"scatter3d\":[{\"line\":{\"colorbar\":{\"outlinewidth\":0,\"ticks\":\"\"}},\"marker\":{\"colorbar\":{\"outlinewidth\":0,\"ticks\":\"\"}},\"type\":\"scatter3d\"}],\"scattercarpet\":[{\"marker\":{\"colorbar\":{\"outlinewidth\":0,\"ticks\":\"\"}},\"type\":\"scattercarpet\"}],\"scattergeo\":[{\"marker\":{\"colorbar\":{\"outlinewidth\":0,\"ticks\":\"\"}},\"type\":\"scattergeo\"}],\"scattergl\":[{\"marker\":{\"colorbar\":{\"outlinewidth\":0,\"ticks\":\"\"}},\"type\":\"scattergl\"}],\"scattermapbox\":[{\"marker\":{\"colorbar\":{\"outlinewidth\":0,\"ticks\":\"\"}},\"type\":\"scattermapbox\"}],\"scatterpolar\":[{\"marker\":{\"colorbar\":{\"outlinewidth\":0,\"ticks\":\"\"}},\"type\":\"scatterpolar\"}],\"scatterpolargl\":[{\"marker\":{\"colorbar\":{\"outlinewidth\":0,\"ticks\":\"\"}},\"type\":\"scatterpolargl\"}],\"scatterternary\":[{\"marker\":{\"colorbar\":{\"outlinewidth\":0,\"ticks\":\"\"}},\"type\":\"scatterternary\"}],\"surface\":[{\"colorbar\":{\"outlinewidth\":0,\"ticks\":\"\"},\"colorscale\":[[0.0,\"#0d0887\"],[0.1111111111111111,\"#46039f\"],[0.2222222222222222,\"#7201a8\"],[0.3333333333333333,\"#9c179e\"],[0.4444444444444444,\"#bd3786\"],[0.5555555555555556,\"#d8576b\"],[0.6666666666666666,\"#ed7953\"],[0.7777777777777778,\"#fb9f3a\"],[0.8888888888888888,\"#fdca26\"],[1.0,\"#f0f921\"]],\"type\":\"surface\"}],\"table\":[{\"cells\":{\"fill\":{\"color\":\"#EBF0F8\"},\"line\":{\"color\":\"white\"}},\"header\":{\"fill\":{\"color\":\"#C8D4E3\"},\"line\":{\"color\":\"white\"}},\"type\":\"table\"}]},\"layout\":{\"annotationdefaults\":{\"arrowcolor\":\"#2a3f5f\",\"arrowhead\":0,\"arrowwidth\":1},\"autotypenumbers\":\"strict\",\"coloraxis\":{\"colorbar\":{\"outlinewidth\":0,\"ticks\":\"\"}},\"colorscale\":{\"diverging\":[[0,\"#8e0152\"],[0.1,\"#c51b7d\"],[0.2,\"#de77ae\"],[0.3,\"#f1b6da\"],[0.4,\"#fde0ef\"],[0.5,\"#f7f7f7\"],[0.6,\"#e6f5d0\"],[0.7,\"#b8e186\"],[0.8,\"#7fbc41\"],[0.9,\"#4d9221\"],[1,\"#276419\"]],\"sequential\":[[0.0,\"#0d0887\"],[0.1111111111111111,\"#46039f\"],[0.2222222222222222,\"#7201a8\"],[0.3333333333333333,\"#9c179e\"],[0.4444444444444444,\"#bd3786\"],[0.5555555555555556,\"#d8576b\"],[0.6666666666666666,\"#ed7953\"],[0.7777777777777778,\"#fb9f3a\"],[0.8888888888888888,\"#fdca26\"],[1.0,\"#f0f921\"]],\"sequentialminus\":[[0.0,\"#0d0887\"],[0.1111111111111111,\"#46039f\"],[0.2222222222222222,\"#7201a8\"],[0.3333333333333333,\"#9c179e\"],[0.4444444444444444,\"#bd3786\"],[0.5555555555555556,\"#d8576b\"],[0.6666666666666666,\"#ed7953\"],[0.7777777777777778,\"#fb9f3a\"],[0.8888888888888888,\"#fdca26\"],[1.0,\"#f0f921\"]]},\"colorway\":[\"#636efa\",\"#EF553B\",\"#00cc96\",\"#ab63fa\",\"#FFA15A\",\"#19d3f3\",\"#FF6692\",\"#B6E880\",\"#FF97FF\",\"#FECB52\"],\"font\":{\"color\":\"#2a3f5f\"},\"geo\":{\"bgcolor\":\"white\",\"lakecolor\":\"white\",\"landcolor\":\"#E5ECF6\",\"showlakes\":true,\"showland\":true,\"subunitcolor\":\"white\"},\"hoverlabel\":{\"align\":\"left\"},\"hovermode\":\"closest\",\"mapbox\":{\"style\":\"light\"},\"paper_bgcolor\":\"white\",\"plot_bgcolor\":\"#E5ECF6\",\"polar\":{\"angularaxis\":{\"gridcolor\":\"white\",\"linecolor\":\"white\",\"ticks\":\"\"},\"bgcolor\":\"#E5ECF6\",\"radialaxis\":{\"gridcolor\":\"white\",\"linecolor\":\"white\",\"ticks\":\"\"}},\"scene\":{\"xaxis\":{\"backgroundcolor\":\"#E5ECF6\",\"gridcolor\":\"white\",\"gridwidth\":2,\"linecolor\":\"white\",\"showbackground\":true,\"ticks\":\"\",\"zerolinecolor\":\"white\"},\"yaxis\":{\"backgroundcolor\":\"#E5ECF6\",\"gridcolor\":\"white\",\"gridwidth\":2,\"linecolor\":\"white\",\"showbackground\":true,\"ticks\":\"\",\"zerolinecolor\":\"white\"},\"zaxis\":{\"backgroundcolor\":\"#E5ECF6\",\"gridcolor\":\"white\",\"gridwidth\":2,\"linecolor\":\"white\",\"showbackground\":true,\"ticks\":\"\",\"zerolinecolor\":\"white\"}},\"shapedefaults\":{\"line\":{\"color\":\"#2a3f5f\"}},\"ternary\":{\"aaxis\":{\"gridcolor\":\"white\",\"linecolor\":\"white\",\"ticks\":\"\"},\"baxis\":{\"gridcolor\":\"white\",\"linecolor\":\"white\",\"ticks\":\"\"},\"bgcolor\":\"#E5ECF6\",\"caxis\":{\"gridcolor\":\"white\",\"linecolor\":\"white\",\"ticks\":\"\"}},\"title\":{\"x\":0.05},\"xaxis\":{\"automargin\":true,\"gridcolor\":\"white\",\"linecolor\":\"white\",\"ticks\":\"\",\"title\":{\"standoff\":15},\"zerolinecolor\":\"white\",\"zerolinewidth\":2},\"yaxis\":{\"automargin\":true,\"gridcolor\":\"white\",\"linecolor\":\"white\",\"ticks\":\"\",\"title\":{\"standoff\":15},\"zerolinecolor\":\"white\",\"zerolinewidth\":2}}},\"xaxis\":{\"anchor\":\"y\",\"domain\":[0.0,1.0],\"title\":{\"text\":\"champion\"},\"categoryorder\":\"total descending\"},\"yaxis\":{\"anchor\":\"x\",\"domain\":[0.0,1.0],\"title\":{\"text\":\"count\"}},\"legend\":{\"tracegroupgap\":0},\"title\":{\"text\":\"\\uc6d0\\ub51c \\ucc54\\ud53c\\uc5b8 \\ubd84\\ud3ec\"},\"barmode\":\"relative\"},                        {\"responsive\": true}                    ).then(function(){\n",
              "                            \n",
              "var gd = document.getElementById('c4588d16-6cd7-4f33-9267-754b1564f11d');\n",
              "var x = new MutationObserver(function (mutations, observer) {{\n",
              "        var display = window.getComputedStyle(gd).display;\n",
              "        if (!display || display === 'none') {{\n",
              "            console.log([gd, 'removed!']);\n",
              "            Plotly.purge(gd);\n",
              "            observer.disconnect();\n",
              "        }}\n",
              "}});\n",
              "\n",
              "// Listen for the removal of the full notebook cells\n",
              "var notebookContainer = gd.closest('#notebook-container');\n",
              "if (notebookContainer) {{\n",
              "    x.observe(notebookContainer, {childList: true});\n",
              "}}\n",
              "\n",
              "// Listen for the clearing of the current output cell\n",
              "var outputEl = gd.closest('.output');\n",
              "if (outputEl) {{\n",
              "    x.observe(outputEl, {childList: true});\n",
              "}}\n",
              "\n",
              "                        })                };                            </script>        </div>\n",
              "</body>\n",
              "</html>"
            ]
          },
          "metadata": {}
        }
      ]
    },
    {
      "cell_type": "code",
      "source": [
        "px.histogram(support_data, x='champion',\n",
        "             title='서포터 챔피언 분포').update_xaxes(categoryorder='total descending')"
      ],
      "metadata": {
        "colab": {
          "base_uri": "https://localhost:8080/",
          "height": 542
        },
        "id": "Lvtv1IJr-sCt",
        "outputId": "178b080d-b588-4968-f6e6-df1cb20208ca"
      },
      "execution_count": null,
      "outputs": [
        {
          "output_type": "display_data",
          "data": {
            "text/html": [
              "<html>\n",
              "<head><meta charset=\"utf-8\" /></head>\n",
              "<body>\n",
              "    <div>            <script src=\"https://cdnjs.cloudflare.com/ajax/libs/mathjax/2.7.5/MathJax.js?config=TeX-AMS-MML_SVG\"></script><script type=\"text/javascript\">if (window.MathJax) {MathJax.Hub.Config({SVG: {font: \"STIX-Web\"}});}</script>                <script type=\"text/javascript\">window.PlotlyConfig = {MathJaxConfig: 'local'};</script>\n",
              "        <script src=\"https://cdn.plot.ly/plotly-2.8.3.min.js\"></script>                <div id=\"734e1937-f069-4f9c-b9e3-3747134b9676\" class=\"plotly-graph-div\" style=\"height:525px; width:100%;\"></div>            <script type=\"text/javascript\">                                    window.PLOTLYENV=window.PLOTLYENV || {};                                    if (document.getElementById(\"734e1937-f069-4f9c-b9e3-3747134b9676\")) {                    Plotly.newPlot(                        \"734e1937-f069-4f9c-b9e3-3747134b9676\",                        [{\"alignmentgroup\":\"True\",\"bingroup\":\"x\",\"hovertemplate\":\"champion=%{x}<br>count=%{y}<extra></extra>\",\"legendgroup\":\"\",\"marker\":{\"color\":\"#636efa\",\"pattern\":{\"shape\":\"\"}},\"name\":\"\",\"offsetgroup\":\"\",\"orientation\":\"v\",\"showlegend\":false,\"x\":[\"Leona\",\"Xerath\",\"Alistar\",\"Thresh\",\"Lux\",\"Nami\",\"Karma\",\"Xerath\",\"Alistar\",\"Pantheon\",\"Lux\",\"Thresh\",\"Rakan\",\"Thresh\",\"Leona\",\"Pyke\",\"Karma\",\"Darius\",\"Leona\",\"Karma\",\"Karma\",\"Lulu\",\"Nautilus\",\"Lulu\",\"Gragas\",\"Nautilus\",\"Rakan\",\"Yuumi\",\"Leona\",\"Karma\",\"Karma\",\"Leona\",\"Sett\",\"Lux\",\"Leona\",\"Braum\",\"Zyra\",\"Zyra\",\"Lux\",\"Nautilus\",\"Xerath\",\"Leona\",\"Thresh\",\"Pyke\",\"Alistar\",\"Karma\",\"Lulu\",\"Leona\",\"Bard\",\"Rakan\",\"Morgana\",\"Alistar\",\"Vex\",\"Leona\",\"Rell\",\"Rakan\",\"Karma\",\"Gragas\",\"Gragas\",\"Lux\",\"Thresh\",\"Lulu\",\"Morgana\",\"Zyra\",\"Leona\",\"Karma\",\"Karma\",\"Neeko\",\"Alistar\",\"Leona\",\"Thresh\",\"Thresh\",\"Nautilus\",\"Rakan\",\"Rakan\",\"Nami\",\"Nautilus\",\"Galio\",\"Lux\",\"Pyke\",\"Pyke\",\"Lux\",\"Pyke\",\"Sona\",\"Leona\",\"Lux\",\"Lulu\",\"Lux\",\"Rakan\",\"Nami\",\"Pyke\",\"Pyke\",\"Lux\",\"Thresh\",\"Nami\",\"Alistar\",\"Rakan\",\"Pyke\",\"Zyra\",\"Thresh\",\"Karma\",\"Rakan\",\"Lux\",\"Gragas\",\"Karma\",\"Karma\",\"Lux\",\"Rakan\",\"Rakan\",\"Thresh\",\"Lux\",\"Rakan\",\"Amumu\",\"Rakan\",\"Rakan\",\"Rakan\",\"Maokai\",\"Maokai\",\"Galio\",\"Zyra\",\"Zyra\",\"Leona\",\"Thresh\",\"Vex\",\"Lux\",\"Rakan\",\"Leona\",\"Alistar\",\"Rakan\",\"Sylas\",\"Rakan\",\"Nautilus\",\"Sett\",\"Xerath\",\"Lulu\",\"Karma\",\"Nautilus\",\"Blitzcrank\",\"Vex\",\"Lux\",\"Lux\",\"Alistar\",\"Rakan\",\"Lulu\",\"Yuumi\",\"Thresh\",\"Blitzcrank\",\"Lulu\",\"Thresh\",\"Rakan\",\"Rakan\",\"Lulu\",\"Galio\",\"Lux\",\"Thresh\",\"Pyke\",\"Rakan\",\"Pyke\",\"Lulu\",\"Blitzcrank\",\"Rakan\",\"Thresh\",\"Nautilus\",\"Thresh\",\"Vex\",\"Lux\",\"Pyke\",\"Galio\",\"Leona\",\"Pyke\",\"Thresh\",\"Lulu\",\"Sett\",\"Nautilus\",\"Sona\",\"Leona\",\"Lux\",\"Thresh\",\"Leona\",\"Rakan\",\"Blitzcrank\",\"Lulu\",\"Alistar\",\"Alistar\",\"Senna\",\"Lux\",\"Nautilus\",\"Rakan\",\"Blitzcrank\",\"Leona\",\"Gragas\",\"Thresh\",\"Nautilus\",\"Leona\",\"Xerath\",\"Lulu\",\"Leona\",\"Gragas\",\"Leona\",\"Lulu\",\"Nautilus\",\"Yuumi\",\"Lulu\",\"Leona\",\"Lux\",\"Leona\",\"Pyke\",\"Lulu\",\"Sett\",\"Nautilus\",\"Lulu\",\"Lux\",\"Blitzcrank\",\"Rakan\",\"Rakan\",\"Senna\",\"Lux\",\"Thresh\",\"Nami\",\"Taliyah\",\"Braum\",\"Pyke\",\"Galio\",\"Rell\",\"Rakan\",\"Nami\",\"Leona\",\"Nautilus\",\"Thresh\",\"Lulu\",\"Karma\",\"Karma\",\"Karma\",\"Thresh\",\"Nautilus\",\"Lulu\",\"Leona\",\"Blitzcrank\",\"Blitzcrank\",\"Lux\",\"Gragas\",\"Leona\",\"Rakan\",\"Rell\",\"Thresh\",\"Maokai\",\"Leona\",\"Vex\",\"Rakan\",\"Karma\",\"Leona\",\"Rakan\",\"Pyke\",\"Leona\",\"Rell\",\"Nautilus\",\"Lux\",\"Leona\",\"Lux\",\"Blitzcrank\",\"Nautilus\",\"Bard\",\"Lux\",\"Nami\",\"Leona\",\"Lulu\",\"Thresh\",\"Amumu\",\"Thresh\",\"Thresh\",\"Karma\",\"Lulu\",\"Pyke\",\"Senna\",\"Karma\",\"Vex\",\"Vex\",\"Lux\",\"Thresh\",\"Karma\",\"Maokai\",\"Yuumi\",\"Lulu\",\"Neeko\",\"Leona\",\"Lux\",\"Vex\",\"Qiyana\",\"Lulu\",\"Lux\",\"Nautilus\",\"Lux\",\"Zyra\",\"Senna\",\"Pyke\",\"Nautilus\",\"Thresh\",\"Rakan\",\"Karma\",\"Sona\",\"Thresh\",\"Rakan\",\"Leona\",\"Lux\",\"Thresh\",\"Pantheon\",\"Yuumi\",\"Rakan\",\"Karma\",\"Lux\",\"Nautilus\",\"Thresh\",\"Karma\",\"Leona\",\"Blitzcrank\",\"Rakan\",\"Blitzcrank\",\"Thresh\",\"Thresh\",\"Lux\",\"Lulu\",\"Pyke\",\"Nautilus\",\"Lux\",\"Karma\",\"Gragas\",\"Rakan\",\"Galio\",\"Pyke\",\"Galio\",\"Thresh\",\"Blitzcrank\",\"Yuumi\",\"Nami\",\"Lux\",\"Leona\",\"Rell\",\"Yuumi\",\"Zac\",\"Karma\",\"Gragas\",\"Lux\",\"Zac\",\"Pyke\",\"Gragas\",\"Sona\",\"Pyke\",\"Karma\",\"Leona\",\"Thresh\",\"Zyra\",\"Sona\",\"Lulu\",\"Karma\",\"Lux\",\"Lulu\",\"Karma\",\"Rakan\",\"Karma\",\"Lux\",\"Blitzcrank\",\"Rell\",\"Rakan\",\"Lulu\",\"Blitzcrank\",\"Karma\",\"Rakan\",\"Thresh\",\"Morgana\",\"Lulu\",\"Lulu\",\"Leona\",\"Thresh\",\"Alistar\",\"Senna\",\"Alistar\",\"Rumble\",\"Blitzcrank\",\"Lulu\",\"Rakan\",\"Alistar\",\"Karma\",\"Zilean\",\"Pyke\",\"Lulu\",\"Thresh\",\"Lulu\",\"Lux\",\"Pyke\",\"TahmKench\",\"Yuumi\",\"Rakan\",\"Blitzcrank\",\"Zac\",\"Bard\",\"Thresh\",\"Senna\",\"Braum\",\"Lulu\",\"Nautilus\",\"Blitzcrank\",\"Rakan\",\"Rakan\",\"Blitzcrank\",\"Leona\",\"Lulu\",\"Thresh\",\"Lux\",\"Lux\",\"LeeSin\",\"Karma\",\"Rakan\",\"Lux\",\"Thresh\",\"Karma\",\"Lux\",\"Thresh\",\"Lux\",\"Gragas\",\"Janna\",\"Lulu\",\"Lux\",\"Lux\",\"Pyke\",\"Thresh\",\"Karma\",\"Karma\",\"Nautilus\",\"Rakan\",\"Sona\",\"Pyke\",\"Karma\",\"Pyke\",\"Sona\",\"Blitzcrank\",\"Leona\",\"Rakan\",\"Thresh\",\"Morgana\",\"Blitzcrank\",\"Thresh\",\"Senna\",\"Syndra\",\"Blitzcrank\",\"Rakan\",\"Gragas\",\"Leona\",\"Alistar\",\"Nami\",\"Nautilus\",\"Thresh\",\"Lux\",\"Yuumi\",\"Alistar\",\"Rakan\",\"Rakan\",\"Lux\",\"Lulu\",\"Nautilus\",\"Pyke\",\"Lulu\",\"Gragas\",\"Thresh\",\"Lux\",\"Vex\",\"Leona\",\"Rakan\",\"Yuumi\",\"Nami\",\"Karma\",\"Rakan\",\"Lulu\",\"Lux\",\"Leona\",\"Pyke\",\"Lulu\",\"Lulu\",\"Leona\",\"Leona\",\"Nami\",\"Lulu\",\"Xerath\",\"Zyra\",\"Rakan\",\"Thresh\",\"Gragas\",\"Alistar\",\"Lux\",\"Alistar\",\"Sona\",\"Galio\",\"Sona\",\"Karma\",\"Leona\",\"Karma\",\"Senna\",\"Braum\",\"Lulu\",\"Rakan\",\"Lulu\",\"Thresh\",\"Leona\",\"Thresh\",\"Vex\",\"Karma\",\"Leona\",\"Rakan\",\"Leona\",\"Bard\",\"Nautilus\",\"Braum\",\"Thresh\",\"Thresh\",\"Rell\",\"Karma\",\"Zyra\",\"Lux\",\"Lux\",\"Nautilus\",\"Blitzcrank\",\"Bard\",\"Pyke\",\"Nami\",\"Galio\",\"Alistar\",\"Braum\",\"Pyke\",\"Xerath\",\"Janna\",\"Nami\",\"Yuumi\",\"Lulu\",\"Leona\",\"Lux\",\"Karma\",\"Nautilus\",\"Thresh\",\"Rakan\",\"Bard\",\"Rakan\",\"Leona\",\"Sona\",\"Nautilus\",\"Karma\",\"Lulu\",\"Karma\",\"Rakan\",\"Rakan\",\"Thresh\",\"Pyke\",\"Rakan\",\"Nautilus\",\"Karma\",\"Zilean\",\"Gragas\",\"Galio\",\"Taliyah\",\"Leona\",\"Sona\",\"Zyra\",\"Nautilus\",\"Nami\",\"Rakan\",\"Rakan\",\"Nami\",\"Leona\",\"Thresh\",\"Rumble\",\"Cassiopeia\",\"Thresh\",\"Nautilus\",\"Nautilus\",\"Rakan\",\"Nami\",\"Amumu\",\"Yuumi\",\"Yuumi\",\"Leona\",\"Maokai\",\"Nami\",\"Senna\",\"Thresh\",\"Rell\",\"Alistar\",\"Alistar\",\"Thresh\",\"Pyke\",\"Yuumi\",\"Karma\",\"Karma\",\"Lulu\",\"Nautilus\",\"Pyke\",\"Zyra\",\"Lux\",\"Braum\",\"Rakan\",\"Thresh\",\"Lulu\",\"Karma\",\"Thresh\",\"Lulu\",\"Lux\",\"Karma\",\"Senna\",\"Lulu\",\"Leona\",\"Lulu\",\"Thresh\",\"Karma\",\"Bard\",\"Thresh\",\"Leona\",\"Pyke\",\"Thresh\",\"Pyke\",\"Leona\",\"Lulu\",\"Rakan\",\"Rakan\",\"Pyke\",\"Morgana\",\"Lux\",\"Lux\",\"Rakan\",\"Leona\",\"Lulu\",\"Lux\",\"Blitzcrank\",\"Rell\",\"Yuumi\",\"Lux\",\"Lux\",\"Thresh\",\"Lulu\",\"Thresh\",\"Rakan\",\"Thresh\",\"Nautilus\",\"Karma\",\"Vex\",\"Lulu\",\"Karma\",\"Braum\",\"Alistar\",\"Xerath\",\"Lux\",\"Leona\",\"Rakan\",\"Nautilus\",\"Thresh\",\"Leona\",\"Zac\",\"Yuumi\",\"Gragas\",\"Nami\",\"Thresh\",\"Rakan\",\"Rell\",\"Rakan\",\"Gragas\",\"Lux\",\"Nami\",\"Rakan\",\"Lux\",\"Rell\",\"DrMundo\",\"Karma\",\"Yuumi\",\"Leona\",\"Karma\",\"Lulu\",\"Yuumi\",\"Rakan\",\"Rakan\",\"Yuumi\",\"Gragas\",\"Leona\",\"Nautilus\",\"Lulu\",\"Pyke\",\"Braum\",\"Nautilus\",\"Lulu\",\"Karma\",\"Lux\",\"Pyke\",\"Rakan\",\"Pyke\",\"Brand\",\"Rakan\",\"Galio\",\"Nautilus\",\"Lux\",\"Yuumi\",\"Karma\",\"Lux\",\"Karma\",\"Karma\",\"Rakan\",\"Nautilus\",\"Thresh\",\"Thresh\",\"Lulu\",\"Pyke\",\"Karma\",\"Karma\",\"Lulu\",\"Lux\",\"Karma\",\"Thresh\",\"Sona\",\"Thresh\",\"Nautilus\",\"Nami\",\"Rakan\",\"Bard\",\"Bard\",\"Pyke\",\"Pyke\",\"Sona\",\"Rakan\",\"Rakan\",\"Thresh\",\"Alistar\",\"Lux\",\"Sona\",\"Vex\",\"Leona\",\"Yuumi\",\"Nautilus\",\"Leona\",\"Gragas\",\"Rakan\",\"Leona\",\"Zyra\",\"Galio\",\"Thresh\",\"Rakan\",\"Thresh\",\"Karma\",\"Galio\",\"Karma\",\"Nautilus\",\"Karma\",\"Thresh\",\"Xerath\",\"Sett\",\"Rakan\",\"Gragas\",\"Zyra\",\"Pyke\",\"Trundle\",\"Nautilus\",\"Pyke\",\"Pyke\",\"Blitzcrank\",\"Lux\",\"Rakan\",\"Thresh\",\"Thresh\",\"Blitzcrank\",\"Lulu\",\"Janna\",\"Rakan\",\"Lux\",\"Leona\",\"Lulu\",\"Thresh\",\"Lulu\",\"Thresh\",\"Leona\",\"Blitzcrank\",\"Nami\",\"Rakan\",\"Nautilus\",\"Nautilus\",\"Thresh\",\"Karma\",\"Rell\",\"Thresh\",\"Lulu\",\"Thresh\",\"Yuumi\",\"Zyra\",\"Rell\",\"Rell\",\"Vex\",\"Rakan\",\"Rakan\",\"Nami\",\"Zyra\",\"Leona\",\"Rakan\",\"Lulu\",\"Lux\",\"Galio\",\"Thresh\",\"Leona\",\"Thresh\",\"Sett\",\"Lulu\",\"Yuumi\",\"Blitzcrank\",\"Karma\",\"Lux\",\"Karma\",\"Karma\",\"Senna\",\"Pyke\",\"Karma\",\"Qiyana\",\"Nautilus\",\"Pyke\",\"Leona\",\"Yuumi\",\"Nami\",\"Lux\",\"Yuumi\",\"Thresh\",\"Sona\",\"Shen\",\"Nautilus\",\"Lulu\",\"Senna\",\"Karma\",\"Lux\",\"Rakan\",\"Blitzcrank\",\"Karma\",\"Pantheon\",\"Sylas\",\"Alistar\",\"Lux\",\"Lux\",\"Thresh\",\"Qiyana\",\"Thresh\",\"Alistar\",\"Pyke\",\"Trundle\",\"Thresh\",\"Thresh\",\"Leona\",\"Lulu\",\"Yuumi\",\"Karma\",\"Thresh\",\"Karma\",\"Rakan\",\"Leona\",\"Leona\",\"Karma\",\"Lux\",\"Leona\",\"Nami\",\"Lulu\",\"Thresh\",\"Yuumi\",\"Lux\",\"Leona\",\"Thresh\",\"Thresh\",\"Gragas\",\"Thresh\",\"Lux\",\"Rakan\",\"Blitzcrank\",\"Lulu\",\"Zyra\",\"Rakan\",\"Leona\",\"Zyra\",\"Nautilus\",\"Leona\",\"Rakan\",\"Karma\",\"Lux\",\"Shen\",\"Lux\",\"Nautilus\",\"Karma\",\"Nautilus\",\"Rakan\",\"Lux\",\"Thresh\",\"Lux\",\"Rakan\",\"Yuumi\",\"Nautilus\",\"Nami\",\"Nami\",\"Thresh\",\"Alistar\",\"Pyke\",\"Leona\",\"Leona\",\"Lulu\",\"Pyke\",\"Lux\",\"Nautilus\",\"Lulu\",\"Lux\",\"Karma\",\"Lux\",\"Karma\",\"Galio\",\"Yuumi\",\"Yuumi\",\"Thresh\",\"Nautilus\",\"Blitzcrank\",\"Rell\",\"Gragas\",\"Karma\",\"Thresh\",\"Karma\",\"Sett\",\"Thresh\",\"Leona\",\"Karma\",\"Rakan\",\"Thresh\",\"Leona\",\"Lulu\",\"Rell\",\"Thresh\",\"Lux\",\"Nami\",\"Rakan\",\"Blitzcrank\",\"Lux\",\"Nautilus\",\"Yuumi\",\"Lux\",\"Nautilus\",\"Yuumi\",\"Yuumi\",\"Xerath\",\"Karma\",\"Pyke\",\"Thresh\",\"Leona\",\"Sejuani\",\"Thresh\",\"Pyke\",\"Blitzcrank\",\"Pyke\",\"Zyra\",\"Nautilus\",\"Rakan\",\"Braum\",\"Pyke\",\"Leona\",\"Vex\",\"Yuumi\",\"Karma\",\"Lux\",\"Thresh\",\"Sona\",\"Lux\",\"Lux\",\"Thresh\",\"Lux\",\"Pyke\",\"Karma\",\"Leona\",\"Zyra\",\"Rakan\",\"Gragas\",\"Leona\",\"Thresh\",\"Pyke\",\"Karma\",\"Karma\",\"Vex\",\"Nautilus\",\"Karma\",\"Zyra\",\"Lux\",\"Rakan\",\"Nautilus\",\"Karma\",\"Lulu\",\"Rakan\",\"Thresh\",\"Blitzcrank\",\"Alistar\",\"Rakan\",\"Rakan\",\"Vex\",\"Lux\",\"Lulu\",\"Blitzcrank\",\"Karma\",\"Lulu\",\"Yuumi\",\"Thresh\",\"Thresh\",\"Lux\",\"Lulu\",\"Galio\",\"Senna\",\"Lulu\",\"Yuumi\",\"Pyke\",\"Nautilus\",\"Thresh\",\"Galio\",\"Lux\",\"Rakan\",\"Pyke\",\"Nautilus\",\"Yuumi\",\"Shen\",\"Rakan\",\"Karma\",\"Yuumi\",\"Karma\",\"Rell\",\"Yuumi\",\"Thresh\",\"Rakan\",\"Rakan\",\"Alistar\",\"Nautilus\",\"Thresh\",\"Thresh\",\"Leona\",\"Lux\",\"Rakan\",\"Pyke\",\"Pyke\",\"Sona\",\"Alistar\",\"Maokai\",\"Pyke\",\"Rakan\",\"Soraka\",\"Rell\",\"Lux\",\"Janna\",\"Blitzcrank\",\"Lulu\",\"Lux\",\"Lulu\",\"Blitzcrank\",\"Leona\",\"Nautilus\",\"Thresh\",\"Alistar\",\"Karma\",\"Rell\",\"Karma\",\"Senna\",\"Thresh\",\"Syndra\",\"Rakan\",\"Gragas\",\"Karma\",\"Leona\",\"Lulu\",\"Karma\",\"Karma\",\"Lulu\",\"Lux\",\"Sona\",\"Galio\",\"Lux\",\"Lux\",\"Zyra\",\"Pyke\",\"Thresh\",\"Leona\",\"Karma\",\"Yuumi\",\"Pyke\",\"Lulu\",\"Leona\",\"Blitzcrank\",\"Rakan\",\"Karma\",\"Lux\",\"Sona\",\"Leona\",\"Karma\",\"Pyke\",\"Pyke\",\"Leona\",\"Leona\",\"Lulu\",\"Rell\",\"Rakan\",\"Thresh\",\"Lux\",\"Yuumi\",\"Lulu\",\"Pyke\",\"Blitzcrank\",\"Maokai\",\"Rakan\",\"Karma\",\"Lulu\",\"Thresh\",\"Leona\",\"Sejuani\",\"Rell\",\"Janna\",\"Rakan\",\"Karma\",\"Lux\",\"Zyra\",\"Leona\",\"Yuumi\",\"Lux\",\"Thresh\",\"Lulu\",\"Lulu\",\"Lux\",\"Thresh\",\"Nautilus\",\"Thresh\",\"Karma\",\"Karma\",\"Rakan\",\"Blitzcrank\",\"Sett\",\"Lulu\",\"Sona\",\"Lux\",\"Vex\",\"Pyke\",\"Rakan\",\"Thresh\",\"Thresh\",\"Alistar\",\"Bard\",\"Thresh\",\"Pyke\",\"Leona\",\"Galio\",\"Sona\",\"Pyke\",\"Pyke\",\"Rakan\",\"Blitzcrank\",\"Blitzcrank\",\"Karma\",\"Zyra\",\"Vex\",\"Karma\",\"Pyke\",\"Leona\"],\"xaxis\":\"x\",\"yaxis\":\"y\",\"type\":\"histogram\"}],                        {\"template\":{\"data\":{\"bar\":[{\"error_x\":{\"color\":\"#2a3f5f\"},\"error_y\":{\"color\":\"#2a3f5f\"},\"marker\":{\"line\":{\"color\":\"#E5ECF6\",\"width\":0.5},\"pattern\":{\"fillmode\":\"overlay\",\"size\":10,\"solidity\":0.2}},\"type\":\"bar\"}],\"barpolar\":[{\"marker\":{\"line\":{\"color\":\"#E5ECF6\",\"width\":0.5},\"pattern\":{\"fillmode\":\"overlay\",\"size\":10,\"solidity\":0.2}},\"type\":\"barpolar\"}],\"carpet\":[{\"aaxis\":{\"endlinecolor\":\"#2a3f5f\",\"gridcolor\":\"white\",\"linecolor\":\"white\",\"minorgridcolor\":\"white\",\"startlinecolor\":\"#2a3f5f\"},\"baxis\":{\"endlinecolor\":\"#2a3f5f\",\"gridcolor\":\"white\",\"linecolor\":\"white\",\"minorgridcolor\":\"white\",\"startlinecolor\":\"#2a3f5f\"},\"type\":\"carpet\"}],\"choropleth\":[{\"colorbar\":{\"outlinewidth\":0,\"ticks\":\"\"},\"type\":\"choropleth\"}],\"contour\":[{\"colorbar\":{\"outlinewidth\":0,\"ticks\":\"\"},\"colorscale\":[[0.0,\"#0d0887\"],[0.1111111111111111,\"#46039f\"],[0.2222222222222222,\"#7201a8\"],[0.3333333333333333,\"#9c179e\"],[0.4444444444444444,\"#bd3786\"],[0.5555555555555556,\"#d8576b\"],[0.6666666666666666,\"#ed7953\"],[0.7777777777777778,\"#fb9f3a\"],[0.8888888888888888,\"#fdca26\"],[1.0,\"#f0f921\"]],\"type\":\"contour\"}],\"contourcarpet\":[{\"colorbar\":{\"outlinewidth\":0,\"ticks\":\"\"},\"type\":\"contourcarpet\"}],\"heatmap\":[{\"colorbar\":{\"outlinewidth\":0,\"ticks\":\"\"},\"colorscale\":[[0.0,\"#0d0887\"],[0.1111111111111111,\"#46039f\"],[0.2222222222222222,\"#7201a8\"],[0.3333333333333333,\"#9c179e\"],[0.4444444444444444,\"#bd3786\"],[0.5555555555555556,\"#d8576b\"],[0.6666666666666666,\"#ed7953\"],[0.7777777777777778,\"#fb9f3a\"],[0.8888888888888888,\"#fdca26\"],[1.0,\"#f0f921\"]],\"type\":\"heatmap\"}],\"heatmapgl\":[{\"colorbar\":{\"outlinewidth\":0,\"ticks\":\"\"},\"colorscale\":[[0.0,\"#0d0887\"],[0.1111111111111111,\"#46039f\"],[0.2222222222222222,\"#7201a8\"],[0.3333333333333333,\"#9c179e\"],[0.4444444444444444,\"#bd3786\"],[0.5555555555555556,\"#d8576b\"],[0.6666666666666666,\"#ed7953\"],[0.7777777777777778,\"#fb9f3a\"],[0.8888888888888888,\"#fdca26\"],[1.0,\"#f0f921\"]],\"type\":\"heatmapgl\"}],\"histogram\":[{\"marker\":{\"pattern\":{\"fillmode\":\"overlay\",\"size\":10,\"solidity\":0.2}},\"type\":\"histogram\"}],\"histogram2d\":[{\"colorbar\":{\"outlinewidth\":0,\"ticks\":\"\"},\"colorscale\":[[0.0,\"#0d0887\"],[0.1111111111111111,\"#46039f\"],[0.2222222222222222,\"#7201a8\"],[0.3333333333333333,\"#9c179e\"],[0.4444444444444444,\"#bd3786\"],[0.5555555555555556,\"#d8576b\"],[0.6666666666666666,\"#ed7953\"],[0.7777777777777778,\"#fb9f3a\"],[0.8888888888888888,\"#fdca26\"],[1.0,\"#f0f921\"]],\"type\":\"histogram2d\"}],\"histogram2dcontour\":[{\"colorbar\":{\"outlinewidth\":0,\"ticks\":\"\"},\"colorscale\":[[0.0,\"#0d0887\"],[0.1111111111111111,\"#46039f\"],[0.2222222222222222,\"#7201a8\"],[0.3333333333333333,\"#9c179e\"],[0.4444444444444444,\"#bd3786\"],[0.5555555555555556,\"#d8576b\"],[0.6666666666666666,\"#ed7953\"],[0.7777777777777778,\"#fb9f3a\"],[0.8888888888888888,\"#fdca26\"],[1.0,\"#f0f921\"]],\"type\":\"histogram2dcontour\"}],\"mesh3d\":[{\"colorbar\":{\"outlinewidth\":0,\"ticks\":\"\"},\"type\":\"mesh3d\"}],\"parcoords\":[{\"line\":{\"colorbar\":{\"outlinewidth\":0,\"ticks\":\"\"}},\"type\":\"parcoords\"}],\"pie\":[{\"automargin\":true,\"type\":\"pie\"}],\"scatter\":[{\"marker\":{\"colorbar\":{\"outlinewidth\":0,\"ticks\":\"\"}},\"type\":\"scatter\"}],\"scatter3d\":[{\"line\":{\"colorbar\":{\"outlinewidth\":0,\"ticks\":\"\"}},\"marker\":{\"colorbar\":{\"outlinewidth\":0,\"ticks\":\"\"}},\"type\":\"scatter3d\"}],\"scattercarpet\":[{\"marker\":{\"colorbar\":{\"outlinewidth\":0,\"ticks\":\"\"}},\"type\":\"scattercarpet\"}],\"scattergeo\":[{\"marker\":{\"colorbar\":{\"outlinewidth\":0,\"ticks\":\"\"}},\"type\":\"scattergeo\"}],\"scattergl\":[{\"marker\":{\"colorbar\":{\"outlinewidth\":0,\"ticks\":\"\"}},\"type\":\"scattergl\"}],\"scattermapbox\":[{\"marker\":{\"colorbar\":{\"outlinewidth\":0,\"ticks\":\"\"}},\"type\":\"scattermapbox\"}],\"scatterpolar\":[{\"marker\":{\"colorbar\":{\"outlinewidth\":0,\"ticks\":\"\"}},\"type\":\"scatterpolar\"}],\"scatterpolargl\":[{\"marker\":{\"colorbar\":{\"outlinewidth\":0,\"ticks\":\"\"}},\"type\":\"scatterpolargl\"}],\"scatterternary\":[{\"marker\":{\"colorbar\":{\"outlinewidth\":0,\"ticks\":\"\"}},\"type\":\"scatterternary\"}],\"surface\":[{\"colorbar\":{\"outlinewidth\":0,\"ticks\":\"\"},\"colorscale\":[[0.0,\"#0d0887\"],[0.1111111111111111,\"#46039f\"],[0.2222222222222222,\"#7201a8\"],[0.3333333333333333,\"#9c179e\"],[0.4444444444444444,\"#bd3786\"],[0.5555555555555556,\"#d8576b\"],[0.6666666666666666,\"#ed7953\"],[0.7777777777777778,\"#fb9f3a\"],[0.8888888888888888,\"#fdca26\"],[1.0,\"#f0f921\"]],\"type\":\"surface\"}],\"table\":[{\"cells\":{\"fill\":{\"color\":\"#EBF0F8\"},\"line\":{\"color\":\"white\"}},\"header\":{\"fill\":{\"color\":\"#C8D4E3\"},\"line\":{\"color\":\"white\"}},\"type\":\"table\"}]},\"layout\":{\"annotationdefaults\":{\"arrowcolor\":\"#2a3f5f\",\"arrowhead\":0,\"arrowwidth\":1},\"autotypenumbers\":\"strict\",\"coloraxis\":{\"colorbar\":{\"outlinewidth\":0,\"ticks\":\"\"}},\"colorscale\":{\"diverging\":[[0,\"#8e0152\"],[0.1,\"#c51b7d\"],[0.2,\"#de77ae\"],[0.3,\"#f1b6da\"],[0.4,\"#fde0ef\"],[0.5,\"#f7f7f7\"],[0.6,\"#e6f5d0\"],[0.7,\"#b8e186\"],[0.8,\"#7fbc41\"],[0.9,\"#4d9221\"],[1,\"#276419\"]],\"sequential\":[[0.0,\"#0d0887\"],[0.1111111111111111,\"#46039f\"],[0.2222222222222222,\"#7201a8\"],[0.3333333333333333,\"#9c179e\"],[0.4444444444444444,\"#bd3786\"],[0.5555555555555556,\"#d8576b\"],[0.6666666666666666,\"#ed7953\"],[0.7777777777777778,\"#fb9f3a\"],[0.8888888888888888,\"#fdca26\"],[1.0,\"#f0f921\"]],\"sequentialminus\":[[0.0,\"#0d0887\"],[0.1111111111111111,\"#46039f\"],[0.2222222222222222,\"#7201a8\"],[0.3333333333333333,\"#9c179e\"],[0.4444444444444444,\"#bd3786\"],[0.5555555555555556,\"#d8576b\"],[0.6666666666666666,\"#ed7953\"],[0.7777777777777778,\"#fb9f3a\"],[0.8888888888888888,\"#fdca26\"],[1.0,\"#f0f921\"]]},\"colorway\":[\"#636efa\",\"#EF553B\",\"#00cc96\",\"#ab63fa\",\"#FFA15A\",\"#19d3f3\",\"#FF6692\",\"#B6E880\",\"#FF97FF\",\"#FECB52\"],\"font\":{\"color\":\"#2a3f5f\"},\"geo\":{\"bgcolor\":\"white\",\"lakecolor\":\"white\",\"landcolor\":\"#E5ECF6\",\"showlakes\":true,\"showland\":true,\"subunitcolor\":\"white\"},\"hoverlabel\":{\"align\":\"left\"},\"hovermode\":\"closest\",\"mapbox\":{\"style\":\"light\"},\"paper_bgcolor\":\"white\",\"plot_bgcolor\":\"#E5ECF6\",\"polar\":{\"angularaxis\":{\"gridcolor\":\"white\",\"linecolor\":\"white\",\"ticks\":\"\"},\"bgcolor\":\"#E5ECF6\",\"radialaxis\":{\"gridcolor\":\"white\",\"linecolor\":\"white\",\"ticks\":\"\"}},\"scene\":{\"xaxis\":{\"backgroundcolor\":\"#E5ECF6\",\"gridcolor\":\"white\",\"gridwidth\":2,\"linecolor\":\"white\",\"showbackground\":true,\"ticks\":\"\",\"zerolinecolor\":\"white\"},\"yaxis\":{\"backgroundcolor\":\"#E5ECF6\",\"gridcolor\":\"white\",\"gridwidth\":2,\"linecolor\":\"white\",\"showbackground\":true,\"ticks\":\"\",\"zerolinecolor\":\"white\"},\"zaxis\":{\"backgroundcolor\":\"#E5ECF6\",\"gridcolor\":\"white\",\"gridwidth\":2,\"linecolor\":\"white\",\"showbackground\":true,\"ticks\":\"\",\"zerolinecolor\":\"white\"}},\"shapedefaults\":{\"line\":{\"color\":\"#2a3f5f\"}},\"ternary\":{\"aaxis\":{\"gridcolor\":\"white\",\"linecolor\":\"white\",\"ticks\":\"\"},\"baxis\":{\"gridcolor\":\"white\",\"linecolor\":\"white\",\"ticks\":\"\"},\"bgcolor\":\"#E5ECF6\",\"caxis\":{\"gridcolor\":\"white\",\"linecolor\":\"white\",\"ticks\":\"\"}},\"title\":{\"x\":0.05},\"xaxis\":{\"automargin\":true,\"gridcolor\":\"white\",\"linecolor\":\"white\",\"ticks\":\"\",\"title\":{\"standoff\":15},\"zerolinecolor\":\"white\",\"zerolinewidth\":2},\"yaxis\":{\"automargin\":true,\"gridcolor\":\"white\",\"linecolor\":\"white\",\"ticks\":\"\",\"title\":{\"standoff\":15},\"zerolinecolor\":\"white\",\"zerolinewidth\":2}}},\"xaxis\":{\"anchor\":\"y\",\"domain\":[0.0,1.0],\"title\":{\"text\":\"champion\"},\"categoryorder\":\"total descending\"},\"yaxis\":{\"anchor\":\"x\",\"domain\":[0.0,1.0],\"title\":{\"text\":\"count\"}},\"legend\":{\"tracegroupgap\":0},\"title\":{\"text\":\"\\uc11c\\ud3ec\\ud130 \\ucc54\\ud53c\\uc5b8 \\ubd84\\ud3ec\"},\"barmode\":\"relative\"},                        {\"responsive\": true}                    ).then(function(){\n",
              "                            \n",
              "var gd = document.getElementById('734e1937-f069-4f9c-b9e3-3747134b9676');\n",
              "var x = new MutationObserver(function (mutations, observer) {{\n",
              "        var display = window.getComputedStyle(gd).display;\n",
              "        if (!display || display === 'none') {{\n",
              "            console.log([gd, 'removed!']);\n",
              "            Plotly.purge(gd);\n",
              "            observer.disconnect();\n",
              "        }}\n",
              "}});\n",
              "\n",
              "// Listen for the removal of the full notebook cells\n",
              "var notebookContainer = gd.closest('#notebook-container');\n",
              "if (notebookContainer) {{\n",
              "    x.observe(notebookContainer, {childList: true});\n",
              "}}\n",
              "\n",
              "// Listen for the clearing of the current output cell\n",
              "var outputEl = gd.closest('.output');\n",
              "if (outputEl) {{\n",
              "    x.observe(outputEl, {childList: true});\n",
              "}}\n",
              "\n",
              "                        })                };                            </script>        </div>\n",
              "</body>\n",
              "</html>"
            ]
          },
          "metadata": {}
        }
      ]
    },
    {
      "cell_type": "markdown",
      "source": [
        "damage_turrets과 damage_objectives의 값이 같으므로 하나를 제거해준다"
      ],
      "metadata": {
        "id": "rr8_sT00BI7s"
      }
    },
    {
      "cell_type": "code",
      "source": [
        "top_data = top_data.drop(['damage_turrets'], axis=1)\n",
        "jungle_data = jungle_data.drop(['damage_turrets'], axis=1)\n",
        "mid_data = mid_data.drop(['damage_turrets'], axis=1)\n",
        "adc_data = adc_data.drop(['damage_turrets'], axis=1)\n",
        "support_data = support_data.drop(['damage_turrets'], axis=1)"
      ],
      "metadata": {
        "id": "T7IiQNk3BIV0"
      },
      "execution_count": null,
      "outputs": []
    },
    {
      "cell_type": "markdown",
      "source": [
        "승률 분석에 필요한 column만 남긴다 (승패에 영향을 끼치지 않는 요소 제거)"
      ],
      "metadata": {
        "id": "IEq_8QaCBq2d"
      }
    },
    {
      "cell_type": "code",
      "source": [
        "top_data_final = top_data.drop(['champion','role', 'd_spell', 'f_spell'], axis=1)\n",
        "jungle_data_final = jungle_data.drop(['champion','role', 'd_spell', 'f_spell'], axis=1)\n",
        "mid_data_final = mid_data.drop(['champion','role', 'd_spell', 'f_spell'], axis=1)\n",
        "adc_data_final = adc_data.drop(['champion','role', 'd_spell', 'f_spell'], axis=1)\n",
        "support_data_final = support_data.drop(['champion','role', 'd_spell', 'f_spell'], axis=1)"
      ],
      "metadata": {
        "id": "WJj3R2LfBwgM"
      },
      "execution_count": null,
      "outputs": []
    },
    {
      "cell_type": "markdown",
      "source": [
        "3가지 모델을 생성\n",
        "1. Logistic 회귀\n",
        "2. 의사결정트리\n",
        "3. 랜덤 포레스트\n",
        "\n",
        "교차검증방식 : Repeated K-Fold\n",
        "\n",
        "Repeated K-Fold란?\n",
        "-  전체 데이터를 임의로 나누어서 validation set을 한 번씩 번갈아가면서 데이터셋을 구성\n",
        "\n",
        "- 각 데이터를 학습하고 validation으로 평가를 한 다음 K개의 결과에 대해 평균을 내어 최종 성능을 구함"
      ],
      "metadata": {
        "id": "mCnuKHm9D5D7"
      }
    },
    {
      "cell_type": "markdown",
      "source": [
        "F1 score\n",
        " - Accuracy(정확도) - 전체 클래스 중 True는 True로 False는 False로 잘 예측했는지?\n",
        " - Precision(정밀도) - 모델이 True로 예측한 값들 중에서 정말로 예측한 값이 맞는지?\n",
        " - Recall(재현율) -  True 클래스 중 모델이 잘 예측한 클래스의 비율?\n",
        " - F1 Score = 2 X (정밀도 X 재현율) / (정밀도 + 재현율)<br>\n",
        "정밀도와 재현율을 결합한 지표(F1 Score는 정밀도와 재현율이 어느 한쪽으로 치우치지 않는 수치를 나타낼 때 상대적으로 높은 값을 가짐)\n",
        "<br>\n",
        "\n",
        "ROC curve \n",
        "- Recall과 FPR (False Positive Rate - 전체 Negative 데이터 중 모델이 얼마나 Positive로 잘못 예측했는지)를 사용\n",
        "- 1에 가까울수록 분류가 잘 이루어지고 0.5에 가까울수록 분류가 잘 안 이루어짐"
      ],
      "metadata": {
        "id": "5QBwCotLrY7u"
      }
    },
    {
      "cell_type": "markdown",
      "source": [
        "탑"
      ],
      "metadata": {
        "id": "U9nciFjnQGn_"
      }
    },
    {
      "cell_type": "markdown",
      "source": [
        "Label Encoding"
      ],
      "metadata": {
        "id": "EawlfTulQDQH"
      }
    },
    {
      "cell_type": "code",
      "source": [
        "# 1: 레드팀, 0: 블루팀\n",
        "top_data_final['side'] = top_data_final['side'].map({'Side.red': 1, 'Side.blue':0})\n",
        "\n",
        "# 1: 승리, 0: 패배\n",
        "top_data_final['result'] = top_data_final['result'].map({True: 1, False:0})"
      ],
      "metadata": {
        "id": "y0zAMz9rQFv2"
      },
      "execution_count": null,
      "outputs": []
    },
    {
      "cell_type": "code",
      "source": [
        "#체크\n",
        "top_data_final.head(3)"
      ],
      "metadata": {
        "colab": {
          "base_uri": "https://localhost:8080/",
          "height": 207
        },
        "id": "I05mD7KMQJ9Q",
        "outputId": "4d6e6265-3d26-4def-c517-7ea5f8402771"
      },
      "execution_count": null,
      "outputs": [
        {
          "output_type": "execute_result",
          "data": {
            "text/plain": [
              "    side  assists  damage_objectives  damage_building  deaths  gold_earned  \\\n",
              "4      1        8               6419             7408       5        12368   \n",
              "14     0        3               4207             5705       4         9121   \n",
              "18     1        9               5276            17111       9        18569   \n",
              "\n",
              "         kda  kills  level  time_cc  damage_total  damage_taken  \\\n",
              "4   4.200000     13     15       25        110580         20404   \n",
              "14  1.750000      4     13       12        102586         20290   \n",
              "18  2.333333     12     18       10        254391         32040   \n",
              "\n",
              "    total_minions_killed  turret_kills  vision_score  result  \n",
              "4                    141             2            24       1  \n",
              "14                   153             2             6       0  \n",
              "18                   273             0            27       0  "
            ],
            "text/html": [
              "\n",
              "  <div id=\"df-4810c8f5-7a17-46ac-888a-ef3a6d5b474d\">\n",
              "    <div class=\"colab-df-container\">\n",
              "      <div>\n",
              "<style scoped>\n",
              "    .dataframe tbody tr th:only-of-type {\n",
              "        vertical-align: middle;\n",
              "    }\n",
              "\n",
              "    .dataframe tbody tr th {\n",
              "        vertical-align: top;\n",
              "    }\n",
              "\n",
              "    .dataframe thead th {\n",
              "        text-align: right;\n",
              "    }\n",
              "</style>\n",
              "<table border=\"1\" class=\"dataframe\">\n",
              "  <thead>\n",
              "    <tr style=\"text-align: right;\">\n",
              "      <th></th>\n",
              "      <th>side</th>\n",
              "      <th>assists</th>\n",
              "      <th>damage_objectives</th>\n",
              "      <th>damage_building</th>\n",
              "      <th>deaths</th>\n",
              "      <th>gold_earned</th>\n",
              "      <th>kda</th>\n",
              "      <th>kills</th>\n",
              "      <th>level</th>\n",
              "      <th>time_cc</th>\n",
              "      <th>damage_total</th>\n",
              "      <th>damage_taken</th>\n",
              "      <th>total_minions_killed</th>\n",
              "      <th>turret_kills</th>\n",
              "      <th>vision_score</th>\n",
              "      <th>result</th>\n",
              "    </tr>\n",
              "  </thead>\n",
              "  <tbody>\n",
              "    <tr>\n",
              "      <th>4</th>\n",
              "      <td>1</td>\n",
              "      <td>8</td>\n",
              "      <td>6419</td>\n",
              "      <td>7408</td>\n",
              "      <td>5</td>\n",
              "      <td>12368</td>\n",
              "      <td>4.200000</td>\n",
              "      <td>13</td>\n",
              "      <td>15</td>\n",
              "      <td>25</td>\n",
              "      <td>110580</td>\n",
              "      <td>20404</td>\n",
              "      <td>141</td>\n",
              "      <td>2</td>\n",
              "      <td>24</td>\n",
              "      <td>1</td>\n",
              "    </tr>\n",
              "    <tr>\n",
              "      <th>14</th>\n",
              "      <td>0</td>\n",
              "      <td>3</td>\n",
              "      <td>4207</td>\n",
              "      <td>5705</td>\n",
              "      <td>4</td>\n",
              "      <td>9121</td>\n",
              "      <td>1.750000</td>\n",
              "      <td>4</td>\n",
              "      <td>13</td>\n",
              "      <td>12</td>\n",
              "      <td>102586</td>\n",
              "      <td>20290</td>\n",
              "      <td>153</td>\n",
              "      <td>2</td>\n",
              "      <td>6</td>\n",
              "      <td>0</td>\n",
              "    </tr>\n",
              "    <tr>\n",
              "      <th>18</th>\n",
              "      <td>1</td>\n",
              "      <td>9</td>\n",
              "      <td>5276</td>\n",
              "      <td>17111</td>\n",
              "      <td>9</td>\n",
              "      <td>18569</td>\n",
              "      <td>2.333333</td>\n",
              "      <td>12</td>\n",
              "      <td>18</td>\n",
              "      <td>10</td>\n",
              "      <td>254391</td>\n",
              "      <td>32040</td>\n",
              "      <td>273</td>\n",
              "      <td>0</td>\n",
              "      <td>27</td>\n",
              "      <td>0</td>\n",
              "    </tr>\n",
              "  </tbody>\n",
              "</table>\n",
              "</div>\n",
              "      <button class=\"colab-df-convert\" onclick=\"convertToInteractive('df-4810c8f5-7a17-46ac-888a-ef3a6d5b474d')\"\n",
              "              title=\"Convert this dataframe to an interactive table.\"\n",
              "              style=\"display:none;\">\n",
              "        \n",
              "  <svg xmlns=\"http://www.w3.org/2000/svg\" height=\"24px\"viewBox=\"0 0 24 24\"\n",
              "       width=\"24px\">\n",
              "    <path d=\"M0 0h24v24H0V0z\" fill=\"none\"/>\n",
              "    <path d=\"M18.56 5.44l.94 2.06.94-2.06 2.06-.94-2.06-.94-.94-2.06-.94 2.06-2.06.94zm-11 1L8.5 8.5l.94-2.06 2.06-.94-2.06-.94L8.5 2.5l-.94 2.06-2.06.94zm10 10l.94 2.06.94-2.06 2.06-.94-2.06-.94-.94-2.06-.94 2.06-2.06.94z\"/><path d=\"M17.41 7.96l-1.37-1.37c-.4-.4-.92-.59-1.43-.59-.52 0-1.04.2-1.43.59L10.3 9.45l-7.72 7.72c-.78.78-.78 2.05 0 2.83L4 21.41c.39.39.9.59 1.41.59.51 0 1.02-.2 1.41-.59l7.78-7.78 2.81-2.81c.8-.78.8-2.07 0-2.86zM5.41 20L4 18.59l7.72-7.72 1.47 1.35L5.41 20z\"/>\n",
              "  </svg>\n",
              "      </button>\n",
              "      \n",
              "  <style>\n",
              "    .colab-df-container {\n",
              "      display:flex;\n",
              "      flex-wrap:wrap;\n",
              "      gap: 12px;\n",
              "    }\n",
              "\n",
              "    .colab-df-convert {\n",
              "      background-color: #E8F0FE;\n",
              "      border: none;\n",
              "      border-radius: 50%;\n",
              "      cursor: pointer;\n",
              "      display: none;\n",
              "      fill: #1967D2;\n",
              "      height: 32px;\n",
              "      padding: 0 0 0 0;\n",
              "      width: 32px;\n",
              "    }\n",
              "\n",
              "    .colab-df-convert:hover {\n",
              "      background-color: #E2EBFA;\n",
              "      box-shadow: 0px 1px 2px rgba(60, 64, 67, 0.3), 0px 1px 3px 1px rgba(60, 64, 67, 0.15);\n",
              "      fill: #174EA6;\n",
              "    }\n",
              "\n",
              "    [theme=dark] .colab-df-convert {\n",
              "      background-color: #3B4455;\n",
              "      fill: #D2E3FC;\n",
              "    }\n",
              "\n",
              "    [theme=dark] .colab-df-convert:hover {\n",
              "      background-color: #434B5C;\n",
              "      box-shadow: 0px 1px 3px 1px rgba(0, 0, 0, 0.15);\n",
              "      filter: drop-shadow(0px 1px 2px rgba(0, 0, 0, 0.3));\n",
              "      fill: #FFFFFF;\n",
              "    }\n",
              "  </style>\n",
              "\n",
              "      <script>\n",
              "        const buttonEl =\n",
              "          document.querySelector('#df-4810c8f5-7a17-46ac-888a-ef3a6d5b474d button.colab-df-convert');\n",
              "        buttonEl.style.display =\n",
              "          google.colab.kernel.accessAllowed ? 'block' : 'none';\n",
              "\n",
              "        async function convertToInteractive(key) {\n",
              "          const element = document.querySelector('#df-4810c8f5-7a17-46ac-888a-ef3a6d5b474d');\n",
              "          const dataTable =\n",
              "            await google.colab.kernel.invokeFunction('convertToInteractive',\n",
              "                                                     [key], {});\n",
              "          if (!dataTable) return;\n",
              "\n",
              "          const docLinkHtml = 'Like what you see? Visit the ' +\n",
              "            '<a target=\"_blank\" href=https://colab.research.google.com/notebooks/data_table.ipynb>data table notebook</a>'\n",
              "            + ' to learn more about interactive tables.';\n",
              "          element.innerHTML = '';\n",
              "          dataTable['output_type'] = 'display_data';\n",
              "          await google.colab.output.renderOutput(dataTable, element);\n",
              "          const docLink = document.createElement('div');\n",
              "          docLink.innerHTML = docLinkHtml;\n",
              "          element.appendChild(docLink);\n",
              "        }\n",
              "      </script>\n",
              "    </div>\n",
              "  </div>\n",
              "  "
            ]
          },
          "metadata": {},
          "execution_count": 133
        }
      ]
    },
    {
      "cell_type": "code",
      "source": [
        "# 80-20 train-test split\n",
        "X_top = top_data_final.drop(columns=['result']).values\n",
        "Y_top = top_data_final['result'].values\n",
        "X_train_top, X_test_top, Y_train_top, Y_test_top = train_test_split(X_top,Y_top,test_size=0.2, random_state=2022)"
      ],
      "metadata": {
        "id": "cjx4KJ81QNBO"
      },
      "execution_count": null,
      "outputs": []
    },
    {
      "cell_type": "code",
      "source": [
        "#각 데이터를 학습하고 validation으로 평가를 한 다음 10개의 결과에 대해 평균을 내어 최종 성능을 구함\n",
        "cv = RepeatedKFold(n_splits=10, n_repeats=3, random_state=2022)"
      ],
      "metadata": {
        "id": "_5-CPYtiQR5e"
      },
      "execution_count": null,
      "outputs": []
    },
    {
      "cell_type": "code",
      "source": [
        "#로지스틱 회귀\n",
        "top_log_model = LogisticRegression(random_state=2022, max_iter=10000)\n",
        "top_log_model.fit(X_train_top,Y_train_top)"
      ],
      "metadata": {
        "colab": {
          "base_uri": "https://localhost:8080/"
        },
        "id": "0DFqpPUzQTUO",
        "outputId": "9bedcbd9-37f4-41e7-cc76-d5c582d28124"
      },
      "execution_count": null,
      "outputs": [
        {
          "output_type": "execute_result",
          "data": {
            "text/plain": [
              "LogisticRegression(max_iter=10000, random_state=2022)"
            ]
          },
          "metadata": {},
          "execution_count": 136
        }
      ]
    },
    {
      "cell_type": "code",
      "source": [
        "top_log_f1scores = cross_val_score(top_log_model, X_train_top, Y_train_top, scoring=\"f1\",cv=cv)"
      ],
      "metadata": {
        "id": "9xggI7FYQnY2"
      },
      "execution_count": null,
      "outputs": []
    },
    {
      "cell_type": "code",
      "source": [
        "top_log_ROCscores = cross_val_score(top_log_model, X_train_top, Y_train_top, scoring=\"roc_auc\", cv=cv)"
      ],
      "metadata": {
        "id": "s4rVOEsFQsdO"
      },
      "execution_count": null,
      "outputs": []
    },
    {
      "cell_type": "code",
      "source": [
        "print('F1: %.3f (%.3f)' % (np.mean(top_log_f1scores), np.std(top_log_f1scores)))\n",
        "print('ROC: %.3f (%.3f)' % (np.mean(top_log_ROCscores), np.std(top_log_ROCscores)))"
      ],
      "metadata": {
        "colab": {
          "base_uri": "https://localhost:8080/"
        },
        "id": "orXJ1MzLQwX2",
        "outputId": "4fdfc761-192e-4e2a-da7d-849e9b62f63c"
      },
      "execution_count": null,
      "outputs": [
        {
          "output_type": "stream",
          "name": "stdout",
          "text": [
            "F1: 0.822 (0.048)\n",
            "ROC: 0.905 (0.033)\n"
          ]
        }
      ]
    },
    {
      "cell_type": "code",
      "source": [
        "#의사결정트리\n",
        "top_dt_model = DecisionTreeClassifier(random_state=2022)\n",
        "top_dt_model.fit(X_train_top,Y_train_top)"
      ],
      "metadata": {
        "colab": {
          "base_uri": "https://localhost:8080/"
        },
        "id": "gcUncgPcQ3WG",
        "outputId": "f88b437a-7d8d-4019-f9ee-6bdde3455641"
      },
      "execution_count": null,
      "outputs": [
        {
          "output_type": "execute_result",
          "data": {
            "text/plain": [
              "DecisionTreeClassifier(random_state=2022)"
            ]
          },
          "metadata": {},
          "execution_count": 140
        }
      ]
    },
    {
      "cell_type": "code",
      "source": [
        "top_dt_f1scores = cross_val_score(top_dt_model, X_train_top, Y_train_top, \n",
        "                                    scoring=\"f1\",cv=cv)\n",
        "top_dt_ROCscores = cross_val_score(top_dt_model, X_train_top, Y_train_top,\n",
        "                                       scoring=\"roc_auc\", cv=cv)"
      ],
      "metadata": {
        "id": "PeX0b5DUQ6ZQ"
      },
      "execution_count": null,
      "outputs": []
    },
    {
      "cell_type": "code",
      "source": [
        "print('F1: %.3f (%.3f)' % (np.mean(top_dt_f1scores), np.std(top_dt_f1scores)))\n",
        "print('ROC: %.3f (%.3f)' % (np.mean(top_dt_ROCscores), np.std(top_dt_ROCscores)))"
      ],
      "metadata": {
        "colab": {
          "base_uri": "https://localhost:8080/"
        },
        "id": "We4DjquIQ882",
        "outputId": "e1e4b88a-2458-47af-c1b2-7747fa02b266"
      },
      "execution_count": null,
      "outputs": [
        {
          "output_type": "stream",
          "name": "stdout",
          "text": [
            "F1: 0.800 (0.038)\n",
            "ROC: 0.794 (0.038)\n"
          ]
        }
      ]
    },
    {
      "cell_type": "code",
      "source": [
        "#랜덤포레스트\n",
        "top_rf_model = RandomForestClassifier(random_state = 2022)\n",
        "top_rf_model.fit(X_train_top,Y_train_top)"
      ],
      "metadata": {
        "colab": {
          "base_uri": "https://localhost:8080/"
        },
        "id": "LpdxmTwCRMK4",
        "outputId": "81c3bd85-2fc0-459a-f4d4-8645c00e7157"
      },
      "execution_count": null,
      "outputs": [
        {
          "output_type": "execute_result",
          "data": {
            "text/plain": [
              "RandomForestClassifier(random_state=2022)"
            ]
          },
          "metadata": {},
          "execution_count": 143
        }
      ]
    },
    {
      "cell_type": "code",
      "source": [
        "top_rf_f1scores = cross_val_score(top_rf_model, X_train_top, Y_train_top, scoring=\"f1\",cv=cv)\n",
        "\n",
        "top_rf_ROCscores = cross_val_score(top_rf_model, X_train_top, Y_train_top, scoring=\"roc_auc\", cv=cv)"
      ],
      "metadata": {
        "id": "F2izPgknRQie"
      },
      "execution_count": null,
      "outputs": []
    },
    {
      "cell_type": "code",
      "source": [
        "print('F1: %.3f (%.3f)' % (np.mean(top_rf_f1scores), np.std(top_rf_f1scores)))\n",
        "print('ROC: %.3f (%.3f)' % (np.mean(top_rf_ROCscores), np.std(top_rf_ROCscores)))"
      ],
      "metadata": {
        "colab": {
          "base_uri": "https://localhost:8080/"
        },
        "id": "t6nyzXK7RU0d",
        "outputId": "20100a4b-bded-4b1d-b417-f33bd493ff5e"
      },
      "execution_count": null,
      "outputs": [
        {
          "output_type": "stream",
          "name": "stdout",
          "text": [
            "F1: 0.856 (0.035)\n",
            "ROC: 0.923 (0.031)\n"
          ]
        }
      ]
    },
    {
      "cell_type": "markdown",
      "source": [
        "Random Forest가 가장 잘 수행하였으므로 Random Forest를 test set으로 사용"
      ],
      "metadata": {
        "id": "pfHc5Qiz7RzI"
      }
    },
    {
      "cell_type": "markdown",
      "source": [
        "예측"
      ],
      "metadata": {
        "id": "dLE1-WfgRmU2"
      }
    },
    {
      "cell_type": "code",
      "source": [
        "y_top_predict = top_rf_model.predict(X_test_top)"
      ],
      "metadata": {
        "id": "-0-RUGspRdku"
      },
      "execution_count": null,
      "outputs": []
    },
    {
      "cell_type": "code",
      "source": [
        "print(\"Accuracy Score\", metrics.accuracy_score(Y_test_top, y_top_predict))\n",
        "print(\"F1 Score\", metrics.f1_score(Y_test_top, y_top_predict))\n",
        "print(\"ROC-AUC Score\", metrics.roc_auc_score(Y_test_top, y_top_predict))"
      ],
      "metadata": {
        "colab": {
          "base_uri": "https://localhost:8080/"
        },
        "id": "WeCIoU-TRiSu",
        "outputId": "17a68bf6-effb-486e-9863-ec6769e42f40"
      },
      "execution_count": null,
      "outputs": [
        {
          "output_type": "stream",
          "name": "stdout",
          "text": [
            "Accuracy Score 0.8253275109170306\n",
            "F1 Score 0.8387096774193549\n",
            "ROC-AUC Score 0.8232415902140673\n"
          ]
        }
      ]
    },
    {
      "cell_type": "code",
      "source": [
        "top_feature_importance=pd.DataFrame({\n",
        "    'Random Forest':top_rf_model.feature_importances_,\n",
        "    'Decision Tree':top_dt_model.feature_importances_,\n",
        "    'Logistic Regression':[abs(i) for i in top_log_model.coef_[0]]\n",
        "},index=top_data_final.drop(columns=['result']).columns)\n",
        "top_feature_importance.sort_values(by='Random Forest',ascending=True,inplace=True)\n",
        "\n",
        "top_feature_importance.plot(kind='barh',figsize=(12,10),fontsize=12)"
      ],
      "metadata": {
        "colab": {
          "base_uri": "https://localhost:8080/",
          "height": 613
        },
        "id": "DSnRVnM9651A",
        "outputId": "81b184eb-03d7-4310-e212-1b24fca4df37"
      },
      "execution_count": null,
      "outputs": [
        {
          "output_type": "execute_result",
          "data": {
            "text/plain": [
              "<matplotlib.axes._subplots.AxesSubplot at 0x7fd09ca664d0>"
            ]
          },
          "metadata": {},
          "execution_count": 148
        },
        {
          "output_type": "display_data",
          "data": {
            "text/plain": [
              "<Figure size 864x720 with 1 Axes>"
            ],
            "image/png": "[encoded data removed]"
          },
          "metadata": {
            "needs_background": "light"
          }
        }
      ]
    },
    {
      "cell_type": "markdown",
      "source": [
        "Random Forest모델과 Decision Tree모델은  KDA에 중점을 두었고, \n",
        "<br>로지스틱 회귀 모델은 total_minions_killed에 중점으로 두었다는 것을 볼 수 있다."
      ],
      "metadata": {
        "id": "oDhhHsjs9cGI"
      }
    },
    {
      "cell_type": "markdown",
      "source": [
        "정글"
      ],
      "metadata": {
        "id": "vOZhrtRdRqKm"
      }
    },
    {
      "cell_type": "markdown",
      "source": [
        "Label Encoding"
      ],
      "metadata": {
        "id": "MQtPXKRORrBm"
      }
    },
    {
      "cell_type": "code",
      "source": [
        "# 1: 레드팀, 0: 블루팀\n",
        "jungle_data_final['side'] = jungle_data_final['side'].map({'Side.red': 1, 'Side.blue':0})\n",
        "\n",
        "# 1: 승리, 0: 패배\n",
        "jungle_data_final['result'] = jungle_data_final['result'].map({True: 1, False:0})"
      ],
      "metadata": {
        "id": "8EMmV0TERs3m"
      },
      "execution_count": null,
      "outputs": []
    },
    {
      "cell_type": "code",
      "source": [
        "#체크\n",
        "jungle_data_final.head(3)"
      ],
      "metadata": {
        "colab": {
          "base_uri": "https://localhost:8080/",
          "height": 207
        },
        "id": "S8XowGRmRwdW",
        "outputId": "376ea5cf-6845-4bf4-e4a3-0bd3389004e8"
      },
      "execution_count": null,
      "outputs": [
        {
          "output_type": "execute_result",
          "data": {
            "text/plain": [
              "    side  assists  damage_objectives  damage_building  deaths  gold_earned  \\\n",
              "1      1        8                547            46480       3        12919   \n",
              "9      0        2               1322            14485       7        10050   \n",
              "11     1        2                  0             6259       5         6614   \n",
              "\n",
              "         kda  kills  level  time_cc  damage_total  damage_taken  \\\n",
              "1   6.666667     12     16       32        194463         25782   \n",
              "9   1.428571      8     12       14        110857         25643   \n",
              "11  0.800000      2     11       11         96989         16934   \n",
              "\n",
              "    total_minions_killed  turret_kills  vision_score  result  \n",
              "1                     23             1            20       1  \n",
              "9                     24             1            24       0  \n",
              "11                    12             0            21       0  "
            ],
            "text/html": [
              "\n",
              "  <div id=\"df-5146409b-0960-4fd9-a0d3-342c61d21499\">\n",
              "    <div class=\"colab-df-container\">\n",
              "      <div>\n",
              "<style scoped>\n",
              "    .dataframe tbody tr th:only-of-type {\n",
              "        vertical-align: middle;\n",
              "    }\n",
              "\n",
              "    .dataframe tbody tr th {\n",
              "        vertical-align: top;\n",
              "    }\n",
              "\n",
              "    .dataframe thead th {\n",
              "        text-align: right;\n",
              "    }\n",
              "</style>\n",
              "<table border=\"1\" class=\"dataframe\">\n",
              "  <thead>\n",
              "    <tr style=\"text-align: right;\">\n",
              "      <th></th>\n",
              "      <th>side</th>\n",
              "      <th>assists</th>\n",
              "      <th>damage_objectives</th>\n",
              "      <th>damage_building</th>\n",
              "      <th>deaths</th>\n",
              "      <th>gold_earned</th>\n",
              "      <th>kda</th>\n",
              "      <th>kills</th>\n",
              "      <th>level</th>\n",
              "      <th>time_cc</th>\n",
              "      <th>damage_total</th>\n",
              "      <th>damage_taken</th>\n",
              "      <th>total_minions_killed</th>\n",
              "      <th>turret_kills</th>\n",
              "      <th>vision_score</th>\n",
              "      <th>result</th>\n",
              "    </tr>\n",
              "  </thead>\n",
              "  <tbody>\n",
              "    <tr>\n",
              "      <th>1</th>\n",
              "      <td>1</td>\n",
              "      <td>8</td>\n",
              "      <td>547</td>\n",
              "      <td>46480</td>\n",
              "      <td>3</td>\n",
              "      <td>12919</td>\n",
              "      <td>6.666667</td>\n",
              "      <td>12</td>\n",
              "      <td>16</td>\n",
              "      <td>32</td>\n",
              "      <td>194463</td>\n",
              "      <td>25782</td>\n",
              "      <td>23</td>\n",
              "      <td>1</td>\n",
              "      <td>20</td>\n",
              "      <td>1</td>\n",
              "    </tr>\n",
              "    <tr>\n",
              "      <th>9</th>\n",
              "      <td>0</td>\n",
              "      <td>2</td>\n",
              "      <td>1322</td>\n",
              "      <td>14485</td>\n",
              "      <td>7</td>\n",
              "      <td>10050</td>\n",
              "      <td>1.428571</td>\n",
              "      <td>8</td>\n",
              "      <td>12</td>\n",
              "      <td>14</td>\n",
              "      <td>110857</td>\n",
              "      <td>25643</td>\n",
              "      <td>24</td>\n",
              "      <td>1</td>\n",
              "      <td>24</td>\n",
              "      <td>0</td>\n",
              "    </tr>\n",
              "    <tr>\n",
              "      <th>11</th>\n",
              "      <td>1</td>\n",
              "      <td>2</td>\n",
              "      <td>0</td>\n",
              "      <td>6259</td>\n",
              "      <td>5</td>\n",
              "      <td>6614</td>\n",
              "      <td>0.800000</td>\n",
              "      <td>2</td>\n",
              "      <td>11</td>\n",
              "      <td>11</td>\n",
              "      <td>96989</td>\n",
              "      <td>16934</td>\n",
              "      <td>12</td>\n",
              "      <td>0</td>\n",
              "      <td>21</td>\n",
              "      <td>0</td>\n",
              "    </tr>\n",
              "  </tbody>\n",
              "</table>\n",
              "</div>\n",
              "      <button class=\"colab-df-convert\" onclick=\"convertToInteractive('df-5146409b-0960-4fd9-a0d3-342c61d21499')\"\n",
              "              title=\"Convert this dataframe to an interactive table.\"\n",
              "              style=\"display:none;\">\n",
              "        \n",
              "  <svg xmlns=\"http://www.w3.org/2000/svg\" height=\"24px\"viewBox=\"0 0 24 24\"\n",
              "       width=\"24px\">\n",
              "    <path d=\"M0 0h24v24H0V0z\" fill=\"none\"/>\n",
              "    <path d=\"M18.56 5.44l.94 2.06.94-2.06 2.06-.94-2.06-.94-.94-2.06-.94 2.06-2.06.94zm-11 1L8.5 8.5l.94-2.06 2.06-.94-2.06-.94L8.5 2.5l-.94 2.06-2.06.94zm10 10l.94 2.06.94-2.06 2.06-.94-2.06-.94-.94-2.06-.94 2.06-2.06.94z\"/><path d=\"M17.41 7.96l-1.37-1.37c-.4-.4-.92-.59-1.43-.59-.52 0-1.04.2-1.43.59L10.3 9.45l-7.72 7.72c-.78.78-.78 2.05 0 2.83L4 21.41c.39.39.9.59 1.41.59.51 0 1.02-.2 1.41-.59l7.78-7.78 2.81-2.81c.8-.78.8-2.07 0-2.86zM5.41 20L4 18.59l7.72-7.72 1.47 1.35L5.41 20z\"/>\n",
              "  </svg>\n",
              "      </button>\n",
              "      \n",
              "  <style>\n",
              "    .colab-df-container {\n",
              "      display:flex;\n",
              "      flex-wrap:wrap;\n",
              "      gap: 12px;\n",
              "    }\n",
              "\n",
              "    .colab-df-convert {\n",
              "      background-color: #E8F0FE;\n",
              "      border: none;\n",
              "      border-radius: 50%;\n",
              "      cursor: pointer;\n",
              "      display: none;\n",
              "      fill: #1967D2;\n",
              "      height: 32px;\n",
              "      padding: 0 0 0 0;\n",
              "      width: 32px;\n",
              "    }\n",
              "\n",
              "    .colab-df-convert:hover {\n",
              "      background-color: #E2EBFA;\n",
              "      box-shadow: 0px 1px 2px rgba(60, 64, 67, 0.3), 0px 1px 3px 1px rgba(60, 64, 67, 0.15);\n",
              "      fill: #174EA6;\n",
              "    }\n",
              "\n",
              "    [theme=dark] .colab-df-convert {\n",
              "      background-color: #3B4455;\n",
              "      fill: #D2E3FC;\n",
              "    }\n",
              "\n",
              "    [theme=dark] .colab-df-convert:hover {\n",
              "      background-color: #434B5C;\n",
              "      box-shadow: 0px 1px 3px 1px rgba(0, 0, 0, 0.15);\n",
              "      filter: drop-shadow(0px 1px 2px rgba(0, 0, 0, 0.3));\n",
              "      fill: #FFFFFF;\n",
              "    }\n",
              "  </style>\n",
              "\n",
              "      <script>\n",
              "        const buttonEl =\n",
              "          document.querySelector('#df-5146409b-0960-4fd9-a0d3-342c61d21499 button.colab-df-convert');\n",
              "        buttonEl.style.display =\n",
              "          google.colab.kernel.accessAllowed ? 'block' : 'none';\n",
              "\n",
              "        async function convertToInteractive(key) {\n",
              "          const element = document.querySelector('#df-5146409b-0960-4fd9-a0d3-342c61d21499');\n",
              "          const dataTable =\n",
              "            await google.colab.kernel.invokeFunction('convertToInteractive',\n",
              "                                                     [key], {});\n",
              "          if (!dataTable) return;\n",
              "\n",
              "          const docLinkHtml = 'Like what you see? Visit the ' +\n",
              "            '<a target=\"_blank\" href=https://colab.research.google.com/notebooks/data_table.ipynb>data table notebook</a>'\n",
              "            + ' to learn more about interactive tables.';\n",
              "          element.innerHTML = '';\n",
              "          dataTable['output_type'] = 'display_data';\n",
              "          await google.colab.output.renderOutput(dataTable, element);\n",
              "          const docLink = document.createElement('div');\n",
              "          docLink.innerHTML = docLinkHtml;\n",
              "          element.appendChild(docLink);\n",
              "        }\n",
              "      </script>\n",
              "    </div>\n",
              "  </div>\n",
              "  "
            ]
          },
          "metadata": {},
          "execution_count": 150
        }
      ]
    },
    {
      "cell_type": "code",
      "source": [
        "# 80-20 train test split\n",
        "X_jungle = jungle_data_final.drop(columns=['result']).values\n",
        "Y_jungle = jungle_data_final['result'].values\n",
        "X_train_jungle, X_test_jungle, Y_train_jungle,Y_test_jungle = train_test_split(X_jungle,Y_jungle,test_size=0.2, random_state=2022)"
      ],
      "metadata": {
        "id": "zYnUj8jzR0u2"
      },
      "execution_count": null,
      "outputs": []
    },
    {
      "cell_type": "code",
      "source": [
        "cv = RepeatedKFold(n_splits=10, n_repeats=3, random_state=2022)"
      ],
      "metadata": {
        "id": "u1icYY50R34O"
      },
      "execution_count": null,
      "outputs": []
    },
    {
      "cell_type": "code",
      "source": [
        "#로지스틱 회귀\n",
        "jungle_log_model = LogisticRegression(random_state=2022, max_iter=10000)\n",
        "jungle_log_model.fit(X_train_jungle,Y_train_jungle)"
      ],
      "metadata": {
        "colab": {
          "base_uri": "https://localhost:8080/"
        },
        "id": "RZixCAcFR5A-",
        "outputId": "b702302c-b0ee-4127-dcac-ab02542d24b8"
      },
      "execution_count": null,
      "outputs": [
        {
          "output_type": "execute_result",
          "data": {
            "text/plain": [
              "LogisticRegression(max_iter=10000, random_state=2022)"
            ]
          },
          "metadata": {},
          "execution_count": 153
        }
      ]
    },
    {
      "cell_type": "code",
      "source": [
        "jungle_log_f1scores = cross_val_score(jungle_log_model, X_train_jungle, Y_train_jungle, scoring=\"f1\",cv=cv)\n",
        "\n",
        "jungle_log_ROCscores = cross_val_score(jungle_log_model, X_train_jungle, Y_train_jungle, scoring=\"roc_auc\", cv=cv)"
      ],
      "metadata": {
        "id": "kk4V4wUsR8eJ"
      },
      "execution_count": null,
      "outputs": []
    },
    {
      "cell_type": "code",
      "source": [
        "print('F1: %.3f (%.3f)' % (np.mean(jungle_log_f1scores), np.std(jungle_log_f1scores)))\n",
        "print('ROC: %.3f (%.3f)' % (np.mean(jungle_log_ROCscores), np.std(jungle_log_ROCscores)))"
      ],
      "metadata": {
        "colab": {
          "base_uri": "https://localhost:8080/"
        },
        "id": "el-QACZUR-_X",
        "outputId": "252ee6d0-37a5-4307-efe2-bdde7a2eddb3"
      },
      "execution_count": null,
      "outputs": [
        {
          "output_type": "stream",
          "name": "stdout",
          "text": [
            "F1: 0.870 (0.030)\n",
            "ROC: 0.939 (0.023)\n"
          ]
        }
      ]
    },
    {
      "cell_type": "code",
      "source": [
        "#의사결정트리\n",
        "jungle_dt_model = DecisionTreeClassifier(random_state=2022)\n",
        "jungle_dt_model.fit(X_train_jungle,Y_train_jungle)"
      ],
      "metadata": {
        "colab": {
          "base_uri": "https://localhost:8080/"
        },
        "id": "j5mn3eHbSBlG",
        "outputId": "09e57e38-b254-4976-9689-c179fd157e65"
      },
      "execution_count": null,
      "outputs": [
        {
          "output_type": "execute_result",
          "data": {
            "text/plain": [
              "DecisionTreeClassifier(random_state=2022)"
            ]
          },
          "metadata": {},
          "execution_count": 156
        }
      ]
    },
    {
      "cell_type": "code",
      "source": [
        "jungle_dt_f1scores = cross_val_score(jungle_dt_model, X_train_jungle, Y_train_jungle, scoring=\"f1\",cv=cv)\n",
        "\n",
        "jungle_dt_ROCscores = cross_val_score(jungle_dt_model, X_train_jungle, Y_train_jungle, scoring=\"roc_auc\", cv=cv)"
      ],
      "metadata": {
        "id": "JE3VP5GMSEV2"
      },
      "execution_count": null,
      "outputs": []
    },
    {
      "cell_type": "code",
      "source": [
        "print('F1: %.3f (%.3f)' % (np.mean(jungle_dt_f1scores), np.std(jungle_dt_f1scores)))\n",
        "print('ROC: %.3f (%.3f)' % (np.mean(jungle_dt_ROCscores), np.std(jungle_dt_ROCscores)))"
      ],
      "metadata": {
        "colab": {
          "base_uri": "https://localhost:8080/"
        },
        "id": "Tko4ZB_8SL4V",
        "outputId": "8ad10575-fb2e-4518-c97f-606c9d486301"
      },
      "execution_count": null,
      "outputs": [
        {
          "output_type": "stream",
          "name": "stdout",
          "text": [
            "F1: 0.831 (0.037)\n",
            "ROC: 0.820 (0.039)\n"
          ]
        }
      ]
    },
    {
      "cell_type": "code",
      "source": [
        "#랜덤포레스트\n",
        "jungle_rf_model = RandomForestClassifier(random_state = 2022)\n",
        "jungle_rf_model.fit(X_train_jungle,Y_train_jungle)"
      ],
      "metadata": {
        "colab": {
          "base_uri": "https://localhost:8080/"
        },
        "id": "IQrvmr-uSO5t",
        "outputId": "b090f0b4-c658-4e69-9acb-93cc8b447d28"
      },
      "execution_count": null,
      "outputs": [
        {
          "output_type": "execute_result",
          "data": {
            "text/plain": [
              "RandomForestClassifier(random_state=2022)"
            ]
          },
          "metadata": {},
          "execution_count": 159
        }
      ]
    },
    {
      "cell_type": "code",
      "source": [
        "jungle_rf_f1scores = cross_val_score(jungle_rf_model, X_train_jungle, Y_train_jungle, scoring=\"f1\",cv=cv)\n",
        "\n",
        "jungle_rf_ROCscores = cross_val_score(jungle_rf_model, X_train_jungle, Y_train_jungle, scoring=\"roc_auc\", cv=cv)"
      ],
      "metadata": {
        "id": "oRt1ll0RSTXl"
      },
      "execution_count": null,
      "outputs": []
    },
    {
      "cell_type": "code",
      "source": [
        "print('F1: %.3f (%.3f)' % (np.mean(jungle_rf_f1scores), np.std(jungle_rf_f1scores)))\n",
        "print('ROC: %.3f (%.3f)' % (np.mean(jungle_rf_ROCscores), np.std(jungle_rf_ROCscores)))"
      ],
      "metadata": {
        "colab": {
          "base_uri": "https://localhost:8080/"
        },
        "id": "RJVbutUsSWAx",
        "outputId": "8a20ae96-56bf-45af-c750-f367d9b6d239"
      },
      "execution_count": null,
      "outputs": [
        {
          "output_type": "stream",
          "name": "stdout",
          "text": [
            "F1: 0.888 (0.025)\n",
            "ROC: 0.953 (0.020)\n"
          ]
        }
      ]
    },
    {
      "cell_type": "markdown",
      "source": [
        "Random Forest가 가장 잘 수행하였으므로 Random Forest를 test set으로 사용"
      ],
      "metadata": {
        "id": "cr9joAM36YgQ"
      }
    },
    {
      "cell_type": "markdown",
      "source": [
        "예측"
      ],
      "metadata": {
        "id": "DgXeZmCQSYwV"
      }
    },
    {
      "cell_type": "code",
      "source": [
        "y_jungle_predict = jungle_rf_model.predict(X_test_jungle)"
      ],
      "metadata": {
        "id": "UTIe21b0SYPG"
      },
      "execution_count": null,
      "outputs": []
    },
    {
      "cell_type": "code",
      "source": [
        "print(\"Accuracy Score\", metrics.accuracy_score(Y_test_jungle, y_jungle_predict))\n",
        "print(\"F1 Score\", metrics.f1_score(Y_test_jungle, y_jungle_predict))\n",
        "print(\"ROC-AUC Score\", metrics.roc_auc_score(Y_test_jungle, y_jungle_predict))"
      ],
      "metadata": {
        "colab": {
          "base_uri": "https://localhost:8080/"
        },
        "id": "XWEwT5m1SceF",
        "outputId": "8e54cc33-ce36-4fe4-a78d-05c11f9fa86c"
      },
      "execution_count": null,
      "outputs": [
        {
          "output_type": "stream",
          "name": "stdout",
          "text": [
            "Accuracy Score 0.8652173913043478\n",
            "F1 Score 0.8713692946058091\n",
            "ROC-AUC Score 0.8679309561662504\n"
          ]
        }
      ]
    },
    {
      "cell_type": "code",
      "source": [
        "jungle_feature_importance=pd.DataFrame({\n",
        "    'Random Forest':jungle_rf_model.feature_importances_,\n",
        "    'Decision Tree':jungle_dt_model.feature_importances_,\n",
        "    'Logistic Regression':[abs(i) for i in jungle_log_model.coef_[0]]\n",
        "},index=jungle_data_final.drop(columns=['result']).columns)\n",
        "jungle_feature_importance.sort_values(by='Random Forest',ascending=True,inplace=True)\n",
        "\n",
        "jungle_feature_importance.plot(kind='barh',figsize=(12,10),fontsize=12)"
      ],
      "metadata": {
        "colab": {
          "base_uri": "https://localhost:8080/",
          "height": 613
        },
        "id": "BaeFeQx_6j9B",
        "outputId": "130a999e-9e97-4022-f625-78a81a18f82a"
      },
      "execution_count": null,
      "outputs": [
        {
          "output_type": "execute_result",
          "data": {
            "text/plain": [
              "<matplotlib.axes._subplots.AxesSubplot at 0x7fd09c9920d0>"
            ]
          },
          "metadata": {},
          "execution_count": 164
        },
        {
          "output_type": "display_data",
          "data": {
            "text/plain": [
              "<Figure size 864x720 with 1 Axes>"
            ],
            "image/png": "[encoded data removed]"
          },
          "metadata": {
            "needs_background": "light"
          }
        }
      ]
    },
    {
      "cell_type": "markdown",
      "source": [
        "세 모델 모두 KDA에 중점을 두었고, 의사 결정 트리가 가장 많은 중점을 두었다.\n",
        "로지스틱 회귀 모델은 level,assists,kills,deaths도 중점으로 두었다는 것을 볼 수 있다."
      ],
      "metadata": {
        "id": "ljhxtV8_6jeR"
      }
    },
    {
      "cell_type": "markdown",
      "source": [
        "미드"
      ],
      "metadata": {
        "id": "NW7ps16_Sjlg"
      }
    },
    {
      "cell_type": "markdown",
      "source": [
        "Label Encoding"
      ],
      "metadata": {
        "id": "jEKxyjxcSkiF"
      }
    },
    {
      "cell_type": "code",
      "source": [
        "# 1: 레드팀, 0: 블루팀\n",
        "mid_data_final['side'] = mid_data_final['side'].map({'Side.red': 1, 'Side.blue':0})\n",
        "\n",
        "# 1: 승리, 0: 패배\n",
        "mid_data_final['result'] = mid_data_final['result'].map({True: 1, False:0})"
      ],
      "metadata": {
        "id": "L7koTs0OSmGv"
      },
      "execution_count": null,
      "outputs": []
    },
    {
      "cell_type": "code",
      "source": [
        "#체크\n",
        "mid_data_final.head(3)"
      ],
      "metadata": {
        "colab": {
          "base_uri": "https://localhost:8080/",
          "height": 207
        },
        "id": "HC4_86COSqUV",
        "outputId": "30cc0ca2-35b6-4f90-c7c5-ec66815b2cf9"
      },
      "execution_count": null,
      "outputs": [
        {
          "output_type": "execute_result",
          "data": {
            "text/plain": [
              "    side  assists  damage_objectives  damage_building  deaths  gold_earned  \\\n",
              "3      1        8               2492             3082       3        10688   \n",
              "8      0       10               7724             9580       4        10734   \n",
              "15     1        0                  0                0      10         5187   \n",
              "\n",
              "    kda  kills  level  time_cc  damage_total  damage_taken  \\\n",
              "3   5.0      7     14       29         94369         11128   \n",
              "8   5.0     10     14       27        116207         28866   \n",
              "15  0.0      0     10        5         56950         18866   \n",
              "\n",
              "    total_minions_killed  turret_kills  vision_score  result  \n",
              "3                    133             2            17       1  \n",
              "8                    156             2            11       1  \n",
              "15                   126             0            10       0  "
            ],
            "text/html": [
              "\n",
              "  <div id=\"df-d5a27be8-b637-491b-a692-646696df9f90\">\n",
              "    <div class=\"colab-df-container\">\n",
              "      <div>\n",
              "<style scoped>\n",
              "    .dataframe tbody tr th:only-of-type {\n",
              "        vertical-align: middle;\n",
              "    }\n",
              "\n",
              "    .dataframe tbody tr th {\n",
              "        vertical-align: top;\n",
              "    }\n",
              "\n",
              "    .dataframe thead th {\n",
              "        text-align: right;\n",
              "    }\n",
              "</style>\n",
              "<table border=\"1\" class=\"dataframe\">\n",
              "  <thead>\n",
              "    <tr style=\"text-align: right;\">\n",
              "      <th></th>\n",
              "      <th>side</th>\n",
              "      <th>assists</th>\n",
              "      <th>damage_objectives</th>\n",
              "      <th>damage_building</th>\n",
              "      <th>deaths</th>\n",
              "      <th>gold_earned</th>\n",
              "      <th>kda</th>\n",
              "      <th>kills</th>\n",
              "      <th>level</th>\n",
              "      <th>time_cc</th>\n",
              "      <th>damage_total</th>\n",
              "      <th>damage_taken</th>\n",
              "      <th>total_minions_killed</th>\n",
              "      <th>turret_kills</th>\n",
              "      <th>vision_score</th>\n",
              "      <th>result</th>\n",
              "    </tr>\n",
              "  </thead>\n",
              "  <tbody>\n",
              "    <tr>\n",
              "      <th>3</th>\n",
              "      <td>1</td>\n",
              "      <td>8</td>\n",
              "      <td>2492</td>\n",
              "      <td>3082</td>\n",
              "      <td>3</td>\n",
              "      <td>10688</td>\n",
              "      <td>5.0</td>\n",
              "      <td>7</td>\n",
              "      <td>14</td>\n",
              "      <td>29</td>\n",
              "      <td>94369</td>\n",
              "      <td>11128</td>\n",
              "      <td>133</td>\n",
              "      <td>2</td>\n",
              "      <td>17</td>\n",
              "      <td>1</td>\n",
              "    </tr>\n",
              "    <tr>\n",
              "      <th>8</th>\n",
              "      <td>0</td>\n",
              "      <td>10</td>\n",
              "      <td>7724</td>\n",
              "      <td>9580</td>\n",
              "      <td>4</td>\n",
              "      <td>10734</td>\n",
              "      <td>5.0</td>\n",
              "      <td>10</td>\n",
              "      <td>14</td>\n",
              "      <td>27</td>\n",
              "      <td>116207</td>\n",
              "      <td>28866</td>\n",
              "      <td>156</td>\n",
              "      <td>2</td>\n",
              "      <td>11</td>\n",
              "      <td>1</td>\n",
              "    </tr>\n",
              "    <tr>\n",
              "      <th>15</th>\n",
              "      <td>1</td>\n",
              "      <td>0</td>\n",
              "      <td>0</td>\n",
              "      <td>0</td>\n",
              "      <td>10</td>\n",
              "      <td>5187</td>\n",
              "      <td>0.0</td>\n",
              "      <td>0</td>\n",
              "      <td>10</td>\n",
              "      <td>5</td>\n",
              "      <td>56950</td>\n",
              "      <td>18866</td>\n",
              "      <td>126</td>\n",
              "      <td>0</td>\n",
              "      <td>10</td>\n",
              "      <td>0</td>\n",
              "    </tr>\n",
              "  </tbody>\n",
              "</table>\n",
              "</div>\n",
              "      <button class=\"colab-df-convert\" onclick=\"convertToInteractive('df-d5a27be8-b637-491b-a692-646696df9f90')\"\n",
              "              title=\"Convert this dataframe to an interactive table.\"\n",
              "              style=\"display:none;\">\n",
              "        \n",
              "  <svg xmlns=\"http://www.w3.org/2000/svg\" height=\"24px\"viewBox=\"0 0 24 24\"\n",
              "       width=\"24px\">\n",
              "    <path d=\"M0 0h24v24H0V0z\" fill=\"none\"/>\n",
              "    <path d=\"M18.56 5.44l.94 2.06.94-2.06 2.06-.94-2.06-.94-.94-2.06-.94 2.06-2.06.94zm-11 1L8.5 8.5l.94-2.06 2.06-.94-2.06-.94L8.5 2.5l-.94 2.06-2.06.94zm10 10l.94 2.06.94-2.06 2.06-.94-2.06-.94-.94-2.06-.94 2.06-2.06.94z\"/><path d=\"M17.41 7.96l-1.37-1.37c-.4-.4-.92-.59-1.43-.59-.52 0-1.04.2-1.43.59L10.3 9.45l-7.72 7.72c-.78.78-.78 2.05 0 2.83L4 21.41c.39.39.9.59 1.41.59.51 0 1.02-.2 1.41-.59l7.78-7.78 2.81-2.81c.8-.78.8-2.07 0-2.86zM5.41 20L4 18.59l7.72-7.72 1.47 1.35L5.41 20z\"/>\n",
              "  </svg>\n",
              "      </button>\n",
              "      \n",
              "  <style>\n",
              "    .colab-df-container {\n",
              "      display:flex;\n",
              "      flex-wrap:wrap;\n",
              "      gap: 12px;\n",
              "    }\n",
              "\n",
              "    .colab-df-convert {\n",
              "      background-color: #E8F0FE;\n",
              "      border: none;\n",
              "      border-radius: 50%;\n",
              "      cursor: pointer;\n",
              "      display: none;\n",
              "      fill: #1967D2;\n",
              "      height: 32px;\n",
              "      padding: 0 0 0 0;\n",
              "      width: 32px;\n",
              "    }\n",
              "\n",
              "    .colab-df-convert:hover {\n",
              "      background-color: #E2EBFA;\n",
              "      box-shadow: 0px 1px 2px rgba(60, 64, 67, 0.3), 0px 1px 3px 1px rgba(60, 64, 67, 0.15);\n",
              "      fill: #174EA6;\n",
              "    }\n",
              "\n",
              "    [theme=dark] .colab-df-convert {\n",
              "      background-color: #3B4455;\n",
              "      fill: #D2E3FC;\n",
              "    }\n",
              "\n",
              "    [theme=dark] .colab-df-convert:hover {\n",
              "      background-color: #434B5C;\n",
              "      box-shadow: 0px 1px 3px 1px rgba(0, 0, 0, 0.15);\n",
              "      filter: drop-shadow(0px 1px 2px rgba(0, 0, 0, 0.3));\n",
              "      fill: #FFFFFF;\n",
              "    }\n",
              "  </style>\n",
              "\n",
              "      <script>\n",
              "        const buttonEl =\n",
              "          document.querySelector('#df-d5a27be8-b637-491b-a692-646696df9f90 button.colab-df-convert');\n",
              "        buttonEl.style.display =\n",
              "          google.colab.kernel.accessAllowed ? 'block' : 'none';\n",
              "\n",
              "        async function convertToInteractive(key) {\n",
              "          const element = document.querySelector('#df-d5a27be8-b637-491b-a692-646696df9f90');\n",
              "          const dataTable =\n",
              "            await google.colab.kernel.invokeFunction('convertToInteractive',\n",
              "                                                     [key], {});\n",
              "          if (!dataTable) return;\n",
              "\n",
              "          const docLinkHtml = 'Like what you see? Visit the ' +\n",
              "            '<a target=\"_blank\" href=https://colab.research.google.com/notebooks/data_table.ipynb>data table notebook</a>'\n",
              "            + ' to learn more about interactive tables.';\n",
              "          element.innerHTML = '';\n",
              "          dataTable['output_type'] = 'display_data';\n",
              "          await google.colab.output.renderOutput(dataTable, element);\n",
              "          const docLink = document.createElement('div');\n",
              "          docLink.innerHTML = docLinkHtml;\n",
              "          element.appendChild(docLink);\n",
              "        }\n",
              "      </script>\n",
              "    </div>\n",
              "  </div>\n",
              "  "
            ]
          },
          "metadata": {},
          "execution_count": 166
        }
      ]
    },
    {
      "cell_type": "code",
      "source": [
        "# 80-20 train test split\n",
        "X_mid = mid_data_final.drop(columns=['result']).values\n",
        "Y_mid = mid_data_final['result'].values\n",
        "X_train_mid, X_test_mid, Y_train_mid, Y_test_mid = train_test_split(X_mid,Y_mid,test_size=0.2, random_state=2022)"
      ],
      "metadata": {
        "id": "nOdCDGobSslO"
      },
      "execution_count": null,
      "outputs": []
    },
    {
      "cell_type": "code",
      "source": [
        "cv = RepeatedKFold(n_splits=10, n_repeats=3, random_state=2022)"
      ],
      "metadata": {
        "id": "_LFNgy4ASvE1"
      },
      "execution_count": null,
      "outputs": []
    },
    {
      "cell_type": "code",
      "source": [
        "#로지스틱 회귀\n",
        "mid_log_model = LogisticRegression(random_state=2022, max_iter=10000)\n",
        "mid_log_model.fit(X_train_mid,Y_train_mid)"
      ],
      "metadata": {
        "colab": {
          "base_uri": "https://localhost:8080/"
        },
        "id": "R0R1Ji67Swan",
        "outputId": "c02789c9-77f0-4b6c-a428-9e5321b76434"
      },
      "execution_count": null,
      "outputs": [
        {
          "output_type": "execute_result",
          "data": {
            "text/plain": [
              "LogisticRegression(max_iter=10000, random_state=2022)"
            ]
          },
          "metadata": {},
          "execution_count": 169
        }
      ]
    },
    {
      "cell_type": "code",
      "source": [
        "mid_log_f1scores = cross_val_score(mid_log_model, X_train_mid, Y_train_mid, scoring=\"f1\",cv=cv)"
      ],
      "metadata": {
        "id": "pUJO19VqSyiH"
      },
      "execution_count": null,
      "outputs": []
    },
    {
      "cell_type": "code",
      "source": [
        "mid_log_ROCscores = cross_val_score(mid_log_model, X_train_mid, Y_train_mid, scoring=\"roc_auc\", cv=cv)"
      ],
      "metadata": {
        "id": "Awa3y7ujS0pd"
      },
      "execution_count": null,
      "outputs": []
    },
    {
      "cell_type": "code",
      "source": [
        "print('F1: %.3f (%.3f)' % (np.mean(mid_log_f1scores), np.std(mid_log_f1scores)))\n",
        "print('ROC: %.3f (%.3f)' % (np.mean(mid_log_ROCscores), np.std(mid_log_ROCscores)))"
      ],
      "metadata": {
        "colab": {
          "base_uri": "https://localhost:8080/"
        },
        "id": "nD-YzgV8S3Dt",
        "outputId": "8a90816a-c0d6-4c96-bb60-471a4476cfb1"
      },
      "execution_count": null,
      "outputs": [
        {
          "output_type": "stream",
          "name": "stdout",
          "text": [
            "F1: 0.826 (0.060)\n",
            "ROC: 0.914 (0.037)\n"
          ]
        }
      ]
    },
    {
      "cell_type": "code",
      "source": [
        "#의사결정트리\n",
        "mid_dt_model = DecisionTreeClassifier(random_state=2022)\n",
        "mid_dt_model.fit(X_train_mid,Y_train_mid)"
      ],
      "metadata": {
        "colab": {
          "base_uri": "https://localhost:8080/"
        },
        "id": "pwsK2_yoS5s9",
        "outputId": "65220606-c2a1-4adc-d4e7-18ab3ab127c0"
      },
      "execution_count": null,
      "outputs": [
        {
          "output_type": "execute_result",
          "data": {
            "text/plain": [
              "DecisionTreeClassifier(random_state=2022)"
            ]
          },
          "metadata": {},
          "execution_count": 173
        }
      ]
    },
    {
      "cell_type": "code",
      "source": [
        "mid_dt_f1scores = cross_val_score(mid_dt_model, X_train_mid, Y_train_mid, scoring=\"f1\",cv=cv)\n",
        "mid_dt_ROCscores = cross_val_score(mid_dt_model, X_train_mid, Y_train_mid, scoring=\"roc_auc\", cv=cv)"
      ],
      "metadata": {
        "id": "_Fj0U5q9S7bF"
      },
      "execution_count": null,
      "outputs": []
    },
    {
      "cell_type": "code",
      "source": [
        "print('F1: %.3f (%.3f)' % (np.mean(mid_dt_f1scores), np.std(mid_dt_f1scores)))\n",
        "print('ROC: %.3f (%.3f)' % (np.mean(mid_dt_ROCscores), np.std(mid_dt_ROCscores)))"
      ],
      "metadata": {
        "colab": {
          "base_uri": "https://localhost:8080/"
        },
        "id": "IxsTH6w2TDmV",
        "outputId": "ca1f0b0b-5308-4d6e-f027-33bddd9b5454"
      },
      "execution_count": null,
      "outputs": [
        {
          "output_type": "stream",
          "name": "stdout",
          "text": [
            "F1: 0.765 (0.048)\n",
            "ROC: 0.781 (0.041)\n"
          ]
        }
      ]
    },
    {
      "cell_type": "code",
      "source": [
        "#랜덤포레스트\n",
        "mid_rf_model = RandomForestClassifier(random_state = 2022)\n",
        "mid_rf_model.fit(X_train_mid,Y_train_mid)"
      ],
      "metadata": {
        "colab": {
          "base_uri": "https://localhost:8080/"
        },
        "id": "fL0sdmCoTHWN",
        "outputId": "338ff700-e54c-4124-f7c6-7ec185dc66c0"
      },
      "execution_count": null,
      "outputs": [
        {
          "output_type": "execute_result",
          "data": {
            "text/plain": [
              "RandomForestClassifier(random_state=2022)"
            ]
          },
          "metadata": {},
          "execution_count": 176
        }
      ]
    },
    {
      "cell_type": "code",
      "source": [
        "mid_rf_f1scores = cross_val_score(mid_rf_model, X_train_mid, Y_train_mid, scoring=\"f1\",cv=cv)\n",
        "\n",
        "mid_rf_ROCscores = cross_val_score(mid_rf_model, X_train_mid, Y_train_mid, scoring=\"roc_auc\", cv=cv)"
      ],
      "metadata": {
        "id": "066ZuAm5TJyf"
      },
      "execution_count": null,
      "outputs": []
    },
    {
      "cell_type": "code",
      "source": [
        "print('F1: %.3f (%.3f)' % (np.mean(mid_rf_f1scores), np.std(mid_rf_f1scores)))\n",
        "print('ROC: %.3f (%.3f)' % (np.mean(mid_rf_ROCscores), np.std(mid_rf_ROCscores)))"
      ],
      "metadata": {
        "colab": {
          "base_uri": "https://localhost:8080/"
        },
        "id": "mryTVHIgTL-n",
        "outputId": "28207870-15d0-40e7-ee43-d698f8f613f3"
      },
      "execution_count": null,
      "outputs": [
        {
          "output_type": "stream",
          "name": "stdout",
          "text": [
            "F1: 0.826 (0.042)\n",
            "ROC: 0.928 (0.027)\n"
          ]
        }
      ]
    },
    {
      "cell_type": "markdown",
      "source": [
        "Random Forest가 가장 잘 수행하였으므로 Random Forest를 test set으로 사용"
      ],
      "metadata": {
        "id": "l_qHQnVs5a0B"
      }
    },
    {
      "cell_type": "markdown",
      "source": [
        "예측"
      ],
      "metadata": {
        "id": "fta1JEyMTP8u"
      }
    },
    {
      "cell_type": "code",
      "source": [
        "y_mid_predict = mid_rf_model.predict(X_test_mid)"
      ],
      "metadata": {
        "id": "21T9ZzMRTPrn"
      },
      "execution_count": null,
      "outputs": []
    },
    {
      "cell_type": "code",
      "source": [
        "print(\"Accuracy Score\", metrics.accuracy_score(Y_test_mid, y_mid_predict))\n",
        "print(\"F1 Score\", metrics.f1_score(Y_test_mid, y_mid_predict))\n",
        "print(\"ROC-AUC Score\", metrics.roc_auc_score(Y_test_mid, y_mid_predict))"
      ],
      "metadata": {
        "colab": {
          "base_uri": "https://localhost:8080/"
        },
        "id": "JZArUmDrTUhV",
        "outputId": "709eeea5-7dbd-4494-afbd-24760f7ab3dd"
      },
      "execution_count": null,
      "outputs": [
        {
          "output_type": "stream",
          "name": "stdout",
          "text": [
            "Accuracy Score 0.8185840707964602\n",
            "F1 Score 0.7918781725888325\n",
            "ROC-AUC Score 0.8141386138613862\n"
          ]
        }
      ]
    },
    {
      "cell_type": "code",
      "source": [
        "mid_feature_importance=pd.DataFrame({\n",
        "    'Random Forest':mid_rf_model.feature_importances_,\n",
        "    'Decision Tree':mid_dt_model.feature_importances_,\n",
        "    'Logistic Regression':[abs(i) for i in mid_log_model.coef_[0]]\n",
        "},index=mid_data_final.drop(columns=['result']).columns)\n",
        "mid_feature_importance.sort_values(by='Random Forest',ascending=True,inplace=True)\n",
        "\n",
        "mid_feature_importance.plot(kind='barh',figsize=(12,10),fontsize=12)"
      ],
      "metadata": {
        "colab": {
          "base_uri": "https://localhost:8080/",
          "height": 613
        },
        "id": "euAqveZ25daw",
        "outputId": "ade2246a-787a-48f9-e937-3aa1bb37f175"
      },
      "execution_count": null,
      "outputs": [
        {
          "output_type": "execute_result",
          "data": {
            "text/plain": [
              "<matplotlib.axes._subplots.AxesSubplot at 0x7fd09d15b850>"
            ]
          },
          "metadata": {},
          "execution_count": 181
        },
        {
          "output_type": "display_data",
          "data": {
            "text/plain": [
              "<Figure size 864x720 with 1 Axes>"
            ],
            "image/png": "[encoded data removed]"
          },
          "metadata": {
            "needs_background": "light"
          }
        }
      ]
    },
    {
      "cell_type": "markdown",
      "source": [
        "세 모델 모두 KDA에 중점을 두었고, 의사 결정 트리가 가장 많은 중점을 두었다.<br>\n",
        "로지스틱 회귀 모델은 level,assists,kills,deaths도 중점으로 두었다는 것을 볼 수 있다."
      ],
      "metadata": {
        "id": "_xpFq2465nkp"
      }
    },
    {
      "cell_type": "markdown",
      "source": [
        "원딜"
      ],
      "metadata": {
        "id": "yoiCq6PIKWSI"
      }
    },
    {
      "cell_type": "markdown",
      "source": [
        "Label Encoding"
      ],
      "metadata": {
        "id": "14GOvYzICHwM"
      }
    },
    {
      "cell_type": "code",
      "source": [
        "# 1: 레드팀, 0: 블루팀\n",
        "adc_data_final['side'] = adc_data_final['side'].map({'Side.red': 1, 'Side.blue':0})\n",
        "\n",
        "# 1: 승리, 0: 패배\n",
        "adc_data_final['result'] = adc_data_final['result'].map({True: 1, False:0})"
      ],
      "metadata": {
        "id": "MAsAqWcHKO9Z"
      },
      "execution_count": null,
      "outputs": []
    },
    {
      "cell_type": "code",
      "source": [
        "#체크\n",
        "adc_data_final.head(3)"
      ],
      "metadata": {
        "colab": {
          "base_uri": "https://localhost:8080/",
          "height": 207
        },
        "id": "TOD1DAOcKS6Y",
        "outputId": "703c87d0-a26a-4e4c-caef-f9ab291c1927"
      },
      "execution_count": null,
      "outputs": [
        {
          "output_type": "execute_result",
          "data": {
            "text/plain": [
              "    side  assists  damage_objectives  damage_building  deaths  gold_earned  \\\n",
              "7      1        9               3657            16688       5        16108   \n",
              "10     0        2                459             2081       9         5453   \n",
              "12     0        2               1123             1123       9         9756   \n",
              "\n",
              "         kda  kills  level  time_cc  damage_total  damage_taken  \\\n",
              "7   3.600000      9     17       18        244314         20799   \n",
              "10  0.444444      2      9       12         46588         13083   \n",
              "12  0.888889      6     12       15         87263         14887   \n",
              "\n",
              "    total_minions_killed  turret_kills  vision_score  result  \n",
              "7                    262             2            38       0  \n",
              "10                    94             0             7       0  \n",
              "12                   125             1            12       0  "
            ],
            "text/html": [
              "\n",
              "  <div id=\"df-174f9626-fe2f-44ea-9c61-58144937ae30\">\n",
              "    <div class=\"colab-df-container\">\n",
              "      <div>\n",
              "<style scoped>\n",
              "    .dataframe tbody tr th:only-of-type {\n",
              "        vertical-align: middle;\n",
              "    }\n",
              "\n",
              "    .dataframe tbody tr th {\n",
              "        vertical-align: top;\n",
              "    }\n",
              "\n",
              "    .dataframe thead th {\n",
              "        text-align: right;\n",
              "    }\n",
              "</style>\n",
              "<table border=\"1\" class=\"dataframe\">\n",
              "  <thead>\n",
              "    <tr style=\"text-align: right;\">\n",
              "      <th></th>\n",
              "      <th>side</th>\n",
              "      <th>assists</th>\n",
              "      <th>damage_objectives</th>\n",
              "      <th>damage_building</th>\n",
              "      <th>deaths</th>\n",
              "      <th>gold_earned</th>\n",
              "      <th>kda</th>\n",
              "      <th>kills</th>\n",
              "      <th>level</th>\n",
              "      <th>time_cc</th>\n",
              "      <th>damage_total</th>\n",
              "      <th>damage_taken</th>\n",
              "      <th>total_minions_killed</th>\n",
              "      <th>turret_kills</th>\n",
              "      <th>vision_score</th>\n",
              "      <th>result</th>\n",
              "    </tr>\n",
              "  </thead>\n",
              "  <tbody>\n",
              "    <tr>\n",
              "      <th>7</th>\n",
              "      <td>1</td>\n",
              "      <td>9</td>\n",
              "      <td>3657</td>\n",
              "      <td>16688</td>\n",
              "      <td>5</td>\n",
              "      <td>16108</td>\n",
              "      <td>3.600000</td>\n",
              "      <td>9</td>\n",
              "      <td>17</td>\n",
              "      <td>18</td>\n",
              "      <td>244314</td>\n",
              "      <td>20799</td>\n",
              "      <td>262</td>\n",
              "      <td>2</td>\n",
              "      <td>38</td>\n",
              "      <td>0</td>\n",
              "    </tr>\n",
              "    <tr>\n",
              "      <th>10</th>\n",
              "      <td>0</td>\n",
              "      <td>2</td>\n",
              "      <td>459</td>\n",
              "      <td>2081</td>\n",
              "      <td>9</td>\n",
              "      <td>5453</td>\n",
              "      <td>0.444444</td>\n",
              "      <td>2</td>\n",
              "      <td>9</td>\n",
              "      <td>12</td>\n",
              "      <td>46588</td>\n",
              "      <td>13083</td>\n",
              "      <td>94</td>\n",
              "      <td>0</td>\n",
              "      <td>7</td>\n",
              "      <td>0</td>\n",
              "    </tr>\n",
              "    <tr>\n",
              "      <th>12</th>\n",
              "      <td>0</td>\n",
              "      <td>2</td>\n",
              "      <td>1123</td>\n",
              "      <td>1123</td>\n",
              "      <td>9</td>\n",
              "      <td>9756</td>\n",
              "      <td>0.888889</td>\n",
              "      <td>6</td>\n",
              "      <td>12</td>\n",
              "      <td>15</td>\n",
              "      <td>87263</td>\n",
              "      <td>14887</td>\n",
              "      <td>125</td>\n",
              "      <td>1</td>\n",
              "      <td>12</td>\n",
              "      <td>0</td>\n",
              "    </tr>\n",
              "  </tbody>\n",
              "</table>\n",
              "</div>\n",
              "      <button class=\"colab-df-convert\" onclick=\"convertToInteractive('df-174f9626-fe2f-44ea-9c61-58144937ae30')\"\n",
              "              title=\"Convert this dataframe to an interactive table.\"\n",
              "              style=\"display:none;\">\n",
              "        \n",
              "  <svg xmlns=\"http://www.w3.org/2000/svg\" height=\"24px\"viewBox=\"0 0 24 24\"\n",
              "       width=\"24px\">\n",
              "    <path d=\"M0 0h24v24H0V0z\" fill=\"none\"/>\n",
              "    <path d=\"M18.56 5.44l.94 2.06.94-2.06 2.06-.94-2.06-.94-.94-2.06-.94 2.06-2.06.94zm-11 1L8.5 8.5l.94-2.06 2.06-.94-2.06-.94L8.5 2.5l-.94 2.06-2.06.94zm10 10l.94 2.06.94-2.06 2.06-.94-2.06-.94-.94-2.06-.94 2.06-2.06.94z\"/><path d=\"M17.41 7.96l-1.37-1.37c-.4-.4-.92-.59-1.43-.59-.52 0-1.04.2-1.43.59L10.3 9.45l-7.72 7.72c-.78.78-.78 2.05 0 2.83L4 21.41c.39.39.9.59 1.41.59.51 0 1.02-.2 1.41-.59l7.78-7.78 2.81-2.81c.8-.78.8-2.07 0-2.86zM5.41 20L4 18.59l7.72-7.72 1.47 1.35L5.41 20z\"/>\n",
              "  </svg>\n",
              "      </button>\n",
              "      \n",
              "  <style>\n",
              "    .colab-df-container {\n",
              "      display:flex;\n",
              "      flex-wrap:wrap;\n",
              "      gap: 12px;\n",
              "    }\n",
              "\n",
              "    .colab-df-convert {\n",
              "      background-color: #E8F0FE;\n",
              "      border: none;\n",
              "      border-radius: 50%;\n",
              "      cursor: pointer;\n",
              "      display: none;\n",
              "      fill: #1967D2;\n",
              "      height: 32px;\n",
              "      padding: 0 0 0 0;\n",
              "      width: 32px;\n",
              "    }\n",
              "\n",
              "    .colab-df-convert:hover {\n",
              "      background-color: #E2EBFA;\n",
              "      box-shadow: 0px 1px 2px rgba(60, 64, 67, 0.3), 0px 1px 3px 1px rgba(60, 64, 67, 0.15);\n",
              "      fill: #174EA6;\n",
              "    }\n",
              "\n",
              "    [theme=dark] .colab-df-convert {\n",
              "      background-color: #3B4455;\n",
              "      fill: #D2E3FC;\n",
              "    }\n",
              "\n",
              "    [theme=dark] .colab-df-convert:hover {\n",
              "      background-color: #434B5C;\n",
              "      box-shadow: 0px 1px 3px 1px rgba(0, 0, 0, 0.15);\n",
              "      filter: drop-shadow(0px 1px 2px rgba(0, 0, 0, 0.3));\n",
              "      fill: #FFFFFF;\n",
              "    }\n",
              "  </style>\n",
              "\n",
              "      <script>\n",
              "        const buttonEl =\n",
              "          document.querySelector('#df-174f9626-fe2f-44ea-9c61-58144937ae30 button.colab-df-convert');\n",
              "        buttonEl.style.display =\n",
              "          google.colab.kernel.accessAllowed ? 'block' : 'none';\n",
              "\n",
              "        async function convertToInteractive(key) {\n",
              "          const element = document.querySelector('#df-174f9626-fe2f-44ea-9c61-58144937ae30');\n",
              "          const dataTable =\n",
              "            await google.colab.kernel.invokeFunction('convertToInteractive',\n",
              "                                                     [key], {});\n",
              "          if (!dataTable) return;\n",
              "\n",
              "          const docLinkHtml = 'Like what you see? Visit the ' +\n",
              "            '<a target=\"_blank\" href=https://colab.research.google.com/notebooks/data_table.ipynb>data table notebook</a>'\n",
              "            + ' to learn more about interactive tables.';\n",
              "          element.innerHTML = '';\n",
              "          dataTable['output_type'] = 'display_data';\n",
              "          await google.colab.output.renderOutput(dataTable, element);\n",
              "          const docLink = document.createElement('div');\n",
              "          docLink.innerHTML = docLinkHtml;\n",
              "          element.appendChild(docLink);\n",
              "        }\n",
              "      </script>\n",
              "    </div>\n",
              "  </div>\n",
              "  "
            ]
          },
          "metadata": {},
          "execution_count": 183
        }
      ]
    },
    {
      "cell_type": "code",
      "source": [
        "# 80-20 train-test split\n",
        "X_adc = adc_data_final.drop(columns=['result']).values\n",
        "Y_adc = adc_data_final['result'].values\n",
        "X_train_adc, X_test_adc, Y_train_adc, Y_test_adc = train_test_split(X_adc,Y_adc,test_size=0.2, random_state=2022)"
      ],
      "metadata": {
        "id": "Hmxf31hCKeJD"
      },
      "execution_count": null,
      "outputs": []
    },
    {
      "cell_type": "code",
      "source": [
        "cv = RepeatedKFold(n_splits=10, n_repeats=3, random_state=2022)"
      ],
      "metadata": {
        "id": "7uuJ98pRMrQ3"
      },
      "execution_count": null,
      "outputs": []
    },
    {
      "cell_type": "code",
      "source": [
        "#로지스틱 회귀\n",
        "adc_log_model = LogisticRegression(random_state=2022, max_iter=10000)\n",
        "adc_log_model.fit(X_train_adc,Y_train_adc)"
      ],
      "metadata": {
        "colab": {
          "base_uri": "https://localhost:8080/"
        },
        "id": "sUWAs6yqMxMq",
        "outputId": "31785533-fc17-45ae-e863-f506606652cf"
      },
      "execution_count": null,
      "outputs": [
        {
          "output_type": "execute_result",
          "data": {
            "text/plain": [
              "LogisticRegression(max_iter=10000, random_state=2022)"
            ]
          },
          "metadata": {},
          "execution_count": 186
        }
      ]
    },
    {
      "cell_type": "code",
      "source": [
        "adc_log_f1scores = cross_val_score(adc_log_model, X_train_adc, Y_train_adc, scoring=\"f1\",cv=cv)\n",
        "\n",
        "adc_log_ROCscores = cross_val_score(adc_log_model, X_train_adc, Y_train_adc, scoring=\"roc_auc\", cv=cv)"
      ],
      "metadata": {
        "id": "HIdIE1VOM15n"
      },
      "execution_count": null,
      "outputs": []
    },
    {
      "cell_type": "code",
      "source": [
        "print('F1: %.3f (%.3f)' % (np.mean(adc_log_f1scores), np.std(adc_log_f1scores)))\n",
        "print('ROC: %.3f (%.3f)' % (np.mean(adc_log_ROCscores), np.std(adc_log_ROCscores)))"
      ],
      "metadata": {
        "colab": {
          "base_uri": "https://localhost:8080/"
        },
        "id": "l0KnwxtgNKXI",
        "outputId": "46271015-82a4-4a46-861a-355238982bf0"
      },
      "execution_count": null,
      "outputs": [
        {
          "output_type": "stream",
          "name": "stdout",
          "text": [
            "F1: 0.861 (0.041)\n",
            "ROC: 0.932 (0.027)\n"
          ]
        }
      ]
    },
    {
      "cell_type": "code",
      "source": [
        "#의사결정트리\n",
        "adc_dt_model = DecisionTreeClassifier(random_state=2022)\n",
        "adc_dt_model.fit(X_train_adc,Y_train_adc)"
      ],
      "metadata": {
        "colab": {
          "base_uri": "https://localhost:8080/"
        },
        "id": "ajDUGUYlNQkS",
        "outputId": "d758e5a1-e8eb-45bc-e3d3-2b651f092601"
      },
      "execution_count": null,
      "outputs": [
        {
          "output_type": "execute_result",
          "data": {
            "text/plain": [
              "DecisionTreeClassifier(random_state=2022)"
            ]
          },
          "metadata": {},
          "execution_count": 189
        }
      ]
    },
    {
      "cell_type": "code",
      "source": [
        "adc_dt_f1scores = cross_val_score(adc_dt_model, X_train_adc, Y_train_adc, \n",
        "                                    scoring=\"f1\",cv=cv)\n",
        "adc_dt_ROCscores = cross_val_score(adc_dt_model, X_train_adc, Y_train_adc,\n",
        "                                       scoring=\"roc_auc\", cv=cv)"
      ],
      "metadata": {
        "id": "8igPMeuZNUNB"
      },
      "execution_count": null,
      "outputs": []
    },
    {
      "cell_type": "code",
      "source": [
        "print('F1: %.3f (%.3f)' % (np.mean(adc_dt_f1scores), np.std(adc_dt_f1scores)))\n",
        "print('ROC: %.3f (%.3f)' % (np.mean(adc_dt_ROCscores), np.std(adc_dt_ROCscores)))"
      ],
      "metadata": {
        "colab": {
          "base_uri": "https://localhost:8080/"
        },
        "id": "fuKL5XH4NX0H",
        "outputId": "b1d8948d-31f0-43dc-f3e7-4c19ed727935"
      },
      "execution_count": null,
      "outputs": [
        {
          "output_type": "stream",
          "name": "stdout",
          "text": [
            "F1: 0.817 (0.052)\n",
            "ROC: 0.825 (0.044)\n"
          ]
        }
      ]
    },
    {
      "cell_type": "code",
      "source": [
        "#랜덤포레스트\n",
        "adc_rf_model = RandomForestClassifier(random_state = 2022)\n",
        "adc_rf_model.fit(X_train_adc,Y_train_adc)"
      ],
      "metadata": {
        "colab": {
          "base_uri": "https://localhost:8080/"
        },
        "id": "UnTjO6FBNegJ",
        "outputId": "6830044d-c713-415a-c343-89f89763a036"
      },
      "execution_count": null,
      "outputs": [
        {
          "output_type": "execute_result",
          "data": {
            "text/plain": [
              "RandomForestClassifier(random_state=2022)"
            ]
          },
          "metadata": {},
          "execution_count": 192
        }
      ]
    },
    {
      "cell_type": "code",
      "source": [
        "adc_rf_f1scores = cross_val_score(adc_rf_model, X_train_adc, Y_train_adc, scoring=\"f1\",cv=cv)\n",
        "\n",
        "adc_rf_ROCscores = cross_val_score(adc_rf_model, X_train_adc, Y_train_adc, scoring=\"roc_auc\", cv=cv)"
      ],
      "metadata": {
        "id": "I5rw57DbNjjH"
      },
      "execution_count": null,
      "outputs": []
    },
    {
      "cell_type": "code",
      "source": [
        "print('F1: %.3f (%.3f)' % (np.mean(adc_rf_f1scores), np.std(adc_rf_f1scores)))\n",
        "print('ROC: %.3f (%.3f)' % (np.mean(adc_rf_ROCscores), np.std(adc_rf_ROCscores)))"
      ],
      "metadata": {
        "colab": {
          "base_uri": "https://localhost:8080/"
        },
        "id": "DyJ51vmCOYtp",
        "outputId": "9f1c3772-4a79-46dc-ea34-0421b4127705"
      },
      "execution_count": null,
      "outputs": [
        {
          "output_type": "stream",
          "name": "stdout",
          "text": [
            "F1: 0.869 (0.050)\n",
            "ROC: 0.952 (0.020)\n"
          ]
        }
      ]
    },
    {
      "cell_type": "markdown",
      "source": [
        "Random Forest가 가장 잘 수행하였으므로 Random Forest를 test set으로 사용"
      ],
      "metadata": {
        "id": "jYpesLp-4QWh"
      }
    },
    {
      "cell_type": "markdown",
      "source": [
        "예측"
      ],
      "metadata": {
        "id": "KE6z4iZnOjxn"
      }
    },
    {
      "cell_type": "code",
      "source": [
        "y_adc_predict = adc_rf_model.predict(X_test_adc)"
      ],
      "metadata": {
        "id": "n_34WanuOjOP"
      },
      "execution_count": null,
      "outputs": []
    },
    {
      "cell_type": "code",
      "source": [
        "print(\"Accuracy Score\", metrics.accuracy_score(Y_test_adc, y_adc_predict))\n",
        "print(\"F1 Score\", metrics.f1_score(Y_test_adc, y_adc_predict))\n",
        "print(\"ROC-AUC Score\", metrics.roc_auc_score(Y_test_adc, y_adc_predict))"
      ],
      "metadata": {
        "colab": {
          "base_uri": "https://localhost:8080/"
        },
        "id": "8sTrT97LOsou",
        "outputId": "24a0c8b9-6962-4eea-ddf6-fb55756310c0"
      },
      "execution_count": null,
      "outputs": [
        {
          "output_type": "stream",
          "name": "stdout",
          "text": [
            "Accuracy Score 0.911504424778761\n",
            "F1 Score 0.9130434782608695\n",
            "ROC-AUC Score 0.9116771159874608\n"
          ]
        }
      ]
    },
    {
      "cell_type": "code",
      "source": [
        "#feature_importances_ 변수 중요도 추출\n",
        "adc_feature_importance=pd.DataFrame({\n",
        "    'Random Forest':adc_rf_model.feature_importances_,\n",
        "    'Decision Tree':adc_dt_model.feature_importances_,\n",
        "    'Logistic Regression':[abs(i) for i in adc_log_model.coef_[0]]\n",
        "},index=adc_data_final.drop(columns=['result']).columns)\n",
        "adc_feature_importance.sort_values(by='Random Forest',ascending=True,inplace=True)\n",
        "\n",
        "adc_feature_importance.plot(kind='barh',figsize=(12,10),fontsize=12)"
      ],
      "metadata": {
        "colab": {
          "base_uri": "https://localhost:8080/",
          "height": 613
        },
        "id": "IslKD_qB4SNZ",
        "outputId": "89a2ed1d-700f-4f21-f820-3f0cfc58ad3c"
      },
      "execution_count": null,
      "outputs": [
        {
          "output_type": "execute_result",
          "data": {
            "text/plain": [
              "<matplotlib.axes._subplots.AxesSubplot at 0x7fd09c71ee10>"
            ]
          },
          "metadata": {},
          "execution_count": 197
        },
        {
          "output_type": "display_data",
          "data": {
            "text/plain": [
              "<Figure size 864x720 with 1 Axes>"
            ],
            "image/png": "[encoded data removed]"
          },
          "metadata": {
            "needs_background": "light"
          }
        }
      ]
    },
    {
      "cell_type": "markdown",
      "source": [
        "세 모델 모두 KDA에 중점을 두었고, 의사 결정 트리가 가장 많은 중점을 두었다.<br>\n",
        "로지스틱 회귀 모델은 level,assists,kills,deaths도 중점으로 두었다는 것을 볼 수 있다."
      ],
      "metadata": {
        "id": "cpLOrnPn4vKZ"
      }
    },
    {
      "cell_type": "markdown",
      "source": [
        "서포터"
      ],
      "metadata": {
        "id": "uIK-IL42DMb8"
      }
    },
    {
      "cell_type": "markdown",
      "source": [
        "Label Encoding"
      ],
      "metadata": {
        "id": "gBxM8KPyKZMa"
      }
    },
    {
      "cell_type": "code",
      "source": [
        "# 1: 레드팀, 0: 블루팀\n",
        "support_data_final['side'] = support_data_final['side'].map({'Side.red': 1, 'Side.blue':0})\n",
        "\n",
        "# 1: 승리, 0: 패배\n",
        "support_data_final['result'] = support_data_final['result'].map({True: 1, False:0})"
      ],
      "metadata": {
        "id": "qM34mU9nCcWE"
      },
      "execution_count": null,
      "outputs": []
    },
    {
      "cell_type": "code",
      "source": [
        "#체크\n",
        "support_data_final.head(3)"
      ],
      "metadata": {
        "colab": {
          "base_uri": "https://localhost:8080/",
          "height": 207
        },
        "id": "VmQvJrFHCrNV",
        "outputId": "9b96e924-aee2-44c8-e44a-86ec65a46d05"
      },
      "execution_count": null,
      "outputs": [
        {
          "output_type": "execute_result",
          "data": {
            "text/plain": [
              "   side  assists  damage_objectives  damage_building  deaths  gold_earned  \\\n",
              "0     0        6                  0                0       6         6043   \n",
              "2     1        2                168              444       7         5641   \n",
              "5     1       14                625             1144       3         6471   \n",
              "\n",
              "        kda  kills  level  time_cc  damage_total  damage_taken  \\\n",
              "0  1.333333      2      9       23         15214          9404   \n",
              "2  0.285714      0     10       22         34038         14079   \n",
              "5  5.000000      1     11       37         17852         11112   \n",
              "\n",
              "   total_minions_killed  turret_kills  vision_score  result  \n",
              "0                    36             0            47       0  \n",
              "2                    26             0            38       0  \n",
              "5                    25             0            30       1  "
            ],
            "text/html": [
              "\n",
              "  <div id=\"df-36ad5648-2a97-4b90-93fa-746fdd3c6af6\">\n",
              "    <div class=\"colab-df-container\">\n",
              "      <div>\n",
              "<style scoped>\n",
              "    .dataframe tbody tr th:only-of-type {\n",
              "        vertical-align: middle;\n",
              "    }\n",
              "\n",
              "    .dataframe tbody tr th {\n",
              "        vertical-align: top;\n",
              "    }\n",
              "\n",
              "    .dataframe thead th {\n",
              "        text-align: right;\n",
              "    }\n",
              "</style>\n",
              "<table border=\"1\" class=\"dataframe\">\n",
              "  <thead>\n",
              "    <tr style=\"text-align: right;\">\n",
              "      <th></th>\n",
              "      <th>side</th>\n",
              "      <th>assists</th>\n",
              "      <th>damage_objectives</th>\n",
              "      <th>damage_building</th>\n",
              "      <th>deaths</th>\n",
              "      <th>gold_earned</th>\n",
              "      <th>kda</th>\n",
              "      <th>kills</th>\n",
              "      <th>level</th>\n",
              "      <th>time_cc</th>\n",
              "      <th>damage_total</th>\n",
              "      <th>damage_taken</th>\n",
              "      <th>total_minions_killed</th>\n",
              "      <th>turret_kills</th>\n",
              "      <th>vision_score</th>\n",
              "      <th>result</th>\n",
              "    </tr>\n",
              "  </thead>\n",
              "  <tbody>\n",
              "    <tr>\n",
              "      <th>0</th>\n",
              "      <td>0</td>\n",
              "      <td>6</td>\n",
              "      <td>0</td>\n",
              "      <td>0</td>\n",
              "      <td>6</td>\n",
              "      <td>6043</td>\n",
              "      <td>1.333333</td>\n",
              "      <td>2</td>\n",
              "      <td>9</td>\n",
              "      <td>23</td>\n",
              "      <td>15214</td>\n",
              "      <td>9404</td>\n",
              "      <td>36</td>\n",
              "      <td>0</td>\n",
              "      <td>47</td>\n",
              "      <td>0</td>\n",
              "    </tr>\n",
              "    <tr>\n",
              "      <th>2</th>\n",
              "      <td>1</td>\n",
              "      <td>2</td>\n",
              "      <td>168</td>\n",
              "      <td>444</td>\n",
              "      <td>7</td>\n",
              "      <td>5641</td>\n",
              "      <td>0.285714</td>\n",
              "      <td>0</td>\n",
              "      <td>10</td>\n",
              "      <td>22</td>\n",
              "      <td>34038</td>\n",
              "      <td>14079</td>\n",
              "      <td>26</td>\n",
              "      <td>0</td>\n",
              "      <td>38</td>\n",
              "      <td>0</td>\n",
              "    </tr>\n",
              "    <tr>\n",
              "      <th>5</th>\n",
              "      <td>1</td>\n",
              "      <td>14</td>\n",
              "      <td>625</td>\n",
              "      <td>1144</td>\n",
              "      <td>3</td>\n",
              "      <td>6471</td>\n",
              "      <td>5.000000</td>\n",
              "      <td>1</td>\n",
              "      <td>11</td>\n",
              "      <td>37</td>\n",
              "      <td>17852</td>\n",
              "      <td>11112</td>\n",
              "      <td>25</td>\n",
              "      <td>0</td>\n",
              "      <td>30</td>\n",
              "      <td>1</td>\n",
              "    </tr>\n",
              "  </tbody>\n",
              "</table>\n",
              "</div>\n",
              "      <button class=\"colab-df-convert\" onclick=\"convertToInteractive('df-36ad5648-2a97-4b90-93fa-746fdd3c6af6')\"\n",
              "              title=\"Convert this dataframe to an interactive table.\"\n",
              "              style=\"display:none;\">\n",
              "        \n",
              "  <svg xmlns=\"http://www.w3.org/2000/svg\" height=\"24px\"viewBox=\"0 0 24 24\"\n",
              "       width=\"24px\">\n",
              "    <path d=\"M0 0h24v24H0V0z\" fill=\"none\"/>\n",
              "    <path d=\"M18.56 5.44l.94 2.06.94-2.06 2.06-.94-2.06-.94-.94-2.06-.94 2.06-2.06.94zm-11 1L8.5 8.5l.94-2.06 2.06-.94-2.06-.94L8.5 2.5l-.94 2.06-2.06.94zm10 10l.94 2.06.94-2.06 2.06-.94-2.06-.94-.94-2.06-.94 2.06-2.06.94z\"/><path d=\"M17.41 7.96l-1.37-1.37c-.4-.4-.92-.59-1.43-.59-.52 0-1.04.2-1.43.59L10.3 9.45l-7.72 7.72c-.78.78-.78 2.05 0 2.83L4 21.41c.39.39.9.59 1.41.59.51 0 1.02-.2 1.41-.59l7.78-7.78 2.81-2.81c.8-.78.8-2.07 0-2.86zM5.41 20L4 18.59l7.72-7.72 1.47 1.35L5.41 20z\"/>\n",
              "  </svg>\n",
              "      </button>\n",
              "      \n",
              "  <style>\n",
              "    .colab-df-container {\n",
              "      display:flex;\n",
              "      flex-wrap:wrap;\n",
              "      gap: 12px;\n",
              "    }\n",
              "\n",
              "    .colab-df-convert {\n",
              "      background-color: #E8F0FE;\n",
              "      border: none;\n",
              "      border-radius: 50%;\n",
              "      cursor: pointer;\n",
              "      display: none;\n",
              "      fill: #1967D2;\n",
              "      height: 32px;\n",
              "      padding: 0 0 0 0;\n",
              "      width: 32px;\n",
              "    }\n",
              "\n",
              "    .colab-df-convert:hover {\n",
              "      background-color: #E2EBFA;\n",
              "      box-shadow: 0px 1px 2px rgba(60, 64, 67, 0.3), 0px 1px 3px 1px rgba(60, 64, 67, 0.15);\n",
              "      fill: #174EA6;\n",
              "    }\n",
              "\n",
              "    [theme=dark] .colab-df-convert {\n",
              "      background-color: #3B4455;\n",
              "      fill: #D2E3FC;\n",
              "    }\n",
              "\n",
              "    [theme=dark] .colab-df-convert:hover {\n",
              "      background-color: #434B5C;\n",
              "      box-shadow: 0px 1px 3px 1px rgba(0, 0, 0, 0.15);\n",
              "      filter: drop-shadow(0px 1px 2px rgba(0, 0, 0, 0.3));\n",
              "      fill: #FFFFFF;\n",
              "    }\n",
              "  </style>\n",
              "\n",
              "      <script>\n",
              "        const buttonEl =\n",
              "          document.querySelector('#df-36ad5648-2a97-4b90-93fa-746fdd3c6af6 button.colab-df-convert');\n",
              "        buttonEl.style.display =\n",
              "          google.colab.kernel.accessAllowed ? 'block' : 'none';\n",
              "\n",
              "        async function convertToInteractive(key) {\n",
              "          const element = document.querySelector('#df-36ad5648-2a97-4b90-93fa-746fdd3c6af6');\n",
              "          const dataTable =\n",
              "            await google.colab.kernel.invokeFunction('convertToInteractive',\n",
              "                                                     [key], {});\n",
              "          if (!dataTable) return;\n",
              "\n",
              "          const docLinkHtml = 'Like what you see? Visit the ' +\n",
              "            '<a target=\"_blank\" href=https://colab.research.google.com/notebooks/data_table.ipynb>data table notebook</a>'\n",
              "            + ' to learn more about interactive tables.';\n",
              "          element.innerHTML = '';\n",
              "          dataTable['output_type'] = 'display_data';\n",
              "          await google.colab.output.renderOutput(dataTable, element);\n",
              "          const docLink = document.createElement('div');\n",
              "          docLink.innerHTML = docLinkHtml;\n",
              "          element.appendChild(docLink);\n",
              "        }\n",
              "      </script>\n",
              "    </div>\n",
              "  </div>\n",
              "  "
            ]
          },
          "metadata": {},
          "execution_count": 199
        }
      ]
    },
    {
      "cell_type": "code",
      "source": [
        "# 80-20 train-test split\n",
        "X_support = support_data_final.drop(columns=['result']).values\n",
        "Y_support = support_data_final['result'].values\n",
        "X_train_support, X_test_support, Y_train_support, Y_test_support = train_test_split(X_support,Y_support,test_size=0.2, random_state=2022)"
      ],
      "metadata": {
        "id": "BmdQ76RhDEL0"
      },
      "execution_count": null,
      "outputs": []
    },
    {
      "cell_type": "code",
      "source": [
        "#RepeatedKFold - 폴드를 한번만 나누는 것이 아니고 지정한 횟수(n_repeats)만큼 반복해서 나누게 되고 교차검증점수도 반복한 만큼 얻을 수 있다.\n",
        "cv = RepeatedKFold(n_splits=10, n_repeats=3, random_state=2022)"
      ],
      "metadata": {
        "id": "UZyUfuTjDXOj"
      },
      "execution_count": null,
      "outputs": []
    },
    {
      "cell_type": "code",
      "source": [
        "#로지스틱 회귀\n",
        "support_log_model = LogisticRegression(random_state=2022, max_iter=10000)\n",
        "support_log_model.fit(X_train_support,Y_train_support)"
      ],
      "metadata": {
        "colab": {
          "base_uri": "https://localhost:8080/"
        },
        "id": "sv0bmvpfEFAj",
        "outputId": "5ded117d-a4d0-45cb-b1ee-0ed2c0a7207b"
      },
      "execution_count": null,
      "outputs": [
        {
          "output_type": "execute_result",
          "data": {
            "text/plain": [
              "LogisticRegression(max_iter=10000, random_state=2022)"
            ]
          },
          "metadata": {},
          "execution_count": 202
        }
      ]
    },
    {
      "cell_type": "code",
      "source": [
        "support_log_f1scores = cross_val_score(support_log_model, X_train_support, Y_train_support, \n",
        "                                       scoring=\"f1\",cv=cv)\n",
        "\n",
        "support_log_ROCscores = cross_val_score(support_log_model, X_train_support, Y_train_support,\n",
        "                                        scoring=\"roc_auc\", cv=cv)"
      ],
      "metadata": {
        "id": "tPLUBfvwEnEz"
      },
      "execution_count": null,
      "outputs": []
    },
    {
      "cell_type": "code",
      "source": [
        "print('F1: %.3f (%.3f)' % (np.mean(support_log_f1scores), np.std(support_log_f1scores)))\n",
        "print('ROC: %.3f (%.3f)' % (np.mean(support_log_ROCscores), np.std(support_log_ROCscores)))"
      ],
      "metadata": {
        "colab": {
          "base_uri": "https://localhost:8080/"
        },
        "id": "yvdy6Y9rFZFD",
        "outputId": "8ee585bd-c150-4bb0-ba47-c98225f1e5a5"
      },
      "execution_count": null,
      "outputs": [
        {
          "output_type": "stream",
          "name": "stdout",
          "text": [
            "F1: 0.835 (0.041)\n",
            "ROC: 0.912 (0.027)\n"
          ]
        }
      ]
    },
    {
      "cell_type": "code",
      "source": [
        "#의사결정트리\n",
        "support_dt_model = DecisionTreeClassifier(random_state=2022)\n",
        "support_dt_model.fit(X_train_support,Y_train_support)"
      ],
      "metadata": {
        "colab": {
          "base_uri": "https://localhost:8080/"
        },
        "id": "O83J4AK3HFDq",
        "outputId": "d3ecb90d-b1b1-48f3-a617-8c4cc6a8ae74"
      },
      "execution_count": null,
      "outputs": [
        {
          "output_type": "execute_result",
          "data": {
            "text/plain": [
              "DecisionTreeClassifier(random_state=2022)"
            ]
          },
          "metadata": {},
          "execution_count": 205
        }
      ]
    },
    {
      "cell_type": "code",
      "source": [
        "support_dt_f1scores = cross_val_score(support_dt_model, X_train_support, Y_train_support, \n",
        "                                    scoring=\"f1\",cv=cv)\n",
        "support_dt_ROCscores = cross_val_score(support_dt_model, X_train_support, Y_train_support,\n",
        "                                       scoring=\"roc_auc\", cv=cv)"
      ],
      "metadata": {
        "id": "cdaS5miIHdMq"
      },
      "execution_count": null,
      "outputs": []
    },
    {
      "cell_type": "code",
      "source": [
        "print('F1: %.3f (%.3f)' % (np.mean(support_dt_f1scores), np.std(support_dt_f1scores)))\n",
        "print('ROC: %.3f (%.3f)' % (np.mean(support_dt_ROCscores), np.std(support_dt_ROCscores)))"
      ],
      "metadata": {
        "colab": {
          "base_uri": "https://localhost:8080/"
        },
        "id": "xM789VvkHgoy",
        "outputId": "b073398f-94e3-48e9-84dd-d71589180630"
      },
      "execution_count": null,
      "outputs": [
        {
          "output_type": "stream",
          "name": "stdout",
          "text": [
            "F1: 0.812 (0.036)\n",
            "ROC: 0.816 (0.030)\n"
          ]
        }
      ]
    },
    {
      "cell_type": "code",
      "source": [
        "#랜덤포레스트\n",
        "support_rf_model = RandomForestClassifier(random_state = 2022)\n",
        "support_rf_model.fit(X_train_support,Y_train_support)"
      ],
      "metadata": {
        "colab": {
          "base_uri": "https://localhost:8080/"
        },
        "id": "BpjfiUIKHovL",
        "outputId": "97a39b8b-17f2-4696-b4af-531636cf7e5a"
      },
      "execution_count": null,
      "outputs": [
        {
          "output_type": "execute_result",
          "data": {
            "text/plain": [
              "RandomForestClassifier(random_state=2022)"
            ]
          },
          "metadata": {},
          "execution_count": 208
        }
      ]
    },
    {
      "cell_type": "code",
      "source": [
        "support_rf_f1scores = cross_val_score(support_rf_model, X_train_support, Y_train_support, scoring=\"f1\",cv=cv)\n",
        "\n",
        "support_rf_ROCscores = cross_val_score(support_rf_model, X_train_support, Y_train_support, scoring=\"roc_auc\", cv=cv)"
      ],
      "metadata": {
        "id": "vr217-iwHr5S"
      },
      "execution_count": null,
      "outputs": []
    },
    {
      "cell_type": "code",
      "source": [
        "print('F1: %.3f (%.3f)' % (np.mean(support_rf_f1scores), np.std(support_rf_f1scores)))\n",
        "print('ROC: %.3f (%.3f)' % (np.mean(support_rf_ROCscores), np.std(support_rf_ROCscores)))"
      ],
      "metadata": {
        "colab": {
          "base_uri": "https://localhost:8080/"
        },
        "id": "nJVHhHlDH6rz",
        "outputId": "67aa2fce-a26d-417a-c94a-b8c0b0882675"
      },
      "execution_count": null,
      "outputs": [
        {
          "output_type": "stream",
          "name": "stdout",
          "text": [
            "F1: 0.855 (0.036)\n",
            "ROC: 0.931 (0.030)\n"
          ]
        }
      ]
    },
    {
      "cell_type": "markdown",
      "source": [
        "Random Forest가 가장 잘 수행하였으므로 Random Forest를 test set으로 사용"
      ],
      "metadata": {
        "id": "NpRCtiLt0m2D"
      }
    },
    {
      "cell_type": "markdown",
      "source": [
        "예측"
      ],
      "metadata": {
        "id": "gxSJKysfH-eq"
      }
    },
    {
      "cell_type": "code",
      "source": [
        "y_support_predict = support_rf_model.predict(X_test_support)"
      ],
      "metadata": {
        "id": "a1KTYX7iIAZR"
      },
      "execution_count": null,
      "outputs": []
    },
    {
      "cell_type": "code",
      "source": [
        "print(\"Accuracy Score\", metrics.accuracy_score(Y_test_support, y_support_predict))\n",
        "print(\"F1 Score\", metrics.f1_score(Y_test_support, y_support_predict))\n",
        "print(\"ROC-AUC Score\", metrics.roc_auc_score(Y_test_support, y_support_predict))"
      ],
      "metadata": {
        "colab": {
          "base_uri": "https://localhost:8080/"
        },
        "id": "eIf09g7cIBxB",
        "outputId": "295e68cf-4973-47bf-871e-bb3f66f9771b"
      },
      "execution_count": null,
      "outputs": [
        {
          "output_type": "stream",
          "name": "stdout",
          "text": [
            "Accuracy Score 0.8658008658008658\n",
            "F1 Score 0.8634361233480176\n",
            "ROC-AUC Score 0.8692342478142899\n"
          ]
        }
      ]
    },
    {
      "cell_type": "code",
      "source": [
        "#feature_importances_ 변수 중요도 추출\n",
        "support_feature_importance=pd.DataFrame({\n",
        "    'Random Forest':support_rf_model.feature_importances_,\n",
        "    'Decision Tree':support_dt_model.feature_importances_,\n",
        "    'Logistic Regression':[abs(i) for i in support_log_model.coef_[0]]\n",
        "},index=support_data_final.drop(columns=['result']).columns)\n",
        "support_feature_importance.sort_values(by='Random Forest',ascending=True,inplace=True)\n",
        "\n",
        "support_feature_importance.plot(kind='barh',figsize=(12,10),fontsize=12)"
      ],
      "metadata": {
        "colab": {
          "base_uri": "https://localhost:8080/",
          "height": 613
        },
        "id": "7CzeshXy1d1y",
        "outputId": "d4384e22-8e59-4c1c-c926-a7b5b2546a7e"
      },
      "execution_count": null,
      "outputs": [
        {
          "output_type": "execute_result",
          "data": {
            "text/plain": [
              "<matplotlib.axes._subplots.AxesSubplot at 0x7fd09c72f050>"
            ]
          },
          "metadata": {},
          "execution_count": 213
        },
        {
          "output_type": "display_data",
          "data": {
            "text/plain": [
              "<Figure size 864x720 with 1 Axes>"
            ],
            "image/png": "[encoded data removed]"
          },
          "metadata": {
            "needs_background": "light"
          }
        }
      ]
    },
    {
      "cell_type": "markdown",
      "source": [
        "세 모델 모두 KDA에 중점을 두었고, 의사 결정 트리가 가장 많은 중점을 두었다.<br>로지스틱 회귀 모델은 level,assists,kills,deaths도 중점으로 두었다는 것을 볼 수 있다."
      ],
      "metadata": {
        "id": "8vm9d5lY3ZiU"
      }
    },
    {
      "cell_type": "markdown",
      "source": [
        "<h2>전체결과"
      ],
      "metadata": {
        "id": "YkTFXyZ8Tgr9"
      }
    },
    {
      "cell_type": "code",
      "source": [
        "#라인 포지션 별\n",
        "all_feature_importance=pd.DataFrame({\n",
        "    'Top':top_rf_model.feature_importances_,\n",
        "    'Jungle':jungle_rf_model.feature_importances_,\n",
        "    'Mid':mid_rf_model.feature_importances_,\n",
        "    'Adc':adc_rf_model.feature_importances_,\n",
        "    'Sup':support_rf_model.feature_importances_\n",
        "},index=jungle_data_final.drop(columns=['result']).columns)\n",
        "\n",
        "all_feature_importance.sort_values(by='Jungle',ascending=True,inplace=True)\n",
        "\n",
        "all_feature_importance.plot(kind='barh',figsize=(12,10), width=.85, colormap='Paired', fontsize=12)"
      ],
      "metadata": {
        "colab": {
          "base_uri": "https://localhost:8080/",
          "height": 613
        },
        "id": "vtd18u5i9xRZ",
        "outputId": "a5ce1772-169d-43c7-8365-7923684b41e9"
      },
      "execution_count": null,
      "outputs": [
        {
          "output_type": "execute_result",
          "data": {
            "text/plain": [
              "<matplotlib.axes._subplots.AxesSubplot at 0x7fd09c0b6d50>"
            ]
          },
          "metadata": {},
          "execution_count": 219
        },
        {
          "output_type": "display_data",
          "data": {
            "text/plain": [
              "<Figure size 864x720 with 1 Axes>"
            ],
            "image/png": "[encoded data removed]"
          },
          "metadata": {
            "needs_background": "light"
          }
        }
      ]
    },
    {
      "cell_type": "markdown",
      "source": [
        "전체적으로 봤을때 KDA가 가장 중점적으로 여겨졌고 <br>\n",
        "원딜 포지션의 damage_objectives가 중점적으로 여겨진 것이 눈에 띈다"
      ],
      "metadata": {
        "id": "xSZ9TU2U-Gmf"
      }
    },
    {
      "cell_type": "code",
      "source": [
        "prediction_score_data = [['top',metrics.accuracy_score(Y_test_top, y_top_predict),\n",
        "                          metrics.f1_score(Y_test_top, y_top_predict),\n",
        "                          metrics.roc_auc_score(Y_test_top, y_top_predict)],\n",
        "                         ['jungle',metrics.accuracy_score(Y_test_jungle, y_jungle_predict),\n",
        "                          metrics.f1_score(Y_test_jungle, y_jungle_predict),\n",
        "                          metrics.roc_auc_score(Y_test_jungle, y_jungle_predict)],\n",
        "                         ['mid',metrics.accuracy_score(Y_test_mid, y_mid_predict),\n",
        "                          metrics.f1_score(Y_test_mid, y_mid_predict),\n",
        "                          metrics.roc_auc_score(Y_test_mid, y_mid_predict)],\n",
        "                         ['adc',metrics.accuracy_score(Y_test_adc, y_adc_predict),\n",
        "                          metrics.f1_score(Y_test_adc, y_adc_predict),\n",
        "                          metrics.roc_auc_score(Y_test_adc, y_adc_predict)],\n",
        "                         ['sup',metrics.accuracy_score(Y_test_support, y_support_predict),\n",
        "                          metrics.f1_score(Y_test_support, y_support_predict),\n",
        "                          metrics.roc_auc_score(Y_test_support, y_support_predict)]]\n",
        "\n",
        "all_prediction_scores = pd.DataFrame(prediction_score_data, columns=['포지션', 'Accuracy Score', 'F1 Score', 'ROC-AUC Score'])\n",
        "all_prediction_scores"
      ],
      "metadata": {
        "colab": {
          "base_uri": "https://localhost:8080/",
          "height": 206
        },
        "id": "9c8lsyulTjyt",
        "outputId": "83127aca-e0c3-4b1c-8631-93e663941762"
      },
      "execution_count": null,
      "outputs": [
        {
          "output_type": "execute_result",
          "data": {
            "text/plain": [
              "      포지션  Accuracy Score  F1 Score  ROC-AUC Score\n",
              "0     top        0.825328  0.838710       0.823242\n",
              "1  jungle        0.865217  0.871369       0.867931\n",
              "2     mid        0.818584  0.791878       0.814139\n",
              "3     adc        0.911504  0.913043       0.911677\n",
              "4     sup        0.865801  0.863436       0.869234"
            ],
            "text/html": [
              "\n",
              "  <div id=\"df-330b1631-75dd-4dcc-84a5-0d56d7bc9354\">\n",
              "    <div class=\"colab-df-container\">\n",
              "      <div>\n",
              "<style scoped>\n",
              "    .dataframe tbody tr th:only-of-type {\n",
              "        vertical-align: middle;\n",
              "    }\n",
              "\n",
              "    .dataframe tbody tr th {\n",
              "        vertical-align: top;\n",
              "    }\n",
              "\n",
              "    .dataframe thead th {\n",
              "        text-align: right;\n",
              "    }\n",
              "</style>\n",
              "<table border=\"1\" class=\"dataframe\">\n",
              "  <thead>\n",
              "    <tr style=\"text-align: right;\">\n",
              "      <th></th>\n",
              "      <th>포지션</th>\n",
              "      <th>Accuracy Score</th>\n",
              "      <th>F1 Score</th>\n",
              "      <th>ROC-AUC Score</th>\n",
              "    </tr>\n",
              "  </thead>\n",
              "  <tbody>\n",
              "    <tr>\n",
              "      <th>0</th>\n",
              "      <td>top</td>\n",
              "      <td>0.825328</td>\n",
              "      <td>0.838710</td>\n",
              "      <td>0.823242</td>\n",
              "    </tr>\n",
              "    <tr>\n",
              "      <th>1</th>\n",
              "      <td>jungle</td>\n",
              "      <td>0.865217</td>\n",
              "      <td>0.871369</td>\n",
              "      <td>0.867931</td>\n",
              "    </tr>\n",
              "    <tr>\n",
              "      <th>2</th>\n",
              "      <td>mid</td>\n",
              "      <td>0.818584</td>\n",
              "      <td>0.791878</td>\n",
              "      <td>0.814139</td>\n",
              "    </tr>\n",
              "    <tr>\n",
              "      <th>3</th>\n",
              "      <td>adc</td>\n",
              "      <td>0.911504</td>\n",
              "      <td>0.913043</td>\n",
              "      <td>0.911677</td>\n",
              "    </tr>\n",
              "    <tr>\n",
              "      <th>4</th>\n",
              "      <td>sup</td>\n",
              "      <td>0.865801</td>\n",
              "      <td>0.863436</td>\n",
              "      <td>0.869234</td>\n",
              "    </tr>\n",
              "  </tbody>\n",
              "</table>\n",
              "</div>\n",
              "      <button class=\"colab-df-convert\" onclick=\"convertToInteractive('df-330b1631-75dd-4dcc-84a5-0d56d7bc9354')\"\n",
              "              title=\"Convert this dataframe to an interactive table.\"\n",
              "              style=\"display:none;\">\n",
              "        \n",
              "  <svg xmlns=\"http://www.w3.org/2000/svg\" height=\"24px\"viewBox=\"0 0 24 24\"\n",
              "       width=\"24px\">\n",
              "    <path d=\"M0 0h24v24H0V0z\" fill=\"none\"/>\n",
              "    <path d=\"M18.56 5.44l.94 2.06.94-2.06 2.06-.94-2.06-.94-.94-2.06-.94 2.06-2.06.94zm-11 1L8.5 8.5l.94-2.06 2.06-.94-2.06-.94L8.5 2.5l-.94 2.06-2.06.94zm10 10l.94 2.06.94-2.06 2.06-.94-2.06-.94-.94-2.06-.94 2.06-2.06.94z\"/><path d=\"M17.41 7.96l-1.37-1.37c-.4-.4-.92-.59-1.43-.59-.52 0-1.04.2-1.43.59L10.3 9.45l-7.72 7.72c-.78.78-.78 2.05 0 2.83L4 21.41c.39.39.9.59 1.41.59.51 0 1.02-.2 1.41-.59l7.78-7.78 2.81-2.81c.8-.78.8-2.07 0-2.86zM5.41 20L4 18.59l7.72-7.72 1.47 1.35L5.41 20z\"/>\n",
              "  </svg>\n",
              "      </button>\n",
              "      \n",
              "  <style>\n",
              "    .colab-df-container {\n",
              "      display:flex;\n",
              "      flex-wrap:wrap;\n",
              "      gap: 12px;\n",
              "    }\n",
              "\n",
              "    .colab-df-convert {\n",
              "      background-color: #E8F0FE;\n",
              "      border: none;\n",
              "      border-radius: 50%;\n",
              "      cursor: pointer;\n",
              "      display: none;\n",
              "      fill: #1967D2;\n",
              "      height: 32px;\n",
              "      padding: 0 0 0 0;\n",
              "      width: 32px;\n",
              "    }\n",
              "\n",
              "    .colab-df-convert:hover {\n",
              "      background-color: #E2EBFA;\n",
              "      box-shadow: 0px 1px 2px rgba(60, 64, 67, 0.3), 0px 1px 3px 1px rgba(60, 64, 67, 0.15);\n",
              "      fill: #174EA6;\n",
              "    }\n",
              "\n",
              "    [theme=dark] .colab-df-convert {\n",
              "      background-color: #3B4455;\n",
              "      fill: #D2E3FC;\n",
              "    }\n",
              "\n",
              "    [theme=dark] .colab-df-convert:hover {\n",
              "      background-color: #434B5C;\n",
              "      box-shadow: 0px 1px 3px 1px rgba(0, 0, 0, 0.15);\n",
              "      filter: drop-shadow(0px 1px 2px rgba(0, 0, 0, 0.3));\n",
              "      fill: #FFFFFF;\n",
              "    }\n",
              "  </style>\n",
              "\n",
              "      <script>\n",
              "        const buttonEl =\n",
              "          document.querySelector('#df-330b1631-75dd-4dcc-84a5-0d56d7bc9354 button.colab-df-convert');\n",
              "        buttonEl.style.display =\n",
              "          google.colab.kernel.accessAllowed ? 'block' : 'none';\n",
              "\n",
              "        async function convertToInteractive(key) {\n",
              "          const element = document.querySelector('#df-330b1631-75dd-4dcc-84a5-0d56d7bc9354');\n",
              "          const dataTable =\n",
              "            await google.colab.kernel.invokeFunction('convertToInteractive',\n",
              "                                                     [key], {});\n",
              "          if (!dataTable) return;\n",
              "\n",
              "          const docLinkHtml = 'Like what you see? Visit the ' +\n",
              "            '<a target=\"_blank\" href=https://colab.research.google.com/notebooks/data_table.ipynb>data table notebook</a>'\n",
              "            + ' to learn more about interactive tables.';\n",
              "          element.innerHTML = '';\n",
              "          dataTable['output_type'] = 'display_data';\n",
              "          await google.colab.output.renderOutput(dataTable, element);\n",
              "          const docLink = document.createElement('div');\n",
              "          docLink.innerHTML = docLinkHtml;\n",
              "          element.appendChild(docLink);\n",
              "        }\n",
              "      </script>\n",
              "    </div>\n",
              "  </div>\n",
              "  "
            ]
          },
          "metadata": {},
          "execution_count": 214
        }
      ]
    }
  ]
}