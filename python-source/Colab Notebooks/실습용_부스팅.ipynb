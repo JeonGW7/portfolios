{
  "nbformat": 4,
  "nbformat_minor": 0,
  "metadata": {
    "colab": {
      "name": "실습용_부스팅.ipynb",
      "provenance": [],
      "collapsed_sections": []
    },
    "kernelspec": {
      "name": "python3",
      "display_name": "Python 3"
    },
    "language_info": {
      "name": "python"
    }
  },
  "cells": [
    {
      "cell_type": "markdown",
      "source": [
        "# 부스팅(Boosting)"
      ],
      "metadata": {
        "id": "7S9FRvBcnVUp"
      }
    },
    {
      "cell_type": "code",
      "execution_count": null,
      "metadata": {
        "id": "vEKFsV39nPa_"
      },
      "outputs": [],
      "source": [
        "from sklearn.datasets import load_wine\n",
        "wine = load_wine()"
      ]
    },
    {
      "cell_type": "code",
      "source": [
        "import pandas as pd\n",
        "df = pd.DataFrame(wine.data, columns=wine.feature_names)\n",
        "print(df.shape)\n",
        "df.head()"
      ],
      "metadata": {
        "colab": {
          "base_uri": "https://localhost:8080/",
          "height": 289
        },
        "id": "3S2QteBDnoVL",
        "outputId": "e91686cd-280d-4563-e9aa-6dba5c05d755"
      },
      "execution_count": null,
      "outputs": [
        {
          "output_type": "stream",
          "name": "stdout",
          "text": [
            "(178, 13)\n"
          ]
        },
        {
          "output_type": "execute_result",
          "data": {
            "text/plain": [
              "   alcohol  malic_acid   ash  alcalinity_of_ash  magnesium  total_phenols  \\\n",
              "0    14.23        1.71  2.43               15.6      127.0           2.80   \n",
              "1    13.20        1.78  2.14               11.2      100.0           2.65   \n",
              "2    13.16        2.36  2.67               18.6      101.0           2.80   \n",
              "3    14.37        1.95  2.50               16.8      113.0           3.85   \n",
              "4    13.24        2.59  2.87               21.0      118.0           2.80   \n",
              "\n",
              "   flavanoids  nonflavanoid_phenols  proanthocyanins  color_intensity   hue  \\\n",
              "0        3.06                  0.28             2.29             5.64  1.04   \n",
              "1        2.76                  0.26             1.28             4.38  1.05   \n",
              "2        3.24                  0.30             2.81             5.68  1.03   \n",
              "3        3.49                  0.24             2.18             7.80  0.86   \n",
              "4        2.69                  0.39             1.82             4.32  1.04   \n",
              "\n",
              "   od280/od315_of_diluted_wines  proline  \n",
              "0                          3.92   1065.0  \n",
              "1                          3.40   1050.0  \n",
              "2                          3.17   1185.0  \n",
              "3                          3.45   1480.0  \n",
              "4                          2.93    735.0  "
            ],
            "text/html": [
              "\n",
              "  <div id=\"df-6040253b-4069-4291-a91c-f87d2851bad4\">\n",
              "    <div class=\"colab-df-container\">\n",
              "      <div>\n",
              "<style scoped>\n",
              "    .dataframe tbody tr th:only-of-type {\n",
              "        vertical-align: middle;\n",
              "    }\n",
              "\n",
              "    .dataframe tbody tr th {\n",
              "        vertical-align: top;\n",
              "    }\n",
              "\n",
              "    .dataframe thead th {\n",
              "        text-align: right;\n",
              "    }\n",
              "</style>\n",
              "<table border=\"1\" class=\"dataframe\">\n",
              "  <thead>\n",
              "    <tr style=\"text-align: right;\">\n",
              "      <th></th>\n",
              "      <th>alcohol</th>\n",
              "      <th>malic_acid</th>\n",
              "      <th>ash</th>\n",
              "      <th>alcalinity_of_ash</th>\n",
              "      <th>magnesium</th>\n",
              "      <th>total_phenols</th>\n",
              "      <th>flavanoids</th>\n",
              "      <th>nonflavanoid_phenols</th>\n",
              "      <th>proanthocyanins</th>\n",
              "      <th>color_intensity</th>\n",
              "      <th>hue</th>\n",
              "      <th>od280/od315_of_diluted_wines</th>\n",
              "      <th>proline</th>\n",
              "    </tr>\n",
              "  </thead>\n",
              "  <tbody>\n",
              "    <tr>\n",
              "      <th>0</th>\n",
              "      <td>14.23</td>\n",
              "      <td>1.71</td>\n",
              "      <td>2.43</td>\n",
              "      <td>15.6</td>\n",
              "      <td>127.0</td>\n",
              "      <td>2.80</td>\n",
              "      <td>3.06</td>\n",
              "      <td>0.28</td>\n",
              "      <td>2.29</td>\n",
              "      <td>5.64</td>\n",
              "      <td>1.04</td>\n",
              "      <td>3.92</td>\n",
              "      <td>1065.0</td>\n",
              "    </tr>\n",
              "    <tr>\n",
              "      <th>1</th>\n",
              "      <td>13.20</td>\n",
              "      <td>1.78</td>\n",
              "      <td>2.14</td>\n",
              "      <td>11.2</td>\n",
              "      <td>100.0</td>\n",
              "      <td>2.65</td>\n",
              "      <td>2.76</td>\n",
              "      <td>0.26</td>\n",
              "      <td>1.28</td>\n",
              "      <td>4.38</td>\n",
              "      <td>1.05</td>\n",
              "      <td>3.40</td>\n",
              "      <td>1050.0</td>\n",
              "    </tr>\n",
              "    <tr>\n",
              "      <th>2</th>\n",
              "      <td>13.16</td>\n",
              "      <td>2.36</td>\n",
              "      <td>2.67</td>\n",
              "      <td>18.6</td>\n",
              "      <td>101.0</td>\n",
              "      <td>2.80</td>\n",
              "      <td>3.24</td>\n",
              "      <td>0.30</td>\n",
              "      <td>2.81</td>\n",
              "      <td>5.68</td>\n",
              "      <td>1.03</td>\n",
              "      <td>3.17</td>\n",
              "      <td>1185.0</td>\n",
              "    </tr>\n",
              "    <tr>\n",
              "      <th>3</th>\n",
              "      <td>14.37</td>\n",
              "      <td>1.95</td>\n",
              "      <td>2.50</td>\n",
              "      <td>16.8</td>\n",
              "      <td>113.0</td>\n",
              "      <td>3.85</td>\n",
              "      <td>3.49</td>\n",
              "      <td>0.24</td>\n",
              "      <td>2.18</td>\n",
              "      <td>7.80</td>\n",
              "      <td>0.86</td>\n",
              "      <td>3.45</td>\n",
              "      <td>1480.0</td>\n",
              "    </tr>\n",
              "    <tr>\n",
              "      <th>4</th>\n",
              "      <td>13.24</td>\n",
              "      <td>2.59</td>\n",
              "      <td>2.87</td>\n",
              "      <td>21.0</td>\n",
              "      <td>118.0</td>\n",
              "      <td>2.80</td>\n",
              "      <td>2.69</td>\n",
              "      <td>0.39</td>\n",
              "      <td>1.82</td>\n",
              "      <td>4.32</td>\n",
              "      <td>1.04</td>\n",
              "      <td>2.93</td>\n",
              "      <td>735.0</td>\n",
              "    </tr>\n",
              "  </tbody>\n",
              "</table>\n",
              "</div>\n",
              "      <button class=\"colab-df-convert\" onclick=\"convertToInteractive('df-6040253b-4069-4291-a91c-f87d2851bad4')\"\n",
              "              title=\"Convert this dataframe to an interactive table.\"\n",
              "              style=\"display:none;\">\n",
              "        \n",
              "  <svg xmlns=\"http://www.w3.org/2000/svg\" height=\"24px\"viewBox=\"0 0 24 24\"\n",
              "       width=\"24px\">\n",
              "    <path d=\"M0 0h24v24H0V0z\" fill=\"none\"/>\n",
              "    <path d=\"M18.56 5.44l.94 2.06.94-2.06 2.06-.94-2.06-.94-.94-2.06-.94 2.06-2.06.94zm-11 1L8.5 8.5l.94-2.06 2.06-.94-2.06-.94L8.5 2.5l-.94 2.06-2.06.94zm10 10l.94 2.06.94-2.06 2.06-.94-2.06-.94-.94-2.06-.94 2.06-2.06.94z\"/><path d=\"M17.41 7.96l-1.37-1.37c-.4-.4-.92-.59-1.43-.59-.52 0-1.04.2-1.43.59L10.3 9.45l-7.72 7.72c-.78.78-.78 2.05 0 2.83L4 21.41c.39.39.9.59 1.41.59.51 0 1.02-.2 1.41-.59l7.78-7.78 2.81-2.81c.8-.78.8-2.07 0-2.86zM5.41 20L4 18.59l7.72-7.72 1.47 1.35L5.41 20z\"/>\n",
              "  </svg>\n",
              "      </button>\n",
              "      \n",
              "  <style>\n",
              "    .colab-df-container {\n",
              "      display:flex;\n",
              "      flex-wrap:wrap;\n",
              "      gap: 12px;\n",
              "    }\n",
              "\n",
              "    .colab-df-convert {\n",
              "      background-color: #E8F0FE;\n",
              "      border: none;\n",
              "      border-radius: 50%;\n",
              "      cursor: pointer;\n",
              "      display: none;\n",
              "      fill: #1967D2;\n",
              "      height: 32px;\n",
              "      padding: 0 0 0 0;\n",
              "      width: 32px;\n",
              "    }\n",
              "\n",
              "    .colab-df-convert:hover {\n",
              "      background-color: #E2EBFA;\n",
              "      box-shadow: 0px 1px 2px rgba(60, 64, 67, 0.3), 0px 1px 3px 1px rgba(60, 64, 67, 0.15);\n",
              "      fill: #174EA6;\n",
              "    }\n",
              "\n",
              "    [theme=dark] .colab-df-convert {\n",
              "      background-color: #3B4455;\n",
              "      fill: #D2E3FC;\n",
              "    }\n",
              "\n",
              "    [theme=dark] .colab-df-convert:hover {\n",
              "      background-color: #434B5C;\n",
              "      box-shadow: 0px 1px 3px 1px rgba(0, 0, 0, 0.15);\n",
              "      filter: drop-shadow(0px 1px 2px rgba(0, 0, 0, 0.3));\n",
              "      fill: #FFFFFF;\n",
              "    }\n",
              "  </style>\n",
              "\n",
              "      <script>\n",
              "        const buttonEl =\n",
              "          document.querySelector('#df-6040253b-4069-4291-a91c-f87d2851bad4 button.colab-df-convert');\n",
              "        buttonEl.style.display =\n",
              "          google.colab.kernel.accessAllowed ? 'block' : 'none';\n",
              "\n",
              "        async function convertToInteractive(key) {\n",
              "          const element = document.querySelector('#df-6040253b-4069-4291-a91c-f87d2851bad4');\n",
              "          const dataTable =\n",
              "            await google.colab.kernel.invokeFunction('convertToInteractive',\n",
              "                                                     [key], {});\n",
              "          if (!dataTable) return;\n",
              "\n",
              "          const docLinkHtml = 'Like what you see? Visit the ' +\n",
              "            '<a target=\"_blank\" href=https://colab.research.google.com/notebooks/data_table.ipynb>data table notebook</a>'\n",
              "            + ' to learn more about interactive tables.';\n",
              "          element.innerHTML = '';\n",
              "          dataTable['output_type'] = 'display_data';\n",
              "          await google.colab.output.renderOutput(dataTable, element);\n",
              "          const docLink = document.createElement('div');\n",
              "          docLink.innerHTML = docLinkHtml;\n",
              "          element.appendChild(docLink);\n",
              "        }\n",
              "      </script>\n",
              "    </div>\n",
              "  </div>\n",
              "  "
            ]
          },
          "metadata": {},
          "execution_count": 2
        }
      ]
    },
    {
      "cell_type": "code",
      "source": [
        "import numpy as np\n",
        "np.unique(wine.target, return_counts=True)"
      ],
      "metadata": {
        "colab": {
          "base_uri": "https://localhost:8080/"
        },
        "id": "14HIWvaVn3EH",
        "outputId": "8dab79af-be1d-4fac-ac6c-ca3f8d0bd6f0"
      },
      "execution_count": null,
      "outputs": [
        {
          "output_type": "execute_result",
          "data": {
            "text/plain": [
              "(array([0, 1, 2]), array([59, 71, 48]))"
            ]
          },
          "metadata": {},
          "execution_count": 3
        }
      ]
    },
    {
      "cell_type": "code",
      "source": [
        "wine.target_names"
      ],
      "metadata": {
        "colab": {
          "base_uri": "https://localhost:8080/"
        },
        "id": "sehRRKzEoG44",
        "outputId": "dd2fe6be-4d28-41bd-94c9-5d8defbb9c62"
      },
      "execution_count": null,
      "outputs": [
        {
          "output_type": "execute_result",
          "data": {
            "text/plain": [
              "array(['class_0', 'class_1', 'class_2'], dtype='<U7')"
            ]
          },
          "metadata": {},
          "execution_count": 4
        }
      ]
    },
    {
      "cell_type": "code",
      "source": [
        "from sklearn.model_selection import train_test_split\n",
        "X_train, X_test, y_train, y_test = train_test_split(\n",
        "    wine.data, wine.target, stratify=wine.target, test_size=0.2, random_state=2022\n",
        ")"
      ],
      "metadata": {
        "id": "Ej-4EpKNoL0R"
      },
      "execution_count": null,
      "outputs": []
    },
    {
      "cell_type": "markdown",
      "source": [
        "### 1. XGBoost(eXtra Gradient Boost)\n",
        "- PC에 설치\n",
        "<pre>\n",
        "conda activate base\n",
        "conda install -c anaconda py-xgboost\n",
        "</pre>"
      ],
      "metadata": {
        "id": "y-u6qxMFoszn"
      }
    },
    {
      "cell_type": "markdown",
      "source": [
        "###  현존 머신러닝 모델중 가장 우월한 XGBoost 모델\n",
        "* boost란 여러 개의 약한 의사결정나무(Decision Tree)를 조합해서 사용하는 앙상블(Ensemble) 기법 중 하나로 약한 예측 모형들의 학습 에러에 가중치를 두고, 순차적으로 다음 학습 모델에 반영하여 강한 예측모형을 만든다.\n",
        "## XGBoost 란?\n",
        "* XGBoost는 Extreme Gradient Boosting의 약자이다. 해석하면 극한 변화도(경사도) 부스팅\n",
        "* Boosting 기법을 이용하여 구현한 알고리즘은 Gradient Boost 가 대표적\n",
        "이 알고리즘을 병렬 학습이 지원되도록 구현한 라이브러리가 XGBoost 이다.\n",
        "* Regression, Classification 문제를 모두 지원하며, 성능과 자원 효율이 좋아서, 인기 있게 사용되는 알고리즘 이다.\n",
        "* XGBoost의 장점\n",
        "* GBM 대비 빠른 수행시간\n",
        "* 병렬 처리로 학습, 분류 속도가 빠르다.\n",
        "* 과적합 규제(Regularization)\n",
        "* 표준 GBM 경우 과적합 규제기능이 없으나, XGBoost는 자체에 과적합 규제 기능으로 강한 내구성 지닌다.\n",
        "* 분류와 회귀영역에서 뛰어난 예측 성능 발휘\n",
        "* 즉, CART(Classification and regression tree) 앙상블 모델을 사용\n",
        "Early Stopping(조기 종료) 기능이 있음\n",
        "* 다양한 옵션을 제공하며 Customizing이 용이하다.\n",
        "* Missing Values : 결측치를 내부적으로 처리해준다."
      ],
      "metadata": {
        "id": "Vd5PpzNat0s4"
      }
    },
    {
      "cell_type": "code",
      "source": [
        "from xgboost import  "
      ],
      "metadata": {
        "id": "Osrtkr09opsx"
      },
      "execution_count": null,
      "outputs": []
    },
    {
      "cell_type": "code",
      "source": [
        " "
      ],
      "metadata": {
        "id": "ow4g3Nxjpkoy"
      },
      "execution_count": null,
      "outputs": []
    },
    {
      "cell_type": "code",
      "source": [
        "from sklearn.metrics import  "
      ],
      "metadata": {
        "id": "zIIaLvp-qjOm"
      },
      "execution_count": null,
      "outputs": []
    },
    {
      "cell_type": "markdown",
      "source": [
        "- 시각화"
      ],
      "metadata": {
        "id": "BIhMn4pHqzcQ"
      }
    },
    {
      "cell_type": "code",
      "source": [
        "from xgboost import  \n",
        "import matplotlib.pyplot as plt"
      ],
      "metadata": {
        "id": "FvmAcmsZqs3S"
      },
      "execution_count": null,
      "outputs": []
    },
    {
      "cell_type": "code",
      "source": [
        " "
      ],
      "metadata": {
        "id": "taoNev5Lq8I_"
      },
      "execution_count": null,
      "outputs": []
    },
    {
      "cell_type": "markdown",
      "source": [
        "- GridSearchCV :1. 최적의 파라미터를 찾아주고 / 교차검증도이 가능한 라이브러리\n"
      ],
      "metadata": {
        "id": "HJz5oBzArg2R"
      }
    },
    {
      "cell_type": "code",
      "source": [
        "from sklearn.model_selection import  "
      ],
      "metadata": {
        "id": "1s-ADMD8rCi3"
      },
      "execution_count": null,
      "outputs": []
    },
    {
      "cell_type": "code",
      "source": [
        " "
      ],
      "metadata": {
        "colab": {
          "base_uri": "https://localhost:8080/"
        },
        "id": "OnY0LuNbr_RI",
        "outputId": "acfca6ca-3d6d-4983-8378-6f58e22f1da2"
      },
      "execution_count": null,
      "outputs": [
        {
          "output_type": "execute_result",
          "data": {
            "text/plain": [
              "0.9722222222222222"
            ]
          },
          "metadata": {},
          "execution_count": 12
        }
      ]
    },
    {
      "cell_type": "markdown",
      "source": [
        "### 2. LightGBM\n",
        "- PC에 설치\n",
        "<pre>\n",
        "conda activate base\n",
        "conda install -c conda-forge lightgbm\n",
        "</pre>"
      ],
      "metadata": {
        "id": "E7QID04HsxDI"
      }
    },
    {
      "cell_type": "markdown",
      "source": [
        "* GMB(Gradient Boosting Machine) 이란? 틀린부분에 가중치를 더하면서 진행하는 알고리즘\n",
        "* Gradient Boosting 프레임워크로 Tree기반 학습 알고리즘입니다. 기존의 다른 Tree기반 알고리즘과 다른점은 Tree구조가 수평적으로 확장하는 다른 Tree기반 알고리즘에 비해 수직적으로 확장을 하는것에 있습니다.  \n",
        "* 즉, Light GBM은 leaf-wise인 반면 다른 알고리즘은 level-wise입니다. \n",
        "\n",
        "![image.png](data:image/png;base64,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)\n",
        "\n",
        "* leaf-wise의 장점은 속도가 빠르다는 것이 가장 큰 장점입니다. 데이타의 양이 많아지는 상황에서 빠른 결과를 얻는데 시간이 점점 많이 걸리고 있습니다.\n",
        "* Light GBM은 큰 사이즈의 데이타를 다룰 수 있고 실행시킬 때 적은 메모리를 차지합니다. "
      ],
      "metadata": {
        "id": "0fjigYjLvcuX"
      }
    },
    {
      "cell_type": "code",
      "source": [
        "from lightgbm import  "
      ],
      "metadata": {
        "id": "be0TuUGOsIeX"
      },
      "execution_count": null,
      "outputs": []
    },
    {
      "cell_type": "markdown",
      "source": [
        "Light GBM의 파라미터에 대해?\n",
        "LGBM의 경우 복잡한 것은 파라미터 튜닝입니다. Light GBM은 100개 이상의 파라미터를 커버하고 있기 때문입니다.\n",
        "\n",
        "Light GBM의 가장 베이직한 파라미터를 아는 것이 구현 시 매우 중요합니다. \n",
        "\n",
        "\n",
        "1. max_depth : Tree의 최대 깊이를 말합니다. 이 파라미터는 모델 과적합을 다룰 때 사용됩니다. 만약 여러분의 모델이 과적합된 것 같다고 느끼신다면 제 조언은 max_depth 값을 줄이라는 것입니다.\n",
        "\n",
        "2. min_data_in_leaf : Leaf가 가지고 있는 최소한의 레코드 수입니다. 디폴트값은 20으로 최적 값입니다. 과적합을 해결할 때 사용되는 파라미터입니다.\n",
        "\n",
        "3. feature_fraction : Boosting (나중에 다뤄질 것입니다) 이 랜덤 포레스트일 경우 사용합니다. 0.8 feature_fraction의 의미는 Light GBM이 Tree를 만들 때 매번 각각의 iteration 반복에서 파라미터 중에서 80%를 랜덤하게 선택하는 것을 의미합니다.\n",
        "\n",
        "4. bagging_fraction : 매번 iteration을 돌 때 사용되는 데이터의 일부를 선택하는데 트레이닝 속도를 높이고 과적합을 방지할 때 주로 사용됩니다.\n",
        "\n",
        "5. early_stopping_round : 이 파라미터는 분석 속도를 높이는데 도움이 됩니다. 모델은 만약 어떤 validation 데이터 중 하나의 지표가 지난 early_stopping_round 라운드에서 향상되지 않았다면 학습을 중단합니다. 이는 지나친 iteration을 줄이는데 도움이 됩니다.\n",
        "\n",
        "6. lambda : lambda 값은 regularization 정규화를 합니다. 일반적인 값의 범위는 0 에서 1 사이입니다.\n",
        "\n",
        "7. min_gain_to_split : 이 파라미터는 분기하기 위해 필요한 최소한의 gain을 의미합니다. Tree에서 유용한 분기의 수를 컨트롤하는데 사용됩니다.\n",
        "\n",
        "8. max_cat_group : 카테고리 수가 클 때, 과적합을 방지하는 분기 포인트를 찾습니다. 그래서 Light GBM 알고리즘이 카테고리 그룹을 max_cat_group 그룹으로 합치고 그룹 경계선에서 분기 포인트를 찾습니다. 디폴트 값은 64 입니다.\n",
        "\n",
        "9. Task : 데이터에 대해서 수행하고자 하는 임무를 구체화합니다. train 트레이닝일 수도 있고 predict 예측일 수도 있습니다.\n",
        "\n",
        "10. application : 가장 중요한 파라미터로, 모델의 어플리케이션을 정하는데 이것이 regression 회귀분석 문제인지 또는 classification 분류 문제인지를 정합니다. Light GBM에서 디폴트는 regression 회귀분석 모델입니다.\n",
        "\n",
        "  - regression: 회귀분석\n",
        "  - binary: 이진 분류\n",
        "  - multiclass: 다중 분류\n",
        "  - boosting : 실행하고자 하는 알고리즘 타입을 정의합니다. 디폴트값은 gdbt 입니다.\n",
        "  - gdbt : Traditional Gradient Boosting Decision Tree\n",
        "  - rf : Random Forest\n",
        "  - dart : Dropouts meet Multiple Additive Regression Trees\n",
        "  - goss : Gradient-based One-Side Sampling\n",
        "  - num_boost_round : boosting iteration 수로 일반적으로 100 이상입니다.\n",
        "\n",
        "11. learning_rate : 최종 결과에 대한 각각의 Tree에 영향을 미치는 변수입니다. GBM은 초기의 추정값에서 시작하여 각각의Tree 결과를 사용하여 추정값을 업데이트 합니다. 학습 파라미터는 이러한 추정에서 발생하는 변화의 크기를 컨트롤합니다. 일반적인 값은 0.1, 0.001, 0.003 등등이 있습니다.\n",
        "\n",
        "12. num_leaves : 전체 Tree의 leave 수 이고, 디폴트값은 31입니다.\n",
        "\n",
        "13. device : 디폴트 값은 cpu 인데 gpu로 변경할 수도 있습니다.\n",
        "\n",
        "14. metric : 모델을 구현할 때 손실을 정하기 때문에 중요한 변수 중에 하나입니다. regression과 classification 을 위한 일반적인 손실 값이 아래에 나와있습니다.\n",
        "\n",
        "  - mae : mean absolute error\n",
        "  - mse : mean squared error\n",
        "  - binary_logloss : loss for binary classification\n",
        "  - multi_logloss : loss for multi classification"
      ],
      "metadata": {
        "id": "8XbrUVFSv-ZA"
      }
    },
    {
      "cell_type": "code",
      "source": [
        " )"
      ],
      "metadata": {
        "colab": {
          "base_uri": "https://localhost:8080/"
        },
        "id": "I5Ycn7rEthyY",
        "outputId": "0d483178-77fb-48eb-abe5-9fa51f7a7d13"
      },
      "execution_count": null,
      "outputs": [
        {
          "output_type": "stream",
          "name": "stdout",
          "text": [
            "[1]\tvalid_0's multi_logloss: 0.990435\tvalid_0's multi_logloss: 0.990435\n",
            "[2]\tvalid_0's multi_logloss: 0.908143\tvalid_0's multi_logloss: 0.908143\n",
            "[3]\tvalid_0's multi_logloss: 0.837356\tvalid_0's multi_logloss: 0.837356\n",
            "[4]\tvalid_0's multi_logloss: 0.764444\tvalid_0's multi_logloss: 0.764444\n",
            "[5]\tvalid_0's multi_logloss: 0.704935\tvalid_0's multi_logloss: 0.704935\n",
            "[6]\tvalid_0's multi_logloss: 0.64864\tvalid_0's multi_logloss: 0.64864\n",
            "[7]\tvalid_0's multi_logloss: 0.600436\tvalid_0's multi_logloss: 0.600436\n",
            "[8]\tvalid_0's multi_logloss: 0.552786\tvalid_0's multi_logloss: 0.552786\n",
            "[9]\tvalid_0's multi_logloss: 0.517989\tvalid_0's multi_logloss: 0.517989\n",
            "[10]\tvalid_0's multi_logloss: 0.480141\tvalid_0's multi_logloss: 0.480141\n",
            "[11]\tvalid_0's multi_logloss: 0.451184\tvalid_0's multi_logloss: 0.451184\n",
            "[12]\tvalid_0's multi_logloss: 0.418687\tvalid_0's multi_logloss: 0.418687\n",
            "[13]\tvalid_0's multi_logloss: 0.391787\tvalid_0's multi_logloss: 0.391787\n",
            "[14]\tvalid_0's multi_logloss: 0.367788\tvalid_0's multi_logloss: 0.367788\n",
            "[15]\tvalid_0's multi_logloss: 0.344975\tvalid_0's multi_logloss: 0.344975\n",
            "[16]\tvalid_0's multi_logloss: 0.323976\tvalid_0's multi_logloss: 0.323976\n",
            "[17]\tvalid_0's multi_logloss: 0.304602\tvalid_0's multi_logloss: 0.304602\n",
            "[18]\tvalid_0's multi_logloss: 0.288605\tvalid_0's multi_logloss: 0.288605\n",
            "[19]\tvalid_0's multi_logloss: 0.273361\tvalid_0's multi_logloss: 0.273361\n",
            "[20]\tvalid_0's multi_logloss: 0.261604\tvalid_0's multi_logloss: 0.261604\n",
            "[21]\tvalid_0's multi_logloss: 0.247411\tvalid_0's multi_logloss: 0.247411\n",
            "[22]\tvalid_0's multi_logloss: 0.232891\tvalid_0's multi_logloss: 0.232891\n",
            "[23]\tvalid_0's multi_logloss: 0.222288\tvalid_0's multi_logloss: 0.222288\n",
            "[24]\tvalid_0's multi_logloss: 0.211125\tvalid_0's multi_logloss: 0.211125\n",
            "[25]\tvalid_0's multi_logloss: 0.199922\tvalid_0's multi_logloss: 0.199922\n",
            "[26]\tvalid_0's multi_logloss: 0.190003\tvalid_0's multi_logloss: 0.190003\n",
            "[27]\tvalid_0's multi_logloss: 0.182935\tvalid_0's multi_logloss: 0.182935\n",
            "[28]\tvalid_0's multi_logloss: 0.174509\tvalid_0's multi_logloss: 0.174509\n",
            "[29]\tvalid_0's multi_logloss: 0.16825\tvalid_0's multi_logloss: 0.16825\n",
            "[30]\tvalid_0's multi_logloss: 0.160865\tvalid_0's multi_logloss: 0.160865\n",
            "[31]\tvalid_0's multi_logloss: 0.155991\tvalid_0's multi_logloss: 0.155991\n",
            "[32]\tvalid_0's multi_logloss: 0.151392\tvalid_0's multi_logloss: 0.151392\n",
            "[33]\tvalid_0's multi_logloss: 0.149302\tvalid_0's multi_logloss: 0.149302\n",
            "[34]\tvalid_0's multi_logloss: 0.145148\tvalid_0's multi_logloss: 0.145148\n",
            "[35]\tvalid_0's multi_logloss: 0.140475\tvalid_0's multi_logloss: 0.140475\n",
            "[36]\tvalid_0's multi_logloss: 0.137944\tvalid_0's multi_logloss: 0.137944\n",
            "[37]\tvalid_0's multi_logloss: 0.135312\tvalid_0's multi_logloss: 0.135312\n",
            "[38]\tvalid_0's multi_logloss: 0.131911\tvalid_0's multi_logloss: 0.131911\n",
            "[39]\tvalid_0's multi_logloss: 0.127934\tvalid_0's multi_logloss: 0.127934\n",
            "[40]\tvalid_0's multi_logloss: 0.12753\tvalid_0's multi_logloss: 0.12753\n",
            "[41]\tvalid_0's multi_logloss: 0.12653\tvalid_0's multi_logloss: 0.12653\n",
            "[42]\tvalid_0's multi_logloss: 0.124075\tvalid_0's multi_logloss: 0.124075\n",
            "[43]\tvalid_0's multi_logloss: 0.121484\tvalid_0's multi_logloss: 0.121484\n",
            "[44]\tvalid_0's multi_logloss: 0.118433\tvalid_0's multi_logloss: 0.118433\n",
            "[45]\tvalid_0's multi_logloss: 0.11709\tvalid_0's multi_logloss: 0.11709\n",
            "[46]\tvalid_0's multi_logloss: 0.115164\tvalid_0's multi_logloss: 0.115164\n",
            "[47]\tvalid_0's multi_logloss: 0.112558\tvalid_0's multi_logloss: 0.112558\n",
            "[48]\tvalid_0's multi_logloss: 0.110827\tvalid_0's multi_logloss: 0.110827\n",
            "[49]\tvalid_0's multi_logloss: 0.107682\tvalid_0's multi_logloss: 0.107682\n",
            "[50]\tvalid_0's multi_logloss: 0.107738\tvalid_0's multi_logloss: 0.107738\n",
            "[51]\tvalid_0's multi_logloss: 0.103924\tvalid_0's multi_logloss: 0.103924\n",
            "[52]\tvalid_0's multi_logloss: 0.104749\tvalid_0's multi_logloss: 0.104749\n",
            "[53]\tvalid_0's multi_logloss: 0.105059\tvalid_0's multi_logloss: 0.105059\n",
            "[54]\tvalid_0's multi_logloss: 0.102455\tvalid_0's multi_logloss: 0.102455\n",
            "[55]\tvalid_0's multi_logloss: 0.101245\tvalid_0's multi_logloss: 0.101245\n",
            "[56]\tvalid_0's multi_logloss: 0.0992367\tvalid_0's multi_logloss: 0.0992367\n",
            "[57]\tvalid_0's multi_logloss: 0.0993853\tvalid_0's multi_logloss: 0.0993853\n",
            "[58]\tvalid_0's multi_logloss: 0.0983796\tvalid_0's multi_logloss: 0.0983796\n",
            "[59]\tvalid_0's multi_logloss: 0.0967659\tvalid_0's multi_logloss: 0.0967659\n",
            "[60]\tvalid_0's multi_logloss: 0.096624\tvalid_0's multi_logloss: 0.096624\n",
            "[61]\tvalid_0's multi_logloss: 0.0962401\tvalid_0's multi_logloss: 0.0962401\n",
            "[62]\tvalid_0's multi_logloss: 0.0960292\tvalid_0's multi_logloss: 0.0960292\n",
            "[63]\tvalid_0's multi_logloss: 0.0941866\tvalid_0's multi_logloss: 0.0941866\n",
            "[64]\tvalid_0's multi_logloss: 0.0935058\tvalid_0's multi_logloss: 0.0935058\n",
            "[65]\tvalid_0's multi_logloss: 0.0942193\tvalid_0's multi_logloss: 0.0942193\n",
            "[66]\tvalid_0's multi_logloss: 0.09405\tvalid_0's multi_logloss: 0.09405\n",
            "[67]\tvalid_0's multi_logloss: 0.0934319\tvalid_0's multi_logloss: 0.0934319\n",
            "[68]\tvalid_0's multi_logloss: 0.0905521\tvalid_0's multi_logloss: 0.0905521\n",
            "[69]\tvalid_0's multi_logloss: 0.0925765\tvalid_0's multi_logloss: 0.0925765\n",
            "[70]\tvalid_0's multi_logloss: 0.0897127\tvalid_0's multi_logloss: 0.0897127\n",
            "[71]\tvalid_0's multi_logloss: 0.0871949\tvalid_0's multi_logloss: 0.0871949\n",
            "[72]\tvalid_0's multi_logloss: 0.0880991\tvalid_0's multi_logloss: 0.0880991\n",
            "[73]\tvalid_0's multi_logloss: 0.0891227\tvalid_0's multi_logloss: 0.0891227\n",
            "[74]\tvalid_0's multi_logloss: 0.088095\tvalid_0's multi_logloss: 0.088095\n",
            "[75]\tvalid_0's multi_logloss: 0.0846751\tvalid_0's multi_logloss: 0.0846751\n",
            "[76]\tvalid_0's multi_logloss: 0.0829421\tvalid_0's multi_logloss: 0.0829421\n",
            "[77]\tvalid_0's multi_logloss: 0.0825328\tvalid_0's multi_logloss: 0.0825328\n",
            "[78]\tvalid_0's multi_logloss: 0.081471\tvalid_0's multi_logloss: 0.081471\n",
            "[79]\tvalid_0's multi_logloss: 0.0811748\tvalid_0's multi_logloss: 0.0811748\n",
            "[80]\tvalid_0's multi_logloss: 0.0788381\tvalid_0's multi_logloss: 0.0788381\n",
            "[81]\tvalid_0's multi_logloss: 0.0764152\tvalid_0's multi_logloss: 0.0764152\n",
            "[82]\tvalid_0's multi_logloss: 0.0785035\tvalid_0's multi_logloss: 0.0785035\n",
            "[83]\tvalid_0's multi_logloss: 0.0787168\tvalid_0's multi_logloss: 0.0787168\n",
            "[84]\tvalid_0's multi_logloss: 0.0794331\tvalid_0's multi_logloss: 0.0794331\n",
            "[85]\tvalid_0's multi_logloss: 0.0806332\tvalid_0's multi_logloss: 0.0806332\n",
            "[86]\tvalid_0's multi_logloss: 0.0765942\tvalid_0's multi_logloss: 0.0765942\n",
            "[87]\tvalid_0's multi_logloss: 0.0763483\tvalid_0's multi_logloss: 0.0763483\n",
            "[88]\tvalid_0's multi_logloss: 0.0754051\tvalid_0's multi_logloss: 0.0754051\n",
            "[89]\tvalid_0's multi_logloss: 0.0776707\tvalid_0's multi_logloss: 0.0776707\n",
            "[90]\tvalid_0's multi_logloss: 0.0775176\tvalid_0's multi_logloss: 0.0775176\n",
            "[91]\tvalid_0's multi_logloss: 0.0799853\tvalid_0's multi_logloss: 0.0799853\n",
            "[92]\tvalid_0's multi_logloss: 0.0807992\tvalid_0's multi_logloss: 0.0807992\n",
            "[93]\tvalid_0's multi_logloss: 0.0806097\tvalid_0's multi_logloss: 0.0806097\n",
            "[94]\tvalid_0's multi_logloss: 0.0819951\tvalid_0's multi_logloss: 0.0819951\n",
            "[95]\tvalid_0's multi_logloss: 0.0815364\tvalid_0's multi_logloss: 0.0815364\n",
            "[96]\tvalid_0's multi_logloss: 0.0841948\tvalid_0's multi_logloss: 0.0841948\n",
            "[97]\tvalid_0's multi_logloss: 0.0800794\tvalid_0's multi_logloss: 0.0800794\n",
            "[98]\tvalid_0's multi_logloss: 0.0799009\tvalid_0's multi_logloss: 0.0799009\n",
            "[99]\tvalid_0's multi_logloss: 0.0802821\tvalid_0's multi_logloss: 0.0802821\n",
            "[100]\tvalid_0's multi_logloss: 0.0801132\tvalid_0's multi_logloss: 0.0801132\n"
          ]
        },
        {
          "output_type": "execute_result",
          "data": {
            "text/plain": [
              "LGBMClassifier()"
            ]
          },
          "metadata": {},
          "execution_count": 14
        }
      ]
    },
    {
      "cell_type": "code",
      "source": [
        " "
      ],
      "metadata": {
        "id": "DgUDhkY8uXpA"
      },
      "execution_count": null,
      "outputs": []
    },
    {
      "cell_type": "markdown",
      "source": [
        "- 시각화"
      ],
      "metadata": {
        "id": "mCj-gbAEu1PL"
      }
    },
    {
      "cell_type": "code",
      "source": [
        "from lightgbm import  "
      ],
      "metadata": {
        "id": "dASeCdxHuttj"
      },
      "execution_count": null,
      "outputs": []
    },
    {
      "cell_type": "code",
      "source": [
        " "
      ],
      "metadata": {
        "id": "wM4JJVxhu-x-"
      },
      "execution_count": null,
      "outputs": []
    },
    {
      "cell_type": "code",
      "source": [
        " "
      ],
      "metadata": {
        "id": "To8xFmI4vGeX"
      },
      "execution_count": null,
      "outputs": []
    },
    {
      "cell_type": "code",
      "source": [
        " "
      ],
      "metadata": {
        "id": "Vwf_LqNEvhVB"
      },
      "execution_count": null,
      "outputs": []
    },
    {
      "cell_type": "code",
      "source": [
        "  "
      ],
      "metadata": {
        "id": "4uPJSOc1wJiy"
      },
      "execution_count": null,
      "outputs": []
    },
    {
      "cell_type": "code",
      "source": [
        ""
      ],
      "metadata": {
        "id": "4QGa43EQxJYg"
      },
      "execution_count": null,
      "outputs": []
    }
  ]
}