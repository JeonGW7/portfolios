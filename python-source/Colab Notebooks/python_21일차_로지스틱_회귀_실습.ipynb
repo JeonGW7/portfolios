{
  "nbformat": 4,
  "nbformat_minor": 0,
  "metadata": {
    "colab": {
      "name": "python 21일차 - 로지스틱 회귀 실습.ipynb",
      "provenance": [],
      "collapsed_sections": []
    },
    "kernelspec": {
      "name": "python3",
      "display_name": "Python 3"
    },
    "language_info": {
      "name": "python"
    }
  },
  "cells": [
    {
      "cell_type": "code",
      "execution_count": 6,
      "metadata": {
        "id": "xKdyHHxlpq6-"
      },
      "outputs": [],
      "source": [
        "import numpy as np\n",
        "import matplotlib.pyplot as plt"
      ]
    },
    {
      "cell_type": "markdown",
      "source": [
        "* Sigmoid 함수"
      ],
      "metadata": {
        "id": "3VSGTTcvqN-9"
      }
    },
    {
      "cell_type": "code",
      "source": [
        "def sigmoid(x,a=1,b=0):\n",
        "  return (1. / (1+np.exp(-a*(x-b))))"
      ],
      "metadata": {
        "id": "5G52ADzqqRGK"
      },
      "execution_count": 7,
      "outputs": []
    },
    {
      "cell_type": "code",
      "source": [
        "xs = np.linspace(-5,5,1001)\n",
        "ys = sigmoid(xs)\n",
        "plt.plot(xs,ys,label='sigmoid')\n",
        "plt.plot(xs,ys*(1-ys),label='derivative')\n",
        "plt.title('Sigmoid function')\n",
        "plt.yticks([0,0.5,1])\n",
        "plt.grid()\n",
        "plt.legend()\n",
        "plt.show()"
      ],
      "metadata": {
        "colab": {
          "base_uri": "https://localhost:8080/",
          "height": 281
        },
        "id": "qiiofZQ9qZcB",
        "outputId": "7fb90607-7b57-4d18-e481-bf76b46701e7"
      },
      "execution_count": 8,
      "outputs": [
        {
          "output_type": "display_data",
          "data": {
            "text/plain": [
              "<Figure size 432x288 with 1 Axes>"
            ],
            "image/png": "[encoded data removed]"
          },
          "metadata": {
            "needs_background": "light"
          }
        }
      ]
    },
    {
      "cell_type": "markdown",
      "source": [
        "* 이진 분류"
      ],
      "metadata": {
        "id": "ji8Lmy2I9LvG"
      }
    },
    {
      "cell_type": "code",
      "source": [
        "from sklearn.datasets import load_breast_cancer\n",
        "cancer = load_breast_cancer()\n",
        "cancer.data.shape"
      ],
      "metadata": {
        "colab": {
          "base_uri": "https://localhost:8080/"
        },
        "id": "s4rDw_ws9M1l",
        "outputId": "e0a03c1a-1634-4222-e782-88c51763b358"
      },
      "execution_count": 10,
      "outputs": [
        {
          "output_type": "execute_result",
          "data": {
            "text/plain": [
              "(569, 30)"
            ]
          },
          "metadata": {},
          "execution_count": 10
        }
      ]
    },
    {
      "cell_type": "code",
      "source": [
        "#로지스틱 회귀를 사용하려면 정규화/표준화 해야함\n",
        "from sklearn.preprocessing import StandardScaler\n",
        "cancer_std = StandardScaler().fit_transform(cancer.data)"
      ],
      "metadata": {
        "id": "bF91Q1if9a3B"
      },
      "execution_count": 11,
      "outputs": []
    },
    {
      "cell_type": "code",
      "source": [
        "from sklearn.model_selection import train_test_split\n",
        "X_train,X_test,y_train,y_test = train_test_split(cancer_std,cancer.target,stratify=cancer.target,random_state=2022)"
      ],
      "metadata": {
        "id": "p2Un0RwS9wCt"
      },
      "execution_count": 12,
      "outputs": []
    },
    {
      "cell_type": "code",
      "source": [
        "#Logistic 회귀 \n",
        "from sklearn.linear_model import LogisticRegression\n",
        "lrc = LogisticRegression(random_state=2022)\n",
        "lrc.fit(X_train,y_train)"
      ],
      "metadata": {
        "colab": {
          "base_uri": "https://localhost:8080/"
        },
        "id": "SlhCH9qY-O6y",
        "outputId": "86e9e55c-25a7-4770-9f69-d6fdea108d66"
      },
      "execution_count": 14,
      "outputs": [
        {
          "output_type": "execute_result",
          "data": {
            "text/plain": [
              "LogisticRegression(random_state=2022)"
            ]
          },
          "metadata": {},
          "execution_count": 14
        }
      ]
    },
    {
      "cell_type": "code",
      "source": [
        "lrc.coef_"
      ],
      "metadata": {
        "colab": {
          "base_uri": "https://localhost:8080/"
        },
        "id": "-bdpxNvO-uUg",
        "outputId": "a2e545a7-8a80-44e4-eb3c-752dbc2ca170"
      },
      "execution_count": 15,
      "outputs": [
        {
          "output_type": "execute_result",
          "data": {
            "text/plain": [
              "array([[-0.34405498, -0.48237478, -0.3341254 , -0.42915846, -0.07879762,\n",
              "         0.56207448, -0.73975027, -0.60531031,  0.04342698,  0.15496439,\n",
              "        -1.25355709,  0.01114107, -0.78491641, -0.96111243, -0.26653613,\n",
              "         0.90404346,  0.08264883, -0.33151113,  0.57540241,  0.435543  ,\n",
              "        -0.9384629 , -1.11676756, -0.79996886, -0.95345339, -0.66727363,\n",
              "         0.18915746, -0.93918052, -1.03420112, -1.16072205, -0.16299362]])"
            ]
          },
          "metadata": {},
          "execution_count": 15
        }
      ]
    },
    {
      "cell_type": "code",
      "source": [
        "lrc.intercept_"
      ],
      "metadata": {
        "colab": {
          "base_uri": "https://localhost:8080/"
        },
        "id": "5F0LJ24Q-0tn",
        "outputId": "a39ac948-5e79-4893-f1a7-11720d6a2ac5"
      },
      "execution_count": 16,
      "outputs": [
        {
          "output_type": "execute_result",
          "data": {
            "text/plain": [
              "array([0.18666884])"
            ]
          },
          "metadata": {},
          "execution_count": 16
        }
      ]
    },
    {
      "cell_type": "code",
      "source": [
        "X_test[0]"
      ],
      "metadata": {
        "colab": {
          "base_uri": "https://localhost:8080/"
        },
        "id": "FW_MmMug-4hu",
        "outputId": "7c3944e8-3804-4ea0-c4af-818154bd1bbc"
      },
      "execution_count": 17,
      "outputs": [
        {
          "output_type": "execute_result",
          "data": {
            "text/plain": [
              "array([-0.60418105, -0.84697064, -0.61863699, -0.60178112,  0.06189392,\n",
              "       -0.61954251, -0.59371599, -0.78127769,  0.97619425, -0.44195364,\n",
              "       -0.64269945,  0.069211  , -0.70544794, -0.53193707, -0.35734079,\n",
              "       -0.41124299, -0.39203923, -0.77360013, -0.0995627 , -0.44932623,\n",
              "       -0.5382468 , -0.12656597, -0.58026425, -0.54966965,  0.23370693,\n",
              "       -0.34329308, -0.21823207, -0.58296891,  0.77369434, -0.26077671])"
            ]
          },
          "metadata": {},
          "execution_count": 17
        }
      ]
    },
    {
      "cell_type": "code",
      "source": [
        "#X_test[0] 1이 될 확률\n",
        "val = np.dot(lrc.coef_,X_test[0]) + lrc.intercept_\n",
        "val"
      ],
      "metadata": {
        "colab": {
          "base_uri": "https://localhost:8080/"
        },
        "id": "hV_lLfaJ_LPv",
        "outputId": "63748469-f3e5-4e4f-a0fe-cc1025c4d389"
      },
      "execution_count": 18,
      "outputs": [
        {
          "output_type": "execute_result",
          "data": {
            "text/plain": [
              "array([4.73309707])"
            ]
          },
          "metadata": {},
          "execution_count": 18
        }
      ]
    },
    {
      "cell_type": "code",
      "source": [
        "#X_test[0]가 1이 될 확률, 이진분류에서는 시그모이드 함수 적용 \n",
        "sigmoid(val)"
      ],
      "metadata": {
        "colab": {
          "base_uri": "https://localhost:8080/"
        },
        "id": "JeI32VLV_a5B",
        "outputId": "2ad29fec-b2d7-495c-d274-af825daa7249"
      },
      "execution_count": 19,
      "outputs": [
        {
          "output_type": "execute_result",
          "data": {
            "text/plain": [
              "array([0.99127757])"
            ]
          },
          "metadata": {},
          "execution_count": 19
        }
      ]
    },
    {
      "cell_type": "code",
      "source": [
        "lrc.predict_proba(X_test[:5])"
      ],
      "metadata": {
        "colab": {
          "base_uri": "https://localhost:8080/"
        },
        "id": "qlENnuKh_sSg",
        "outputId": "3fa7a29c-fd8e-42e0-cd92-4ceb3d06c6ac"
      },
      "execution_count": 20,
      "outputs": [
        {
          "output_type": "execute_result",
          "data": {
            "text/plain": [
              "array([[8.72242699e-03, 9.91277573e-01],\n",
              "       [2.41622685e-01, 7.58377315e-01],\n",
              "       [1.00000000e+00, 1.21217433e-10],\n",
              "       [6.40861429e-07, 9.99999359e-01],\n",
              "       [3.25148309e-04, 9.99674852e-01]])"
            ]
          },
          "metadata": {},
          "execution_count": 20
        }
      ]
    },
    {
      "cell_type": "markdown",
      "source": [
        "* 다중분류"
      ],
      "metadata": {
        "id": "zr0ypu65AJKr"
      }
    },
    {
      "cell_type": "code",
      "source": [
        "from sklearn.datasets import load_wine\n",
        "wine = load_wine()\n",
        "wine_std = StandardScaler().fit_transform(wine.data)\n",
        "X_train,X_test,y_train,y_test = train_test_split(wine_std,wine.target,stratify=wine.target,random_state=2022)"
      ],
      "metadata": {
        "id": "pAuAkerxAKSL"
      },
      "execution_count": 21,
      "outputs": []
    },
    {
      "cell_type": "code",
      "source": [
        "lrc2 = LogisticRegression(random_state=2022)\n",
        "lrc2.fit(X_train,y_train)"
      ],
      "metadata": {
        "colab": {
          "base_uri": "https://localhost:8080/"
        },
        "id": "LAuQJf1_AeGA",
        "outputId": "ad346cff-df60-45ab-ca0a-319f528d108b"
      },
      "execution_count": 22,
      "outputs": [
        {
          "output_type": "execute_result",
          "data": {
            "text/plain": [
              "LogisticRegression(random_state=2022)"
            ]
          },
          "metadata": {},
          "execution_count": 22
        }
      ]
    },
    {
      "cell_type": "code",
      "source": [
        "lrc2.predict_proba(X_test[:5])"
      ],
      "metadata": {
        "colab": {
          "base_uri": "https://localhost:8080/"
        },
        "id": "KChbap37AmBC",
        "outputId": "2faebae8-47ea-43fb-f957-6bf7f45fb342"
      },
      "execution_count": 23,
      "outputs": [
        {
          "output_type": "execute_result",
          "data": {
            "text/plain": [
              "array([[9.99279600e-01, 4.12995370e-04, 3.07404430e-04],\n",
              "       [9.95459920e-01, 3.04646714e-03, 1.49361273e-03],\n",
              "       [8.63617063e-03, 1.34269693e-04, 9.91229560e-01],\n",
              "       [7.75565213e-03, 3.10436345e-03, 9.89139984e-01],\n",
              "       [9.94151690e-04, 9.89722631e-01, 9.28321721e-03]])"
            ]
          },
          "metadata": {},
          "execution_count": 23
        }
      ]
    },
    {
      "cell_type": "code",
      "source": [
        "lrc2.predict(X_test[:5])"
      ],
      "metadata": {
        "colab": {
          "base_uri": "https://localhost:8080/"
        },
        "id": "VSxv39JlAxfo",
        "outputId": "5dddac85-c438-4085-c7be-b44399639444"
      },
      "execution_count": 24,
      "outputs": [
        {
          "output_type": "execute_result",
          "data": {
            "text/plain": [
              "array([0, 0, 2, 2, 1])"
            ]
          },
          "metadata": {},
          "execution_count": 24
        }
      ]
    },
    {
      "cell_type": "code",
      "source": [
        "lrc2.coef_, lrc2.intercept_"
      ],
      "metadata": {
        "colab": {
          "base_uri": "https://localhost:8080/"
        },
        "id": "BSLz4ZfKA94V",
        "outputId": "b19188dc-5a74-4d1b-9943-5f40a25ed356"
      },
      "execution_count": 25,
      "outputs": [
        {
          "output_type": "execute_result",
          "data": {
            "text/plain": [
              "(array([[ 0.73292343,  0.24529243,  0.4625104 , -0.83327624,  0.03787191,\n",
              "          0.2198092 ,  0.64010231, -0.16699086,  0.15389364,  0.14377882,\n",
              "          0.12029171,  0.67911303,  1.0101582 ],\n",
              "        [-0.91395256, -0.48165767, -0.83332071,  0.59074468, -0.08596402,\n",
              "         -0.01348885,  0.34230068,  0.17131402,  0.23534429, -0.96864414,\n",
              "          0.66757359,  0.04717943, -1.09745204],\n",
              "        [ 0.18102913,  0.23636524,  0.37081031,  0.24253157,  0.04809211,\n",
              "         -0.20632035, -0.98240299, -0.00432316, -0.38923793,  0.82486532,\n",
              "         -0.7878653 , -0.72629246,  0.08729384]]),\n",
              " array([ 0.38394662,  0.67109374, -1.05504036]))"
            ]
          },
          "metadata": {},
          "execution_count": 25
        }
      ]
    },
    {
      "cell_type": "code",
      "source": [
        "val2 = np.dot(lrc2.coef_,X_test[0]) + lrc2.intercept_\n",
        "val2"
      ],
      "metadata": {
        "colab": {
          "base_uri": "https://localhost:8080/"
        },
        "id": "V60G46OWBWpq",
        "outputId": "cdbc9f8e-c4a7-49a0-cf05-dd544a73075f"
      },
      "execution_count": 26,
      "outputs": [
        {
          "output_type": "execute_result",
          "data": {
            "text/plain": [
              "array([ 5.29265972, -2.49869379, -2.79396593])"
            ]
          },
          "metadata": {},
          "execution_count": 26
        }
      ]
    },
    {
      "cell_type": "code",
      "source": [
        "sigmoid(val2)"
      ],
      "metadata": {
        "colab": {
          "base_uri": "https://localhost:8080/"
        },
        "id": "dLErvb9_BcsT",
        "outputId": "9dbb706e-9ab6-4590-b026-607076004fe0"
      },
      "execution_count": 27,
      "outputs": [
        {
          "output_type": "execute_result",
          "data": {
            "text/plain": [
              "array([0.99499679, 0.0759498 , 0.05765112])"
            ]
          },
          "metadata": {},
          "execution_count": 27
        }
      ]
    },
    {
      "cell_type": "code",
      "source": [
        "def softmax(x):\n",
        "  return np.exp(x) / np.sum(np.exp(x))"
      ],
      "metadata": {
        "id": "akalbhLdCTit"
      },
      "execution_count": 28,
      "outputs": []
    },
    {
      "cell_type": "code",
      "source": [
        "#다중분류에서는 소프맥스 함수를 적용 \n",
        "softmax(val2)"
      ],
      "metadata": {
        "colab": {
          "base_uri": "https://localhost:8080/"
        },
        "id": "_1CD65YCCa6k",
        "outputId": "ad68e279-2a7c-4a83-a56b-a5efffde752f"
      },
      "execution_count": 29,
      "outputs": [
        {
          "output_type": "execute_result",
          "data": {
            "text/plain": [
              "array([9.9927960e-01, 4.1299537e-04, 3.0740443e-04])"
            ]
          },
          "metadata": {},
          "execution_count": 29
        }
      ]
    },
    {
      "cell_type": "code",
      "source": [
        "np.sum(softmax(val2))"
      ],
      "metadata": {
        "colab": {
          "base_uri": "https://localhost:8080/"
        },
        "id": "o6RAjfMrCpwC",
        "outputId": "abd90f60-91f3-4457-804a-47fd5ea9ca31"
      },
      "execution_count": 30,
      "outputs": [
        {
          "output_type": "execute_result",
          "data": {
            "text/plain": [
              "1.0"
            ]
          },
          "metadata": {},
          "execution_count": 30
        }
      ]
    }
  ]
}