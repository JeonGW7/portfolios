{
  "cells": [
    {
      "cell_type": "markdown",
      "metadata": {
        "id": "7fHL3ONZ55I-"
      },
      "source": [
        "# 05 Validation\n",
        "### Context\n",
        "#### Cross Validation\n",
        "+ The Set of Train, Valid, Test \n",
        "+ k-Fold with Stratify\n",
        "+ Cross Validation Score\n",
        "\n",
        "#### Parameter Tuning\n",
        "+ Grid Search\n",
        "+ Random Search\n",
        "\n",
        "#### Ensemble\n",
        "+ Voting Ensemble\n",
        "+ Stacking, Average Blending"
      ]
    },
    {
      "cell_type": "code",
      "execution_count": 75,
      "metadata": {
        "id": "dng6Tegg6eNc"
      },
      "outputs": [],
      "source": [
        "import os\n",
        "from os.path import join\n",
        "import copy\n",
        "import warnings\n",
        "warnings.filterwarnings('ignore')\n",
        "\n",
        "import numpy as np\n",
        "import pandas as pd\n",
        "\n",
        "import sklearn\n",
        "\n",
        "import matplotlib.pyplot as plt\n",
        "#어덜트 데이터 셋 미국 시민들의 직업 소득 교육수준등 인종 근무시간 나이등...4만8천개정도 소득예측 5만달러 기준 이진분류임\n",
        "adult_path = join( 'adult_data.csv')\n",
        "column_path = join( 'adult_names.txt')\n",
        "\n",
        "adult_columns = list()\n",
        "for l in open(column_path):\n",
        "    adult_columns = l.split()"
      ]
    },
    {
      "cell_type": "code",
      "source": [
        "data = pd.read_csv(adult_path,names=adult_columns)\n",
        "label = data['income']\n",
        "\n",
        "del data['income']\n",
        "data.head(2)"
      ],
      "metadata": {
        "id": "VtOcLfAlRT6s",
        "colab": {
          "base_uri": "https://localhost:8080/",
          "height": 156
        },
        "outputId": "97a2599a-205e-4c04-8c7a-00655e87d78d"
      },
      "execution_count": 76,
      "outputs": [
        {
          "output_type": "execute_result",
          "data": {
            "text/plain": [
              "   age          workclass  fnlwgt   education  education-num  \\\n",
              "0   39          State-gov   77516   Bachelors             13   \n",
              "1   50   Self-emp-not-inc   83311   Bachelors             13   \n",
              "\n",
              "        marital-status        occupation    relationship    race    sex  \\\n",
              "0        Never-married      Adm-clerical   Not-in-family   White   Male   \n",
              "1   Married-civ-spouse   Exec-managerial         Husband   White   Male   \n",
              "\n",
              "   capital-gain  capital-loss  hours-per-week  native-country  \n",
              "0          2174             0              40   United-States  \n",
              "1             0             0              13   United-States  "
            ],
            "text/html": [
              "\n",
              "  <div id=\"df-1ee292e5-4427-439b-80ca-4afd87d22b12\">\n",
              "    <div class=\"colab-df-container\">\n",
              "      <div>\n",
              "<style scoped>\n",
              "    .dataframe tbody tr th:only-of-type {\n",
              "        vertical-align: middle;\n",
              "    }\n",
              "\n",
              "    .dataframe tbody tr th {\n",
              "        vertical-align: top;\n",
              "    }\n",
              "\n",
              "    .dataframe thead th {\n",
              "        text-align: right;\n",
              "    }\n",
              "</style>\n",
              "<table border=\"1\" class=\"dataframe\">\n",
              "  <thead>\n",
              "    <tr style=\"text-align: right;\">\n",
              "      <th></th>\n",
              "      <th>age</th>\n",
              "      <th>workclass</th>\n",
              "      <th>fnlwgt</th>\n",
              "      <th>education</th>\n",
              "      <th>education-num</th>\n",
              "      <th>marital-status</th>\n",
              "      <th>occupation</th>\n",
              "      <th>relationship</th>\n",
              "      <th>race</th>\n",
              "      <th>sex</th>\n",
              "      <th>capital-gain</th>\n",
              "      <th>capital-loss</th>\n",
              "      <th>hours-per-week</th>\n",
              "      <th>native-country</th>\n",
              "    </tr>\n",
              "  </thead>\n",
              "  <tbody>\n",
              "    <tr>\n",
              "      <th>0</th>\n",
              "      <td>39</td>\n",
              "      <td>State-gov</td>\n",
              "      <td>77516</td>\n",
              "      <td>Bachelors</td>\n",
              "      <td>13</td>\n",
              "      <td>Never-married</td>\n",
              "      <td>Adm-clerical</td>\n",
              "      <td>Not-in-family</td>\n",
              "      <td>White</td>\n",
              "      <td>Male</td>\n",
              "      <td>2174</td>\n",
              "      <td>0</td>\n",
              "      <td>40</td>\n",
              "      <td>United-States</td>\n",
              "    </tr>\n",
              "    <tr>\n",
              "      <th>1</th>\n",
              "      <td>50</td>\n",
              "      <td>Self-emp-not-inc</td>\n",
              "      <td>83311</td>\n",
              "      <td>Bachelors</td>\n",
              "      <td>13</td>\n",
              "      <td>Married-civ-spouse</td>\n",
              "      <td>Exec-managerial</td>\n",
              "      <td>Husband</td>\n",
              "      <td>White</td>\n",
              "      <td>Male</td>\n",
              "      <td>0</td>\n",
              "      <td>0</td>\n",
              "      <td>13</td>\n",
              "      <td>United-States</td>\n",
              "    </tr>\n",
              "  </tbody>\n",
              "</table>\n",
              "</div>\n",
              "      <button class=\"colab-df-convert\" onclick=\"convertToInteractive('df-1ee292e5-4427-439b-80ca-4afd87d22b12')\"\n",
              "              title=\"Convert this dataframe to an interactive table.\"\n",
              "              style=\"display:none;\">\n",
              "        \n",
              "  <svg xmlns=\"http://www.w3.org/2000/svg\" height=\"24px\"viewBox=\"0 0 24 24\"\n",
              "       width=\"24px\">\n",
              "    <path d=\"M0 0h24v24H0V0z\" fill=\"none\"/>\n",
              "    <path d=\"M18.56 5.44l.94 2.06.94-2.06 2.06-.94-2.06-.94-.94-2.06-.94 2.06-2.06.94zm-11 1L8.5 8.5l.94-2.06 2.06-.94-2.06-.94L8.5 2.5l-.94 2.06-2.06.94zm10 10l.94 2.06.94-2.06 2.06-.94-2.06-.94-.94-2.06-.94 2.06-2.06.94z\"/><path d=\"M17.41 7.96l-1.37-1.37c-.4-.4-.92-.59-1.43-.59-.52 0-1.04.2-1.43.59L10.3 9.45l-7.72 7.72c-.78.78-.78 2.05 0 2.83L4 21.41c.39.39.9.59 1.41.59.51 0 1.02-.2 1.41-.59l7.78-7.78 2.81-2.81c.8-.78.8-2.07 0-2.86zM5.41 20L4 18.59l7.72-7.72 1.47 1.35L5.41 20z\"/>\n",
              "  </svg>\n",
              "      </button>\n",
              "      \n",
              "  <style>\n",
              "    .colab-df-container {\n",
              "      display:flex;\n",
              "      flex-wrap:wrap;\n",
              "      gap: 12px;\n",
              "    }\n",
              "\n",
              "    .colab-df-convert {\n",
              "      background-color: #E8F0FE;\n",
              "      border: none;\n",
              "      border-radius: 50%;\n",
              "      cursor: pointer;\n",
              "      display: none;\n",
              "      fill: #1967D2;\n",
              "      height: 32px;\n",
              "      padding: 0 0 0 0;\n",
              "      width: 32px;\n",
              "    }\n",
              "\n",
              "    .colab-df-convert:hover {\n",
              "      background-color: #E2EBFA;\n",
              "      box-shadow: 0px 1px 2px rgba(60, 64, 67, 0.3), 0px 1px 3px 1px rgba(60, 64, 67, 0.15);\n",
              "      fill: #174EA6;\n",
              "    }\n",
              "\n",
              "    [theme=dark] .colab-df-convert {\n",
              "      background-color: #3B4455;\n",
              "      fill: #D2E3FC;\n",
              "    }\n",
              "\n",
              "    [theme=dark] .colab-df-convert:hover {\n",
              "      background-color: #434B5C;\n",
              "      box-shadow: 0px 1px 3px 1px rgba(0, 0, 0, 0.15);\n",
              "      filter: drop-shadow(0px 1px 2px rgba(0, 0, 0, 0.3));\n",
              "      fill: #FFFFFF;\n",
              "    }\n",
              "  </style>\n",
              "\n",
              "      <script>\n",
              "        const buttonEl =\n",
              "          document.querySelector('#df-1ee292e5-4427-439b-80ca-4afd87d22b12 button.colab-df-convert');\n",
              "        buttonEl.style.display =\n",
              "          google.colab.kernel.accessAllowed ? 'block' : 'none';\n",
              "\n",
              "        async function convertToInteractive(key) {\n",
              "          const element = document.querySelector('#df-1ee292e5-4427-439b-80ca-4afd87d22b12');\n",
              "          const dataTable =\n",
              "            await google.colab.kernel.invokeFunction('convertToInteractive',\n",
              "                                                     [key], {});\n",
              "          if (!dataTable) return;\n",
              "\n",
              "          const docLinkHtml = 'Like what you see? Visit the ' +\n",
              "            '<a target=\"_blank\" href=https://colab.research.google.com/notebooks/data_table.ipynb>data table notebook</a>'\n",
              "            + ' to learn more about interactive tables.';\n",
              "          element.innerHTML = '';\n",
              "          dataTable['output_type'] = 'display_data';\n",
              "          await google.colab.output.renderOutput(dataTable, element);\n",
              "          const docLink = document.createElement('div');\n",
              "          docLink.innerHTML = docLinkHtml;\n",
              "          element.appendChild(docLink);\n",
              "        }\n",
              "      </script>\n",
              "    </div>\n",
              "  </div>\n",
              "  "
            ]
          },
          "metadata": {},
          "execution_count": 76
        }
      ]
    },
    {
      "cell_type": "code",
      "source": [
        "label"
      ],
      "metadata": {
        "colab": {
          "base_uri": "https://localhost:8080/"
        },
        "id": "8GcmAZw247B-",
        "outputId": "0c40d77f-aaac-4a23-f61c-869172355c0d"
      },
      "execution_count": 41,
      "outputs": [
        {
          "output_type": "execute_result",
          "data": {
            "text/plain": [
              "0        <=50K\n",
              "1        <=50K\n",
              "2        <=50K\n",
              "3        <=50K\n",
              "4        <=50K\n",
              "         ...  \n",
              "48837    <=50K\n",
              "48838    <=50K\n",
              "48839    <=50K\n",
              "48840    <=50K\n",
              "48841     >50K\n",
              "Name: income, Length: 48842, dtype: object"
            ]
          },
          "metadata": {},
          "execution_count": 41
        }
      ]
    },
    {
      "cell_type": "code",
      "source": [
        "data.shape"
      ],
      "metadata": {
        "id": "gCesjAKDRVH8",
        "colab": {
          "base_uri": "https://localhost:8080/"
        },
        "outputId": "35671841-d229-483a-ab43-836fe6011149"
      },
      "execution_count": 77,
      "outputs": [
        {
          "output_type": "execute_result",
          "data": {
            "text/plain": [
              "(48842, 14)"
            ]
          },
          "metadata": {},
          "execution_count": 77
        }
      ]
    },
    {
      "cell_type": "code",
      "source": [
        "data.describe()"
      ],
      "metadata": {
        "id": "2n6zGIcjRU4m"
      },
      "execution_count": null,
      "outputs": []
    },
    {
      "cell_type": "code",
      "source": [
        "data.info()"
      ],
      "metadata": {
        "id": "GjKhT0x_RWgH"
      },
      "execution_count": null,
      "outputs": []
    },
    {
      "cell_type": "markdown",
      "metadata": {
        "id": "6meIBj2ElmTH"
      },
      "source": [
        "Pandas get_dummies 함수를 사용해 범주형 변수를 One-Hot Encoding하고, 라벨 데이터를 0,1 로 변경하겠습니다. "
      ]
    },
    {
      "cell_type": "code",
      "source": [
        "data=pd.get_dummies(data)\n",
        "label= label.map(lambda x : 0 if x==\">50K\" else 1)"
      ],
      "metadata": {
        "id": "d4C7UZ4FRXSk"
      },
      "execution_count": 80,
      "outputs": []
    },
    {
      "cell_type": "code",
      "source": [
        "data.shape"
      ],
      "metadata": {
        "id": "0PQz4j1lRYjs",
        "colab": {
          "base_uri": "https://localhost:8080/"
        },
        "outputId": "f6277ba3-ba2d-4bb0-c12a-0fc5638e3970"
      },
      "execution_count": 81,
      "outputs": [
        {
          "output_type": "execute_result",
          "data": {
            "text/plain": [
              "(48842, 108)"
            ]
          },
          "metadata": {},
          "execution_count": 81
        }
      ]
    },
    {
      "cell_type": "code",
      "source": [
        "label"
      ],
      "metadata": {
        "id": "Zc9-qFRDRYVd",
        "colab": {
          "base_uri": "https://localhost:8080/"
        },
        "outputId": "b72563d6-3c45-4539-a1fa-ac37545ae878"
      },
      "execution_count": 82,
      "outputs": [
        {
          "output_type": "execute_result",
          "data": {
            "text/plain": [
              "0        1\n",
              "1        1\n",
              "2        1\n",
              "3        1\n",
              "4        1\n",
              "        ..\n",
              "48837    1\n",
              "48838    1\n",
              "48839    1\n",
              "48840    1\n",
              "48841    0\n",
              "Name: income, Length: 48842, dtype: int64"
            ]
          },
          "metadata": {},
          "execution_count": 82
        }
      ]
    },
    {
      "cell_type": "code",
      "source": [
        "label.sum()"
      ],
      "metadata": {
        "id": "KPf8gwKsRZ11",
        "colab": {
          "base_uri": "https://localhost:8080/"
        },
        "outputId": "16092c20-c0a7-4e9b-d9bb-716a95f2b062"
      },
      "execution_count": 83,
      "outputs": [
        {
          "output_type": "execute_result",
          "data": {
            "text/plain": [
              "37155"
            ]
          },
          "metadata": {},
          "execution_count": 83
        }
      ]
    },
    {
      "cell_type": "markdown",
      "metadata": {
        "id": "LEgi7xpNlmTK"
      },
      "source": [
        "## Cross Validation\n",
        "### 1. Train, Valid, Test Set\n",
        "훈련, 검증, 테스트 데이터라고 부르는 3가지를 한번 이야기 해보겠습니다.<br>\n",
        "* Train Data : 모델을 학습하는데 사용하는 데이터 (모델이 알고 있는 학습할 데이터)\n",
        "* Valid Data : 학습한 모델의 성능을 검증하는 데이터 (모델이 모르는 학습하지 않을 데이터, 모델 검증에 사용하는 데이터)\n",
        "* Test Data : 학습한 모델로 예측할 데이터 (모델이 모르는 예측할 데이터)\n",
        "\n",
        "![train_val_test.png](data:image/png;base64,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)\n",
        "\n",
        "\n",
        "머신러닝에서 Validation 데이터가 왜 필요한지에 대한 부분은 참조 링크를 남겨두었으니 확인하시면 좋겠습니다."
      ]
    },
    {
      "cell_type": "code",
      "execution_count": 89,
      "metadata": {
        "id": "IXAgns0RlmTL",
        "colab": {
          "base_uri": "https://localhost:8080/"
        },
        "outputId": "e2e2c5a1-30ea-46bc-a923-a86d291b182b"
      },
      "outputs": [
        {
          "output_type": "stream",
          "name": "stdout",
          "text": [
            "ones : 76.07%\n",
            "zeros : 23.93%\n"
          ]
        }
      ],
      "source": [
        "print('ones : {:.2f}%'.format((np.sum(label==1,axis=0)/len(data))*100))\n",
        "print('zeros : {:.2f}%'.format((np.sum(label==0,axis=0)/len(data))*100))\n",
        " "
      ]
    },
    {
      "cell_type": "code",
      "source": [
        "from sklearn.model_selection import train_test_split\n",
        "#test구분\n",
        "x,x_test,y,y_test = train_test_split(data,label,test_size=0.2,stratify=label,shuffle=True)"
      ],
      "metadata": {
        "id": "RA5SyFTmRkoN"
      },
      "execution_count": 91,
      "outputs": []
    },
    {
      "cell_type": "code",
      "source": [
        "#valid 구분\n",
        "x_train,x_valid,y_train,y_valid = train_test_split(x,y,test_size=0.2,stratify=y,shuffle=True)"
      ],
      "metadata": {
        "id": "0NfCyRThRlXk"
      },
      "execution_count": 92,
      "outputs": []
    },
    {
      "cell_type": "code",
      "source": [
        "print('ones : {:.2f}%'.format((np.sum(y_train==1,axis=0)/len(y_train))*100))\n",
        "print('zeros : {:.2f}%'.format((np.sum(y_train==0,axis=0)/len(y_train))*100))"
      ],
      "metadata": {
        "id": "gvzs_BV_rizr",
        "colab": {
          "base_uri": "https://localhost:8080/"
        },
        "outputId": "d66be498-f5ea-4fa1-9725-64ff16fde63b"
      },
      "execution_count": 95,
      "outputs": [
        {
          "output_type": "stream",
          "name": "stdout",
          "text": [
            "ones : 76.07%\n",
            "zeros : 23.93%\n"
          ]
        }
      ]
    },
    {
      "cell_type": "code",
      "execution_count": 96,
      "metadata": {
        "id": "YoNO2HyGlmTM",
        "colab": {
          "base_uri": "https://localhost:8080/"
        },
        "outputId": "e03564aa-15ea-4073-ac03-a730f4c75dfc"
      },
      "outputs": [
        {
          "output_type": "execute_result",
          "data": {
            "text/plain": [
              "LogisticRegression(random_state=2022)"
            ]
          },
          "metadata": {},
          "execution_count": 96
        }
      ],
      "source": [
        "from sklearn.linear_model import LogisticRegression\n",
        "from sklearn.metrics import accuracy_score\n",
        "\n",
        "lr = LogisticRegression(random_state=2022)\n",
        " \n",
        "lr.fit(x_train, y_train)"
      ]
    },
    {
      "cell_type": "code",
      "execution_count": 99,
      "metadata": {
        "id": "4YA6bzFvlmTN",
        "colab": {
          "base_uri": "https://localhost:8080/"
        },
        "outputId": "3d07d01c-27be-4087-c3e3-4028ff40f4d8"
      },
      "outputs": [
        {
          "output_type": "stream",
          "name": "stdout",
          "text": [
            "로지스틱 회귀 검증 데이터 정확도 :  79.80%\n"
          ]
        }
      ],
      "source": [
        "#valid 데이터 검증\n",
        "y_pred_val = lr.predict(x_valid)\n",
        "print('로지스틱 회귀 검증 데이터 정확도 :  {:.2f}%'.format(accuracy_score(y_valid,y_pred_val)*100))"
      ]
    },
    {
      "cell_type": "code",
      "execution_count": 101,
      "metadata": {
        "id": "dadxRDQhlmTN",
        "colab": {
          "base_uri": "https://localhost:8080/"
        },
        "outputId": "460a86a0-eafb-47bc-b9b4-f763dc0e642e"
      },
      "outputs": [
        {
          "output_type": "stream",
          "name": "stdout",
          "text": [
            "로지스틱 회귀 테스트 데이터 정확도 : 80.01%\n"
          ]
        }
      ],
      "source": [
        "# Test 데이터로 모델 평가\n",
        "y_pred = lr.predict(x_test)\n",
        "print('로지스틱 회귀 테스트 데이터 정확도 : {:.2f}%'.format(accuracy_score(y_test,y_pred)*100))"
      ]
    },
    {
      "cell_type": "markdown",
      "metadata": {
        "id": "xWYoAeeOlmTN"
      },
      "source": [
        "### 2. k-fold with stratify\n",
        "k-fold는 데이터를 k개로 쪼개는 것을 말합니다. <br>\n",
        "일반적으로 Cross Validation에서 사용되며, 데이터셋을 k개로 쪼개어 k-1개로 모델을 학습하고, 1개로 모델을 검증합니다. <br>\n",
        "k개로 데이터를 쪼개면, 모든 fold에 대해(하나의 fold를 선택하여) 검증하는 방식으로 k번 다른 데이터셋으로 학습한 모델을 검증할 수 있습니다.\n",
        "\n",
        "![kfold.png](data:image/png;base64,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)\n",
        "\n",
        "#### Stratify, 계층적 k-fold는 뭔가요?\n",
        "k-fold는 데이터의 정렬 유무와 분류할 클래스의 비율에 상관없이 순서대로 데이터를 분할하는 특징이 있습니다.<br>\n",
        "하지만, 분류할 클래스의 비율이 다르다면 어떻게 될까요? 그런 경우에는, 각 fold가 학습 데이터셋을 대표한다고 말하기 어려워집니다.<br>\n",
        "한 fold에 특정 클래스가 많이 나올수도, 적게 나올수도 있기 때문입니다. Stratified k-fold는 그러한 문제점을 해결하기 위해 제안되었습니다.<br>\n",
        "k개의 fold도 분할한 이후에도, 전체 훈련 데이터의 클래스 비율과 각 fold가 가지고 있는 클래스의 비율을 맞추어 준다는 점이 기존의 k-fold와의 다른 특징 입니다. \n",
        "\n",
        "##### k-fold\n",
        "![kfold_example.png](data:image/png;base64,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)\n",
        "\n",
        "##### Stratified k-fold\n",
        "![stratified_kfold_example.png](data:image/png;base64,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)\n"
      ]
    },
    {
      "cell_type": "markdown",
      "source": [
        " \n",
        "k-fold 실습을 위해 iris 데이터를 불러오겠습니다."
      ],
      "metadata": {
        "id": "YNI2vvoTwMSi"
      }
    },
    {
      "cell_type": "code",
      "execution_count": 102,
      "metadata": {
        "id": "OGP1BoCQlmTO"
      },
      "outputs": [],
      "source": [
        "from sklearn.datasets import load_iris\n",
        "iris = load_iris()\n",
        "\n",
        "kf_data = iris.data\n",
        "kf_label = iris.target\n",
        "kf_columns = iris.feature_names"
      ]
    },
    {
      "cell_type": "code",
      "execution_count": 103,
      "metadata": {
        "id": "ORAzuza7lmTO",
        "colab": {
          "base_uri": "https://localhost:8080/",
          "height": 206
        },
        "outputId": "340786d2-9405-4f01-8e42-d2af24ea2058"
      },
      "outputs": [
        {
          "output_type": "execute_result",
          "data": {
            "text/plain": [
              "   sepal length (cm)  sepal width (cm)  petal length (cm)  petal width (cm)\n",
              "0                5.1               3.5                1.4               0.2\n",
              "1                4.9               3.0                1.4               0.2\n",
              "2                4.7               3.2                1.3               0.2\n",
              "3                4.6               3.1                1.5               0.2\n",
              "4                5.0               3.6                1.4               0.2"
            ],
            "text/html": [
              "\n",
              "  <div id=\"df-8d5cd610-3755-482c-ba02-95f1dc09647a\">\n",
              "    <div class=\"colab-df-container\">\n",
              "      <div>\n",
              "<style scoped>\n",
              "    .dataframe tbody tr th:only-of-type {\n",
              "        vertical-align: middle;\n",
              "    }\n",
              "\n",
              "    .dataframe tbody tr th {\n",
              "        vertical-align: top;\n",
              "    }\n",
              "\n",
              "    .dataframe thead th {\n",
              "        text-align: right;\n",
              "    }\n",
              "</style>\n",
              "<table border=\"1\" class=\"dataframe\">\n",
              "  <thead>\n",
              "    <tr style=\"text-align: right;\">\n",
              "      <th></th>\n",
              "      <th>sepal length (cm)</th>\n",
              "      <th>sepal width (cm)</th>\n",
              "      <th>petal length (cm)</th>\n",
              "      <th>petal width (cm)</th>\n",
              "    </tr>\n",
              "  </thead>\n",
              "  <tbody>\n",
              "    <tr>\n",
              "      <th>0</th>\n",
              "      <td>5.1</td>\n",
              "      <td>3.5</td>\n",
              "      <td>1.4</td>\n",
              "      <td>0.2</td>\n",
              "    </tr>\n",
              "    <tr>\n",
              "      <th>1</th>\n",
              "      <td>4.9</td>\n",
              "      <td>3.0</td>\n",
              "      <td>1.4</td>\n",
              "      <td>0.2</td>\n",
              "    </tr>\n",
              "    <tr>\n",
              "      <th>2</th>\n",
              "      <td>4.7</td>\n",
              "      <td>3.2</td>\n",
              "      <td>1.3</td>\n",
              "      <td>0.2</td>\n",
              "    </tr>\n",
              "    <tr>\n",
              "      <th>3</th>\n",
              "      <td>4.6</td>\n",
              "      <td>3.1</td>\n",
              "      <td>1.5</td>\n",
              "      <td>0.2</td>\n",
              "    </tr>\n",
              "    <tr>\n",
              "      <th>4</th>\n",
              "      <td>5.0</td>\n",
              "      <td>3.6</td>\n",
              "      <td>1.4</td>\n",
              "      <td>0.2</td>\n",
              "    </tr>\n",
              "  </tbody>\n",
              "</table>\n",
              "</div>\n",
              "      <button class=\"colab-df-convert\" onclick=\"convertToInteractive('df-8d5cd610-3755-482c-ba02-95f1dc09647a')\"\n",
              "              title=\"Convert this dataframe to an interactive table.\"\n",
              "              style=\"display:none;\">\n",
              "        \n",
              "  <svg xmlns=\"http://www.w3.org/2000/svg\" height=\"24px\"viewBox=\"0 0 24 24\"\n",
              "       width=\"24px\">\n",
              "    <path d=\"M0 0h24v24H0V0z\" fill=\"none\"/>\n",
              "    <path d=\"M18.56 5.44l.94 2.06.94-2.06 2.06-.94-2.06-.94-.94-2.06-.94 2.06-2.06.94zm-11 1L8.5 8.5l.94-2.06 2.06-.94-2.06-.94L8.5 2.5l-.94 2.06-2.06.94zm10 10l.94 2.06.94-2.06 2.06-.94-2.06-.94-.94-2.06-.94 2.06-2.06.94z\"/><path d=\"M17.41 7.96l-1.37-1.37c-.4-.4-.92-.59-1.43-.59-.52 0-1.04.2-1.43.59L10.3 9.45l-7.72 7.72c-.78.78-.78 2.05 0 2.83L4 21.41c.39.39.9.59 1.41.59.51 0 1.02-.2 1.41-.59l7.78-7.78 2.81-2.81c.8-.78.8-2.07 0-2.86zM5.41 20L4 18.59l7.72-7.72 1.47 1.35L5.41 20z\"/>\n",
              "  </svg>\n",
              "      </button>\n",
              "      \n",
              "  <style>\n",
              "    .colab-df-container {\n",
              "      display:flex;\n",
              "      flex-wrap:wrap;\n",
              "      gap: 12px;\n",
              "    }\n",
              "\n",
              "    .colab-df-convert {\n",
              "      background-color: #E8F0FE;\n",
              "      border: none;\n",
              "      border-radius: 50%;\n",
              "      cursor: pointer;\n",
              "      display: none;\n",
              "      fill: #1967D2;\n",
              "      height: 32px;\n",
              "      padding: 0 0 0 0;\n",
              "      width: 32px;\n",
              "    }\n",
              "\n",
              "    .colab-df-convert:hover {\n",
              "      background-color: #E2EBFA;\n",
              "      box-shadow: 0px 1px 2px rgba(60, 64, 67, 0.3), 0px 1px 3px 1px rgba(60, 64, 67, 0.15);\n",
              "      fill: #174EA6;\n",
              "    }\n",
              "\n",
              "    [theme=dark] .colab-df-convert {\n",
              "      background-color: #3B4455;\n",
              "      fill: #D2E3FC;\n",
              "    }\n",
              "\n",
              "    [theme=dark] .colab-df-convert:hover {\n",
              "      background-color: #434B5C;\n",
              "      box-shadow: 0px 1px 3px 1px rgba(0, 0, 0, 0.15);\n",
              "      filter: drop-shadow(0px 1px 2px rgba(0, 0, 0, 0.3));\n",
              "      fill: #FFFFFF;\n",
              "    }\n",
              "  </style>\n",
              "\n",
              "      <script>\n",
              "        const buttonEl =\n",
              "          document.querySelector('#df-8d5cd610-3755-482c-ba02-95f1dc09647a button.colab-df-convert');\n",
              "        buttonEl.style.display =\n",
              "          google.colab.kernel.accessAllowed ? 'block' : 'none';\n",
              "\n",
              "        async function convertToInteractive(key) {\n",
              "          const element = document.querySelector('#df-8d5cd610-3755-482c-ba02-95f1dc09647a');\n",
              "          const dataTable =\n",
              "            await google.colab.kernel.invokeFunction('convertToInteractive',\n",
              "                                                     [key], {});\n",
              "          if (!dataTable) return;\n",
              "\n",
              "          const docLinkHtml = 'Like what you see? Visit the ' +\n",
              "            '<a target=\"_blank\" href=https://colab.research.google.com/notebooks/data_table.ipynb>data table notebook</a>'\n",
              "            + ' to learn more about interactive tables.';\n",
              "          element.innerHTML = '';\n",
              "          dataTable['output_type'] = 'display_data';\n",
              "          await google.colab.output.renderOutput(dataTable, element);\n",
              "          const docLink = document.createElement('div');\n",
              "          docLink.innerHTML = docLinkHtml;\n",
              "          element.appendChild(docLink);\n",
              "        }\n",
              "      </script>\n",
              "    </div>\n",
              "  </div>\n",
              "  "
            ]
          },
          "metadata": {},
          "execution_count": 103
        }
      ],
      "source": [
        "kf_data = pd.DataFrame(kf_data, columns = kf_columns)\n",
        "kf_data.head()"
      ]
    },
    {
      "cell_type": "code",
      "execution_count": 104,
      "metadata": {
        "id": "d6uEB02XlmTP",
        "colab": {
          "base_uri": "https://localhost:8080/"
        },
        "outputId": "69bb389d-c626-4b8e-c5c8-20d156ad6084"
      },
      "outputs": [
        {
          "output_type": "execute_result",
          "data": {
            "text/plain": [
              "array([0, 0, 0, 0, 0, 0, 0, 0, 0, 0, 0, 0, 0, 0, 0, 0, 0, 0, 0, 0, 0, 0,\n",
              "       0, 0, 0, 0, 0, 0, 0, 0, 0, 0, 0, 0, 0, 0, 0, 0, 0, 0, 0, 0, 0, 0,\n",
              "       0, 0, 0, 0, 0, 0, 1, 1, 1, 1, 1, 1, 1, 1, 1, 1, 1, 1, 1, 1, 1, 1,\n",
              "       1, 1, 1, 1, 1, 1, 1, 1, 1, 1, 1, 1, 1, 1, 1, 1, 1, 1, 1, 1, 1, 1,\n",
              "       1, 1, 1, 1, 1, 1, 1, 1, 1, 1, 1, 1, 2, 2, 2, 2, 2, 2, 2, 2, 2, 2,\n",
              "       2, 2, 2, 2, 2, 2, 2, 2, 2, 2, 2, 2, 2, 2, 2, 2, 2, 2, 2, 2, 2, 2,\n",
              "       2, 2, 2, 2, 2, 2, 2, 2, 2, 2, 2, 2, 2, 2, 2, 2, 2, 2])"
            ]
          },
          "metadata": {},
          "execution_count": 104
        }
      ],
      "source": [
        "kf_label"
      ]
    },
    {
      "cell_type": "markdown",
      "metadata": {
        "id": "DJtGIiVElmTP"
      },
      "source": [
        "#### k-Fold\n",
        "k-fold는 말 그대로 데이터를 k개로 쪼갭니다. <br>\n",
        "k의 개수를 조절하여 몇개의 fold를 만들지 결정할 수 있습니다.\n",
        "\n",
        "k-fold는 sklearn의 model_selection 패키지에 있습니다."
      ]
    },
    {
      "cell_type": "code",
      "execution_count": 105,
      "metadata": {
        "id": "ErO4BPn_lmTP"
      },
      "outputs": [],
      "source": [
        "from sklearn.model_selection import KFold\n",
        "kf = KFold(n_splits=5,shuffle=True,random_state=2022)"
      ]
    },
    {
      "cell_type": "code",
      "source": [
        "for i, (trn_idx, val_idx) in enumerate(kf.split(kf_data.values, kf_label)):\n",
        "  trn_data, trn_label = kf_data.values[trn_idx, :], kf_label[trn_idx]\n",
        "  val_data, val_label = kf_data.values[val_idx, :], kf_label[val_idx]\n",
        "  print('{} Fold, trn label\\n{}'.format(i, trn_label))\n",
        "  print('{} Fold, val label\\n{}\\n'.format(i, val_label))"
      ],
      "metadata": {
        "id": "IEFCzKPvR3-s"
      },
      "execution_count": null,
      "outputs": []
    },
    {
      "cell_type": "markdown",
      "metadata": {
        "id": "TavivQIWlmTQ"
      },
      "source": [
        "#### stratify k-Fold\n",
        "\n",
        "Stratified k-fold는 sklearn의 model_selection 패키지에 있습니다."
      ]
    },
    {
      "cell_type": "code",
      "source": [
        "from sklearn.model_selection import StratifiedKFold\n",
        "skf = StratifiedKFold(n_splits=5,shuffle=True,random_state=2022)"
      ],
      "metadata": {
        "id": "gh3NhwHyR5vG"
      },
      "execution_count": 116,
      "outputs": []
    },
    {
      "cell_type": "code",
      "source": [
        "for i, (trn_idx, val_idx) in enumerate(skf.split(kf_data.values, kf_label)):\n",
        "  trn_data, trn_label = kf_data.values[trn_idx, :], kf_label[trn_idx]\n",
        "  val_data, val_label = kf_data.values[val_idx, :], kf_label[val_idx]\n",
        "  print('{} Fold, trn label\\n{}'.format(i, trn_label))\n",
        "  print('{} Fold, val label\\n{}\\n'.format(i, val_label))"
      ],
      "metadata": {
        "id": "atWp51DSR5oc"
      },
      "execution_count": null,
      "outputs": []
    },
    {
      "cell_type": "markdown",
      "metadata": {
        "id": "IV1JSOxglmTQ"
      },
      "source": [
        "#### Cross Validation 해보기\n",
        "Stratified k-fold를 이용해 Cross Validation을 진행해 보겠습니다."
      ]
    },
    {
      "cell_type": "code",
      "source": [
        "from sklearn.ensemble import RandomForestClassifier\n",
        "val_scores = list()\n",
        "for i, (trn_idx, val_idx) in enumerate(skf.split(kf_data.values, kf_label)):\n",
        "  trn_data, trn_label = kf_data.values[trn_idx, :], kf_label[trn_idx]\n",
        "  val_data, val_label = kf_data.values[val_idx, :], kf_label[val_idx]\n",
        "\n",
        "  clf = RandomForestClassifier(n_estimators=100,max_depth=10,random_state=2022)\n",
        "  clf.fit(trn_data,trn_label)\n",
        "\n",
        "  trn_acc = clf.score(trn_data,trn_label)*100\n",
        "  val_acc = clf.score(val_data,val_label)*100\n",
        "\n",
        "  print('{}Fold,train accuracy :{:.2f}%,validation accuracy :{:.2f}%'.format(i,trn_acc,val_acc))\n",
        "\n",
        "  val_scores.append(val_acc)\n",
        "print('Cross Validation Score:{:.2f}%'.format(np.mean(val_scores)))"
      ],
      "metadata": {
        "id": "IeM9sx44R74M",
        "colab": {
          "base_uri": "https://localhost:8080/"
        },
        "outputId": "6b2c6609-1690-4b16-fa5c-8de08110cd3d"
      },
      "execution_count": 120,
      "outputs": [
        {
          "output_type": "stream",
          "name": "stdout",
          "text": [
            "0Fold,train accuracy :100.00%,validation accuracy :100.00%\n",
            "1Fold,train accuracy :100.00%,validation accuracy :90.00%\n",
            "2Fold,train accuracy :100.00%,validation accuracy :93.33%\n",
            "3Fold,train accuracy :100.00%,validation accuracy :93.33%\n",
            "4Fold,train accuracy :100.00%,validation accuracy :100.00%\n",
            "Cross Validation Score:95.33%\n"
          ]
        }
      ]
    },
    {
      "cell_type": "markdown",
      "metadata": {
        "id": "nMj9MljElmTR"
      },
      "source": [
        "#### Cross Validation Score\n",
        "방금 전 반복문을 사용해 Cross Validation을 진행해 봤습니다. <br>\n",
        "그런데 Sklearn에는 한번에 k-fold Cross Validation Score를 계산하는 cross_val_score 함수를 제공합니다. <br>\n",
        "파라미터로 cv에 숫자를 전달하면, 그 숫자 만큼의 fold를 만들어 Cross Validation(CV)을 진행하고, kfold 객체를 전달하면 해당 객체에 맞게 데이터를 분할하여 CV Score를 계산합니다.<br>\n",
        "cross_val_score 함수는 폴드 개수대로 Score를 반환하며, 해당 스코어들의 평균을 계산해 모델의 성능을 가늠해볼 수 있습니다.<br>\n",
        "\n",
        "* 기본적으로 cross_val_score 함수는 입력 Label 값이 클래스로 나누어진 분류 모델인 경우 StratifiedKFold를 적용합니다."
      ]
    },
    {
      "cell_type": "code",
      "execution_count": 122,
      "metadata": {
        "id": "7gdbnPaylmTR"
      },
      "outputs": [],
      "source": [
        "from sklearn.model_selection import cross_val_score"
      ]
    },
    {
      "cell_type": "code",
      "source": [
        "rf = RandomForestClassifier(n_estimators=100,max_depth=10,random_state=2022)\n",
        "print('랜덤 포레스트 K-fold cv score(acc): {}'.format(np.mean(cross_val_score(rf,kf_data,kf_label,cv=skf))))"
      ],
      "metadata": {
        "id": "n1Vdokf-R-Bs",
        "colab": {
          "base_uri": "https://localhost:8080/"
        },
        "outputId": "639b3a8d-d748-453c-c94a-be7de91b8ceb"
      },
      "execution_count": 123,
      "outputs": [
        {
          "output_type": "stream",
          "name": "stdout",
          "text": [
            "랜덤 포레스트 K-fold cv score(acc): 0.9533333333333334\n"
          ]
        }
      ]
    },
    {
      "cell_type": "code",
      "source": [
        "rf = RandomForestClassifier(n_estimators=100,max_depth=10,random_state=2022)\n",
        "print('랜덤 포레스트 K-fold cv score(acc): {}'.format(np.mean(cross_val_score(rf,kf_data,kf_label,cv=5))))"
      ],
      "metadata": {
        "id": "MuFQZGyAR9-7",
        "colab": {
          "base_uri": "https://localhost:8080/"
        },
        "outputId": "0d14b32d-6c63-4fdf-b469-87e49d42f19f"
      },
      "execution_count": 124,
      "outputs": [
        {
          "output_type": "stream",
          "name": "stdout",
          "text": [
            "랜덤 포레스트 K-fold cv score(acc): 0.9533333333333334\n"
          ]
        }
      ]
    },
    {
      "cell_type": "markdown",
      "metadata": {
        "id": "GiVz6pYNlmTS"
      },
      "source": [
        "## Parameter Tuning\n",
        "### GridSearch \n",
        "모델에는 여러가지 파라미터가 들어갑니다. SVC의 경우 Soft, Hard 마진의 정도를 결정하는 'C' 커널 함수를 결정하는 'kernel' 특정 커널에서 얼마나 세세하게 볼것인지를 결정하는 'gamma' 등 <br>\n",
        "파라미터를 어떻게 결정하느냐에 따라 모델이 잘 학습하거나 잘 학습하지 못하는 경우가 발생할 수 있습니다. <br>\n",
        "Sklearn에서 가장 쉽게 제공하는 파라미터 튜닝 함수로 GridSearchCV 라는 함수가 있습니다. 해당 함수에 각 파라미터에 사용할 수치 리스트를 전달하면, 해당 함수는 파라미터들의 조합을 모두 시도해보며,<br>\n",
        "가장 좋은 성능의 파라미터를 찾게 됩니다. \n",
        "\n",
        "간단히 GridSearchCV 함수를 사용해 랜덤 포레스트의 n_estimator, max_depth 파라미터 중 가장 좋은 파라미터 조합을 찾아보겠습니다.<br>\n",
        "GridSearchCV 함수는 Sklearn의 model_selection 패키지에 있습니다.<br>"
      ]
    },
    {
      "cell_type": "markdown",
      "metadata": {
        "id": "rZtV9tlBlmTS"
      },
      "source": [
        "#### 1) 모델 정의 및 불러오기"
      ]
    },
    {
      "cell_type": "code",
      "source": [
        "from sklearn.model_selection import GridSearchCV\n",
        "rf = RandomForestClassifier()"
      ],
      "metadata": {
        "id": "amMOZO5tSBTk"
      },
      "execution_count": 125,
      "outputs": []
    },
    {
      "cell_type": "code",
      "source": [
        "params = {'n_estimators' : [50, 100, 150, 200],  \n",
        "          'max_depth' : [5, 10 ,15, 20],\n",
        "          'min_samples_split': [2, 5, 10]}"
      ],
      "metadata": {
        "id": "GX3j-TxKSBXW"
      },
      "execution_count": 126,
      "outputs": []
    },
    {
      "cell_type": "code",
      "source": [
        "clf = GridSearchCV(RandomForestClassifier(), params, cv=skf)"
      ],
      "metadata": {
        "id": "T7t4inv2SBMU"
      },
      "execution_count": 127,
      "outputs": []
    },
    {
      "cell_type": "code",
      "source": [
        "clf"
      ],
      "metadata": {
        "id": "nHLUuNYDSFUM",
        "colab": {
          "base_uri": "https://localhost:8080/"
        },
        "outputId": "86a03926-c18f-46e6-d86a-470b5367d537"
      },
      "execution_count": 128,
      "outputs": [
        {
          "output_type": "execute_result",
          "data": {
            "text/plain": [
              "GridSearchCV(cv=StratifiedKFold(n_splits=5, random_state=2022, shuffle=True),\n",
              "             estimator=RandomForestClassifier(),\n",
              "             param_grid={'max_depth': [5, 10, 15, 20],\n",
              "                         'min_samples_split': [2, 5, 10],\n",
              "                         'n_estimators': [50, 100, 150, 200]})"
            ]
          },
          "metadata": {},
          "execution_count": 128
        }
      ]
    },
    {
      "cell_type": "markdown",
      "metadata": {
        "id": "_hR9usBElmTT"
      },
      "source": [
        "#### 2) 모델 학습하기"
      ]
    },
    {
      "cell_type": "code",
      "source": [
        "clf.fit(kf_data, kf_label)"
      ],
      "metadata": {
        "id": "t_vE6yfgSG9s",
        "colab": {
          "base_uri": "https://localhost:8080/"
        },
        "outputId": "ed880704-a7ff-4e98-9028-2566d1b34e07"
      },
      "execution_count": 129,
      "outputs": [
        {
          "output_type": "execute_result",
          "data": {
            "text/plain": [
              "GridSearchCV(cv=StratifiedKFold(n_splits=5, random_state=2022, shuffle=True),\n",
              "             estimator=RandomForestClassifier(),\n",
              "             param_grid={'max_depth': [5, 10, 15, 20],\n",
              "                         'min_samples_split': [2, 5, 10],\n",
              "                         'n_estimators': [50, 100, 150, 200]})"
            ]
          },
          "metadata": {},
          "execution_count": 129
        }
      ]
    },
    {
      "cell_type": "markdown",
      "metadata": {
        "id": "Igt_wrUvlmTT"
      },
      "source": [
        "#### 3,4) 예측 및 결과 확인"
      ]
    },
    {
      "cell_type": "code",
      "execution_count": 130,
      "metadata": {
        "id": "CQ1PsMPSlmTT",
        "colab": {
          "base_uri": "https://localhost:8080/"
        },
        "outputId": "6e1185e6-bc00-4fbd-bfc3-5db15b224aa0"
      },
      "outputs": [
        {
          "output_type": "stream",
          "name": "stdout",
          "text": [
            "GridSearchCV best score : 96.00%, best_params : {'max_depth': 5, 'min_samples_split': 2, 'n_estimators': 150}\n"
          ]
        }
      ],
      "source": [
        "print('GridSearchCV best score : {:.2f}%, best_params : {}'.format(clf.best_score_*100, clf.best_params_))"
      ]
    },
    {
      "cell_type": "markdown",
      "metadata": {
        "id": "D7hosy0elmTT"
      },
      "source": [
        "#### Scikit-Optimize 얘는 안얘기하는게 좋을듯 못찾겠음\n",
        "GridSearch의 단점은 사용자가 직접 파라미터에 들어갈 값들의 리스트를 지정해주어야 한다는 단점이 있습니다.<br>\n",
        "Sklearn 라이브러리 내에 존재하지는 않지만, Scikit-Optimize(이하, skopt)라는 라이브러리를 간단히 소개해 드리겠습니다.<br>\n",
        "skopt는 각 파라미터에 들어갈 값들의 최대, 최소 범위를 결정해주고 파라미터 값의 분포 스케일을 결정해주어 파라미터 튜닝을 자동화 시켜주는 라이브러리입니다.<br>\n",
        "참조 링크에 Skopt 링크 남겨드리니 확인해보시면 좋겠습니다."
      ]
    },
    {
      "cell_type": "markdown",
      "metadata": {
        "id": "ZZ6wCyhYlmTU"
      },
      "source": [
        "## Ensemble\n",
        "개인적으로 앙상블은 머신러닝의 꽃이라고 생각합니다. 단일 모델로 좋은 성능을 이끄는 것도 중요하지만, 서로 다른 모델의 다양성을 고려하여 결과를 이끌어내는 앙상블은 응용할 수 있는 방법이 매우 많습니다. <br>\n",
        "그 중 대표적인 3가지 앙상블에 대해 실습하고 배워보도록 하겠습니다. \n",
        "\n",
        "### 1. Voting Ensemble\n",
        "이름에서 알 수 있듯이 각자의 모델이 투표를 하여 클래스를 선택하는 방식의 앙상블 입니다. <br>\n",
        "Voting 앙상블은 Sklearn 자체적으로 모델로써 지원을 하며, 사용하기도 매우 쉽습니다. <br>\n",
        "\n",
        "다시 Adult 데이터셋으로 돌아와 앙상블을 통해 기존 단일 모델보다 좋은 결과를 얻어보도록 하겠습니다.\n",
        "\n",
        "Voting Classifier는 Sklearn의 ensemble 패키지에 있습니다."
      ]
    },
    {
      "cell_type": "markdown",
      "metadata": {
        "id": "1d48K_b-lmTU"
      },
      "source": [
        "#### 1) 모델 불러오기 및 정의하기"
      ]
    },
    {
      "cell_type": "code",
      "execution_count": 134,
      "metadata": {
        "id": "Y_J11D0NlmTU"
      },
      "outputs": [],
      "source": [
        "from sklearn.ensemble import VotingClassifier\n",
        "from sklearn.neural_network import MLPClassifier\n",
        "\n",
        "clfs = [('LR', LogisticRegression()), ('RF', RandomForestClassifier(max_depth=5)), ('MLP', MLPClassifier())]\n",
        "vote_clf = VotingClassifier(clfs)"
      ]
    },
    {
      "cell_type": "markdown",
      "metadata": {
        "id": "I0O6UtDLlmTU"
      },
      "source": [
        "#### 2) 모델 학습하기"
      ]
    },
    {
      "cell_type": "code",
      "execution_count": 135,
      "metadata": {
        "id": "Oh5uZ3pWlmTU",
        "colab": {
          "base_uri": "https://localhost:8080/"
        },
        "outputId": "1d97683e-1c30-4d70-b38b-d54c4f65452f"
      },
      "outputs": [
        {
          "output_type": "execute_result",
          "data": {
            "text/plain": [
              "VotingClassifier(estimators=[('LR', LogisticRegression()),\n",
              "                             ('RF', RandomForestClassifier(max_depth=5)),\n",
              "                             ('MLP', MLPClassifier())])"
            ]
          },
          "metadata": {},
          "execution_count": 135
        }
      ],
      "source": [
        "vote_clf.fit(x_train, y_train) "
      ]
    },
    {
      "cell_type": "code",
      "execution_count": 138,
      "metadata": {
        "id": "ELUBQhT8lmTV",
        "colab": {
          "base_uri": "https://localhost:8080/"
        },
        "outputId": "7fc170ef-c547-4bc1-c6e7-780e1107d682"
      },
      "outputs": [
        {
          "output_type": "stream",
          "name": "stdout",
          "text": [
            "Cross Validation Acc : 82.39%\n"
          ]
        }
      ],
      "source": [
        "print('Cross Validation Acc : {:.2f}%'.format(vote_clf.score(x_valid,y_valid)*100))"
      ]
    },
    {
      "cell_type": "markdown",
      "metadata": {
        "id": "uxCwid_clmTV"
      },
      "source": [
        "#### 3) 결과 예측하기"
      ]
    },
    {
      "cell_type": "code",
      "execution_count": 140,
      "metadata": {
        "id": "EySryoT5lmTV"
      },
      "outputs": [],
      "source": [
        "y_pred = vote_clf.predict(x_test)"
      ]
    },
    {
      "cell_type": "markdown",
      "metadata": {
        "id": "D4PtAk3hlmTV"
      },
      "source": [
        "#### 4) 결과 확인하기"
      ]
    },
    {
      "cell_type": "code",
      "execution_count": 141,
      "metadata": {
        "id": "mKM37vYvlmTV",
        "colab": {
          "base_uri": "https://localhost:8080/"
        },
        "outputId": "193a5b08-e9d0-45af-8f71-9331969eee3d"
      },
      "outputs": [
        {
          "output_type": "stream",
          "name": "stdout",
          "text": [
            "Voting Ensemble Acc : 82.49%\n"
          ]
        }
      ],
      "source": [
        "print('Voting Ensemble Acc : {:.2f}%'.format(vote_clf.score(x_test,y_test)*100))"
      ]
    },
    {
      "cell_type": "markdown",
      "metadata": {
        "id": "fVPvIlaXlmTV"
      },
      "source": [
        "### 2. Bagging, Average Blending\n",
        "앙상블 기법 중 캐글에서 가장 많이 사용되는 기법이면서 쉬운 기법입니다. Average Blending에서 회귀의 경우 각 모델들이 예측한 결과 값을 n으로 나누어 합칩니다.<br>\n",
        "분류의 경우에는 각 클래스에 해당하는 확률을 n으로 나누어 합치고, 그 중 가장 높은 확률 값을 갖는 클래스를 택하는 방식입니다. "
      ]
    },
    {
      "cell_type": "code",
      "execution_count": 142,
      "metadata": {
        "id": "eesTivSQlmTW",
        "colab": {
          "base_uri": "https://localhost:8080/"
        },
        "outputId": "01fcf8d7-83db-4acd-fe00-966839431b45"
      },
      "outputs": [
        {
          "output_type": "stream",
          "name": "stdout",
          "text": [
            "Single Random Forest Acc : 83.76%\n"
          ]
        }
      ],
      "source": [
        "clf = RandomForestClassifier(n_estimators=50,max_depth=5,random_state=2022)\n",
        "clf.fit(x_train, y_train)\n",
        "print('Single Random Forest Acc : {:.2f}%'.format(clf.score(x_test,y_test)*100))\n",
        " "
      ]
    },
    {
      "cell_type": "code",
      "execution_count": 144,
      "metadata": {
        "id": "Q8bAQ2n-lmTW",
        "colab": {
          "base_uri": "https://localhost:8080/"
        },
        "outputId": "9d3ee4c9-1920-491c-9f2d-018b33723f6f"
      },
      "outputs": [
        {
          "output_type": "stream",
          "name": "stdout",
          "text": [
            "0Fold,train accuracy :83.85%,validation accuracy :83.65%\n",
            "1Fold,train accuracy :84.00%,validation accuracy :83.81%\n",
            "2Fold,train accuracy :83.79%,validation accuracy :83.88%\n",
            "3Fold,train accuracy :84.06%,validation accuracy :83.72%\n",
            "4Fold,train accuracy :83.97%,validation accuracy :84.14%\n",
            "Cross Validation Score : 83.84%\n"
          ]
        }
      ],
      "source": [
        "val_scores = list()\n",
        "y_pred = np.zeros_like(y_test, dtype=np.float) \n",
        "for i, (trn_idx, val_idx) in enumerate(skf.split(x, y)) :  \n",
        "  trn_data, trn_label = x.values[trn_idx, :], y.values[trn_idx]\n",
        "  val_data, val_label = x.values[val_idx, :], y.values[val_idx]\n",
        "  clf = RandomForestClassifier(n_estimators=50,max_depth=5,random_state=2022)\n",
        "  clf.fit(trn_data,trn_label)\n",
        "  trn_acc = clf.score(trn_data,trn_label)*100\n",
        "  val_acc = clf.score(val_data,val_label)*100\n",
        "  print('{}Fold,train accuracy :{:.2f}%,validation accuracy :{:.2f}%'.format(i,trn_acc,val_acc))\n",
        "  val_scores.append(val_acc)\n",
        "  y_pred += (clf.predict_proba(x_test)[:,1]/skf.n_splits)\n",
        "print('Cross Validation Score : {:.2f}%'.format(np.mean(val_scores)))\n"
      ]
    },
    {
      "cell_type": "code",
      "execution_count": 145,
      "metadata": {
        "id": "MQa54xhwlmTW",
        "colab": {
          "base_uri": "https://localhost:8080/"
        },
        "outputId": "2d01685d-6e1d-42c4-8ad5-3aa5c5531be0"
      },
      "outputs": [
        {
          "output_type": "stream",
          "name": "stdout",
          "text": [
            "Average Blending Acc : 83.56%\n"
          ]
        }
      ],
      "source": [
        "# 확률을 이진 라벨로 변경해줍니다.\n",
        "y_pred = [0 if y<0.5 else 1 for y in y_pred]\n",
        "print('Average Blending Acc : {:.2f}%'.format(accuracy_score(y_test,y_pred)*100))"
      ]
    },
    {
      "cell_type": "markdown",
      "metadata": {
        "id": "qTRJ56jclmTW"
      },
      "source": [
        "### Reference\n",
        "- Validation 데이터가 필요한 이유 : https://3months.tistory.com/118\n",
        "- Sklearn, KFold : https://scikit-learn.org/stable/modules/generated/sklearn.model_selection.KFold.html\n",
        "- Sklearn, StratifedKFold : https://scikit-learn.org/stable/modules/generated/sklearn.model_selection.StratifiedKFold.html#sklearn.model_selection.StratifiedKFold\n",
        "- Sklearn, Compare with KFold, StratifedKFold : https://scikit-learn.org/stable/auto_examples/model_selection/plot_cv_indices.html#sphx-glr-auto-examples-model-selection-plot-cv-indices-py\n",
        "- Sklearn, Cross Validation Score : https://www.google.com/url?q=http://scikit-learn.org/stable/modules/generated/sklearn.model_selection.cross_val_score.html&sa=U&ved=0ahUKEwiGxeHhqubhAhUKV7wKHbFhDrcQFggEMAA&client=internal-uds-cse&cx=016639176250731907682:tjtqbvtvij0&usg=AOvVaw0rIHEJ1ltDaghFv1bvPeRO\n",
        "- Sklearn, GridSearchCV : https://scikit-learn.org/stable/modules/generated/sklearn.model_selection.GridSearchCV.html\n",
        "- Sklearn, Voting Classifier : https://scikit-learn.org/stable/modules/generated/sklearn.ensemble.VotingClassifier.html\n",
        "- Scikit-Optimize, Documentation : https://scikit-optimize.github.io "
      ]
    },
    {
      "cell_type": "markdown",
      "source": [
        "# 캐글 참고 사이트\n",
        "https://www.kaggle.com/code/kcs93023/2019-ml-month-2nd-baseline/notebook"
      ],
      "metadata": {
        "id": "MZx95LQZKpQj"
      }
    },
    {
      "cell_type": "markdown",
      "source": [
        ""
      ],
      "metadata": {
        "id": "8rcJSeNHLXr2"
      }
    },
    {
      "cell_type": "markdown",
      "source": [
        "# 캐글 Xgboost 하이퍼 파라미터 튜닝"
      ],
      "metadata": {
        "id": "EZ_LZQY7KVB-"
      }
    },
    {
      "cell_type": "code",
      "source": [
        "\n",
        "# Python · 2019 1st ML month with KaKR\n",
        "https://www.kaggle.com/code/lifesailor/xgboost/data"
      ],
      "metadata": {
        "id": "zzVktiUBKP7L"
      },
      "execution_count": null,
      "outputs": []
    }
  ],
  "metadata": {
    "colab": {
      "collapsed_sections": [],
      "name": "python 22일차_Model_Validation.ipynb",
      "provenance": []
    },
    "kernelspec": {
      "display_name": "Python 3",
      "language": "python",
      "name": "python3"
    },
    "language_info": {
      "codemirror_mode": {
        "name": "ipython",
        "version": 3
      },
      "file_extension": ".py",
      "mimetype": "text/x-python",
      "name": "python",
      "nbconvert_exporter": "python",
      "pygments_lexer": "ipython3",
      "version": "3.6.5"
    }
  },
  "nbformat": 4,
  "nbformat_minor": 0
}