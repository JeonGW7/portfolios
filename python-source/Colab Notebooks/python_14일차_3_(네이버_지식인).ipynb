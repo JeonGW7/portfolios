{
  "nbformat": 4,
  "nbformat_minor": 0,
  "metadata": {
    "colab": {
      "name": "python 14일차 - 3 (네이버 지식인).ipynb",
      "provenance": []
    },
    "kernelspec": {
      "name": "python3",
      "display_name": "Python 3"
    },
    "language_info": {
      "name": "python"
    },
    "widgets": {
      "application/vnd.jupyter.widget-state+json": {
        "ed59a513a259473a8c1fa926baa1ceb2": {
          "model_module": "@jupyter-widgets/controls",
          "model_name": "HBoxModel",
          "model_module_version": "1.5.0",
          "state": {
            "_dom_classes": [],
            "_model_module": "@jupyter-widgets/controls",
            "_model_module_version": "1.5.0",
            "_model_name": "HBoxModel",
            "_view_count": null,
            "_view_module": "@jupyter-widgets/controls",
            "_view_module_version": "1.5.0",
            "_view_name": "HBoxView",
            "box_style": "",
            "children": [
              "IPY_MODEL_bd9688a8814943b7a304bdd13f2bf85f",
              "IPY_MODEL_9caef0cb6d864998bbefebf6ec311d71",
              "IPY_MODEL_e4c879b0af8f44d69647b4f94a16f391"
            ],
            "layout": "IPY_MODEL_2bfc8427197a4a238246d3de51ca9e0c"
          }
        },
        "bd9688a8814943b7a304bdd13f2bf85f": {
          "model_module": "@jupyter-widgets/controls",
          "model_name": "HTMLModel",
          "model_module_version": "1.5.0",
          "state": {
            "_dom_classes": [],
            "_model_module": "@jupyter-widgets/controls",
            "_model_module_version": "1.5.0",
            "_model_name": "HTMLModel",
            "_view_count": null,
            "_view_module": "@jupyter-widgets/controls",
            "_view_module_version": "1.5.0",
            "_view_name": "HTMLView",
            "description": "",
            "description_tooltip": null,
            "layout": "IPY_MODEL_d21c2404aa67420c9acba6bde11cb2bb",
            "placeholder": "​",
            "style": "IPY_MODEL_c9bc997cf82143f084e80aee8e626a6b",
            "value": "100%"
          }
        },
        "9caef0cb6d864998bbefebf6ec311d71": {
          "model_module": "@jupyter-widgets/controls",
          "model_name": "FloatProgressModel",
          "model_module_version": "1.5.0",
          "state": {
            "_dom_classes": [],
            "_model_module": "@jupyter-widgets/controls",
            "_model_module_version": "1.5.0",
            "_model_name": "FloatProgressModel",
            "_view_count": null,
            "_view_module": "@jupyter-widgets/controls",
            "_view_module_version": "1.5.0",
            "_view_name": "ProgressView",
            "bar_style": "success",
            "description": "",
            "description_tooltip": null,
            "layout": "IPY_MODEL_d7c022d2c1f5480f98e4a25a1da9140b",
            "max": 9,
            "min": 0,
            "orientation": "horizontal",
            "style": "IPY_MODEL_301f35e22b60453992f1500dcbbcda0b",
            "value": 9
          }
        },
        "e4c879b0af8f44d69647b4f94a16f391": {
          "model_module": "@jupyter-widgets/controls",
          "model_name": "HTMLModel",
          "model_module_version": "1.5.0",
          "state": {
            "_dom_classes": [],
            "_model_module": "@jupyter-widgets/controls",
            "_model_module_version": "1.5.0",
            "_model_name": "HTMLModel",
            "_view_count": null,
            "_view_module": "@jupyter-widgets/controls",
            "_view_module_version": "1.5.0",
            "_view_name": "HTMLView",
            "description": "",
            "description_tooltip": null,
            "layout": "IPY_MODEL_4bf1bb11c35a4cf1ab1d12ff89672cdf",
            "placeholder": "​",
            "style": "IPY_MODEL_545d75db98a84deaa031eb961869c4f2",
            "value": " 9/9 [13:00&lt;00:00, 88.86s/it]"
          }
        },
        "2bfc8427197a4a238246d3de51ca9e0c": {
          "model_module": "@jupyter-widgets/base",
          "model_name": "LayoutModel",
          "model_module_version": "1.2.0",
          "state": {
            "_model_module": "@jupyter-widgets/base",
            "_model_module_version": "1.2.0",
            "_model_name": "LayoutModel",
            "_view_count": null,
            "_view_module": "@jupyter-widgets/base",
            "_view_module_version": "1.2.0",
            "_view_name": "LayoutView",
            "align_content": null,
            "align_items": null,
            "align_self": null,
            "border": null,
            "bottom": null,
            "display": null,
            "flex": null,
            "flex_flow": null,
            "grid_area": null,
            "grid_auto_columns": null,
            "grid_auto_flow": null,
            "grid_auto_rows": null,
            "grid_column": null,
            "grid_gap": null,
            "grid_row": null,
            "grid_template_areas": null,
            "grid_template_columns": null,
            "grid_template_rows": null,
            "height": null,
            "justify_content": null,
            "justify_items": null,
            "left": null,
            "margin": null,
            "max_height": null,
            "max_width": null,
            "min_height": null,
            "min_width": null,
            "object_fit": null,
            "object_position": null,
            "order": null,
            "overflow": null,
            "overflow_x": null,
            "overflow_y": null,
            "padding": null,
            "right": null,
            "top": null,
            "visibility": null,
            "width": null
          }
        },
        "d21c2404aa67420c9acba6bde11cb2bb": {
          "model_module": "@jupyter-widgets/base",
          "model_name": "LayoutModel",
          "model_module_version": "1.2.0",
          "state": {
            "_model_module": "@jupyter-widgets/base",
            "_model_module_version": "1.2.0",
            "_model_name": "LayoutModel",
            "_view_count": null,
            "_view_module": "@jupyter-widgets/base",
            "_view_module_version": "1.2.0",
            "_view_name": "LayoutView",
            "align_content": null,
            "align_items": null,
            "align_self": null,
            "border": null,
            "bottom": null,
            "display": null,
            "flex": null,
            "flex_flow": null,
            "grid_area": null,
            "grid_auto_columns": null,
            "grid_auto_flow": null,
            "grid_auto_rows": null,
            "grid_column": null,
            "grid_gap": null,
            "grid_row": null,
            "grid_template_areas": null,
            "grid_template_columns": null,
            "grid_template_rows": null,
            "height": null,
            "justify_content": null,
            "justify_items": null,
            "left": null,
            "margin": null,
            "max_height": null,
            "max_width": null,
            "min_height": null,
            "min_width": null,
            "object_fit": null,
            "object_position": null,
            "order": null,
            "overflow": null,
            "overflow_x": null,
            "overflow_y": null,
            "padding": null,
            "right": null,
            "top": null,
            "visibility": null,
            "width": null
          }
        },
        "c9bc997cf82143f084e80aee8e626a6b": {
          "model_module": "@jupyter-widgets/controls",
          "model_name": "DescriptionStyleModel",
          "model_module_version": "1.5.0",
          "state": {
            "_model_module": "@jupyter-widgets/controls",
            "_model_module_version": "1.5.0",
            "_model_name": "DescriptionStyleModel",
            "_view_count": null,
            "_view_module": "@jupyter-widgets/base",
            "_view_module_version": "1.2.0",
            "_view_name": "StyleView",
            "description_width": ""
          }
        },
        "d7c022d2c1f5480f98e4a25a1da9140b": {
          "model_module": "@jupyter-widgets/base",
          "model_name": "LayoutModel",
          "model_module_version": "1.2.0",
          "state": {
            "_model_module": "@jupyter-widgets/base",
            "_model_module_version": "1.2.0",
            "_model_name": "LayoutModel",
            "_view_count": null,
            "_view_module": "@jupyter-widgets/base",
            "_view_module_version": "1.2.0",
            "_view_name": "LayoutView",
            "align_content": null,
            "align_items": null,
            "align_self": null,
            "border": null,
            "bottom": null,
            "display": null,
            "flex": null,
            "flex_flow": null,
            "grid_area": null,
            "grid_auto_columns": null,
            "grid_auto_flow": null,
            "grid_auto_rows": null,
            "grid_column": null,
            "grid_gap": null,
            "grid_row": null,
            "grid_template_areas": null,
            "grid_template_columns": null,
            "grid_template_rows": null,
            "height": null,
            "justify_content": null,
            "justify_items": null,
            "left": null,
            "margin": null,
            "max_height": null,
            "max_width": null,
            "min_height": null,
            "min_width": null,
            "object_fit": null,
            "object_position": null,
            "order": null,
            "overflow": null,
            "overflow_x": null,
            "overflow_y": null,
            "padding": null,
            "right": null,
            "top": null,
            "visibility": null,
            "width": null
          }
        },
        "301f35e22b60453992f1500dcbbcda0b": {
          "model_module": "@jupyter-widgets/controls",
          "model_name": "ProgressStyleModel",
          "model_module_version": "1.5.0",
          "state": {
            "_model_module": "@jupyter-widgets/controls",
            "_model_module_version": "1.5.0",
            "_model_name": "ProgressStyleModel",
            "_view_count": null,
            "_view_module": "@jupyter-widgets/base",
            "_view_module_version": "1.2.0",
            "_view_name": "StyleView",
            "bar_color": null,
            "description_width": ""
          }
        },
        "4bf1bb11c35a4cf1ab1d12ff89672cdf": {
          "model_module": "@jupyter-widgets/base",
          "model_name": "LayoutModel",
          "model_module_version": "1.2.0",
          "state": {
            "_model_module": "@jupyter-widgets/base",
            "_model_module_version": "1.2.0",
            "_model_name": "LayoutModel",
            "_view_count": null,
            "_view_module": "@jupyter-widgets/base",
            "_view_module_version": "1.2.0",
            "_view_name": "LayoutView",
            "align_content": null,
            "align_items": null,
            "align_self": null,
            "border": null,
            "bottom": null,
            "display": null,
            "flex": null,
            "flex_flow": null,
            "grid_area": null,
            "grid_auto_columns": null,
            "grid_auto_flow": null,
            "grid_auto_rows": null,
            "grid_column": null,
            "grid_gap": null,
            "grid_row": null,
            "grid_template_areas": null,
            "grid_template_columns": null,
            "grid_template_rows": null,
            "height": null,
            "justify_content": null,
            "justify_items": null,
            "left": null,
            "margin": null,
            "max_height": null,
            "max_width": null,
            "min_height": null,
            "min_width": null,
            "object_fit": null,
            "object_position": null,
            "order": null,
            "overflow": null,
            "overflow_x": null,
            "overflow_y": null,
            "padding": null,
            "right": null,
            "top": null,
            "visibility": null,
            "width": null
          }
        },
        "545d75db98a84deaa031eb961869c4f2": {
          "model_module": "@jupyter-widgets/controls",
          "model_name": "DescriptionStyleModel",
          "model_module_version": "1.5.0",
          "state": {
            "_model_module": "@jupyter-widgets/controls",
            "_model_module_version": "1.5.0",
            "_model_name": "DescriptionStyleModel",
            "_view_count": null,
            "_view_module": "@jupyter-widgets/base",
            "_view_module_version": "1.2.0",
            "_view_name": "StyleView",
            "description_width": ""
          }
        }
      }
    }
  },
  "cells": [
    {
      "cell_type": "code",
      "execution_count": 1,
      "metadata": {
        "id": "mCh3xeHc5-sO"
      },
      "outputs": [],
      "source": [
        "!apt-get install -y fonts-nanum > /dev/null\n",
        "!fc-cache -fv > /dev/null\n",
        "!rm -rf ~/.cache/matplotlib\n",
        "# Colab 런타임 다시 시작"
      ]
    },
    {
      "cell_type": "code",
      "source": [
        "!apt-get update > /dev/null 2>&1\n",
        "!pip install selenium > /dev/null 2>&1\n",
        "!apt install chromium-chromedriver > /dev/null 2>&1"
      ],
      "metadata": {
        "id": "sv0n596X6man"
      },
      "execution_count": 2,
      "outputs": []
    },
    {
      "cell_type": "code",
      "source": [
        "from selenium import webdriver\n",
        "from selenium.webdriver.common.keys import Keys\n",
        "from selenium.webdriver.common.by import By\n",
        "import time\n",
        "import pandas as pd\n",
        "from tqdm.notebook import tqdm\n",
        "from urllib.parse import quote\n",
        "from bs4 import BeautifulSoup\n",
        "options = webdriver.ChromeOptions()\n",
        "options.add_argument('--headless')   # 화면없이 실행\n",
        "options.add_argument('--no-sandbox')\n",
        "options.add_argument(\"--single-process\")\n",
        "options.add_argument(\"--disable-dev-shm-usage\")\n",
        "driver = webdriver.Chrome('chromedriver', options=options)"
      ],
      "metadata": {
        "id": "mhjGeWHc6gAS"
      },
      "execution_count": 24,
      "outputs": []
    },
    {
      "cell_type": "code",
      "source": [
        "base_url='https://kin.naver.com/search/list.naver?query='\n",
        "url= base_url+quote('여친선물')\n",
        "driver.get(url)\n",
        "soup=BeautifulSoup(driver.page_source,'html.parser')"
      ],
      "metadata": {
        "id": "kP6kakWo7hXh"
      },
      "execution_count": 25,
      "outputs": []
    },
    {
      "cell_type": "code",
      "source": [
        "lis=soup.select(\"ul.basic1 > li\")\n",
        "len(lis)"
      ],
      "metadata": {
        "colab": {
          "base_uri": "https://localhost:8080/"
        },
        "id": "yFX_8DiK8fFr",
        "outputId": "def3f395-86b1-4a8f-93dd-3239ffad486a"
      },
      "execution_count": 26,
      "outputs": [
        {
          "output_type": "execute_result",
          "data": {
            "text/plain": [
              "10"
            ]
          },
          "metadata": {},
          "execution_count": 26
        }
      ]
    },
    {
      "cell_type": "code",
      "source": [
        "li=lis[0]\n",
        "sub_url=li.select_one('a._searchListTitleAnchor')['href']\n",
        "sub_url"
      ],
      "metadata": {
        "colab": {
          "base_uri": "https://localhost:8080/",
          "height": 35
        },
        "id": "gsU1xOi_8u7G",
        "outputId": "9af12345-86ce-4e94-dcc6-0fe2f5f84f52"
      },
      "execution_count": 27,
      "outputs": [
        {
          "output_type": "execute_result",
          "data": {
            "text/plain": [
              "'https://kin.naver.com/qna/detail.naver?d1id=8&dirId=80101&docId=395035694&qb=7Jes7Lmc7ISg66y8&enc=utf8&section=kin&rank=1&search_sort=0&spq=0'"
            ],
            "application/vnd.google.colaboratory.intrinsic+json": {
              "type": "string"
            }
          },
          "metadata": {},
          "execution_count": 27
        }
      ]
    },
    {
      "cell_type": "code",
      "source": [
        "driver.get(sub_url)\n",
        "time.sleep(2)"
      ],
      "metadata": {
        "id": "tbczOONB9Jg6"
      },
      "execution_count": 28,
      "outputs": []
    },
    {
      "cell_type": "code",
      "source": [
        "count=int(driver.find_element_by_css_selector('._answerCount.num').text)\n",
        "answer_page=(count-1)//5\n",
        "print(count,answer_page)"
      ],
      "metadata": {
        "colab": {
          "base_uri": "https://localhost:8080/"
        },
        "id": "CuQ1dV5R9Rcp",
        "outputId": "3188b5b3-56a2-4a44-c56d-5d60c0d51c90"
      },
      "execution_count": 29,
      "outputs": [
        {
          "output_type": "stream",
          "name": "stdout",
          "text": [
            "8 1\n"
          ]
        },
        {
          "output_type": "stream",
          "name": "stderr",
          "text": [
            "/usr/local/lib/python3.7/dist-packages/ipykernel_launcher.py:1: DeprecationWarning: find_element_by_css_selector is deprecated. Please use find_element(by=By.CSS_SELECTOR, value=css_selector) instead\n",
            "  \"\"\"Entry point for launching an IPython kernel.\n"
          ]
        }
      ]
    },
    {
      "cell_type": "code",
      "source": [
        "for i in range(answer_page):\n",
        "  driver.find_element_by_id(\"nextPageButton\").click()\n",
        "  time.sleep(2)"
      ],
      "metadata": {
        "colab": {
          "base_uri": "https://localhost:8080/"
        },
        "id": "fCexbB5G_9-D",
        "outputId": "ca2f38d7-4270-4ecf-ffcf-664e012d4bdb"
      },
      "execution_count": 30,
      "outputs": [
        {
          "output_type": "stream",
          "name": "stderr",
          "text": [
            "/usr/local/lib/python3.7/dist-packages/ipykernel_launcher.py:2: DeprecationWarning: find_element_by_* commands are deprecated. Please use find_element() instead\n",
            "  \n"
          ]
        }
      ]
    },
    {
      "cell_type": "code",
      "source": [
        "soup=BeautifulSoup(driver.page_source,'html.parser')\n",
        "divs=soup.select(\"div.answer-content__item._contentWrap._answer\")\n",
        "len(divs)"
      ],
      "metadata": {
        "colab": {
          "base_uri": "https://localhost:8080/"
        },
        "id": "eQ7KUmWoAK4q",
        "outputId": "bcd54231-134a-41c8-8ae1-188bb6a9bc99"
      },
      "execution_count": 31,
      "outputs": [
        {
          "output_type": "execute_result",
          "data": {
            "text/plain": [
              "8"
            ]
          },
          "metadata": {},
          "execution_count": 31
        }
      ]
    },
    {
      "cell_type": "code",
      "source": [
        "div=divs[0]\n",
        "ps=div.select('p.se-text-paragraph')\n",
        "for p in ps:\n",
        "  print(p.get_text())"
      ],
      "metadata": {
        "colab": {
          "base_uri": "https://localhost:8080/"
        },
        "id": "zNN9GbEeBJR_",
        "outputId": "3402d4a3-05a0-4715-c3a3-35d9e5a9e626"
      },
      "execution_count": 32,
      "outputs": [
        {
          "output_type": "stream",
          "name": "stdout",
          "text": [
            "혹시 여친분이 생리통이 있으시다면..여친선물로 복부온열기 어떠세요?\n",
            "저 생리통 너무 심해서 이번에 남자친구가 복부온열기 선물줬는데..\n",
            "뭔가 감동이더라구요. 절 많이 생각해서 준 선물 같이 느껴지더라구요.\n",
            "하고있으면 배가 뜨듯하고 진동마사지도 해줘서 생리통 거의 안느껴지고 좋아요!!\n",
            "​\n",
            "제가 쓰는건 배뜨끈 복부온열기이예요. 아래에 링크알려드릴게요.\n",
            "좋은 여친선물이 되셨으면 좋겠네요.\n"
          ]
        }
      ]
    },
    {
      "cell_type": "code",
      "source": [
        "divs[6].select('p.se-text-paragraph')"
      ],
      "metadata": {
        "colab": {
          "base_uri": "https://localhost:8080/"
        },
        "id": "osNRGlBWBhHr",
        "outputId": "b336a79d-a0bf-44c5-c4c8-cb8d6c3651a5"
      },
      "execution_count": 33,
      "outputs": [
        {
          "output_type": "execute_result",
          "data": {
            "text/plain": [
              "[]"
            ]
          },
          "metadata": {},
          "execution_count": 33
        }
      ]
    },
    {
      "cell_type": "code",
      "source": [
        "#driver.back()\n",
        "#time.sleep(2)"
      ],
      "metadata": {
        "id": "r6yeUJtZCOC9"
      },
      "execution_count": null,
      "outputs": []
    },
    {
      "cell_type": "markdown",
      "source": [
        "10페이지 가져오기"
      ],
      "metadata": {
        "id": "sRRIaTANJtfv"
      }
    },
    {
      "cell_type": "code",
      "source": [
        "answer_list=[]\n",
        "for page in tqdm(range(1,10)):\n",
        "  url=f'{base_url}{quote(\"여친선물\")}&page={page}'\n",
        "  driver.get(url)\n",
        "  time.sleep(2)\n",
        "  html=driver.page_source\n",
        "  soup=BeautifulSoup(html,'html.parser')\n",
        "  lis=soup.select('ul.basic1 > li')\n",
        "  for li in lis:\n",
        "    sub_url=li.select_one('a._searchListTitleAnchor')['href']\n",
        "    driver.get(sub_url)\n",
        "    time.sleep(2)\n",
        "    count=int(driver.find_element_by_css_selector('._answerCount.num').text)\n",
        "    answer_page=(count-1)//5\n",
        "    print(count,end=' ')\n",
        "\n",
        "    for i in range(answer_page):\n",
        "      driver.find_element_by_id(\"nextPageButton\").click()\n",
        "      time.sleep(2) \n",
        "\n",
        "    soup=BeautifulSoup(driver.page_source,'html.parser')\n",
        "    divs=soup.select(\"div.answer-content__item._contentWrap._answer\")\n",
        "    print(len(divs))\n",
        "\n",
        "    for div in divs:\n",
        "      ps=div.select('p.se-text-paragraph')\n",
        "      paragraph=''\n",
        "      for p in ps:\n",
        "        text=p.get_text()\n",
        "        if text == ' ' or text=='\\u200b' :\n",
        "          continue\n",
        "        paragraph+=text+'\\n'\n",
        "      answer_list.append(paragraph)\n",
        "    driver.back()\n",
        "    time.sleep(2)"
      ],
      "metadata": {
        "colab": {
          "base_uri": "https://localhost:8080/",
          "height": 1000,
          "referenced_widgets": [
            "ed59a513a259473a8c1fa926baa1ceb2",
            "bd9688a8814943b7a304bdd13f2bf85f",
            "9caef0cb6d864998bbefebf6ec311d71",
            "e4c879b0af8f44d69647b4f94a16f391",
            "2bfc8427197a4a238246d3de51ca9e0c",
            "d21c2404aa67420c9acba6bde11cb2bb",
            "c9bc997cf82143f084e80aee8e626a6b",
            "d7c022d2c1f5480f98e4a25a1da9140b",
            "301f35e22b60453992f1500dcbbcda0b",
            "4bf1bb11c35a4cf1ab1d12ff89672cdf",
            "545d75db98a84deaa031eb961869c4f2"
          ]
        },
        "id": "z2ILQu3dCpSz",
        "outputId": "c636837f-98d1-4210-eb22-de73e9b15aa5"
      },
      "execution_count": 35,
      "outputs": [
        {
          "output_type": "display_data",
          "data": {
            "text/plain": [
              "  0%|          | 0/9 [00:00<?, ?it/s]"
            ],
            "application/vnd.jupyter.widget-view+json": {
              "version_major": 2,
              "version_minor": 0,
              "model_id": "ed59a513a259473a8c1fa926baa1ceb2"
            }
          },
          "metadata": {}
        },
        {
          "output_type": "stream",
          "name": "stderr",
          "text": [
            "/usr/local/lib/python3.7/dist-packages/ipykernel_launcher.py:13: DeprecationWarning: find_element_by_css_selector is deprecated. Please use find_element(by=By.CSS_SELECTOR, value=css_selector) instead\n",
            "  del sys.path[0]\n",
            "/usr/local/lib/python3.7/dist-packages/ipykernel_launcher.py:18: DeprecationWarning: find_element_by_* commands are deprecated. Please use find_element() instead\n"
          ]
        },
        {
          "output_type": "stream",
          "name": "stdout",
          "text": [
            "8 8\n",
            "7 7\n",
            "12 12\n",
            "14 14\n",
            "9 9\n",
            "4 4\n",
            "8 8\n",
            "1 1\n",
            "1 1\n",
            "15 15\n",
            "1 1\n",
            "1 1\n",
            "1 1\n",
            "2 2\n",
            "10 10\n",
            "13 13\n",
            "12 12\n",
            "5 5\n",
            "2 2\n",
            "5 5\n",
            "1 1\n",
            "4 4\n",
            "5 5\n",
            "5 5\n",
            "14 14\n",
            "8 8\n",
            "12 12\n",
            "13 13\n",
            "15 15\n",
            "2 2\n",
            "1 1\n",
            "5 5\n",
            "1 1\n",
            "5 5\n",
            "20 20\n",
            "13 13\n",
            "11 11\n",
            "9 9\n",
            "1 1\n",
            "11 11\n",
            "7 7\n",
            "1 1\n",
            "1 1\n",
            "3 3\n",
            "13 13\n",
            "4 4\n",
            "18 18\n",
            "5 5\n",
            "3 3\n",
            "5 5\n",
            "8 8\n",
            "1 1\n",
            "6 6\n",
            "12 12\n",
            "1 1\n",
            "1 1\n",
            "11 11\n",
            "7 7\n",
            "9 9\n",
            "5 5\n",
            "15 10\n",
            "7 7\n",
            "1 1\n",
            "3 3\n",
            "16 16\n",
            "4 4\n",
            "16 16\n",
            "2 2\n",
            "11 11\n",
            "2 2\n",
            "6 6\n",
            "1 1\n",
            "7 7\n",
            "9 9\n",
            "4 4\n",
            "21 21\n",
            "14 14\n",
            "3 3\n",
            "3 3\n",
            "6 6\n",
            "8 8\n",
            "4 4\n",
            "1 1\n",
            "7 7\n",
            "6 6\n",
            "6 6\n",
            "1 1\n",
            "1 1\n",
            "1 1\n",
            "7 5\n"
          ]
        }
      ]
    },
    {
      "cell_type": "code",
      "source": [
        "len(answer_list)"
      ],
      "metadata": {
        "colab": {
          "base_uri": "https://localhost:8080/"
        },
        "id": "m8ktQ8vdMya7",
        "outputId": "eaccc85b-e3f8-4663-ca24-e2fc4393bc09"
      },
      "execution_count": 36,
      "outputs": [
        {
          "output_type": "execute_result",
          "data": {
            "text/plain": [
              "594"
            ]
          },
          "metadata": {},
          "execution_count": 36
        }
      ]
    },
    {
      "cell_type": "code",
      "source": [
        "answer_list[100]"
      ],
      "metadata": {
        "colab": {
          "base_uri": "https://localhost:8080/",
          "height": 72
        },
        "id": "fw7gMImtM1yR",
        "outputId": "1f060afc-5769-4fdf-c3ab-131ceed8a361"
      },
      "execution_count": 37,
      "outputs": [
        {
          "output_type": "execute_result",
          "data": {
            "text/plain": [
              "'전 여자구요. 이너퍼퓸 안 써본 친구한테 선물한 적인 있는데\\n그 친구가 엄청 좋아하더라구요! 선물한 입장에서 너무 만족했던거라 지나가다 댓 남겨봐요~\\n여친선물용이면 성분 제일 중요시 여기고 보셔야돼요~\\n가장 민감한 부위에 접촉되고 뿌려지는거니까요\\n아무래도 제가 쓰는게 아니라 친구가 쓰는거라 사용방법이랑 안전성, 피부에 잘 맞는건지는\\n사람마다 달라서 고를때 엄청 고민되더라구요.\\n그래서 전 설명 잘 되어 있고 상담 잘 해주는지 여부로 찾아보고 사줬거든요 \\n여기 엄청 자세히 잘 알려줘서 제 친구 여기 사장님한테 궁금한 거 다 물어보고 썼다고 하네요!\\nhttps://smartstore.naver.com/honestj2/products/5037001578\\n향은 너무 개취라 테스트 해볼 수 도 없으니까 여자친구분이 선택하시는게 좋을 것 같네요~\\n'"
            ],
            "application/vnd.google.colaboratory.intrinsic+json": {
              "type": "string"
            }
          },
          "metadata": {},
          "execution_count": 37
        }
      ]
    },
    {
      "cell_type": "code",
      "source": [
        "with open('new_gift.txt','w',encoding='utf-8') as fp:\n",
        "  for answer in answer_list:\n",
        "    fp.write(answer+'\\n')"
      ],
      "metadata": {
        "id": "4GvF2adPM7jm"
      },
      "execution_count": 38,
      "outputs": []
    }
  ]
}