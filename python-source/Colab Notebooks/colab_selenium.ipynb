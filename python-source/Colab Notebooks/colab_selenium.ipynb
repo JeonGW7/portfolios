{
  "nbformat": 4,
  "nbformat_minor": 0,
  "metadata": {
    "colab": {
      "name": "colab_selenium.ipynb",
      "provenance": [],
      "collapsed_sections": []
    },
    "kernelspec": {
      "name": "python3",
      "display_name": "Python 3"
    },
    "language_info": {
      "name": "python"
    }
  },
  "cells": [
    {
      "cell_type": "code",
      "execution_count": 1,
      "metadata": {
        "id": "HwkWX7D1m7yn"
      },
      "outputs": [],
      "source": [
        "!apt-get update > /dev/null 2>&1\n",
        "!pip install selenium > /dev/null 2>&1\n",
        "!apt install chromium-chromedriver > /dev/null 2>&1"
      ]
    },
    {
      "cell_type": "code",
      "source": [
        "from selenium import webdriver\n",
        "from selenium.webdriver.common.keys import Keys\n",
        "from selenium.webdriver.common.by import By\n",
        "import time"
      ],
      "metadata": {
        "id": "rcwexhG-ovkk"
      },
      "execution_count": 3,
      "outputs": []
    },
    {
      "cell_type": "code",
      "source": [
        "options = webdriver.ChromeOptions()\n",
        "options.add_argument('--headless')   # 화면없이 실행\n",
        "options.add_argument('--no-sandbox')\n",
        "options.add_argument(\"--single-process\")\n",
        "options.add_argument(\"--disable-dev-shm-usage\")\n",
        "driver = webdriver.Chrome('chromedriver', options=options)"
      ],
      "metadata": {
        "id": "AlaiUaLLpCRS"
      },
      "execution_count": 4,
      "outputs": []
    },
    {
      "cell_type": "code",
      "source": [
        "url = 'https://www.google.co.kr'\n",
        "driver.get(url)"
      ],
      "metadata": {
        "id": "L8JsOfA4pQYl"
      },
      "execution_count": 5,
      "outputs": []
    },
    {
      "cell_type": "code",
      "source": [
        "search_box = driver.find_element(by=By.NAME, value='q')\n",
        "search_box.send_keys('ChromeDrive')\n",
        "search_box.send_keys(Keys.ENTER)\n",
        "time.sleep(2)"
      ],
      "metadata": {
        "id": "8mt61NaVpbAE"
      },
      "execution_count": 24,
      "outputs": []
    },
    {
      "cell_type": "code",
      "source": [
        "divs = driver.find_elements(by=By.CSS_SELECTOR, value='#search .g')\n",
        "len(divs)"
      ],
      "metadata": {
        "colab": {
          "base_uri": "https://localhost:8080/"
        },
        "id": "tvImUNnIqyEA",
        "outputId": "79ff54fa-97bb-4b29-d7fe-30f6adb9882c"
      },
      "execution_count": 25,
      "outputs": [
        {
          "output_type": "execute_result",
          "data": {
            "text/plain": [
              "7"
            ]
          },
          "metadata": {},
          "execution_count": 25
        }
      ]
    },
    {
      "cell_type": "code",
      "source": [
        "div = divs[0]\n",
        "title = div.find_element(By.CSS_SELECTOR, '.LC20lb.MBeuO.DKV0Md').text\n",
        "title"
      ],
      "metadata": {
        "colab": {
          "base_uri": "https://localhost:8080/",
          "height": 35
        },
        "id": "fL7mm1r0u7y8",
        "outputId": "32b72578-f1f2-4dac-fa94-5cde4e9e8ea2"
      },
      "execution_count": 26,
      "outputs": [
        {
          "output_type": "execute_result",
          "data": {
            "text/plain": [
              "'ChromeDriver - WebDriver for Chrome - Downloads'"
            ],
            "application/vnd.google.colaboratory.intrinsic+json": {
              "type": "string"
            }
          },
          "metadata": {},
          "execution_count": 26
        }
      ]
    },
    {
      "cell_type": "code",
      "source": [
        "content = div.find_element(By.CSS_SELECTOR,'.VwiC3b.yXK7lf.MUxGbd').text\n",
        "content"
      ],
      "metadata": {
        "colab": {
          "base_uri": "https://localhost:8080/",
          "height": 54
        },
        "id": "1TP1Z-7TzGDZ",
        "outputId": "40ac0f1f-e04c-4d4c-96b1-94094ee03387"
      },
      "execution_count": 27,
      "outputs": [
        {
          "output_type": "execute_result",
          "data": {
            "text/plain": [
              "'If you are using Chrome version 100, please download ChromeDriver 100.0.4896.60. For older version of Chrome, please see below for the version of ...'"
            ],
            "application/vnd.google.colaboratory.intrinsic+json": {
              "type": "string"
            }
          },
          "metadata": {},
          "execution_count": 27
        }
      ]
    },
    {
      "cell_type": "code",
      "source": [
        "lines = []\n",
        "for div in divs:\n",
        "    try: \n",
        "        title = div.find_element(By.CSS_SELECTOR, '.LC20lb.MBeuO.DKV0Md').text\n",
        "        content = div.find_element(By.CSS_SELECTOR,'.VwiC3b.yXK7lf.MUxGbd').text\n",
        "    except:\n",
        "        continue\n",
        "\n",
        "    lines.append([title, content])\n"
      ],
      "metadata": {
        "id": "TdQFJpfIz5HS"
      },
      "execution_count": 28,
      "outputs": []
    },
    {
      "cell_type": "code",
      "source": [
        "lines"
      ],
      "metadata": {
        "colab": {
          "base_uri": "https://localhost:8080/"
        },
        "id": "sSX0MRr00QEk",
        "outputId": "9d187c70-d3a9-4ea1-b878-913cf83d6509"
      },
      "execution_count": 29,
      "outputs": [
        {
          "output_type": "execute_result",
          "data": {
            "text/plain": [
              "[['ChromeDriver - WebDriver for Chrome - Downloads',\n",
              "  'If you are using Chrome version 100, please download ChromeDriver 100.0.4896.60. For older version of Chrome, please see below for the version of ...'],\n",
              " ['使用python selenium時關於chromedriver的小問題 - Medium',\n",
              "  '這時候可以再到上方連結下載較舊版本的chromedriver來與chrome配對，或反過來將chrome升級到較新的版本。 順帶一提，chrome的版本可以從說明=>關於Google Chrome中看到。'],\n",
              " ['selenium(webdriver)學習筆記1--ChromeDriver - IT閱讀',\n",
              "  '2019年1月2日 — 但是啟動Google Chrome瀏覽器，就比較複雜了。 如果還是用以下程式碼，會報錯。 WebDriver driver = new ChromeDriver(); ...'],\n",
              " ['Python Chromedriver不定期更新好困擾?Autoinstaller套件自動 ...',\n",
              "  '2020年11月21日 — Background: 我寫了一個python程式，使用selenium呼叫chromedriver自動操作chrome瀏覽器(鍵盤精靈的概念)。原本執行好好的，但過一段時間突然有不能用 ...'],\n",
              " ['ChromeDriver版本錯誤之升級驅動，及禁止瀏覽器自動更新',\n",
              "  '2021年7月7日 — 背景： 用python + selenium寫的UI自動化程式碼，原來可執行，今天執行突然報如下的錯：'],\n",
              " ['[ChromeDriver] 連接到已經開啟的Chrome Sessions - 科科和測試',\n",
              "  '2015年3月20日 — 由於ChromeDriver 是走remote debugging protocol 跟Chrome/Chromium 上的debugger server 溝通，這個問題可以分兩部份來看：.'],\n",
              " ['Appium做自動化測試，遇到的chromedriver/chrome問題與技巧 ...',\n",
              "  '2020年5月19日 — 一、前言APP的webview 自動化是依賴於chromedriver 的，並且每個APP的webview 版本號都不太一樣，這就導致了每次都需要重新去下載對應的chromedriver ...']]"
            ]
          },
          "metadata": {},
          "execution_count": 29
        }
      ]
    },
    {
      "cell_type": "code",
      "source": [
        "import pandas as pd"
      ],
      "metadata": {
        "id": "eMje-6rm0U5B"
      },
      "execution_count": 22,
      "outputs": []
    },
    {
      "cell_type": "code",
      "source": [
        "df = pd.DataFrame(lines, columns=['제목','내용'])\n",
        "df"
      ],
      "metadata": {
        "colab": {
          "base_uri": "https://localhost:8080/",
          "height": 400
        },
        "id": "12kCagFc0bAA",
        "outputId": "c2818339-314e-4735-a831-7495b1d9bce8"
      },
      "execution_count": 30,
      "outputs": [
        {
          "output_type": "execute_result",
          "data": {
            "text/plain": [
              "                                                  제목  \\\n",
              "0    ChromeDriver - WebDriver for Chrome - Downloads   \n",
              "1      使用python selenium時關於chromedriver的小問題 - Medium   \n",
              "2      selenium(webdriver)學習筆記1--ChromeDriver - IT閱讀   \n",
              "3  Python Chromedriver不定期更新好困擾?Autoinstaller套件自動 ...   \n",
              "4                   ChromeDriver版本錯誤之升級驅動，及禁止瀏覽器自動更新   \n",
              "5     [ChromeDriver] 連接到已經開啟的Chrome Sessions - 科科和測試   \n",
              "6       Appium做自動化測試，遇到的chromedriver/chrome問題與技巧 ...   \n",
              "\n",
              "                                                  내용  \n",
              "0  If you are using Chrome version 100, please do...  \n",
              "1  這時候可以再到上方連結下載較舊版本的chromedriver來與chrome配對，或反過來將...  \n",
              "2  2019年1月2日 — 但是啟動Google Chrome瀏覽器，就比較複雜了。 如果還是用...  \n",
              "3  2020年11月21日 — Background: 我寫了一個python程式，使用sele...  \n",
              "4  2021年7月7日 — 背景： 用python + selenium寫的UI自動化程式碼，原...  \n",
              "5  2015年3月20日 — 由於ChromeDriver 是走remote debugging...  \n",
              "6  2020年5月19日 — 一、前言APP的webview 自動化是依賴於chromedriv...  "
            ],
            "text/html": [
              "\n",
              "  <div id=\"df-9acd6b52-8de1-4099-850f-a4e8bbe11511\">\n",
              "    <div class=\"colab-df-container\">\n",
              "      <div>\n",
              "<style scoped>\n",
              "    .dataframe tbody tr th:only-of-type {\n",
              "        vertical-align: middle;\n",
              "    }\n",
              "\n",
              "    .dataframe tbody tr th {\n",
              "        vertical-align: top;\n",
              "    }\n",
              "\n",
              "    .dataframe thead th {\n",
              "        text-align: right;\n",
              "    }\n",
              "</style>\n",
              "<table border=\"1\" class=\"dataframe\">\n",
              "  <thead>\n",
              "    <tr style=\"text-align: right;\">\n",
              "      <th></th>\n",
              "      <th>제목</th>\n",
              "      <th>내용</th>\n",
              "    </tr>\n",
              "  </thead>\n",
              "  <tbody>\n",
              "    <tr>\n",
              "      <th>0</th>\n",
              "      <td>ChromeDriver - WebDriver for Chrome - Downloads</td>\n",
              "      <td>If you are using Chrome version 100, please do...</td>\n",
              "    </tr>\n",
              "    <tr>\n",
              "      <th>1</th>\n",
              "      <td>使用python selenium時關於chromedriver的小問題 - Medium</td>\n",
              "      <td>這時候可以再到上方連結下載較舊版本的chromedriver來與chrome配對，或反過來將...</td>\n",
              "    </tr>\n",
              "    <tr>\n",
              "      <th>2</th>\n",
              "      <td>selenium(webdriver)學習筆記1--ChromeDriver - IT閱讀</td>\n",
              "      <td>2019年1月2日 — 但是啟動Google Chrome瀏覽器，就比較複雜了。 如果還是用...</td>\n",
              "    </tr>\n",
              "    <tr>\n",
              "      <th>3</th>\n",
              "      <td>Python Chromedriver不定期更新好困擾?Autoinstaller套件自動 ...</td>\n",
              "      <td>2020年11月21日 — Background: 我寫了一個python程式，使用sele...</td>\n",
              "    </tr>\n",
              "    <tr>\n",
              "      <th>4</th>\n",
              "      <td>ChromeDriver版本錯誤之升級驅動，及禁止瀏覽器自動更新</td>\n",
              "      <td>2021年7月7日 — 背景： 用python + selenium寫的UI自動化程式碼，原...</td>\n",
              "    </tr>\n",
              "    <tr>\n",
              "      <th>5</th>\n",
              "      <td>[ChromeDriver] 連接到已經開啟的Chrome Sessions - 科科和測試</td>\n",
              "      <td>2015年3月20日 — 由於ChromeDriver 是走remote debugging...</td>\n",
              "    </tr>\n",
              "    <tr>\n",
              "      <th>6</th>\n",
              "      <td>Appium做自動化測試，遇到的chromedriver/chrome問題與技巧 ...</td>\n",
              "      <td>2020年5月19日 — 一、前言APP的webview 自動化是依賴於chromedriv...</td>\n",
              "    </tr>\n",
              "  </tbody>\n",
              "</table>\n",
              "</div>\n",
              "      <button class=\"colab-df-convert\" onclick=\"convertToInteractive('df-9acd6b52-8de1-4099-850f-a4e8bbe11511')\"\n",
              "              title=\"Convert this dataframe to an interactive table.\"\n",
              "              style=\"display:none;\">\n",
              "        \n",
              "  <svg xmlns=\"http://www.w3.org/2000/svg\" height=\"24px\"viewBox=\"0 0 24 24\"\n",
              "       width=\"24px\">\n",
              "    <path d=\"M0 0h24v24H0V0z\" fill=\"none\"/>\n",
              "    <path d=\"M18.56 5.44l.94 2.06.94-2.06 2.06-.94-2.06-.94-.94-2.06-.94 2.06-2.06.94zm-11 1L8.5 8.5l.94-2.06 2.06-.94-2.06-.94L8.5 2.5l-.94 2.06-2.06.94zm10 10l.94 2.06.94-2.06 2.06-.94-2.06-.94-.94-2.06-.94 2.06-2.06.94z\"/><path d=\"M17.41 7.96l-1.37-1.37c-.4-.4-.92-.59-1.43-.59-.52 0-1.04.2-1.43.59L10.3 9.45l-7.72 7.72c-.78.78-.78 2.05 0 2.83L4 21.41c.39.39.9.59 1.41.59.51 0 1.02-.2 1.41-.59l7.78-7.78 2.81-2.81c.8-.78.8-2.07 0-2.86zM5.41 20L4 18.59l7.72-7.72 1.47 1.35L5.41 20z\"/>\n",
              "  </svg>\n",
              "      </button>\n",
              "      \n",
              "  <style>\n",
              "    .colab-df-container {\n",
              "      display:flex;\n",
              "      flex-wrap:wrap;\n",
              "      gap: 12px;\n",
              "    }\n",
              "\n",
              "    .colab-df-convert {\n",
              "      background-color: #E8F0FE;\n",
              "      border: none;\n",
              "      border-radius: 50%;\n",
              "      cursor: pointer;\n",
              "      display: none;\n",
              "      fill: #1967D2;\n",
              "      height: 32px;\n",
              "      padding: 0 0 0 0;\n",
              "      width: 32px;\n",
              "    }\n",
              "\n",
              "    .colab-df-convert:hover {\n",
              "      background-color: #E2EBFA;\n",
              "      box-shadow: 0px 1px 2px rgba(60, 64, 67, 0.3), 0px 1px 3px 1px rgba(60, 64, 67, 0.15);\n",
              "      fill: #174EA6;\n",
              "    }\n",
              "\n",
              "    [theme=dark] .colab-df-convert {\n",
              "      background-color: #3B4455;\n",
              "      fill: #D2E3FC;\n",
              "    }\n",
              "\n",
              "    [theme=dark] .colab-df-convert:hover {\n",
              "      background-color: #434B5C;\n",
              "      box-shadow: 0px 1px 3px 1px rgba(0, 0, 0, 0.15);\n",
              "      filter: drop-shadow(0px 1px 2px rgba(0, 0, 0, 0.3));\n",
              "      fill: #FFFFFF;\n",
              "    }\n",
              "  </style>\n",
              "\n",
              "      <script>\n",
              "        const buttonEl =\n",
              "          document.querySelector('#df-9acd6b52-8de1-4099-850f-a4e8bbe11511 button.colab-df-convert');\n",
              "        buttonEl.style.display =\n",
              "          google.colab.kernel.accessAllowed ? 'block' : 'none';\n",
              "\n",
              "        async function convertToInteractive(key) {\n",
              "          const element = document.querySelector('#df-9acd6b52-8de1-4099-850f-a4e8bbe11511');\n",
              "          const dataTable =\n",
              "            await google.colab.kernel.invokeFunction('convertToInteractive',\n",
              "                                                     [key], {});\n",
              "          if (!dataTable) return;\n",
              "\n",
              "          const docLinkHtml = 'Like what you see? Visit the ' +\n",
              "            '<a target=\"_blank\" href=https://colab.research.google.com/notebooks/data_table.ipynb>data table notebook</a>'\n",
              "            + ' to learn more about interactive tables.';\n",
              "          element.innerHTML = '';\n",
              "          dataTable['output_type'] = 'display_data';\n",
              "          await google.colab.output.renderOutput(dataTable, element);\n",
              "          const docLink = document.createElement('div');\n",
              "          docLink.innerHTML = docLinkHtml;\n",
              "          element.appendChild(docLink);\n",
              "        }\n",
              "      </script>\n",
              "    </div>\n",
              "  </div>\n",
              "  "
            ]
          },
          "metadata": {},
          "execution_count": 30
        }
      ]
    },
    {
      "cell_type": "code",
      "source": [
        ""
      ],
      "metadata": {
        "id": "LMsoRVxd0ibz"
      },
      "execution_count": null,
      "outputs": []
    }
  ]
}