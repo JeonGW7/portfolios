{
  "nbformat": 4,
  "nbformat_minor": 0,
  "metadata": {
    "colab": {
      "name": "python 팀프로젝트 데이터 시각화.ipynb",
      "provenance": [],
      "collapsed_sections": []
    },
    "kernelspec": {
      "name": "python3",
      "display_name": "Python 3"
    },
    "language_info": {
      "name": "python"
    }
  },
  "cells": [
    {
      "cell_type": "code",
      "execution_count": 3,
      "metadata": {
        "id": "6G47flO2XbBY"
      },
      "outputs": [],
      "source": [
        "!apt-get install -y fonts-nanum > /dev/null\n",
        "!fc-cache -fv > /dev/null\n",
        "!rm -rf ~/.cache/matplotlib\n",
        "# Colab 런타임 다시 시작"
      ]
    },
    {
      "cell_type": "code",
      "source": [
        "from google.colab import drive\n",
        "drive.mount('/content/drive')"
      ],
      "metadata": {
        "colab": {
          "base_uri": "https://localhost:8080/"
        },
        "id": "4qOjKCDyOEHr",
        "outputId": "f798f7ec-9199-42fb-d141-7ce4976a61df"
      },
      "execution_count": 2,
      "outputs": [
        {
          "output_type": "stream",
          "name": "stdout",
          "text": [
            "Drive already mounted at /content/drive; to attempt to forcibly remount, call drive.mount(\"/content/drive\", force_remount=True).\n"
          ]
        }
      ]
    },
    {
      "cell_type": "code",
      "source": [
        "import matplotlib as mpl\n",
        "import matplotlib.pyplot as plt\n",
        "import numpy as np\n",
        "import pandas as pd\n",
        "import seaborn as sns\n",
        "#폰트\n",
        "mpl.rcParams['axes.unicode_minus'] = False\n",
        "mpl.rcParams['font.family'] = 'NanumBarunGothic'"
      ],
      "metadata": {
        "id": "wOr8P4mZiDO7"
      },
      "execution_count": 46,
      "outputs": []
    },
    {
      "cell_type": "code",
      "source": [
        "df=pd.read_csv('/content/drive/MyDrive/T20_1.csv')"
      ],
      "metadata": {
        "id": "ew2tM2_giGNL"
      },
      "execution_count": 47,
      "outputs": []
    },
    {
      "cell_type": "code",
      "source": [
        "df.head()"
      ],
      "metadata": {
        "colab": {
          "base_uri": "https://localhost:8080/",
          "height": 206
        },
        "id": "Gv763AMVkacm",
        "outputId": "6a2c07e5-10c2-4a42-fdc5-eb01328a31ee"
      },
      "execution_count": null,
      "outputs": [
        {
          "output_type": "execute_result",
          "data": {
            "text/plain": [
              "   분기  가입자 일련번호  성별코드  연령대코드  시도코드  진료과목코드 주상병코드 부상병코드  요양일수  입내원일수  \\\n",
              "0   4         1     2     12    46       5   M75   M75     1      1   \n",
              "1   3         1     2     12    46       1   E11   N30     1      1   \n",
              "2   3         1     2     12    46       1   N30   E11     1      1   \n",
              "3   3         1     2     12    46       1   E11   N30     7     21   \n",
              "4   1         1     2     12    46      13   H65   J30     1      1   \n",
              "\n",
              "   심결요양급여비용총액   심결본인부담금  심결보험자부담금  총처방일수  \n",
              "0     19240.0    9600.0    9640.0      0  \n",
              "1    145680.0   72800.0   72880.0      0  \n",
              "2     13240.0    6600.0    6640.0      3  \n",
              "3    861590.0  205810.0  655780.0      0  \n",
              "4     48440.0   14500.0   33940.0      3  "
            ],
            "text/html": [
              "\n",
              "  <div id=\"df-bd64d7eb-d7e9-4330-8c56-4d40362ae039\">\n",
              "    <div class=\"colab-df-container\">\n",
              "      <div>\n",
              "<style scoped>\n",
              "    .dataframe tbody tr th:only-of-type {\n",
              "        vertical-align: middle;\n",
              "    }\n",
              "\n",
              "    .dataframe tbody tr th {\n",
              "        vertical-align: top;\n",
              "    }\n",
              "\n",
              "    .dataframe thead th {\n",
              "        text-align: right;\n",
              "    }\n",
              "</style>\n",
              "<table border=\"1\" class=\"dataframe\">\n",
              "  <thead>\n",
              "    <tr style=\"text-align: right;\">\n",
              "      <th></th>\n",
              "      <th>분기</th>\n",
              "      <th>가입자 일련번호</th>\n",
              "      <th>성별코드</th>\n",
              "      <th>연령대코드</th>\n",
              "      <th>시도코드</th>\n",
              "      <th>진료과목코드</th>\n",
              "      <th>주상병코드</th>\n",
              "      <th>부상병코드</th>\n",
              "      <th>요양일수</th>\n",
              "      <th>입내원일수</th>\n",
              "      <th>심결요양급여비용총액</th>\n",
              "      <th>심결본인부담금</th>\n",
              "      <th>심결보험자부담금</th>\n",
              "      <th>총처방일수</th>\n",
              "    </tr>\n",
              "  </thead>\n",
              "  <tbody>\n",
              "    <tr>\n",
              "      <th>0</th>\n",
              "      <td>4</td>\n",
              "      <td>1</td>\n",
              "      <td>2</td>\n",
              "      <td>12</td>\n",
              "      <td>46</td>\n",
              "      <td>5</td>\n",
              "      <td>M75</td>\n",
              "      <td>M75</td>\n",
              "      <td>1</td>\n",
              "      <td>1</td>\n",
              "      <td>19240.0</td>\n",
              "      <td>9600.0</td>\n",
              "      <td>9640.0</td>\n",
              "      <td>0</td>\n",
              "    </tr>\n",
              "    <tr>\n",
              "      <th>1</th>\n",
              "      <td>3</td>\n",
              "      <td>1</td>\n",
              "      <td>2</td>\n",
              "      <td>12</td>\n",
              "      <td>46</td>\n",
              "      <td>1</td>\n",
              "      <td>E11</td>\n",
              "      <td>N30</td>\n",
              "      <td>1</td>\n",
              "      <td>1</td>\n",
              "      <td>145680.0</td>\n",
              "      <td>72800.0</td>\n",
              "      <td>72880.0</td>\n",
              "      <td>0</td>\n",
              "    </tr>\n",
              "    <tr>\n",
              "      <th>2</th>\n",
              "      <td>3</td>\n",
              "      <td>1</td>\n",
              "      <td>2</td>\n",
              "      <td>12</td>\n",
              "      <td>46</td>\n",
              "      <td>1</td>\n",
              "      <td>N30</td>\n",
              "      <td>E11</td>\n",
              "      <td>1</td>\n",
              "      <td>1</td>\n",
              "      <td>13240.0</td>\n",
              "      <td>6600.0</td>\n",
              "      <td>6640.0</td>\n",
              "      <td>3</td>\n",
              "    </tr>\n",
              "    <tr>\n",
              "      <th>3</th>\n",
              "      <td>3</td>\n",
              "      <td>1</td>\n",
              "      <td>2</td>\n",
              "      <td>12</td>\n",
              "      <td>46</td>\n",
              "      <td>1</td>\n",
              "      <td>E11</td>\n",
              "      <td>N30</td>\n",
              "      <td>7</td>\n",
              "      <td>21</td>\n",
              "      <td>861590.0</td>\n",
              "      <td>205810.0</td>\n",
              "      <td>655780.0</td>\n",
              "      <td>0</td>\n",
              "    </tr>\n",
              "    <tr>\n",
              "      <th>4</th>\n",
              "      <td>1</td>\n",
              "      <td>1</td>\n",
              "      <td>2</td>\n",
              "      <td>12</td>\n",
              "      <td>46</td>\n",
              "      <td>13</td>\n",
              "      <td>H65</td>\n",
              "      <td>J30</td>\n",
              "      <td>1</td>\n",
              "      <td>1</td>\n",
              "      <td>48440.0</td>\n",
              "      <td>14500.0</td>\n",
              "      <td>33940.0</td>\n",
              "      <td>3</td>\n",
              "    </tr>\n",
              "  </tbody>\n",
              "</table>\n",
              "</div>\n",
              "      <button class=\"colab-df-convert\" onclick=\"convertToInteractive('df-bd64d7eb-d7e9-4330-8c56-4d40362ae039')\"\n",
              "              title=\"Convert this dataframe to an interactive table.\"\n",
              "              style=\"display:none;\">\n",
              "        \n",
              "  <svg xmlns=\"http://www.w3.org/2000/svg\" height=\"24px\"viewBox=\"0 0 24 24\"\n",
              "       width=\"24px\">\n",
              "    <path d=\"M0 0h24v24H0V0z\" fill=\"none\"/>\n",
              "    <path d=\"M18.56 5.44l.94 2.06.94-2.06 2.06-.94-2.06-.94-.94-2.06-.94 2.06-2.06.94zm-11 1L8.5 8.5l.94-2.06 2.06-.94-2.06-.94L8.5 2.5l-.94 2.06-2.06.94zm10 10l.94 2.06.94-2.06 2.06-.94-2.06-.94-.94-2.06-.94 2.06-2.06.94z\"/><path d=\"M17.41 7.96l-1.37-1.37c-.4-.4-.92-.59-1.43-.59-.52 0-1.04.2-1.43.59L10.3 9.45l-7.72 7.72c-.78.78-.78 2.05 0 2.83L4 21.41c.39.39.9.59 1.41.59.51 0 1.02-.2 1.41-.59l7.78-7.78 2.81-2.81c.8-.78.8-2.07 0-2.86zM5.41 20L4 18.59l7.72-7.72 1.47 1.35L5.41 20z\"/>\n",
              "  </svg>\n",
              "      </button>\n",
              "      \n",
              "  <style>\n",
              "    .colab-df-container {\n",
              "      display:flex;\n",
              "      flex-wrap:wrap;\n",
              "      gap: 12px;\n",
              "    }\n",
              "\n",
              "    .colab-df-convert {\n",
              "      background-color: #E8F0FE;\n",
              "      border: none;\n",
              "      border-radius: 50%;\n",
              "      cursor: pointer;\n",
              "      display: none;\n",
              "      fill: #1967D2;\n",
              "      height: 32px;\n",
              "      padding: 0 0 0 0;\n",
              "      width: 32px;\n",
              "    }\n",
              "\n",
              "    .colab-df-convert:hover {\n",
              "      background-color: #E2EBFA;\n",
              "      box-shadow: 0px 1px 2px rgba(60, 64, 67, 0.3), 0px 1px 3px 1px rgba(60, 64, 67, 0.15);\n",
              "      fill: #174EA6;\n",
              "    }\n",
              "\n",
              "    [theme=dark] .colab-df-convert {\n",
              "      background-color: #3B4455;\n",
              "      fill: #D2E3FC;\n",
              "    }\n",
              "\n",
              "    [theme=dark] .colab-df-convert:hover {\n",
              "      background-color: #434B5C;\n",
              "      box-shadow: 0px 1px 3px 1px rgba(0, 0, 0, 0.15);\n",
              "      filter: drop-shadow(0px 1px 2px rgba(0, 0, 0, 0.3));\n",
              "      fill: #FFFFFF;\n",
              "    }\n",
              "  </style>\n",
              "\n",
              "      <script>\n",
              "        const buttonEl =\n",
              "          document.querySelector('#df-bd64d7eb-d7e9-4330-8c56-4d40362ae039 button.colab-df-convert');\n",
              "        buttonEl.style.display =\n",
              "          google.colab.kernel.accessAllowed ? 'block' : 'none';\n",
              "\n",
              "        async function convertToInteractive(key) {\n",
              "          const element = document.querySelector('#df-bd64d7eb-d7e9-4330-8c56-4d40362ae039');\n",
              "          const dataTable =\n",
              "            await google.colab.kernel.invokeFunction('convertToInteractive',\n",
              "                                                     [key], {});\n",
              "          if (!dataTable) return;\n",
              "\n",
              "          const docLinkHtml = 'Like what you see? Visit the ' +\n",
              "            '<a target=\"_blank\" href=https://colab.research.google.com/notebooks/data_table.ipynb>data table notebook</a>'\n",
              "            + ' to learn more about interactive tables.';\n",
              "          element.innerHTML = '';\n",
              "          dataTable['output_type'] = 'display_data';\n",
              "          await google.colab.output.renderOutput(dataTable, element);\n",
              "          const docLink = document.createElement('div');\n",
              "          docLink.innerHTML = docLinkHtml;\n",
              "          element.appendChild(docLink);\n",
              "        }\n",
              "      </script>\n",
              "    </div>\n",
              "  </div>\n",
              "  "
            ]
          },
          "metadata": {},
          "execution_count": 5
        }
      ]
    },
    {
      "cell_type": "code",
      "source": [
        "df.tail()"
      ],
      "metadata": {
        "colab": {
          "base_uri": "https://localhost:8080/",
          "height": 250
        },
        "id": "cnNKVK-smQVG",
        "outputId": "1e301137-558b-4551-870a-494908e80d66"
      },
      "execution_count": 4,
      "outputs": [
        {
          "output_type": "execute_result",
          "data": {
            "text/plain": [
              "          분기  가입자 일련번호  성별코드  연령대코드  시도코드  진료과목코드 주상병코드 부상병코드  요양일수  입내원일수  \\\n",
              "13178340   4   1000000     2      1    47      21   P22   P07     1      1   \n",
              "13178341   4   1000000     2      1    47      11   J20   J00     1      1   \n",
              "13178342   2   1000000     2      1    47      12   H35   P22     1      1   \n",
              "13178343   2   1000000     2      1    47      11   P22   P07    11     12   \n",
              "13178344   4   1000000     2      1    47      13   J30   J20     1      1   \n",
              "\n",
              "          심결요양급여비용총액  심결본인부담금   심결보험자부담금  총처방일수  \n",
              "13178340     71000.0   7100.0    63900.0      0  \n",
              "13178341     17620.0   1700.0    15920.0      3  \n",
              "13178342     31890.0   3100.0    28790.0      0  \n",
              "13178343   1757040.0  27670.0  1729370.0      0  \n",
              "13178344     12610.0    600.0    12010.0      3  "
            ],
            "text/html": [
              "\n",
              "  <div id=\"df-6680bf42-a078-49b7-a54e-60c72e952757\">\n",
              "    <div class=\"colab-df-container\">\n",
              "      <div>\n",
              "<style scoped>\n",
              "    .dataframe tbody tr th:only-of-type {\n",
              "        vertical-align: middle;\n",
              "    }\n",
              "\n",
              "    .dataframe tbody tr th {\n",
              "        vertical-align: top;\n",
              "    }\n",
              "\n",
              "    .dataframe thead th {\n",
              "        text-align: right;\n",
              "    }\n",
              "</style>\n",
              "<table border=\"1\" class=\"dataframe\">\n",
              "  <thead>\n",
              "    <tr style=\"text-align: right;\">\n",
              "      <th></th>\n",
              "      <th>분기</th>\n",
              "      <th>가입자 일련번호</th>\n",
              "      <th>성별코드</th>\n",
              "      <th>연령대코드</th>\n",
              "      <th>시도코드</th>\n",
              "      <th>진료과목코드</th>\n",
              "      <th>주상병코드</th>\n",
              "      <th>부상병코드</th>\n",
              "      <th>요양일수</th>\n",
              "      <th>입내원일수</th>\n",
              "      <th>심결요양급여비용총액</th>\n",
              "      <th>심결본인부담금</th>\n",
              "      <th>심결보험자부담금</th>\n",
              "      <th>총처방일수</th>\n",
              "    </tr>\n",
              "  </thead>\n",
              "  <tbody>\n",
              "    <tr>\n",
              "      <th>13178340</th>\n",
              "      <td>4</td>\n",
              "      <td>1000000</td>\n",
              "      <td>2</td>\n",
              "      <td>1</td>\n",
              "      <td>47</td>\n",
              "      <td>21</td>\n",
              "      <td>P22</td>\n",
              "      <td>P07</td>\n",
              "      <td>1</td>\n",
              "      <td>1</td>\n",
              "      <td>71000.0</td>\n",
              "      <td>7100.0</td>\n",
              "      <td>63900.0</td>\n",
              "      <td>0</td>\n",
              "    </tr>\n",
              "    <tr>\n",
              "      <th>13178341</th>\n",
              "      <td>4</td>\n",
              "      <td>1000000</td>\n",
              "      <td>2</td>\n",
              "      <td>1</td>\n",
              "      <td>47</td>\n",
              "      <td>11</td>\n",
              "      <td>J20</td>\n",
              "      <td>J00</td>\n",
              "      <td>1</td>\n",
              "      <td>1</td>\n",
              "      <td>17620.0</td>\n",
              "      <td>1700.0</td>\n",
              "      <td>15920.0</td>\n",
              "      <td>3</td>\n",
              "    </tr>\n",
              "    <tr>\n",
              "      <th>13178342</th>\n",
              "      <td>2</td>\n",
              "      <td>1000000</td>\n",
              "      <td>2</td>\n",
              "      <td>1</td>\n",
              "      <td>47</td>\n",
              "      <td>12</td>\n",
              "      <td>H35</td>\n",
              "      <td>P22</td>\n",
              "      <td>1</td>\n",
              "      <td>1</td>\n",
              "      <td>31890.0</td>\n",
              "      <td>3100.0</td>\n",
              "      <td>28790.0</td>\n",
              "      <td>0</td>\n",
              "    </tr>\n",
              "    <tr>\n",
              "      <th>13178343</th>\n",
              "      <td>2</td>\n",
              "      <td>1000000</td>\n",
              "      <td>2</td>\n",
              "      <td>1</td>\n",
              "      <td>47</td>\n",
              "      <td>11</td>\n",
              "      <td>P22</td>\n",
              "      <td>P07</td>\n",
              "      <td>11</td>\n",
              "      <td>12</td>\n",
              "      <td>1757040.0</td>\n",
              "      <td>27670.0</td>\n",
              "      <td>1729370.0</td>\n",
              "      <td>0</td>\n",
              "    </tr>\n",
              "    <tr>\n",
              "      <th>13178344</th>\n",
              "      <td>4</td>\n",
              "      <td>1000000</td>\n",
              "      <td>2</td>\n",
              "      <td>1</td>\n",
              "      <td>47</td>\n",
              "      <td>13</td>\n",
              "      <td>J30</td>\n",
              "      <td>J20</td>\n",
              "      <td>1</td>\n",
              "      <td>1</td>\n",
              "      <td>12610.0</td>\n",
              "      <td>600.0</td>\n",
              "      <td>12010.0</td>\n",
              "      <td>3</td>\n",
              "    </tr>\n",
              "  </tbody>\n",
              "</table>\n",
              "</div>\n",
              "      <button class=\"colab-df-convert\" onclick=\"convertToInteractive('df-6680bf42-a078-49b7-a54e-60c72e952757')\"\n",
              "              title=\"Convert this dataframe to an interactive table.\"\n",
              "              style=\"display:none;\">\n",
              "        \n",
              "  <svg xmlns=\"http://www.w3.org/2000/svg\" height=\"24px\"viewBox=\"0 0 24 24\"\n",
              "       width=\"24px\">\n",
              "    <path d=\"M0 0h24v24H0V0z\" fill=\"none\"/>\n",
              "    <path d=\"M18.56 5.44l.94 2.06.94-2.06 2.06-.94-2.06-.94-.94-2.06-.94 2.06-2.06.94zm-11 1L8.5 8.5l.94-2.06 2.06-.94-2.06-.94L8.5 2.5l-.94 2.06-2.06.94zm10 10l.94 2.06.94-2.06 2.06-.94-2.06-.94-.94-2.06-.94 2.06-2.06.94z\"/><path d=\"M17.41 7.96l-1.37-1.37c-.4-.4-.92-.59-1.43-.59-.52 0-1.04.2-1.43.59L10.3 9.45l-7.72 7.72c-.78.78-.78 2.05 0 2.83L4 21.41c.39.39.9.59 1.41.59.51 0 1.02-.2 1.41-.59l7.78-7.78 2.81-2.81c.8-.78.8-2.07 0-2.86zM5.41 20L4 18.59l7.72-7.72 1.47 1.35L5.41 20z\"/>\n",
              "  </svg>\n",
              "      </button>\n",
              "      \n",
              "  <style>\n",
              "    .colab-df-container {\n",
              "      display:flex;\n",
              "      flex-wrap:wrap;\n",
              "      gap: 12px;\n",
              "    }\n",
              "\n",
              "    .colab-df-convert {\n",
              "      background-color: #E8F0FE;\n",
              "      border: none;\n",
              "      border-radius: 50%;\n",
              "      cursor: pointer;\n",
              "      display: none;\n",
              "      fill: #1967D2;\n",
              "      height: 32px;\n",
              "      padding: 0 0 0 0;\n",
              "      width: 32px;\n",
              "    }\n",
              "\n",
              "    .colab-df-convert:hover {\n",
              "      background-color: #E2EBFA;\n",
              "      box-shadow: 0px 1px 2px rgba(60, 64, 67, 0.3), 0px 1px 3px 1px rgba(60, 64, 67, 0.15);\n",
              "      fill: #174EA6;\n",
              "    }\n",
              "\n",
              "    [theme=dark] .colab-df-convert {\n",
              "      background-color: #3B4455;\n",
              "      fill: #D2E3FC;\n",
              "    }\n",
              "\n",
              "    [theme=dark] .colab-df-convert:hover {\n",
              "      background-color: #434B5C;\n",
              "      box-shadow: 0px 1px 3px 1px rgba(0, 0, 0, 0.15);\n",
              "      filter: drop-shadow(0px 1px 2px rgba(0, 0, 0, 0.3));\n",
              "      fill: #FFFFFF;\n",
              "    }\n",
              "  </style>\n",
              "\n",
              "      <script>\n",
              "        const buttonEl =\n",
              "          document.querySelector('#df-6680bf42-a078-49b7-a54e-60c72e952757 button.colab-df-convert');\n",
              "        buttonEl.style.display =\n",
              "          google.colab.kernel.accessAllowed ? 'block' : 'none';\n",
              "\n",
              "        async function convertToInteractive(key) {\n",
              "          const element = document.querySelector('#df-6680bf42-a078-49b7-a54e-60c72e952757');\n",
              "          const dataTable =\n",
              "            await google.colab.kernel.invokeFunction('convertToInteractive',\n",
              "                                                     [key], {});\n",
              "          if (!dataTable) return;\n",
              "\n",
              "          const docLinkHtml = 'Like what you see? Visit the ' +\n",
              "            '<a target=\"_blank\" href=https://colab.research.google.com/notebooks/data_table.ipynb>data table notebook</a>'\n",
              "            + ' to learn more about interactive tables.';\n",
              "          element.innerHTML = '';\n",
              "          dataTable['output_type'] = 'display_data';\n",
              "          await google.colab.output.renderOutput(dataTable, element);\n",
              "          const docLink = document.createElement('div');\n",
              "          docLink.innerHTML = docLinkHtml;\n",
              "          element.appendChild(docLink);\n",
              "        }\n",
              "      </script>\n",
              "    </div>\n",
              "  </div>\n",
              "  "
            ]
          },
          "metadata": {},
          "execution_count": 4
        }
      ]
    },
    {
      "cell_type": "code",
      "source": [
        "sns.countplot(x='분기',data=df)\n",
        "plt.title('분기별 환자수')\n",
        "plt.show()"
      ],
      "metadata": {
        "colab": {
          "base_uri": "https://localhost:8080/",
          "height": 294
        },
        "id": "0TVzaJiym99C",
        "outputId": "60c4ca96-3b21-46bb-d0dd-c6be54888b71"
      },
      "execution_count": null,
      "outputs": [
        {
          "output_type": "display_data",
          "data": {
            "text/plain": [
              "<Figure size 432x288 with 1 Axes>"
            ],
            "image/png": "[encoded data removed]"
          },
          "metadata": {
            "needs_background": "light"
          }
        }
      ]
    },
    {
      "cell_type": "code",
      "source": [
        "df.describe()"
      ],
      "metadata": {
        "colab": {
          "base_uri": "https://localhost:8080/",
          "height": 344
        },
        "id": "_QQQ1FvcqevF",
        "outputId": "e5acbcf0-614d-4605-b35d-076213e26af1"
      },
      "execution_count": null,
      "outputs": [
        {
          "output_type": "execute_result",
          "data": {
            "text/plain": [
              "                 분기      가입자 일련번호          성별코드         연령대코드          시도코드  \\\n",
              "count  2.480231e+06  2.480231e+06  2.480231e+06  2.480231e+06  2.480231e+06   \n",
              "mean   2.540159e+00  9.410875e+04  1.562290e+00  1.026149e+01  3.380052e+01   \n",
              "std    1.119702e+00  5.429375e+04  4.961049e-01  4.951917e+00  1.271933e+01   \n",
              "min    1.000000e+00  1.000000e+00  1.000000e+00  1.000000e+00  1.100000e+01   \n",
              "25%    2.000000e+00  4.719600e+04  1.000000e+00  7.000000e+00  2.700000e+01   \n",
              "50%    3.000000e+00  9.402900e+04  2.000000e+00  1.100000e+01  4.100000e+01   \n",
              "75%    4.000000e+00  1.411640e+05  2.000000e+00  1.400000e+01  4.400000e+01   \n",
              "max    4.000000e+00  1.880130e+05  2.000000e+00  1.800000e+01  4.900000e+01   \n",
              "\n",
              "             진료과목코드          요양일수         입내원일수    심결요양급여비용총액       심결본인부담금  \\\n",
              "count  2.480231e+06  2.480231e+06  2.480231e+06  2.480230e+06  2.480230e+06   \n",
              "mean   7.007024e+00  1.199972e+00  1.880666e+00  8.350172e+04  1.865149e+04   \n",
              "std    6.124248e+00  2.119835e+00  5.548667e+00  6.235350e+05  9.286547e+04   \n",
              "min    0.000000e+00  0.000000e+00  0.000000e+00  1.000000e+01  0.000000e+00   \n",
              "25%    1.000000e+00  1.000000e+00  1.000000e+00  1.329000e+04  2.900000e+03   \n",
              "50%    5.000000e+00  1.000000e+00  1.000000e+00  1.735000e+04  4.700000e+03   \n",
              "75%    1.200000e+01  1.000000e+00  1.000000e+00  3.108000e+04  9.700000e+03   \n",
              "max    8.600000e+01  1.410000e+02  3.600000e+02  1.287630e+08  2.599545e+07   \n",
              "\n",
              "           심결보험자부담금         총처방일수  \n",
              "count  2.480230e+06  2.480230e+06  \n",
              "mean   6.459092e+04  1.101057e+01  \n",
              "std    5.506159e+05  2.259906e+01  \n",
              "min    0.000000e+00  0.000000e+00  \n",
              "25%    9.710000e+03  0.000000e+00  \n",
              "50%    1.273000e+04  3.000000e+00  \n",
              "75%    2.079000e+04  7.000000e+00  \n",
              "max    1.134230e+08  7.600000e+02  "
            ],
            "text/html": [
              "\n",
              "  <div id=\"df-82214cfd-eacd-4592-956b-456338e773c9\">\n",
              "    <div class=\"colab-df-container\">\n",
              "      <div>\n",
              "<style scoped>\n",
              "    .dataframe tbody tr th:only-of-type {\n",
              "        vertical-align: middle;\n",
              "    }\n",
              "\n",
              "    .dataframe tbody tr th {\n",
              "        vertical-align: top;\n",
              "    }\n",
              "\n",
              "    .dataframe thead th {\n",
              "        text-align: right;\n",
              "    }\n",
              "</style>\n",
              "<table border=\"1\" class=\"dataframe\">\n",
              "  <thead>\n",
              "    <tr style=\"text-align: right;\">\n",
              "      <th></th>\n",
              "      <th>분기</th>\n",
              "      <th>가입자 일련번호</th>\n",
              "      <th>성별코드</th>\n",
              "      <th>연령대코드</th>\n",
              "      <th>시도코드</th>\n",
              "      <th>진료과목코드</th>\n",
              "      <th>요양일수</th>\n",
              "      <th>입내원일수</th>\n",
              "      <th>심결요양급여비용총액</th>\n",
              "      <th>심결본인부담금</th>\n",
              "      <th>심결보험자부담금</th>\n",
              "      <th>총처방일수</th>\n",
              "    </tr>\n",
              "  </thead>\n",
              "  <tbody>\n",
              "    <tr>\n",
              "      <th>count</th>\n",
              "      <td>2.480231e+06</td>\n",
              "      <td>2.480231e+06</td>\n",
              "      <td>2.480231e+06</td>\n",
              "      <td>2.480231e+06</td>\n",
              "      <td>2.480231e+06</td>\n",
              "      <td>2.480231e+06</td>\n",
              "      <td>2.480231e+06</td>\n",
              "      <td>2.480231e+06</td>\n",
              "      <td>2.480230e+06</td>\n",
              "      <td>2.480230e+06</td>\n",
              "      <td>2.480230e+06</td>\n",
              "      <td>2.480230e+06</td>\n",
              "    </tr>\n",
              "    <tr>\n",
              "      <th>mean</th>\n",
              "      <td>2.540159e+00</td>\n",
              "      <td>9.410875e+04</td>\n",
              "      <td>1.562290e+00</td>\n",
              "      <td>1.026149e+01</td>\n",
              "      <td>3.380052e+01</td>\n",
              "      <td>7.007024e+00</td>\n",
              "      <td>1.199972e+00</td>\n",
              "      <td>1.880666e+00</td>\n",
              "      <td>8.350172e+04</td>\n",
              "      <td>1.865149e+04</td>\n",
              "      <td>6.459092e+04</td>\n",
              "      <td>1.101057e+01</td>\n",
              "    </tr>\n",
              "    <tr>\n",
              "      <th>std</th>\n",
              "      <td>1.119702e+00</td>\n",
              "      <td>5.429375e+04</td>\n",
              "      <td>4.961049e-01</td>\n",
              "      <td>4.951917e+00</td>\n",
              "      <td>1.271933e+01</td>\n",
              "      <td>6.124248e+00</td>\n",
              "      <td>2.119835e+00</td>\n",
              "      <td>5.548667e+00</td>\n",
              "      <td>6.235350e+05</td>\n",
              "      <td>9.286547e+04</td>\n",
              "      <td>5.506159e+05</td>\n",
              "      <td>2.259906e+01</td>\n",
              "    </tr>\n",
              "    <tr>\n",
              "      <th>min</th>\n",
              "      <td>1.000000e+00</td>\n",
              "      <td>1.000000e+00</td>\n",
              "      <td>1.000000e+00</td>\n",
              "      <td>1.000000e+00</td>\n",
              "      <td>1.100000e+01</td>\n",
              "      <td>0.000000e+00</td>\n",
              "      <td>0.000000e+00</td>\n",
              "      <td>0.000000e+00</td>\n",
              "      <td>1.000000e+01</td>\n",
              "      <td>0.000000e+00</td>\n",
              "      <td>0.000000e+00</td>\n",
              "      <td>0.000000e+00</td>\n",
              "    </tr>\n",
              "    <tr>\n",
              "      <th>25%</th>\n",
              "      <td>2.000000e+00</td>\n",
              "      <td>4.719600e+04</td>\n",
              "      <td>1.000000e+00</td>\n",
              "      <td>7.000000e+00</td>\n",
              "      <td>2.700000e+01</td>\n",
              "      <td>1.000000e+00</td>\n",
              "      <td>1.000000e+00</td>\n",
              "      <td>1.000000e+00</td>\n",
              "      <td>1.329000e+04</td>\n",
              "      <td>2.900000e+03</td>\n",
              "      <td>9.710000e+03</td>\n",
              "      <td>0.000000e+00</td>\n",
              "    </tr>\n",
              "    <tr>\n",
              "      <th>50%</th>\n",
              "      <td>3.000000e+00</td>\n",
              "      <td>9.402900e+04</td>\n",
              "      <td>2.000000e+00</td>\n",
              "      <td>1.100000e+01</td>\n",
              "      <td>4.100000e+01</td>\n",
              "      <td>5.000000e+00</td>\n",
              "      <td>1.000000e+00</td>\n",
              "      <td>1.000000e+00</td>\n",
              "      <td>1.735000e+04</td>\n",
              "      <td>4.700000e+03</td>\n",
              "      <td>1.273000e+04</td>\n",
              "      <td>3.000000e+00</td>\n",
              "    </tr>\n",
              "    <tr>\n",
              "      <th>75%</th>\n",
              "      <td>4.000000e+00</td>\n",
              "      <td>1.411640e+05</td>\n",
              "      <td>2.000000e+00</td>\n",
              "      <td>1.400000e+01</td>\n",
              "      <td>4.400000e+01</td>\n",
              "      <td>1.200000e+01</td>\n",
              "      <td>1.000000e+00</td>\n",
              "      <td>1.000000e+00</td>\n",
              "      <td>3.108000e+04</td>\n",
              "      <td>9.700000e+03</td>\n",
              "      <td>2.079000e+04</td>\n",
              "      <td>7.000000e+00</td>\n",
              "    </tr>\n",
              "    <tr>\n",
              "      <th>max</th>\n",
              "      <td>4.000000e+00</td>\n",
              "      <td>1.880130e+05</td>\n",
              "      <td>2.000000e+00</td>\n",
              "      <td>1.800000e+01</td>\n",
              "      <td>4.900000e+01</td>\n",
              "      <td>8.600000e+01</td>\n",
              "      <td>1.410000e+02</td>\n",
              "      <td>3.600000e+02</td>\n",
              "      <td>1.287630e+08</td>\n",
              "      <td>2.599545e+07</td>\n",
              "      <td>1.134230e+08</td>\n",
              "      <td>7.600000e+02</td>\n",
              "    </tr>\n",
              "  </tbody>\n",
              "</table>\n",
              "</div>\n",
              "      <button class=\"colab-df-convert\" onclick=\"convertToInteractive('df-82214cfd-eacd-4592-956b-456338e773c9')\"\n",
              "              title=\"Convert this dataframe to an interactive table.\"\n",
              "              style=\"display:none;\">\n",
              "        \n",
              "  <svg xmlns=\"http://www.w3.org/2000/svg\" height=\"24px\"viewBox=\"0 0 24 24\"\n",
              "       width=\"24px\">\n",
              "    <path d=\"M0 0h24v24H0V0z\" fill=\"none\"/>\n",
              "    <path d=\"M18.56 5.44l.94 2.06.94-2.06 2.06-.94-2.06-.94-.94-2.06-.94 2.06-2.06.94zm-11 1L8.5 8.5l.94-2.06 2.06-.94-2.06-.94L8.5 2.5l-.94 2.06-2.06.94zm10 10l.94 2.06.94-2.06 2.06-.94-2.06-.94-.94-2.06-.94 2.06-2.06.94z\"/><path d=\"M17.41 7.96l-1.37-1.37c-.4-.4-.92-.59-1.43-.59-.52 0-1.04.2-1.43.59L10.3 9.45l-7.72 7.72c-.78.78-.78 2.05 0 2.83L4 21.41c.39.39.9.59 1.41.59.51 0 1.02-.2 1.41-.59l7.78-7.78 2.81-2.81c.8-.78.8-2.07 0-2.86zM5.41 20L4 18.59l7.72-7.72 1.47 1.35L5.41 20z\"/>\n",
              "  </svg>\n",
              "      </button>\n",
              "      \n",
              "  <style>\n",
              "    .colab-df-container {\n",
              "      display:flex;\n",
              "      flex-wrap:wrap;\n",
              "      gap: 12px;\n",
              "    }\n",
              "\n",
              "    .colab-df-convert {\n",
              "      background-color: #E8F0FE;\n",
              "      border: none;\n",
              "      border-radius: 50%;\n",
              "      cursor: pointer;\n",
              "      display: none;\n",
              "      fill: #1967D2;\n",
              "      height: 32px;\n",
              "      padding: 0 0 0 0;\n",
              "      width: 32px;\n",
              "    }\n",
              "\n",
              "    .colab-df-convert:hover {\n",
              "      background-color: #E2EBFA;\n",
              "      box-shadow: 0px 1px 2px rgba(60, 64, 67, 0.3), 0px 1px 3px 1px rgba(60, 64, 67, 0.15);\n",
              "      fill: #174EA6;\n",
              "    }\n",
              "\n",
              "    [theme=dark] .colab-df-convert {\n",
              "      background-color: #3B4455;\n",
              "      fill: #D2E3FC;\n",
              "    }\n",
              "\n",
              "    [theme=dark] .colab-df-convert:hover {\n",
              "      background-color: #434B5C;\n",
              "      box-shadow: 0px 1px 3px 1px rgba(0, 0, 0, 0.15);\n",
              "      filter: drop-shadow(0px 1px 2px rgba(0, 0, 0, 0.3));\n",
              "      fill: #FFFFFF;\n",
              "    }\n",
              "  </style>\n",
              "\n",
              "      <script>\n",
              "        const buttonEl =\n",
              "          document.querySelector('#df-82214cfd-eacd-4592-956b-456338e773c9 button.colab-df-convert');\n",
              "        buttonEl.style.display =\n",
              "          google.colab.kernel.accessAllowed ? 'block' : 'none';\n",
              "\n",
              "        async function convertToInteractive(key) {\n",
              "          const element = document.querySelector('#df-82214cfd-eacd-4592-956b-456338e773c9');\n",
              "          const dataTable =\n",
              "            await google.colab.kernel.invokeFunction('convertToInteractive',\n",
              "                                                     [key], {});\n",
              "          if (!dataTable) return;\n",
              "\n",
              "          const docLinkHtml = 'Like what you see? Visit the ' +\n",
              "            '<a target=\"_blank\" href=https://colab.research.google.com/notebooks/data_table.ipynb>data table notebook</a>'\n",
              "            + ' to learn more about interactive tables.';\n",
              "          element.innerHTML = '';\n",
              "          dataTable['output_type'] = 'display_data';\n",
              "          await google.colab.output.renderOutput(dataTable, element);\n",
              "          const docLink = document.createElement('div');\n",
              "          docLink.innerHTML = docLinkHtml;\n",
              "          element.appendChild(docLink);\n",
              "        }\n",
              "      </script>\n",
              "    </div>\n",
              "  </div>\n",
              "  "
            ]
          },
          "metadata": {},
          "execution_count": 17
        }
      ]
    },
    {
      "cell_type": "code",
      "source": [
        "df.isna().sum()"
      ],
      "metadata": {
        "colab": {
          "base_uri": "https://localhost:8080/"
        },
        "id": "DNcstXVZx4In",
        "outputId": "3611ccdc-51e6-4fed-da02-c6067a9b56ab"
      },
      "execution_count": null,
      "outputs": [
        {
          "output_type": "execute_result",
          "data": {
            "text/plain": [
              "분기            0\n",
              "가입자 일련번호      0\n",
              "성별코드          0\n",
              "연령대코드         0\n",
              "시도코드          0\n",
              "진료과목코드        0\n",
              "주상병코드         0\n",
              "부상병코드         0\n",
              "요양일수          0\n",
              "입내원일수         0\n",
              "심결요양급여비용총액    0\n",
              "심결본인부담금       0\n",
              "심결보험자부담금      0\n",
              "총처방일수         0\n",
              "dtype: int64"
            ]
          },
          "metadata": {},
          "execution_count": 25
        }
      ]
    },
    {
      "cell_type": "code",
      "source": [
        "df['시도코드']"
      ],
      "metadata": {
        "colab": {
          "base_uri": "https://localhost:8080/"
        },
        "id": "bBaaqkz70Prf",
        "outputId": "e784f56a-ebe5-48d4-842d-8eede721c501"
      },
      "execution_count": null,
      "outputs": [
        {
          "output_type": "execute_result",
          "data": {
            "text/plain": [
              "0           46\n",
              "1           46\n",
              "2           46\n",
              "3           46\n",
              "4           46\n",
              "            ..\n",
              "13178340    47\n",
              "13178341    47\n",
              "13178342    47\n",
              "13178343    47\n",
              "13178344    47\n",
              "Name: 시도코드, Length: 13178345, dtype: int64"
            ]
          },
          "metadata": {},
          "execution_count": 27
        }
      ]
    },
    {
      "cell_type": "markdown",
      "source": [
        "A,B,C,D,I,J,O,P,Q,R,S,T,U,W"
      ],
      "metadata": {
        "id": "MmGMsS6TUupj"
      }
    },
    {
      "cell_type": "code",
      "source": [
        "dlist = ['A16', 'B59', 'C34', 'C37', 'C38', 'C39', 'C45', 'C78', 'D15', 'I27', 'J09', 'J10',\n",
        "'J11', 'J12', 'J13', 'J14', 'J15', 'J16', 'J17', 'J18', 'J20', 'J21', 'J22', 'J40',\n",
        "'J41', 'J42', 'J43', 'J44', 'J45', 'J46', 'J47', 'J60', 'J61', 'J62', 'J63', 'J64',\n",
        "'J65', 'J66', 'J67', 'J68', 'J69', 'J70', 'J80', 'J81', 'J82', 'J84', 'J85', 'J86',\n",
        "'J90', 'J91', 'J92', 'J93', 'J94', 'J95', 'J96', 'J98', 'J99', 'O88', 'P23', 'P24',\n",
        "'P25', 'P26', 'P27', 'P28', 'Q32', 'Q33', 'Q34', 'R04', 'R05', 'R06', 'R07', 'R09',\n",
        "'R52', 'R84', 'R91', 'S22', 'S23', 'S24', 'S25', 'S27', 'S28', 'S29', 'T21', 'T27',\n",
        "'U04', 'U69', 'U70', 'W78', 'W80', 'W83', 'W84']\n",
        "search = df[df['주상병코드'].isin(dlist)]\n",
        "search"
      ],
      "metadata": {
        "id": "1rXaj6OdOLe3"
      },
      "execution_count": null,
      "outputs": []
    },
    {
      "cell_type": "code",
      "source": [
        "dlist = ['B59', 'C34', 'C37', 'C38', 'C39', 'C45', 'C78', 'D15', 'I27',\n",
        "'J12', 'J15', 'J16', 'J17', 'J18', 'J20', 'J21', 'J22', 'J40',\n",
        "'J41', 'J42', 'J43', 'J44', 'J45', 'J46', 'J47', 'J60', 'J61', 'J62', 'J63', 'J64',\n",
        "'J65', 'J67', 'J68', 'J69', 'J70', 'J80', 'J81', 'J82', 'J84', 'J85', 'J86',\n",
        "'J90', 'J91', 'J92', 'J93', 'J94', 'J95', 'J96', 'J98', 'J99', 'P23', 'P24',\n",
        "'P25', 'P27', 'P28', 'R04', 'R05', 'R06', 'R07', 'R09',\n",
        "'R52', 'R84', 'R91', 'S22', 'S23', 'S24', 'S25', 'S27', 'S28', 'S29', 'T21', 'T27',\n",
        "'U69']\n",
        "search = df[df['주상병코드'].isin(dlist)]\n",
        "search"
      ],
      "metadata": {
        "colab": {
          "base_uri": "https://localhost:8080/",
          "height": 468
        },
        "id": "j8nnoomikkUw",
        "outputId": "999bd10b-5ac3-4913-e9ed-60067f481a8f"
      },
      "execution_count": 48,
      "outputs": [
        {
          "output_type": "execute_result",
          "data": {
            "text/plain": [
              "          분기  가입자 일련번호  성별코드  연령대코드  시도코드  진료과목코드 주상병코드 부상병코드  요양일수  입내원일수  \\\n",
              "60         1         5     2      7    11       1   J20   J02     1      1   \n",
              "64         4         5     2      7    11       1   J20   J01     1      1   \n",
              "71         3         5     2      7    11       1   J20   J02     1      1   \n",
              "73         1         6     1     13    26       1   J40   J30     1      1   \n",
              "76         1         6     1     13    26       1   J40   J30     1      1   \n",
              "...       ..       ...   ...    ...   ...     ...   ...   ...   ...    ...   \n",
              "13178258   1    999993     2     14    44      13   J20   J21     1      1   \n",
              "13178313   2    999998     1      4    47      23   J20   J00     1      1   \n",
              "13178315   1    999998     1      4    47      13   J20   J03     1      1   \n",
              "13178326   4    999999     1      3    11       1   J20   K59     1      2   \n",
              "13178341   4   1000000     2      1    47      11   J20   J00     1      1   \n",
              "\n",
              "          심결요양급여비용총액  심결본인부담금  심결보험자부담금  총처방일수  \n",
              "60           15690.0   4700.0   10990.0      3  \n",
              "64           17650.0   5200.0   12450.0      3  \n",
              "71           15700.0   4700.0   11000.0      5  \n",
              "73           13730.0   5400.0    8330.0      3  \n",
              "76           22760.0   9100.0   13660.0      4  \n",
              "...              ...      ...       ...    ...  \n",
              "13178258     18240.0    900.0   17340.0      3  \n",
              "13178313     13670.0   4100.0    9570.0      3  \n",
              "13178315     17620.0   5200.0   12420.0      3  \n",
              "13178326     13680.0   4100.0    9580.0      2  \n",
              "13178341     17620.0   1700.0   15920.0      3  \n",
              "\n",
              "[1690005 rows x 14 columns]"
            ],
            "text/html": [
              "\n",
              "  <div id=\"df-d4e8a95f-9c79-4f1c-bd23-ed7cd1dec318\">\n",
              "    <div class=\"colab-df-container\">\n",
              "      <div>\n",
              "<style scoped>\n",
              "    .dataframe tbody tr th:only-of-type {\n",
              "        vertical-align: middle;\n",
              "    }\n",
              "\n",
              "    .dataframe tbody tr th {\n",
              "        vertical-align: top;\n",
              "    }\n",
              "\n",
              "    .dataframe thead th {\n",
              "        text-align: right;\n",
              "    }\n",
              "</style>\n",
              "<table border=\"1\" class=\"dataframe\">\n",
              "  <thead>\n",
              "    <tr style=\"text-align: right;\">\n",
              "      <th></th>\n",
              "      <th>분기</th>\n",
              "      <th>가입자 일련번호</th>\n",
              "      <th>성별코드</th>\n",
              "      <th>연령대코드</th>\n",
              "      <th>시도코드</th>\n",
              "      <th>진료과목코드</th>\n",
              "      <th>주상병코드</th>\n",
              "      <th>부상병코드</th>\n",
              "      <th>요양일수</th>\n",
              "      <th>입내원일수</th>\n",
              "      <th>심결요양급여비용총액</th>\n",
              "      <th>심결본인부담금</th>\n",
              "      <th>심결보험자부담금</th>\n",
              "      <th>총처방일수</th>\n",
              "    </tr>\n",
              "  </thead>\n",
              "  <tbody>\n",
              "    <tr>\n",
              "      <th>60</th>\n",
              "      <td>1</td>\n",
              "      <td>5</td>\n",
              "      <td>2</td>\n",
              "      <td>7</td>\n",
              "      <td>11</td>\n",
              "      <td>1</td>\n",
              "      <td>J20</td>\n",
              "      <td>J02</td>\n",
              "      <td>1</td>\n",
              "      <td>1</td>\n",
              "      <td>15690.0</td>\n",
              "      <td>4700.0</td>\n",
              "      <td>10990.0</td>\n",
              "      <td>3</td>\n",
              "    </tr>\n",
              "    <tr>\n",
              "      <th>64</th>\n",
              "      <td>4</td>\n",
              "      <td>5</td>\n",
              "      <td>2</td>\n",
              "      <td>7</td>\n",
              "      <td>11</td>\n",
              "      <td>1</td>\n",
              "      <td>J20</td>\n",
              "      <td>J01</td>\n",
              "      <td>1</td>\n",
              "      <td>1</td>\n",
              "      <td>17650.0</td>\n",
              "      <td>5200.0</td>\n",
              "      <td>12450.0</td>\n",
              "      <td>3</td>\n",
              "    </tr>\n",
              "    <tr>\n",
              "      <th>71</th>\n",
              "      <td>3</td>\n",
              "      <td>5</td>\n",
              "      <td>2</td>\n",
              "      <td>7</td>\n",
              "      <td>11</td>\n",
              "      <td>1</td>\n",
              "      <td>J20</td>\n",
              "      <td>J02</td>\n",
              "      <td>1</td>\n",
              "      <td>1</td>\n",
              "      <td>15700.0</td>\n",
              "      <td>4700.0</td>\n",
              "      <td>11000.0</td>\n",
              "      <td>5</td>\n",
              "    </tr>\n",
              "    <tr>\n",
              "      <th>73</th>\n",
              "      <td>1</td>\n",
              "      <td>6</td>\n",
              "      <td>1</td>\n",
              "      <td>13</td>\n",
              "      <td>26</td>\n",
              "      <td>1</td>\n",
              "      <td>J40</td>\n",
              "      <td>J30</td>\n",
              "      <td>1</td>\n",
              "      <td>1</td>\n",
              "      <td>13730.0</td>\n",
              "      <td>5400.0</td>\n",
              "      <td>8330.0</td>\n",
              "      <td>3</td>\n",
              "    </tr>\n",
              "    <tr>\n",
              "      <th>76</th>\n",
              "      <td>1</td>\n",
              "      <td>6</td>\n",
              "      <td>1</td>\n",
              "      <td>13</td>\n",
              "      <td>26</td>\n",
              "      <td>1</td>\n",
              "      <td>J40</td>\n",
              "      <td>J30</td>\n",
              "      <td>1</td>\n",
              "      <td>1</td>\n",
              "      <td>22760.0</td>\n",
              "      <td>9100.0</td>\n",
              "      <td>13660.0</td>\n",
              "      <td>4</td>\n",
              "    </tr>\n",
              "    <tr>\n",
              "      <th>...</th>\n",
              "      <td>...</td>\n",
              "      <td>...</td>\n",
              "      <td>...</td>\n",
              "      <td>...</td>\n",
              "      <td>...</td>\n",
              "      <td>...</td>\n",
              "      <td>...</td>\n",
              "      <td>...</td>\n",
              "      <td>...</td>\n",
              "      <td>...</td>\n",
              "      <td>...</td>\n",
              "      <td>...</td>\n",
              "      <td>...</td>\n",
              "      <td>...</td>\n",
              "    </tr>\n",
              "    <tr>\n",
              "      <th>13178258</th>\n",
              "      <td>1</td>\n",
              "      <td>999993</td>\n",
              "      <td>2</td>\n",
              "      <td>14</td>\n",
              "      <td>44</td>\n",
              "      <td>13</td>\n",
              "      <td>J20</td>\n",
              "      <td>J21</td>\n",
              "      <td>1</td>\n",
              "      <td>1</td>\n",
              "      <td>18240.0</td>\n",
              "      <td>900.0</td>\n",
              "      <td>17340.0</td>\n",
              "      <td>3</td>\n",
              "    </tr>\n",
              "    <tr>\n",
              "      <th>13178313</th>\n",
              "      <td>2</td>\n",
              "      <td>999998</td>\n",
              "      <td>1</td>\n",
              "      <td>4</td>\n",
              "      <td>47</td>\n",
              "      <td>23</td>\n",
              "      <td>J20</td>\n",
              "      <td>J00</td>\n",
              "      <td>1</td>\n",
              "      <td>1</td>\n",
              "      <td>13670.0</td>\n",
              "      <td>4100.0</td>\n",
              "      <td>9570.0</td>\n",
              "      <td>3</td>\n",
              "    </tr>\n",
              "    <tr>\n",
              "      <th>13178315</th>\n",
              "      <td>1</td>\n",
              "      <td>999998</td>\n",
              "      <td>1</td>\n",
              "      <td>4</td>\n",
              "      <td>47</td>\n",
              "      <td>13</td>\n",
              "      <td>J20</td>\n",
              "      <td>J03</td>\n",
              "      <td>1</td>\n",
              "      <td>1</td>\n",
              "      <td>17620.0</td>\n",
              "      <td>5200.0</td>\n",
              "      <td>12420.0</td>\n",
              "      <td>3</td>\n",
              "    </tr>\n",
              "    <tr>\n",
              "      <th>13178326</th>\n",
              "      <td>4</td>\n",
              "      <td>999999</td>\n",
              "      <td>1</td>\n",
              "      <td>3</td>\n",
              "      <td>11</td>\n",
              "      <td>1</td>\n",
              "      <td>J20</td>\n",
              "      <td>K59</td>\n",
              "      <td>1</td>\n",
              "      <td>2</td>\n",
              "      <td>13680.0</td>\n",
              "      <td>4100.0</td>\n",
              "      <td>9580.0</td>\n",
              "      <td>2</td>\n",
              "    </tr>\n",
              "    <tr>\n",
              "      <th>13178341</th>\n",
              "      <td>4</td>\n",
              "      <td>1000000</td>\n",
              "      <td>2</td>\n",
              "      <td>1</td>\n",
              "      <td>47</td>\n",
              "      <td>11</td>\n",
              "      <td>J20</td>\n",
              "      <td>J00</td>\n",
              "      <td>1</td>\n",
              "      <td>1</td>\n",
              "      <td>17620.0</td>\n",
              "      <td>1700.0</td>\n",
              "      <td>15920.0</td>\n",
              "      <td>3</td>\n",
              "    </tr>\n",
              "  </tbody>\n",
              "</table>\n",
              "<p>1690005 rows × 14 columns</p>\n",
              "</div>\n",
              "      <button class=\"colab-df-convert\" onclick=\"convertToInteractive('df-d4e8a95f-9c79-4f1c-bd23-ed7cd1dec318')\"\n",
              "              title=\"Convert this dataframe to an interactive table.\"\n",
              "              style=\"display:none;\">\n",
              "        \n",
              "  <svg xmlns=\"http://www.w3.org/2000/svg\" height=\"24px\"viewBox=\"0 0 24 24\"\n",
              "       width=\"24px\">\n",
              "    <path d=\"M0 0h24v24H0V0z\" fill=\"none\"/>\n",
              "    <path d=\"M18.56 5.44l.94 2.06.94-2.06 2.06-.94-2.06-.94-.94-2.06-.94 2.06-2.06.94zm-11 1L8.5 8.5l.94-2.06 2.06-.94-2.06-.94L8.5 2.5l-.94 2.06-2.06.94zm10 10l.94 2.06.94-2.06 2.06-.94-2.06-.94-.94-2.06-.94 2.06-2.06.94z\"/><path d=\"M17.41 7.96l-1.37-1.37c-.4-.4-.92-.59-1.43-.59-.52 0-1.04.2-1.43.59L10.3 9.45l-7.72 7.72c-.78.78-.78 2.05 0 2.83L4 21.41c.39.39.9.59 1.41.59.51 0 1.02-.2 1.41-.59l7.78-7.78 2.81-2.81c.8-.78.8-2.07 0-2.86zM5.41 20L4 18.59l7.72-7.72 1.47 1.35L5.41 20z\"/>\n",
              "  </svg>\n",
              "      </button>\n",
              "      \n",
              "  <style>\n",
              "    .colab-df-container {\n",
              "      display:flex;\n",
              "      flex-wrap:wrap;\n",
              "      gap: 12px;\n",
              "    }\n",
              "\n",
              "    .colab-df-convert {\n",
              "      background-color: #E8F0FE;\n",
              "      border: none;\n",
              "      border-radius: 50%;\n",
              "      cursor: pointer;\n",
              "      display: none;\n",
              "      fill: #1967D2;\n",
              "      height: 32px;\n",
              "      padding: 0 0 0 0;\n",
              "      width: 32px;\n",
              "    }\n",
              "\n",
              "    .colab-df-convert:hover {\n",
              "      background-color: #E2EBFA;\n",
              "      box-shadow: 0px 1px 2px rgba(60, 64, 67, 0.3), 0px 1px 3px 1px rgba(60, 64, 67, 0.15);\n",
              "      fill: #174EA6;\n",
              "    }\n",
              "\n",
              "    [theme=dark] .colab-df-convert {\n",
              "      background-color: #3B4455;\n",
              "      fill: #D2E3FC;\n",
              "    }\n",
              "\n",
              "    [theme=dark] .colab-df-convert:hover {\n",
              "      background-color: #434B5C;\n",
              "      box-shadow: 0px 1px 3px 1px rgba(0, 0, 0, 0.15);\n",
              "      filter: drop-shadow(0px 1px 2px rgba(0, 0, 0, 0.3));\n",
              "      fill: #FFFFFF;\n",
              "    }\n",
              "  </style>\n",
              "\n",
              "      <script>\n",
              "        const buttonEl =\n",
              "          document.querySelector('#df-d4e8a95f-9c79-4f1c-bd23-ed7cd1dec318 button.colab-df-convert');\n",
              "        buttonEl.style.display =\n",
              "          google.colab.kernel.accessAllowed ? 'block' : 'none';\n",
              "\n",
              "        async function convertToInteractive(key) {\n",
              "          const element = document.querySelector('#df-d4e8a95f-9c79-4f1c-bd23-ed7cd1dec318');\n",
              "          const dataTable =\n",
              "            await google.colab.kernel.invokeFunction('convertToInteractive',\n",
              "                                                     [key], {});\n",
              "          if (!dataTable) return;\n",
              "\n",
              "          const docLinkHtml = 'Like what you see? Visit the ' +\n",
              "            '<a target=\"_blank\" href=https://colab.research.google.com/notebooks/data_table.ipynb>data table notebook</a>'\n",
              "            + ' to learn more about interactive tables.';\n",
              "          element.innerHTML = '';\n",
              "          dataTable['output_type'] = 'display_data';\n",
              "          await google.colab.output.renderOutput(dataTable, element);\n",
              "          const docLink = document.createElement('div');\n",
              "          docLink.innerHTML = docLinkHtml;\n",
              "          element.appendChild(docLink);\n",
              "        }\n",
              "      </script>\n",
              "    </div>\n",
              "  </div>\n",
              "  "
            ]
          },
          "metadata": {},
          "execution_count": 48
        }
      ]
    },
    {
      "cell_type": "code",
      "source": [
        "search['주상병코드'] = search.주상병코드.str.replace(r'(^.*J.*$)', 'J')"
      ],
      "metadata": {
        "colab": {
          "base_uri": "https://localhost:8080/"
        },
        "id": "xxH-HNRV5c_a",
        "outputId": "4b9a0d9e-92b2-4f07-b8b5-5b20a55c1a4b"
      },
      "execution_count": 49,
      "outputs": [
        {
          "output_type": "stream",
          "name": "stderr",
          "text": [
            "/usr/local/lib/python3.7/dist-packages/ipykernel_launcher.py:1: FutureWarning: The default value of regex will change from True to False in a future version.\n",
            "  \"\"\"Entry point for launching an IPython kernel.\n",
            "/usr/local/lib/python3.7/dist-packages/ipykernel_launcher.py:1: SettingWithCopyWarning: \n",
            "A value is trying to be set on a copy of a slice from a DataFrame.\n",
            "Try using .loc[row_indexer,col_indexer] = value instead\n",
            "\n",
            "See the caveats in the documentation: https://pandas.pydata.org/pandas-docs/stable/user_guide/indexing.html#returning-a-view-versus-a-copy\n",
            "  \"\"\"Entry point for launching an IPython kernel.\n"
          ]
        }
      ]
    },
    {
      "cell_type": "code",
      "source": [
        "search['주상병코드'] = search.주상병코드.str.replace(r'(^.*B.*$)', 'B')\n",
        "search['주상병코드'] = search.주상병코드.str.replace(r'(^.*C.*$)', 'C')\n",
        "search['주상병코드'] = search.주상병코드.str.replace(r'(^.*D.*$)', 'D')\n",
        "search['주상병코드'] = search.주상병코드.str.replace(r'(^.*I.*$)', 'I')\n",
        "search['주상병코드'] = search.주상병코드.str.replace(r'(^.*P.*$)', 'P')\n",
        "search['주상병코드'] = search.주상병코드.str.replace(r'(^.*R.*$)', 'R')\n",
        "search['주상병코드'] = search.주상병코드.str.replace(r'(^.*S.*$)', 'S')\n",
        "search['주상병코드'] = search.주상병코드.str.replace(r'(^.*T.*$)', 'T')\n",
        "search['주상병코드'] = search.주상병코드.str.replace(r'(^.*U.*$)', 'U')"
      ],
      "metadata": {
        "id": "-y_7Yu4Z-nJH"
      },
      "execution_count": null,
      "outputs": []
    },
    {
      "cell_type": "code",
      "source": [
        "search"
      ],
      "metadata": {
        "colab": {
          "base_uri": "https://localhost:8080/",
          "height": 468
        },
        "id": "JdWpfRkE0Qch",
        "outputId": "41208548-acb7-4f7e-82a2-e8aba8cd4642"
      },
      "execution_count": 43,
      "outputs": [
        {
          "output_type": "execute_result",
          "data": {
            "text/plain": [
              "          분기  가입자 일련번호  성별코드  연령대코드  시도코드  진료과목코드 주상병코드 부상병코드  요양일수  입내원일수  \\\n",
              "60         1         5     2      7    11       1     J   J02     1      1   \n",
              "64         4         5     2      7    11       1     J   J01     1      1   \n",
              "71         3         5     2      7    11       1     J   J02     1      1   \n",
              "73         1         6     1     13    26       1     J   J30     1      1   \n",
              "76         1         6     1     13    26       1     J   J30     1      1   \n",
              "...       ..       ...   ...    ...   ...     ...   ...   ...   ...    ...   \n",
              "13178258   1    999993     2     14    44      13     J   J21     1      1   \n",
              "13178313   2    999998     1      4    47      23     J   J00     1      1   \n",
              "13178315   1    999998     1      4    47      13     J   J03     1      1   \n",
              "13178326   4    999999     1      3    11       1     J   K59     1      2   \n",
              "13178341   4   1000000     2      1    47      11     J   J00     1      1   \n",
              "\n",
              "          심결요양급여비용총액  심결본인부담금  심결보험자부담금  총처방일수  \n",
              "60           15690.0   4700.0   10990.0      3  \n",
              "64           17650.0   5200.0   12450.0      3  \n",
              "71           15700.0   4700.0   11000.0      5  \n",
              "73           13730.0   5400.0    8330.0      3  \n",
              "76           22760.0   9100.0   13660.0      4  \n",
              "...              ...      ...       ...    ...  \n",
              "13178258     18240.0    900.0   17340.0      3  \n",
              "13178313     13670.0   4100.0    9570.0      3  \n",
              "13178315     17620.0   5200.0   12420.0      3  \n",
              "13178326     13680.0   4100.0    9580.0      2  \n",
              "13178341     17620.0   1700.0   15920.0      3  \n",
              "\n",
              "[1690005 rows x 14 columns]"
            ],
            "text/html": [
              "\n",
              "  <div id=\"df-f202e827-6279-4127-bafd-7ecbf7226cd5\">\n",
              "    <div class=\"colab-df-container\">\n",
              "      <div>\n",
              "<style scoped>\n",
              "    .dataframe tbody tr th:only-of-type {\n",
              "        vertical-align: middle;\n",
              "    }\n",
              "\n",
              "    .dataframe tbody tr th {\n",
              "        vertical-align: top;\n",
              "    }\n",
              "\n",
              "    .dataframe thead th {\n",
              "        text-align: right;\n",
              "    }\n",
              "</style>\n",
              "<table border=\"1\" class=\"dataframe\">\n",
              "  <thead>\n",
              "    <tr style=\"text-align: right;\">\n",
              "      <th></th>\n",
              "      <th>분기</th>\n",
              "      <th>가입자 일련번호</th>\n",
              "      <th>성별코드</th>\n",
              "      <th>연령대코드</th>\n",
              "      <th>시도코드</th>\n",
              "      <th>진료과목코드</th>\n",
              "      <th>주상병코드</th>\n",
              "      <th>부상병코드</th>\n",
              "      <th>요양일수</th>\n",
              "      <th>입내원일수</th>\n",
              "      <th>심결요양급여비용총액</th>\n",
              "      <th>심결본인부담금</th>\n",
              "      <th>심결보험자부담금</th>\n",
              "      <th>총처방일수</th>\n",
              "    </tr>\n",
              "  </thead>\n",
              "  <tbody>\n",
              "    <tr>\n",
              "      <th>60</th>\n",
              "      <td>1</td>\n",
              "      <td>5</td>\n",
              "      <td>2</td>\n",
              "      <td>7</td>\n",
              "      <td>11</td>\n",
              "      <td>1</td>\n",
              "      <td>J</td>\n",
              "      <td>J02</td>\n",
              "      <td>1</td>\n",
              "      <td>1</td>\n",
              "      <td>15690.0</td>\n",
              "      <td>4700.0</td>\n",
              "      <td>10990.0</td>\n",
              "      <td>3</td>\n",
              "    </tr>\n",
              "    <tr>\n",
              "      <th>64</th>\n",
              "      <td>4</td>\n",
              "      <td>5</td>\n",
              "      <td>2</td>\n",
              "      <td>7</td>\n",
              "      <td>11</td>\n",
              "      <td>1</td>\n",
              "      <td>J</td>\n",
              "      <td>J01</td>\n",
              "      <td>1</td>\n",
              "      <td>1</td>\n",
              "      <td>17650.0</td>\n",
              "      <td>5200.0</td>\n",
              "      <td>12450.0</td>\n",
              "      <td>3</td>\n",
              "    </tr>\n",
              "    <tr>\n",
              "      <th>71</th>\n",
              "      <td>3</td>\n",
              "      <td>5</td>\n",
              "      <td>2</td>\n",
              "      <td>7</td>\n",
              "      <td>11</td>\n",
              "      <td>1</td>\n",
              "      <td>J</td>\n",
              "      <td>J02</td>\n",
              "      <td>1</td>\n",
              "      <td>1</td>\n",
              "      <td>15700.0</td>\n",
              "      <td>4700.0</td>\n",
              "      <td>11000.0</td>\n",
              "      <td>5</td>\n",
              "    </tr>\n",
              "    <tr>\n",
              "      <th>73</th>\n",
              "      <td>1</td>\n",
              "      <td>6</td>\n",
              "      <td>1</td>\n",
              "      <td>13</td>\n",
              "      <td>26</td>\n",
              "      <td>1</td>\n",
              "      <td>J</td>\n",
              "      <td>J30</td>\n",
              "      <td>1</td>\n",
              "      <td>1</td>\n",
              "      <td>13730.0</td>\n",
              "      <td>5400.0</td>\n",
              "      <td>8330.0</td>\n",
              "      <td>3</td>\n",
              "    </tr>\n",
              "    <tr>\n",
              "      <th>76</th>\n",
              "      <td>1</td>\n",
              "      <td>6</td>\n",
              "      <td>1</td>\n",
              "      <td>13</td>\n",
              "      <td>26</td>\n",
              "      <td>1</td>\n",
              "      <td>J</td>\n",
              "      <td>J30</td>\n",
              "      <td>1</td>\n",
              "      <td>1</td>\n",
              "      <td>22760.0</td>\n",
              "      <td>9100.0</td>\n",
              "      <td>13660.0</td>\n",
              "      <td>4</td>\n",
              "    </tr>\n",
              "    <tr>\n",
              "      <th>...</th>\n",
              "      <td>...</td>\n",
              "      <td>...</td>\n",
              "      <td>...</td>\n",
              "      <td>...</td>\n",
              "      <td>...</td>\n",
              "      <td>...</td>\n",
              "      <td>...</td>\n",
              "      <td>...</td>\n",
              "      <td>...</td>\n",
              "      <td>...</td>\n",
              "      <td>...</td>\n",
              "      <td>...</td>\n",
              "      <td>...</td>\n",
              "      <td>...</td>\n",
              "    </tr>\n",
              "    <tr>\n",
              "      <th>13178258</th>\n",
              "      <td>1</td>\n",
              "      <td>999993</td>\n",
              "      <td>2</td>\n",
              "      <td>14</td>\n",
              "      <td>44</td>\n",
              "      <td>13</td>\n",
              "      <td>J</td>\n",
              "      <td>J21</td>\n",
              "      <td>1</td>\n",
              "      <td>1</td>\n",
              "      <td>18240.0</td>\n",
              "      <td>900.0</td>\n",
              "      <td>17340.0</td>\n",
              "      <td>3</td>\n",
              "    </tr>\n",
              "    <tr>\n",
              "      <th>13178313</th>\n",
              "      <td>2</td>\n",
              "      <td>999998</td>\n",
              "      <td>1</td>\n",
              "      <td>4</td>\n",
              "      <td>47</td>\n",
              "      <td>23</td>\n",
              "      <td>J</td>\n",
              "      <td>J00</td>\n",
              "      <td>1</td>\n",
              "      <td>1</td>\n",
              "      <td>13670.0</td>\n",
              "      <td>4100.0</td>\n",
              "      <td>9570.0</td>\n",
              "      <td>3</td>\n",
              "    </tr>\n",
              "    <tr>\n",
              "      <th>13178315</th>\n",
              "      <td>1</td>\n",
              "      <td>999998</td>\n",
              "      <td>1</td>\n",
              "      <td>4</td>\n",
              "      <td>47</td>\n",
              "      <td>13</td>\n",
              "      <td>J</td>\n",
              "      <td>J03</td>\n",
              "      <td>1</td>\n",
              "      <td>1</td>\n",
              "      <td>17620.0</td>\n",
              "      <td>5200.0</td>\n",
              "      <td>12420.0</td>\n",
              "      <td>3</td>\n",
              "    </tr>\n",
              "    <tr>\n",
              "      <th>13178326</th>\n",
              "      <td>4</td>\n",
              "      <td>999999</td>\n",
              "      <td>1</td>\n",
              "      <td>3</td>\n",
              "      <td>11</td>\n",
              "      <td>1</td>\n",
              "      <td>J</td>\n",
              "      <td>K59</td>\n",
              "      <td>1</td>\n",
              "      <td>2</td>\n",
              "      <td>13680.0</td>\n",
              "      <td>4100.0</td>\n",
              "      <td>9580.0</td>\n",
              "      <td>2</td>\n",
              "    </tr>\n",
              "    <tr>\n",
              "      <th>13178341</th>\n",
              "      <td>4</td>\n",
              "      <td>1000000</td>\n",
              "      <td>2</td>\n",
              "      <td>1</td>\n",
              "      <td>47</td>\n",
              "      <td>11</td>\n",
              "      <td>J</td>\n",
              "      <td>J00</td>\n",
              "      <td>1</td>\n",
              "      <td>1</td>\n",
              "      <td>17620.0</td>\n",
              "      <td>1700.0</td>\n",
              "      <td>15920.0</td>\n",
              "      <td>3</td>\n",
              "    </tr>\n",
              "  </tbody>\n",
              "</table>\n",
              "<p>1690005 rows × 14 columns</p>\n",
              "</div>\n",
              "      <button class=\"colab-df-convert\" onclick=\"convertToInteractive('df-f202e827-6279-4127-bafd-7ecbf7226cd5')\"\n",
              "              title=\"Convert this dataframe to an interactive table.\"\n",
              "              style=\"display:none;\">\n",
              "        \n",
              "  <svg xmlns=\"http://www.w3.org/2000/svg\" height=\"24px\"viewBox=\"0 0 24 24\"\n",
              "       width=\"24px\">\n",
              "    <path d=\"M0 0h24v24H0V0z\" fill=\"none\"/>\n",
              "    <path d=\"M18.56 5.44l.94 2.06.94-2.06 2.06-.94-2.06-.94-.94-2.06-.94 2.06-2.06.94zm-11 1L8.5 8.5l.94-2.06 2.06-.94-2.06-.94L8.5 2.5l-.94 2.06-2.06.94zm10 10l.94 2.06.94-2.06 2.06-.94-2.06-.94-.94-2.06-.94 2.06-2.06.94z\"/><path d=\"M17.41 7.96l-1.37-1.37c-.4-.4-.92-.59-1.43-.59-.52 0-1.04.2-1.43.59L10.3 9.45l-7.72 7.72c-.78.78-.78 2.05 0 2.83L4 21.41c.39.39.9.59 1.41.59.51 0 1.02-.2 1.41-.59l7.78-7.78 2.81-2.81c.8-.78.8-2.07 0-2.86zM5.41 20L4 18.59l7.72-7.72 1.47 1.35L5.41 20z\"/>\n",
              "  </svg>\n",
              "      </button>\n",
              "      \n",
              "  <style>\n",
              "    .colab-df-container {\n",
              "      display:flex;\n",
              "      flex-wrap:wrap;\n",
              "      gap: 12px;\n",
              "    }\n",
              "\n",
              "    .colab-df-convert {\n",
              "      background-color: #E8F0FE;\n",
              "      border: none;\n",
              "      border-radius: 50%;\n",
              "      cursor: pointer;\n",
              "      display: none;\n",
              "      fill: #1967D2;\n",
              "      height: 32px;\n",
              "      padding: 0 0 0 0;\n",
              "      width: 32px;\n",
              "    }\n",
              "\n",
              "    .colab-df-convert:hover {\n",
              "      background-color: #E2EBFA;\n",
              "      box-shadow: 0px 1px 2px rgba(60, 64, 67, 0.3), 0px 1px 3px 1px rgba(60, 64, 67, 0.15);\n",
              "      fill: #174EA6;\n",
              "    }\n",
              "\n",
              "    [theme=dark] .colab-df-convert {\n",
              "      background-color: #3B4455;\n",
              "      fill: #D2E3FC;\n",
              "    }\n",
              "\n",
              "    [theme=dark] .colab-df-convert:hover {\n",
              "      background-color: #434B5C;\n",
              "      box-shadow: 0px 1px 3px 1px rgba(0, 0, 0, 0.15);\n",
              "      filter: drop-shadow(0px 1px 2px rgba(0, 0, 0, 0.3));\n",
              "      fill: #FFFFFF;\n",
              "    }\n",
              "  </style>\n",
              "\n",
              "      <script>\n",
              "        const buttonEl =\n",
              "          document.querySelector('#df-f202e827-6279-4127-bafd-7ecbf7226cd5 button.colab-df-convert');\n",
              "        buttonEl.style.display =\n",
              "          google.colab.kernel.accessAllowed ? 'block' : 'none';\n",
              "\n",
              "        async function convertToInteractive(key) {\n",
              "          const element = document.querySelector('#df-f202e827-6279-4127-bafd-7ecbf7226cd5');\n",
              "          const dataTable =\n",
              "            await google.colab.kernel.invokeFunction('convertToInteractive',\n",
              "                                                     [key], {});\n",
              "          if (!dataTable) return;\n",
              "\n",
              "          const docLinkHtml = 'Like what you see? Visit the ' +\n",
              "            '<a target=\"_blank\" href=https://colab.research.google.com/notebooks/data_table.ipynb>data table notebook</a>'\n",
              "            + ' to learn more about interactive tables.';\n",
              "          element.innerHTML = '';\n",
              "          dataTable['output_type'] = 'display_data';\n",
              "          await google.colab.output.renderOutput(dataTable, element);\n",
              "          const docLink = document.createElement('div');\n",
              "          docLink.innerHTML = docLinkHtml;\n",
              "          element.appendChild(docLink);\n",
              "        }\n",
              "      </script>\n",
              "    </div>\n",
              "  </div>\n",
              "  "
            ]
          },
          "metadata": {},
          "execution_count": 43
        }
      ]
    },
    {
      "cell_type": "markdown",
      "source": [
        ""
      ],
      "metadata": {
        "id": "7NIs6ap3KLW4"
      }
    },
    {
      "cell_type": "code",
      "source": [
        "sns.countplot(x='주상병코드',data=search)\n",
        "plt.title('환자')\n",
        "plt.show()"
      ],
      "metadata": {
        "colab": {
          "base_uri": "https://localhost:8080/",
          "height": 294
        },
        "id": "ycg1iiga_WGf",
        "outputId": "ec64bb3c-0bef-486c-fd09-edc36313bfdf"
      },
      "execution_count": 45,
      "outputs": [
        {
          "output_type": "display_data",
          "data": {
            "text/plain": [
              "<Figure size 432x288 with 1 Axes>"
            ],
            "image/png": "[encoded data removed]"
          },
          "metadata": {
            "needs_background": "light"
          }
        }
      ]
    },
    {
      "cell_type": "code",
      "source": [
        "plt.scatter(df.주상병코드,df.요양일수,marker='o')\n",
        "plt.plot([4,14],[5,10],'-r',lw=2)\n",
        "plt.show()"
      ],
      "metadata": {
        "colab": {
          "base_uri": "https://localhost:8080/",
          "height": 265
        },
        "id": "pBOM9jMOmjfa",
        "outputId": "75a74032-9a15-4e42-9d2a-b46059899511"
      },
      "execution_count": 44,
      "outputs": [
        {
          "output_type": "display_data",
          "data": {
            "text/plain": [
              "<Figure size 432x288 with 1 Axes>"
            ],
            "image/png": "[encoded data removed]"
          },
          "metadata": {
            "needs_background": "light"
          }
        }
      ]
    },
    {
      "cell_type": "code",
      "source": [
        "s=search['주상병코드'].value_counts()\n",
        "s"
      ],
      "metadata": {
        "colab": {
          "base_uri": "https://localhost:8080/"
        },
        "id": "LNr0501OvY5R",
        "outputId": "cdbb4d58-10e4-4a21-f364-244c8f8c914e"
      },
      "execution_count": 51,
      "outputs": [
        {
          "output_type": "execute_result",
          "data": {
            "text/plain": [
              "J    1561018\n",
              "R      67729\n",
              "S      39946\n",
              "C      18607\n",
              "T       1884\n",
              "I        379\n",
              "P        285\n",
              "D        120\n",
              "B         31\n",
              "U          6\n",
              "Name: 주상병코드, dtype: int64"
            ]
          },
          "metadata": {},
          "execution_count": 51
        }
      ]
    },
    {
      "cell_type": "code",
      "source": [
        "explode = [0.10, 0.10, 0.10, 0.10,0.10,0.10,0.10,0.10,0.10,0.10]\n",
        "s.plot.pie(autopct='%.1f%%',explode=explode)\n",
        "\n",
        "\n",
        "plt.title('호흡기 관련 질병 비율')\n",
        "#plt.legend(s.index,loc='best')\n",
        "plt.show()"
      ],
      "metadata": {
        "colab": {
          "base_uri": "https://localhost:8080/",
          "height": 263
        },
        "id": "APPzJqdkwC4k",
        "outputId": "841d8e8e-ccbc-4467-9185-42d09d797d97"
      },
      "execution_count": 87,
      "outputs": [
        {
          "output_type": "display_data",
          "data": {
            "text/plain": [
              "<Figure size 432x288 with 1 Axes>"
            ],
            "image/png": "[encoded data removed]"
          },
          "metadata": {}
        }
      ]
    },
    {
      "cell_type": "code",
      "source": [
        "s=search['주상병코드'].value_counts()\n",
        "plt.bar(s.index,s.values)\n",
        "plt.title('주상병코드 별 인원수')\n",
        "plt.show()"
      ],
      "metadata": {
        "colab": {
          "base_uri": "https://localhost:8080/",
          "height": 280
        },
        "id": "Ca9AIyktb8Fz",
        "outputId": "289b4957-4ed8-433f-a501-1c9f8f506e25"
      },
      "execution_count": 61,
      "outputs": [
        {
          "output_type": "display_data",
          "data": {
            "text/plain": [
              "<Figure size 432x288 with 1 Axes>"
            ],
            "image/png": "[encoded data removed]"
          },
          "metadata": {
            "needs_background": "light"
          }
        }
      ]
    },
    {
      "cell_type": "code",
      "source": [
        "sns.countplot(x='분기',hue='주상병코드',data=search)\n",
        "plt.title('분기별 환자수')\n",
        "plt.show()"
      ],
      "metadata": {
        "colab": {
          "base_uri": "https://localhost:8080/",
          "height": 294
        },
        "id": "_2Mw2FnFyVJ0",
        "outputId": "d413434e-599b-4cb9-f202-c90d8a3351c6"
      },
      "execution_count": 96,
      "outputs": [
        {
          "output_type": "display_data",
          "data": {
            "text/plain": [
              "<Figure size 432x288 with 1 Axes>"
            ],
            "image/png": "[encoded data removed]"
          },
          "metadata": {
            "needs_background": "light"
          }
        }
      ]
    },
    {
      "cell_type": "code",
      "source": [
        "sns.countplot(x='연령대코드',data=search)\n",
        "plt.title('연령대별 환자수')\n",
        "plt.show()"
      ],
      "metadata": {
        "colab": {
          "base_uri": "https://localhost:8080/",
          "height": 294
        },
        "id": "uLfa5jSGzVc3",
        "outputId": "e729d6fb-8076-4d74-89cb-65d08cab7652"
      },
      "execution_count": 101,
      "outputs": [
        {
          "output_type": "display_data",
          "data": {
            "text/plain": [
              "<Figure size 432x288 with 1 Axes>"
            ],
            "image/png": "[encoded data removed]"
          },
          "metadata": {
            "needs_background": "light"
          }
        }
      ]
    },
    {
      "cell_type": "code",
      "source": [
        "search2=search.groupby('주상병코드').mean()\n",
        "search2['요양일수']"
      ],
      "metadata": {
        "colab": {
          "base_uri": "https://localhost:8080/"
        },
        "id": "heJnS0FQbB9n",
        "outputId": "a359ebdd-084e-4dfc-bc63-870cb02949ec"
      },
      "execution_count": 58,
      "outputs": [
        {
          "output_type": "execute_result",
          "data": {
            "text/plain": [
              "주상병코드\n",
              "B    2.935484\n",
              "C    2.772129\n",
              "D    1.725000\n",
              "I    1.881266\n",
              "J    1.079702\n",
              "P    3.164912\n",
              "R    1.060580\n",
              "S    1.667025\n",
              "T    1.280255\n",
              "U    1.000000\n",
              "Name: 요양일수, dtype: float64"
            ]
          },
          "metadata": {},
          "execution_count": 58
        }
      ]
    },
    {
      "cell_type": "code",
      "source": [
        "search2['요양일수'].plot.bar(rot=360)\n",
        "plt.title('주상병코드 별 요양일수의 평균')\n",
        "plt.show()"
      ],
      "metadata": {
        "colab": {
          "base_uri": "https://localhost:8080/",
          "height": 294
        },
        "id": "7hxnY6r8bNW4",
        "outputId": "0dbc176f-bb40-4310-dabe-8dd4f36eebf5"
      },
      "execution_count": 59,
      "outputs": [
        {
          "output_type": "display_data",
          "data": {
            "text/plain": [
              "<Figure size 432x288 with 1 Axes>"
            ],
            "image/png": "[encoded data removed]"
          },
          "metadata": {
            "needs_background": "light"
          }
        }
      ]
    },
    {
      "cell_type": "code",
      "source": [
        "search2['입내원일수'].plot.bar(rot=360)\n",
        "plt.title('주상병코드 별 입내원일수의 평균')\n",
        "plt.show()\n"
      ],
      "metadata": {
        "colab": {
          "base_uri": "https://localhost:8080/",
          "height": 294
        },
        "id": "HaRjFmohbz9l",
        "outputId": "d4f43312-68e0-4c7d-dbe3-3fb3bfaca077"
      },
      "execution_count": 60,
      "outputs": [
        {
          "output_type": "display_data",
          "data": {
            "text/plain": [
              "<Figure size 432x288 with 1 Axes>"
            ],
            "image/png": "[encoded data removed]"
          },
          "metadata": {
            "needs_background": "light"
          }
        }
      ]
    },
    {
      "cell_type": "code",
      "source": [
        "search2=search.groupby('연령대코드').mean()\n",
        "search2['요양일수'].plot.bar(rot=360)\n",
        "plt.title('연령대 별 요양일수의 평균')\n",
        "plt.show()"
      ],
      "metadata": {
        "colab": {
          "base_uri": "https://localhost:8080/",
          "height": 294
        },
        "id": "tmeo24v20m63",
        "outputId": "45220b9d-cd12-4677-f92c-cb0e658a1462"
      },
      "execution_count": 100,
      "outputs": [
        {
          "output_type": "display_data",
          "data": {
            "text/plain": [
              "<Figure size 432x288 with 1 Axes>"
            ],
            "image/png": "[encoded data removed]"
          },
          "metadata": {
            "needs_background": "light"
          }
        }
      ]
    },
    {
      "cell_type": "code",
      "source": [
        "search2=search.groupby('연령대코드').mean()\n",
        "search2['입내원일수'].plot.bar(rot=360)\n",
        "plt.title('연령대 별 입내원일수의 평균')\n",
        "plt.show()"
      ],
      "metadata": {
        "colab": {
          "base_uri": "https://localhost:8080/",
          "height": 294
        },
        "id": "i1-2mbg90dBm",
        "outputId": "2e23ae29-0b83-4605-dbf2-ba7f2ee54ea1"
      },
      "execution_count": 99,
      "outputs": [
        {
          "output_type": "display_data",
          "data": {
            "text/plain": [
              "<Figure size 432x288 with 1 Axes>"
            ],
            "image/png": "[encoded data removed]"
          },
          "metadata": {
            "needs_background": "light"
          }
        }
      ]
    },
    {
      "cell_type": "code",
      "source": [
        "search3=search.groupby('성별코드').mean()\n",
        "search3['입내원일수'].plot.bar(rot=360)\n",
        "plt.title('성별 별 입내원일수의 평균')\n",
        "plt.show()"
      ],
      "metadata": {
        "colab": {
          "base_uri": "https://localhost:8080/",
          "height": 294
        },
        "id": "70WJxfKK299Z",
        "outputId": "e161ce13-c7c0-41d9-ea44-9162bb552e6a"
      },
      "execution_count": 102,
      "outputs": [
        {
          "output_type": "display_data",
          "data": {
            "text/plain": [
              "<Figure size 432x288 with 1 Axes>"
            ],
            "image/png": "[encoded data removed]"
          },
          "metadata": {
            "needs_background": "light"
          }
        }
      ]
    },
    {
      "cell_type": "code",
      "source": [
        "search3=search.groupby('성별코드').mean()\n",
        "search3['요양일수'].plot.bar(rot=360)\n",
        "plt.title('성별 별 입내원일수의 평균')\n",
        "plt.show()"
      ],
      "metadata": {
        "colab": {
          "base_uri": "https://localhost:8080/",
          "height": 294
        },
        "id": "eH2MxX_X3IWy",
        "outputId": "929aaa11-e515-4ea1-95e0-3f72dc993dfd"
      },
      "execution_count": 103,
      "outputs": [
        {
          "output_type": "display_data",
          "data": {
            "text/plain": [
              "<Figure size 432x288 with 1 Axes>"
            ],
            "image/png": "[encoded data removed]"
          },
          "metadata": {
            "needs_background": "light"
          }
        }
      ]
    },
    {
      "cell_type": "code",
      "source": [
        "search.plot()\n",
        "plt.xlabel('요양일수')\n",
        "plt.ylabel('입내원일수')\n",
        "plt.show()"
      ],
      "metadata": {
        "colab": {
          "base_uri": "https://localhost:8080/",
          "height": 289
        },
        "id": "ioTXb2jFciJI",
        "outputId": "dbe84619-4dc0-45ba-a73d-3f76ba9be38e"
      },
      "execution_count": 62,
      "outputs": [
        {
          "output_type": "display_data",
          "data": {
            "text/plain": [
              "<Figure size 432x288 with 1 Axes>"
            ],
            "image/png": "[encoded data removed]"
          },
          "metadata": {
            "needs_background": "light"
          }
        }
      ]
    },
    {
      "cell_type": "code",
      "source": [
        "plt.boxplot(search.요양일수)\n",
        "plt.show()"
      ],
      "metadata": {
        "colab": {
          "base_uri": "https://localhost:8080/",
          "height": 265
        },
        "id": "52ZxbItreMCH",
        "outputId": "6e4fe0ee-d271-4336-d0c1-929108ee6935"
      },
      "execution_count": 66,
      "outputs": [
        {
          "output_type": "display_data",
          "data": {
            "text/plain": [
              "<Figure size 432x288 with 1 Axes>"
            ],
            "image/png": "[encoded data removed]"
          },
          "metadata": {
            "needs_background": "light"
          }
        }
      ]
    },
    {
      "cell_type": "code",
      "source": [
        "search.요양일수.max()"
      ],
      "metadata": {
        "colab": {
          "base_uri": "https://localhost:8080/"
        },
        "id": "HkEYscT8eOLG",
        "outputId": "d15cab13-ac88-4b26-c0ed-8b6ebd579549"
      },
      "execution_count": 67,
      "outputs": [
        {
          "output_type": "execute_result",
          "data": {
            "text/plain": [
              "200"
            ]
          },
          "metadata": {},
          "execution_count": 67
        }
      ]
    },
    {
      "cell_type": "code",
      "source": [
        "search.요양일수.mean()"
      ],
      "metadata": {
        "colab": {
          "base_uri": "https://localhost:8080/"
        },
        "id": "GQUma98Mrw14",
        "outputId": "1634a695-21a0-4b5c-a344-197b9446cd91"
      },
      "execution_count": 88,
      "outputs": [
        {
          "output_type": "execute_result",
          "data": {
            "text/plain": [
              "1.112286650039497"
            ]
          },
          "metadata": {},
          "execution_count": 88
        }
      ]
    },
    {
      "cell_type": "code",
      "source": [
        "search.요양일수.min()"
      ],
      "metadata": {
        "colab": {
          "base_uri": "https://localhost:8080/"
        },
        "id": "5EyrB0UHuUy2",
        "outputId": "9f7f2850-c1ed-458a-8334-68c883c8365d"
      },
      "execution_count": 91,
      "outputs": [
        {
          "output_type": "execute_result",
          "data": {
            "text/plain": [
              "0"
            ]
          },
          "metadata": {},
          "execution_count": 91
        }
      ]
    },
    {
      "cell_type": "code",
      "source": [
        "search.입내원일수.min()"
      ],
      "metadata": {
        "colab": {
          "base_uri": "https://localhost:8080/"
        },
        "id": "9gxDhmD1eS8K",
        "outputId": "89071193-0e89-4416-9aab-7421a7b21380"
      },
      "execution_count": 68,
      "outputs": [
        {
          "output_type": "execute_result",
          "data": {
            "text/plain": [
              "0"
            ]
          },
          "metadata": {},
          "execution_count": 68
        }
      ]
    },
    {
      "cell_type": "code",
      "source": [
        "plt.boxplot(search.입내원일수)\n",
        "plt.show()"
      ],
      "metadata": {
        "colab": {
          "base_uri": "https://localhost:8080/",
          "height": 265
        },
        "id": "5WRpaoUrd2Pt",
        "outputId": "0d728da8-3a4c-4cbf-976e-b72cd3c13e25"
      },
      "execution_count": 64,
      "outputs": [
        {
          "output_type": "display_data",
          "data": {
            "text/plain": [
              "<Figure size 432x288 with 1 Axes>"
            ],
            "image/png": "[encoded data removed]"
          },
          "metadata": {
            "needs_background": "light"
          }
        }
      ]
    },
    {
      "cell_type": "code",
      "source": [
        "search.입내원일수.max()"
      ],
      "metadata": {
        "colab": {
          "base_uri": "https://localhost:8080/"
        },
        "id": "I9uLYy15eH6C",
        "outputId": "08141107-d712-4939-ff21-674415fdc0d6"
      },
      "execution_count": 74,
      "outputs": [
        {
          "output_type": "execute_result",
          "data": {
            "text/plain": [
              "690"
            ]
          },
          "metadata": {},
          "execution_count": 74
        }
      ]
    },
    {
      "cell_type": "code",
      "source": [
        "search.입내원일수.min()"
      ],
      "metadata": {
        "colab": {
          "base_uri": "https://localhost:8080/"
        },
        "id": "lDlHWkSMv-yS",
        "outputId": "4062c1c6-0106-4fdd-94fc-e9103d970134"
      },
      "execution_count": 92,
      "outputs": [
        {
          "output_type": "execute_result",
          "data": {
            "text/plain": [
              "0"
            ]
          },
          "metadata": {},
          "execution_count": 92
        }
      ]
    },
    {
      "cell_type": "code",
      "source": [
        "search.입내원일수.mean()"
      ],
      "metadata": {
        "colab": {
          "base_uri": "https://localhost:8080/"
        },
        "id": "wOjmKJQsv_tK",
        "outputId": "53350168-5af2-4e41-8f4b-cd079fcfa7d8"
      },
      "execution_count": 93,
      "outputs": [
        {
          "output_type": "execute_result",
          "data": {
            "text/plain": [
              "1.2670678489116896"
            ]
          },
          "metadata": {},
          "execution_count": 93
        }
      ]
    },
    {
      "cell_type": "code",
      "source": [
        "search.plot()"
      ],
      "metadata": {
        "colab": {
          "base_uri": "https://localhost:8080/",
          "height": 306
        },
        "id": "LPXgPKiMfAce",
        "outputId": "4d3fb408-c7fc-4b95-821c-cbdecc1c71fa"
      },
      "execution_count": 73,
      "outputs": [
        {
          "output_type": "execute_result",
          "data": {
            "text/plain": [
              "<matplotlib.axes._subplots.AxesSubplot at 0x7f49d9c61290>"
            ]
          },
          "metadata": {},
          "execution_count": 73
        },
        {
          "output_type": "display_data",
          "data": {
            "text/plain": [
              "<Figure size 432x288 with 1 Axes>"
            ],
            "image/png": "[encoded data removed]"
          },
          "metadata": {
            "needs_background": "light"
          }
        }
      ]
    },
    {
      "cell_type": "code",
      "source": [
        "plt.scatter(search.주상병코드,search.요양일수,marker='o')\n",
        "#plt.plot([4,14],[5,10],'-r',lw=2)\n",
        "plt.show()"
      ],
      "metadata": {
        "colab": {
          "base_uri": "https://localhost:8080/",
          "height": 265
        },
        "id": "usC7WNTksIsv",
        "outputId": "54f7e693-42b7-41bf-bb83-5983d586dc61"
      },
      "execution_count": 90,
      "outputs": [
        {
          "output_type": "display_data",
          "data": {
            "text/plain": [
              "<Figure size 432x288 with 1 Axes>"
            ],
            "image/png": "[encoded data removed]"
          },
          "metadata": {
            "needs_background": "light"
          }
        }
      ]
    }
  ]
}